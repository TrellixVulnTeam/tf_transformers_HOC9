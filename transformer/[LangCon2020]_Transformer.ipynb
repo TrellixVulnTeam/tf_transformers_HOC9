{
  "nbformat": 4,
  "nbformat_minor": 0,
  "metadata": {
    "colab": {
      "name": "[LangCon2020] Transformer.ipynb",
      "provenance": [],
      "collapsed_sections": [
        "dg6iIMEJRVF5",
        "Aw_RiCrZd1Jp",
        "pKEZAHeCzxRm",
        "6zIuHDPU0qif",
        "oNFjgMAqf5F9",
        "8AaJfELdJAws",
        "v4JrzZa-JFqz",
        "5F2o9a06JKXK",
        "4Igt7GwvJWgV",
        "SGHIBE4SUYtC",
        "aw2CjyEzJdCu",
        "KlbxVAZapnGy",
        "rRIB0gjRJjAU",
        "69ZQF9_QJtgD",
        "kRJOG3puSMbl",
        "sC6NSo3cJ2HE",
        "TnFBTppYJ4QE",
        "253aegyMJ5s9",
        "1FbtXvu_S6Hm",
        "H1bAp9rqKAMW",
        "oZcLQR0NKINv",
        "PTpTinUoKLc1",
        "wWAtDOgtLHZr",
        "owr3DtdjLHZs",
        "UP9HqezULHaC",
        "QJ4wDtrPLHaE",
        "ZZYToSV7yRVF",
        "VlhvQ5TcKlp_",
        "O33u8_SWKrH4",
        "oPBEA8FAl39-",
        "64BhMxZ4KUI1",
        "SbQ-4OZ2KdbH",
        "sc0xdcL-6ZZl",
        "W_ks6mcOKzow",
        "hXWYTm6JK9OR",
        "f9HRMhWKK-6I",
        "Z3Jc-KlSQDMG",
        "OnCeiVe2NrNz",
        "xDuEmCeoN2lq",
        "5rTITKdIN5nU",
        "oCkXJQIUlETb",
        "eZXtO5pKONH1",
        "F8_N3eEDOA2z",
        "I9zNYIgzPwW3",
        "teJEuUHAlI5f",
        "L9be5hBhR0k9",
        "XpS8LxinR4HZ",
        "hsohSU2sR7QF",
        "fC79J4CYuWF7",
        "MRwW6_IRTtWv",
        "fQDSL7Q1TrvJ",
        "_N5l-XL5WAuP",
        "tOZoGy998QRV",
        "34abQnr98r7B",
        "S3266YeXD2Yw",
        "1-xIfzOMF8nO",
        "xclGDmnmDCUY",
        "hjqOTrjvxji7",
        "6x6W5AYLaqMw",
        "TOWlO39Vaoit",
        "ZV5zGuQQL_mK",
        "fAR-ddNrMGby",
        "jWIUoq0cbYT8",
        "qQqF2KJVcLBF",
        "DYYcdK-_MRni",
        "Ey3sghogI4rz",
        "VKkOrvxoJM1h",
        "A7k-JyedJK6J",
        "HNHVGEgyacKg",
        "KMtlbz8YMd_j",
        "dtqNHlkRdjz5"
      ],
      "toc_visible": true
    },
    "kernelspec": {
      "name": "python3",
      "display_name": "Python 3"
    },
    "accelerator": "GPU",
    "widgets": {
      "application/vnd.jupyter.widget-state+json": {
        "b7e44e68f53c4c869dcfbcdd1e745143": {
          "model_module": "@jupyter-widgets/controls",
          "model_name": "HBoxModel",
          "state": {
            "_view_name": "HBoxView",
            "_dom_classes": [],
            "_model_name": "HBoxModel",
            "_view_module": "@jupyter-widgets/controls",
            "_model_module_version": "1.5.0",
            "_view_count": null,
            "_view_module_version": "1.5.0",
            "box_style": "",
            "layout": "IPY_MODEL_d004b3226eaa4eed8cf18901fde5fb8d",
            "_model_module": "@jupyter-widgets/controls",
            "children": [
              "IPY_MODEL_c374c11d8f4b4ac6bbaa50abc233ceb8",
              "IPY_MODEL_d25a3e30f3584961afdd0ebfd7009d99"
            ]
          }
        },
        "d004b3226eaa4eed8cf18901fde5fb8d": {
          "model_module": "@jupyter-widgets/base",
          "model_name": "LayoutModel",
          "state": {
            "_view_name": "LayoutView",
            "grid_template_rows": null,
            "right": null,
            "justify_content": null,
            "_view_module": "@jupyter-widgets/base",
            "overflow": null,
            "_model_module_version": "1.2.0",
            "_view_count": null,
            "flex_flow": null,
            "width": null,
            "min_width": null,
            "border": null,
            "align_items": null,
            "bottom": null,
            "_model_module": "@jupyter-widgets/base",
            "top": null,
            "grid_column": null,
            "overflow_y": null,
            "overflow_x": null,
            "grid_auto_flow": null,
            "grid_area": null,
            "grid_template_columns": null,
            "flex": null,
            "_model_name": "LayoutModel",
            "justify_items": null,
            "grid_row": null,
            "max_height": null,
            "align_content": null,
            "visibility": null,
            "align_self": null,
            "height": null,
            "min_height": null,
            "padding": null,
            "grid_auto_rows": null,
            "grid_gap": null,
            "max_width": null,
            "order": null,
            "_view_module_version": "1.2.0",
            "grid_template_areas": null,
            "object_position": null,
            "object_fit": null,
            "grid_auto_columns": null,
            "margin": null,
            "display": null,
            "left": null
          }
        },
        "c374c11d8f4b4ac6bbaa50abc233ceb8": {
          "model_module": "@jupyter-widgets/controls",
          "model_name": "FloatProgressModel",
          "state": {
            "_view_name": "ProgressView",
            "style": "IPY_MODEL_8d0bf43a347e4bada53a1d448fe9c4d0",
            "_dom_classes": [],
            "description": "100%",
            "_model_name": "FloatProgressModel",
            "bar_style": "success",
            "max": 11823,
            "_view_module": "@jupyter-widgets/controls",
            "_model_module_version": "1.5.0",
            "value": 11823,
            "_view_count": null,
            "_view_module_version": "1.5.0",
            "orientation": "horizontal",
            "min": 0,
            "description_tooltip": null,
            "_model_module": "@jupyter-widgets/controls",
            "layout": "IPY_MODEL_2f9d1ec2fa6947ceb8ba53a10fdb314c"
          }
        },
        "d25a3e30f3584961afdd0ebfd7009d99": {
          "model_module": "@jupyter-widgets/controls",
          "model_name": "HTMLModel",
          "state": {
            "_view_name": "HTMLView",
            "style": "IPY_MODEL_ba2f186f0252446cbcdeb0253939b249",
            "_dom_classes": [],
            "description": "",
            "_model_name": "HTMLModel",
            "placeholder": "​",
            "_view_module": "@jupyter-widgets/controls",
            "_model_module_version": "1.5.0",
            "value": " 11823/11823 [00:03&lt;00:00, 3203.39it/s]",
            "_view_count": null,
            "_view_module_version": "1.5.0",
            "description_tooltip": null,
            "_model_module": "@jupyter-widgets/controls",
            "layout": "IPY_MODEL_029631a37ac343ab946110e0a0939fa4"
          }
        },
        "8d0bf43a347e4bada53a1d448fe9c4d0": {
          "model_module": "@jupyter-widgets/controls",
          "model_name": "ProgressStyleModel",
          "state": {
            "_view_name": "StyleView",
            "_model_name": "ProgressStyleModel",
            "description_width": "initial",
            "_view_module": "@jupyter-widgets/base",
            "_model_module_version": "1.5.0",
            "_view_count": null,
            "_view_module_version": "1.2.0",
            "bar_color": null,
            "_model_module": "@jupyter-widgets/controls"
          }
        },
        "2f9d1ec2fa6947ceb8ba53a10fdb314c": {
          "model_module": "@jupyter-widgets/base",
          "model_name": "LayoutModel",
          "state": {
            "_view_name": "LayoutView",
            "grid_template_rows": null,
            "right": null,
            "justify_content": null,
            "_view_module": "@jupyter-widgets/base",
            "overflow": null,
            "_model_module_version": "1.2.0",
            "_view_count": null,
            "flex_flow": null,
            "width": null,
            "min_width": null,
            "border": null,
            "align_items": null,
            "bottom": null,
            "_model_module": "@jupyter-widgets/base",
            "top": null,
            "grid_column": null,
            "overflow_y": null,
            "overflow_x": null,
            "grid_auto_flow": null,
            "grid_area": null,
            "grid_template_columns": null,
            "flex": null,
            "_model_name": "LayoutModel",
            "justify_items": null,
            "grid_row": null,
            "max_height": null,
            "align_content": null,
            "visibility": null,
            "align_self": null,
            "height": null,
            "min_height": null,
            "padding": null,
            "grid_auto_rows": null,
            "grid_gap": null,
            "max_width": null,
            "order": null,
            "_view_module_version": "1.2.0",
            "grid_template_areas": null,
            "object_position": null,
            "object_fit": null,
            "grid_auto_columns": null,
            "margin": null,
            "display": null,
            "left": null
          }
        },
        "ba2f186f0252446cbcdeb0253939b249": {
          "model_module": "@jupyter-widgets/controls",
          "model_name": "DescriptionStyleModel",
          "state": {
            "_view_name": "StyleView",
            "_model_name": "DescriptionStyleModel",
            "description_width": "",
            "_view_module": "@jupyter-widgets/base",
            "_model_module_version": "1.5.0",
            "_view_count": null,
            "_view_module_version": "1.2.0",
            "_model_module": "@jupyter-widgets/controls"
          }
        },
        "029631a37ac343ab946110e0a0939fa4": {
          "model_module": "@jupyter-widgets/base",
          "model_name": "LayoutModel",
          "state": {
            "_view_name": "LayoutView",
            "grid_template_rows": null,
            "right": null,
            "justify_content": null,
            "_view_module": "@jupyter-widgets/base",
            "overflow": null,
            "_model_module_version": "1.2.0",
            "_view_count": null,
            "flex_flow": null,
            "width": null,
            "min_width": null,
            "border": null,
            "align_items": null,
            "bottom": null,
            "_model_module": "@jupyter-widgets/base",
            "top": null,
            "grid_column": null,
            "overflow_y": null,
            "overflow_x": null,
            "grid_auto_flow": null,
            "grid_area": null,
            "grid_template_columns": null,
            "flex": null,
            "_model_name": "LayoutModel",
            "justify_items": null,
            "grid_row": null,
            "max_height": null,
            "align_content": null,
            "visibility": null,
            "align_self": null,
            "height": null,
            "min_height": null,
            "padding": null,
            "grid_auto_rows": null,
            "grid_gap": null,
            "max_width": null,
            "order": null,
            "_view_module_version": "1.2.0",
            "grid_template_areas": null,
            "object_position": null,
            "object_fit": null,
            "grid_auto_columns": null,
            "margin": null,
            "display": null,
            "left": null
          }
        }
      }
    }
  },
  "cells": [
    {
      "cell_type": "markdown",
      "metadata": {
        "id": "dg6iIMEJRVF5",
        "colab_type": "text"
      },
      "source": [
        "# 환경"
      ]
    },
    {
      "cell_type": "code",
      "metadata": {
        "id": "LdVt9pWh8eYV",
        "colab_type": "code",
        "colab": {
          "base_uri": "https://localhost:8080/",
          "height": 122
        },
        "outputId": "85def9a3-4748-465b-e473-9c370e80b776"
      },
      "source": [
        "# vocab 사용을 위한 sentencepiece 설치\n",
        "!pip install sentencepiece"
      ],
      "execution_count": 1,
      "outputs": [
        {
          "output_type": "stream",
          "text": [
            "Collecting sentencepiece\n",
            "\u001b[?25l  Downloading https://files.pythonhosted.org/packages/d4/a4/d0a884c4300004a78cca907a6ff9a5e9fe4f090f5d95ab341c53d28cbc58/sentencepiece-0.1.91-cp36-cp36m-manylinux1_x86_64.whl (1.1MB)\n",
            "\r\u001b[K     |▎                               | 10kB 20.8MB/s eta 0:00:01\r\u001b[K     |▋                               | 20kB 3.5MB/s eta 0:00:01\r\u001b[K     |█                               | 30kB 4.7MB/s eta 0:00:01\r\u001b[K     |█▏                              | 40kB 5.0MB/s eta 0:00:01\r\u001b[K     |█▌                              | 51kB 4.1MB/s eta 0:00:01\r\u001b[K     |█▉                              | 61kB 4.6MB/s eta 0:00:01\r\u001b[K     |██▏                             | 71kB 5.0MB/s eta 0:00:01\r\u001b[K     |██▍                             | 81kB 5.4MB/s eta 0:00:01\r\u001b[K     |██▊                             | 92kB 5.7MB/s eta 0:00:01\r\u001b[K     |███                             | 102kB 5.6MB/s eta 0:00:01\r\u001b[K     |███▍                            | 112kB 5.6MB/s eta 0:00:01\r\u001b[K     |███▋                            | 122kB 5.6MB/s eta 0:00:01\r\u001b[K     |████                            | 133kB 5.6MB/s eta 0:00:01\r\u001b[K     |████▎                           | 143kB 5.6MB/s eta 0:00:01\r\u001b[K     |████▋                           | 153kB 5.6MB/s eta 0:00:01\r\u001b[K     |████▉                           | 163kB 5.6MB/s eta 0:00:01\r\u001b[K     |█████▏                          | 174kB 5.6MB/s eta 0:00:01\r\u001b[K     |█████▌                          | 184kB 5.6MB/s eta 0:00:01\r\u001b[K     |█████▉                          | 194kB 5.6MB/s eta 0:00:01\r\u001b[K     |██████                          | 204kB 5.6MB/s eta 0:00:01\r\u001b[K     |██████▍                         | 215kB 5.6MB/s eta 0:00:01\r\u001b[K     |██████▊                         | 225kB 5.6MB/s eta 0:00:01\r\u001b[K     |███████                         | 235kB 5.6MB/s eta 0:00:01\r\u001b[K     |███████▎                        | 245kB 5.6MB/s eta 0:00:01\r\u001b[K     |███████▋                        | 256kB 5.6MB/s eta 0:00:01\r\u001b[K     |████████                        | 266kB 5.6MB/s eta 0:00:01\r\u001b[K     |████████▎                       | 276kB 5.6MB/s eta 0:00:01\r\u001b[K     |████████▌                       | 286kB 5.6MB/s eta 0:00:01\r\u001b[K     |████████▉                       | 296kB 5.6MB/s eta 0:00:01\r\u001b[K     |█████████▏                      | 307kB 5.6MB/s eta 0:00:01\r\u001b[K     |█████████▌                      | 317kB 5.6MB/s eta 0:00:01\r\u001b[K     |█████████▊                      | 327kB 5.6MB/s eta 0:00:01\r\u001b[K     |██████████                      | 337kB 5.6MB/s eta 0:00:01\r\u001b[K     |██████████▍                     | 348kB 5.6MB/s eta 0:00:01\r\u001b[K     |██████████▊                     | 358kB 5.6MB/s eta 0:00:01\r\u001b[K     |███████████                     | 368kB 5.6MB/s eta 0:00:01\r\u001b[K     |███████████▎                    | 378kB 5.6MB/s eta 0:00:01\r\u001b[K     |███████████▋                    | 389kB 5.6MB/s eta 0:00:01\r\u001b[K     |████████████                    | 399kB 5.6MB/s eta 0:00:01\r\u001b[K     |████████████▏                   | 409kB 5.6MB/s eta 0:00:01\r\u001b[K     |████████████▌                   | 419kB 5.6MB/s eta 0:00:01\r\u001b[K     |████████████▉                   | 430kB 5.6MB/s eta 0:00:01\r\u001b[K     |█████████████▏                  | 440kB 5.6MB/s eta 0:00:01\r\u001b[K     |█████████████▍                  | 450kB 5.6MB/s eta 0:00:01\r\u001b[K     |█████████████▊                  | 460kB 5.6MB/s eta 0:00:01\r\u001b[K     |██████████████                  | 471kB 5.6MB/s eta 0:00:01\r\u001b[K     |██████████████▍                 | 481kB 5.6MB/s eta 0:00:01\r\u001b[K     |██████████████▋                 | 491kB 5.6MB/s eta 0:00:01\r\u001b[K     |███████████████                 | 501kB 5.6MB/s eta 0:00:01\r\u001b[K     |███████████████▎                | 512kB 5.6MB/s eta 0:00:01\r\u001b[K     |███████████████▋                | 522kB 5.6MB/s eta 0:00:01\r\u001b[K     |███████████████▉                | 532kB 5.6MB/s eta 0:00:01\r\u001b[K     |████████████████▏               | 542kB 5.6MB/s eta 0:00:01\r\u001b[K     |████████████████▌               | 552kB 5.6MB/s eta 0:00:01\r\u001b[K     |████████████████▉               | 563kB 5.6MB/s eta 0:00:01\r\u001b[K     |█████████████████               | 573kB 5.6MB/s eta 0:00:01\r\u001b[K     |█████████████████▍              | 583kB 5.6MB/s eta 0:00:01\r\u001b[K     |█████████████████▊              | 593kB 5.6MB/s eta 0:00:01\r\u001b[K     |██████████████████              | 604kB 5.6MB/s eta 0:00:01\r\u001b[K     |██████████████████▎             | 614kB 5.6MB/s eta 0:00:01\r\u001b[K     |██████████████████▋             | 624kB 5.6MB/s eta 0:00:01\r\u001b[K     |███████████████████             | 634kB 5.6MB/s eta 0:00:01\r\u001b[K     |███████████████████▎            | 645kB 5.6MB/s eta 0:00:01\r\u001b[K     |███████████████████▌            | 655kB 5.6MB/s eta 0:00:01\r\u001b[K     |███████████████████▉            | 665kB 5.6MB/s eta 0:00:01\r\u001b[K     |████████████████████▏           | 675kB 5.6MB/s eta 0:00:01\r\u001b[K     |████████████████████▌           | 686kB 5.6MB/s eta 0:00:01\r\u001b[K     |████████████████████▊           | 696kB 5.6MB/s eta 0:00:01\r\u001b[K     |█████████████████████           | 706kB 5.6MB/s eta 0:00:01\r\u001b[K     |█████████████████████▍          | 716kB 5.6MB/s eta 0:00:01\r\u001b[K     |█████████████████████▋          | 727kB 5.6MB/s eta 0:00:01\r\u001b[K     |██████████████████████          | 737kB 5.6MB/s eta 0:00:01\r\u001b[K     |██████████████████████▎         | 747kB 5.6MB/s eta 0:00:01\r\u001b[K     |██████████████████████▋         | 757kB 5.6MB/s eta 0:00:01\r\u001b[K     |██████████████████████▉         | 768kB 5.6MB/s eta 0:00:01\r\u001b[K     |███████████████████████▏        | 778kB 5.6MB/s eta 0:00:01\r\u001b[K     |███████████████████████▌        | 788kB 5.6MB/s eta 0:00:01\r\u001b[K     |███████████████████████▉        | 798kB 5.6MB/s eta 0:00:01\r\u001b[K     |████████████████████████        | 808kB 5.6MB/s eta 0:00:01\r\u001b[K     |████████████████████████▍       | 819kB 5.6MB/s eta 0:00:01\r\u001b[K     |████████████████████████▊       | 829kB 5.6MB/s eta 0:00:01\r\u001b[K     |█████████████████████████       | 839kB 5.6MB/s eta 0:00:01\r\u001b[K     |█████████████████████████▎      | 849kB 5.6MB/s eta 0:00:01\r\u001b[K     |█████████████████████████▋      | 860kB 5.6MB/s eta 0:00:01\r\u001b[K     |██████████████████████████      | 870kB 5.6MB/s eta 0:00:01\r\u001b[K     |██████████████████████████▎     | 880kB 5.6MB/s eta 0:00:01\r\u001b[K     |██████████████████████████▌     | 890kB 5.6MB/s eta 0:00:01\r\u001b[K     |██████████████████████████▉     | 901kB 5.6MB/s eta 0:00:01\r\u001b[K     |███████████████████████████▏    | 911kB 5.6MB/s eta 0:00:01\r\u001b[K     |███████████████████████████▌    | 921kB 5.6MB/s eta 0:00:01\r\u001b[K     |███████████████████████████▊    | 931kB 5.6MB/s eta 0:00:01\r\u001b[K     |████████████████████████████    | 942kB 5.6MB/s eta 0:00:01\r\u001b[K     |████████████████████████████▍   | 952kB 5.6MB/s eta 0:00:01\r\u001b[K     |████████████████████████████▊   | 962kB 5.6MB/s eta 0:00:01\r\u001b[K     |█████████████████████████████   | 972kB 5.6MB/s eta 0:00:01\r\u001b[K     |█████████████████████████████▎  | 983kB 5.6MB/s eta 0:00:01\r\u001b[K     |█████████████████████████████▋  | 993kB 5.6MB/s eta 0:00:01\r\u001b[K     |██████████████████████████████  | 1.0MB 5.6MB/s eta 0:00:01\r\u001b[K     |██████████████████████████████▏ | 1.0MB 5.6MB/s eta 0:00:01\r\u001b[K     |██████████████████████████████▌ | 1.0MB 5.6MB/s eta 0:00:01\r\u001b[K     |██████████████████████████████▉ | 1.0MB 5.6MB/s eta 0:00:01\r\u001b[K     |███████████████████████████████▏| 1.0MB 5.6MB/s eta 0:00:01\r\u001b[K     |███████████████████████████████▍| 1.1MB 5.6MB/s eta 0:00:01\r\u001b[K     |███████████████████████████████▊| 1.1MB 5.6MB/s eta 0:00:01\r\u001b[K     |████████████████████████████████| 1.1MB 5.6MB/s \n",
            "\u001b[?25hInstalling collected packages: sentencepiece\n",
            "Successfully installed sentencepiece-0.1.91\n"
          ],
          "name": "stdout"
        }
      ]
    },
    {
      "cell_type": "code",
      "metadata": {
        "id": "BQCFd-7JRcca",
        "colab_type": "code",
        "colab": {}
      },
      "source": [
        "# imports\n",
        "from __future__ import absolute_import, division, print_function, unicode_literals\n",
        "\n",
        "import tensorflow as tf\n",
        "import tensorflow.keras.backend as K\n",
        "\n",
        "import os\n",
        "import re\n",
        "import numpy as np\n",
        "import pandas as pd\n",
        "import random\n",
        "import collections\n",
        "import json\n",
        "from datetime import datetime\n",
        "\n",
        "import matplotlib.pyplot as plt\n",
        "import sentencepiece as spm\n",
        "from tqdm.notebook import tqdm\n",
        "\n",
        "random_seed = 1234\n",
        "random.seed(random_seed)\n",
        "np.random.seed(random_seed)\n",
        "tf.random.set_seed(random_seed)"
      ],
      "execution_count": 2,
      "outputs": []
    },
    {
      "cell_type": "code",
      "metadata": {
        "id": "-vVvopnXRgka",
        "colab_type": "code",
        "colab": {
          "base_uri": "https://localhost:8080/",
          "height": 357
        },
        "outputId": "2520ecb2-7a1e-465d-ab6a-2906a46dffe7"
      },
      "source": [
        "# gpu 확인\n",
        "!nvidia-smi"
      ],
      "execution_count": 3,
      "outputs": [
        {
          "output_type": "stream",
          "text": [
            "Sun Aug 23 13:12:24 2020       \n",
            "+-----------------------------------------------------------------------------+\n",
            "| NVIDIA-SMI 450.57       Driver Version: 418.67       CUDA Version: 10.1     |\n",
            "|-------------------------------+----------------------+----------------------+\n",
            "| GPU  Name        Persistence-M| Bus-Id        Disp.A | Volatile Uncorr. ECC |\n",
            "| Fan  Temp  Perf  Pwr:Usage/Cap|         Memory-Usage | GPU-Util  Compute M. |\n",
            "|                               |                      |               MIG M. |\n",
            "|===============================+======================+======================|\n",
            "|   0  Tesla T4            Off  | 00000000:00:04.0 Off |                    0 |\n",
            "| N/A   53C    P8    10W /  70W |      0MiB / 15079MiB |      0%      Default |\n",
            "|                               |                      |                 ERR! |\n",
            "+-------------------------------+----------------------+----------------------+\n",
            "                                                                               \n",
            "+-----------------------------------------------------------------------------+\n",
            "| Processes:                                                                  |\n",
            "|  GPU   GI   CI        PID   Type   Process name                  GPU Memory |\n",
            "|        ID   ID                                                   Usage      |\n",
            "|=============================================================================|\n",
            "|  No running processes found                                                 |\n",
            "+-----------------------------------------------------------------------------+\n"
          ],
          "name": "stdout"
        }
      ]
    },
    {
      "cell_type": "code",
      "metadata": {
        "id": "FlYm3JM7fcdd",
        "colab_type": "code",
        "colab": {
          "base_uri": "https://localhost:8080/",
          "height": 68
        },
        "outputId": "e4dcfbd4-a902-4efd-fe74-506b61e822cb"
      },
      "source": [
        "# tf version 및 gpu 확인\n",
        "print(tf.__version__)\n",
        "print(tf.config.list_physical_devices('GPU'))\n",
        "print(tf.test.gpu_device_name())"
      ],
      "execution_count": 4,
      "outputs": [
        {
          "output_type": "stream",
          "text": [
            "2.3.0\n",
            "[PhysicalDevice(name='/physical_device:GPU:0', device_type='GPU')]\n",
            "/device:GPU:0\n"
          ],
          "name": "stdout"
        }
      ]
    },
    {
      "cell_type": "markdown",
      "metadata": {
        "id": "Aw_RiCrZd1Jp",
        "colab_type": "text"
      },
      "source": [
        "# Transformer Tutorial"
      ]
    },
    {
      "cell_type": "markdown",
      "metadata": {
        "id": "pKEZAHeCzxRm",
        "colab_type": "text"
      },
      "source": [
        "## Config"
      ]
    },
    {
      "cell_type": "code",
      "metadata": {
        "id": "u9VJvPSx12Q8",
        "colab_type": "code",
        "colab": {}
      },
      "source": [
        "class Config(dict):\n",
        "    \"\"\"\n",
        "    json을 config 형태로 사용하기 위한 Class\n",
        "    :param dict: config dictionary\n",
        "    \"\"\"\n",
        "    __getattr__ = dict.__getitem__\n",
        "    __setattr__ = dict.__setitem__\n",
        "\n",
        "    @classmethod\n",
        "    def load(cls, file):\n",
        "        \"\"\"\n",
        "        file에서 Config를 생성 함\n",
        "        :param file: filename\n",
        "        \"\"\"\n",
        "        with open(file, 'r') as f:\n",
        "            config = json.loads(f.read())\n",
        "            return Config(config)"
      ],
      "execution_count": 5,
      "outputs": []
    },
    {
      "cell_type": "code",
      "metadata": {
        "id": "4Bb_Q7DhzlGp",
        "colab_type": "code",
        "colab": {
          "base_uri": "https://localhost:8080/",
          "height": 0
        },
        "outputId": "0c78160e-1e75-49d5-9ea6-4eafed54c617"
      },
      "source": [
        "# config 생성\n",
        "# d_model: model hidden dim\n",
        "# n_head: multi head attention head number\n",
        "# d_head: multi head attention head dim\n",
        "# dropout: dropout rate\n",
        "# d_ff: feed forward dim\n",
        "# layernorm_epsilon: layernormal epsilon\n",
        "# n_layer: layer number\n",
        "# n_seq: sequence max number\n",
        "# n_vocab: vocab count\n",
        "# i_pad: vocab pad id\n",
        "config = Config({\"d_model\": 8, \"n_head\": 2, \"d_head\": 4, \"dropout\": 0.1, \"d_ff\": 32, \"layernorm_epsilon\": 0.001, \"n_layer\": 3, \"n_seq\": 10, \"n_vocab\": 0, \"i_pad\": 0})\n",
        "config.n_vocab = 10\n",
        "config.i_pad = 0\n",
        "config"
      ],
      "execution_count": 6,
      "outputs": [
        {
          "output_type": "execute_result",
          "data": {
            "text/plain": [
              "{'d_ff': 32,\n",
              " 'd_head': 4,\n",
              " 'd_model': 8,\n",
              " 'dropout': 0.1,\n",
              " 'i_pad': 0,\n",
              " 'layernorm_epsilon': 0.001,\n",
              " 'n_head': 2,\n",
              " 'n_layer': 3,\n",
              " 'n_seq': 10,\n",
              " 'n_vocab': 10}"
            ]
          },
          "metadata": {
            "tags": []
          },
          "execution_count": 6
        }
      ]
    },
    {
      "cell_type": "markdown",
      "metadata": {
        "id": "6zIuHDPU0qif",
        "colab_type": "text"
      },
      "source": [
        "## Inputs"
      ]
    },
    {
      "cell_type": "code",
      "metadata": {
        "id": "yP8BiMdU0pjZ",
        "colab_type": "code",
        "colab": {
          "base_uri": "https://localhost:8080/",
          "height": 0
        },
        "outputId": "88194a2b-ff32-4f0d-86a2-7968331bcd34"
      },
      "source": [
        "# encoder 입력 값 정의\n",
        "enc_tokens = np.random.randint(1, config.n_vocab, (1, 6))\n",
        "# 마지막은 padding\n",
        "enc_tokens[:,5:] = config.i_pad\n",
        "enc_tokens"
      ],
      "execution_count": 7,
      "outputs": [
        {
          "output_type": "execute_result",
          "data": {
            "text/plain": [
              "array([[4, 7, 6, 5, 9, 0]])"
            ]
          },
          "metadata": {
            "tags": []
          },
          "execution_count": 7
        }
      ]
    },
    {
      "cell_type": "code",
      "metadata": {
        "id": "GkZb4b9-00Ng",
        "colab_type": "code",
        "colab": {
          "base_uri": "https://localhost:8080/",
          "height": 0
        },
        "outputId": "115cf449-3d35-48a9-af4a-391a0253ac14"
      },
      "source": [
        "# 입력 값 정의\n",
        "dec_tokens = np.random.randint(1, config.n_vocab, (1, 5))\n",
        "# 마지막은 padding\n",
        "dec_tokens[:,4:] = config.i_pad\n",
        "dec_tokens"
      ],
      "execution_count": 8,
      "outputs": [
        {
          "output_type": "execute_result",
          "data": {
            "text/plain": [
              "array([[8, 7, 9, 1, 0]])"
            ]
          },
          "metadata": {
            "tags": []
          },
          "execution_count": 8
        }
      ]
    },
    {
      "cell_type": "markdown",
      "metadata": {
        "id": "oNFjgMAqf5F9",
        "colab_type": "text"
      },
      "source": [
        "## Weight Shared Embedding\n",
        "\n",
        "![](https://paul-hyun.github.io/assets/transformer/weight_shared_embedding.png)"
      ]
    },
    {
      "cell_type": "markdown",
      "metadata": {
        "id": "8AaJfELdJAws",
        "colab_type": "text"
      },
      "source": [
        "### Tutorial Embedding"
      ]
    },
    {
      "cell_type": "code",
      "metadata": {
        "id": "rCGzHgobgGju",
        "colab_type": "code",
        "colab": {
          "base_uri": "https://localhost:8080/",
          "height": 0
        },
        "outputId": "0b596f38-d6dc-4a00-ac7c-dfcf23cccb12"
      },
      "source": [
        "# embedding weight 초기화\n",
        "embed_weight = tf.random.normal([config.n_vocab, config.d_model])\n",
        "embed_weight"
      ],
      "execution_count": 9,
      "outputs": [
        {
          "output_type": "execute_result",
          "data": {
            "text/plain": [
              "<tf.Tensor: shape=(10, 8), dtype=float32, numpy=\n",
              "array([[ 0.8369314 , -0.73429775,  1.0402943 ,  0.04035992, -0.72186583,\n",
              "         1.0794858 ,  0.9032698 , -0.73601735],\n",
              "       [-0.36105633, -0.6078763 ,  0.07614239, -0.7211218 ,  0.14663379,\n",
              "         1.0210938 , -0.17570543,  1.2770809 ],\n",
              "       [ 0.15558743,  0.11838357, -0.10230648,  0.02042525,  0.12023098,\n",
              "        -1.7356888 , -0.37274906, -0.8804749 ],\n",
              "       [ 0.8006071 , -1.0832181 , -0.8637153 ,  0.13195874,  0.44462258,\n",
              "         1.1913583 ,  1.5747397 , -0.57046455],\n",
              "       [ 1.4189912 ,  0.5309418 , -0.3397897 , -0.5185629 , -1.1675293 ,\n",
              "         0.77573264, -1.5179933 ,  0.73918307],\n",
              "       [ 1.8952272 , -0.20591696, -0.72119623, -1.1176348 ,  0.85716414,\n",
              "        -0.37806422, -0.121459  ,  0.00689717],\n",
              "       [ 1.2772721 ,  0.3844953 ,  0.18691574,  1.2595506 , -0.15900195,\n",
              "         0.1210066 , -0.42040455,  2.4253113 ],\n",
              "       [-0.3567563 , -0.61342746,  1.3244288 , -0.5528212 ,  1.2431467 ,\n",
              "        -0.24536318,  0.28992933, -0.25124574],\n",
              "       [-1.3603296 , -0.09727097, -0.8926318 ,  0.3699977 , -0.43288955,\n",
              "         0.44764125,  0.54849035, -0.74648273],\n",
              "       [ 0.18089715, -0.19718426, -0.24024896,  0.8510773 ,  1.5659981 ,\n",
              "        -1.1252567 , -1.9409475 ,  1.5495228 ]], dtype=float32)>"
            ]
          },
          "metadata": {
            "tags": []
          },
          "execution_count": 9
        }
      ]
    },
    {
      "cell_type": "code",
      "metadata": {
        "id": "9o24Kl2ZgLnR",
        "colab_type": "code",
        "colab": {
          "base_uri": "https://localhost:8080/",
          "height": 0
        },
        "outputId": "f0305218-407a-4589-d7fd-f8bdb17b2f40"
      },
      "source": [
        "# embedding lookup 대신에 tf.gather 함수 사용\n",
        "token_embed1 = tf.gather(embed_weight, enc_tokens)\n",
        "token_embed1"
      ],
      "execution_count": 10,
      "outputs": [
        {
          "output_type": "execute_result",
          "data": {
            "text/plain": [
              "<tf.Tensor: shape=(1, 6, 8), dtype=float32, numpy=\n",
              "array([[[ 1.4189912 ,  0.5309418 , -0.3397897 , -0.5185629 ,\n",
              "         -1.1675293 ,  0.77573264, -1.5179933 ,  0.73918307],\n",
              "        [-0.3567563 , -0.61342746,  1.3244288 , -0.5528212 ,\n",
              "          1.2431467 , -0.24536318,  0.28992933, -0.25124574],\n",
              "        [ 1.2772721 ,  0.3844953 ,  0.18691574,  1.2595506 ,\n",
              "         -0.15900195,  0.1210066 , -0.42040455,  2.4253113 ],\n",
              "        [ 1.8952272 , -0.20591696, -0.72119623, -1.1176348 ,\n",
              "          0.85716414, -0.37806422, -0.121459  ,  0.00689717],\n",
              "        [ 0.18089715, -0.19718426, -0.24024896,  0.8510773 ,\n",
              "          1.5659981 , -1.1252567 , -1.9409475 ,  1.5495228 ],\n",
              "        [ 0.8369314 , -0.73429775,  1.0402943 ,  0.04035992,\n",
              "         -0.72186583,  1.0794858 ,  0.9032698 , -0.73601735]]],\n",
              "      dtype=float32)>"
            ]
          },
          "metadata": {
            "tags": []
          },
          "execution_count": 10
        }
      ]
    },
    {
      "cell_type": "code",
      "metadata": {
        "id": "OwUzEGoVgU37",
        "colab_type": "code",
        "colab": {
          "base_uri": "https://localhost:8080/",
          "height": 0
        },
        "outputId": "062d3253-9693-4624-d97d-d4b0da2c534e"
      },
      "source": [
        "# embedding 값에 d_model ** 0.5 곱\n",
        "token_embed = token_embed1 * config.d_model ** 0.5\n",
        "token_embed"
      ],
      "execution_count": 11,
      "outputs": [
        {
          "output_type": "execute_result",
          "data": {
            "text/plain": [
              "<tf.Tensor: shape=(1, 6, 8), dtype=float32, numpy=\n",
              "array([[[ 4.013513  ,  1.5017301 , -0.96107036, -1.4667174 ,\n",
              "         -3.3022716 ,  2.1941032 , -4.2935333 ,  2.0907254 ],\n",
              "        [-1.0090592 , -1.7350348 ,  3.7460504 , -1.5636145 ,\n",
              "          3.5161498 , -0.69399184,  0.820044  , -0.71063024],\n",
              "        [ 3.612671  ,  1.0875169 ,  0.5286775 ,  3.562547  ,\n",
              "         -0.44972542,  0.34225833, -1.1890836 ,  6.859816  ],\n",
              "        [ 5.360512  , -0.58242106, -2.039851  , -3.1611485 ,\n",
              "          2.4244263 , -1.0693271 , -0.34353793,  0.01950813],\n",
              "        [ 0.5116544 , -0.5577213 , -0.6795267 ,  2.40721   ,\n",
              "          4.4293113 , -3.1827064 , -5.4898286 ,  4.382712  ],\n",
              "        [ 2.3671994 , -2.0769076 ,  2.9423966 ,  0.11415508,\n",
              "         -2.041745  ,  3.0532467 ,  2.554833  , -2.0817714 ]]],\n",
              "      dtype=float32)>"
            ]
          },
          "metadata": {
            "tags": []
          },
          "execution_count": 11
        }
      ]
    },
    {
      "cell_type": "markdown",
      "metadata": {
        "id": "v4JrzZa-JFqz",
        "colab_type": "text"
      },
      "source": [
        "### Tutorial Linear"
      ]
    },
    {
      "cell_type": "code",
      "metadata": {
        "id": "HDIsy0HogjvO",
        "colab_type": "code",
        "colab": {
          "base_uri": "https://localhost:8080/",
          "height": 0
        },
        "outputId": "c60ec82d-6f11-4ee0-fa26-f9bfece8a637"
      },
      "source": [
        "# linear layer\n",
        "# (n_batch, n_seq, d_model) -> (n_batch * n_seq, d_model)\n",
        "n_batch, n_seq, d_model = tf.shape(token_embed)\n",
        "token_reshape = tf.reshape(token_embed, [-1, d_model])\n",
        "token_reshape"
      ],
      "execution_count": 12,
      "outputs": [
        {
          "output_type": "execute_result",
          "data": {
            "text/plain": [
              "<tf.Tensor: shape=(6, 8), dtype=float32, numpy=\n",
              "array([[ 4.013513  ,  1.5017301 , -0.96107036, -1.4667174 , -3.3022716 ,\n",
              "         2.1941032 , -4.2935333 ,  2.0907254 ],\n",
              "       [-1.0090592 , -1.7350348 ,  3.7460504 , -1.5636145 ,  3.5161498 ,\n",
              "        -0.69399184,  0.820044  , -0.71063024],\n",
              "       [ 3.612671  ,  1.0875169 ,  0.5286775 ,  3.562547  , -0.44972542,\n",
              "         0.34225833, -1.1890836 ,  6.859816  ],\n",
              "       [ 5.360512  , -0.58242106, -2.039851  , -3.1611485 ,  2.4244263 ,\n",
              "        -1.0693271 , -0.34353793,  0.01950813],\n",
              "       [ 0.5116544 , -0.5577213 , -0.6795267 ,  2.40721   ,  4.4293113 ,\n",
              "        -3.1827064 , -5.4898286 ,  4.382712  ],\n",
              "       [ 2.3671994 , -2.0769076 ,  2.9423966 ,  0.11415508, -2.041745  ,\n",
              "         3.0532467 ,  2.554833  , -2.0817714 ]], dtype=float32)>"
            ]
          },
          "metadata": {
            "tags": []
          },
          "execution_count": 12
        }
      ]
    },
    {
      "cell_type": "code",
      "metadata": {
        "id": "rsrpvA1qgz8e",
        "colab_type": "code",
        "colab": {
          "base_uri": "https://localhost:8080/",
          "height": 0
        },
        "outputId": "c0a1567e-4b9c-47ff-9ca5-e14c78e306e8"
      },
      "source": [
        "# matrix mul with embd_weight\n",
        "token_linear = tf.matmul(token_reshape, embed_weight, transpose_b=True)\n",
        "token_reshape.shape, embed_weight.shape, token_linear"
      ],
      "execution_count": 13,
      "outputs": [
        {
          "output_type": "execute_result",
          "data": {
            "text/plain": [
              "(TensorShape([6, 8]),\n",
              " TensorShape([10, 8]),\n",
              " <tf.Tensor: shape=(6, 10), dtype=float32, numpy=\n",
              " array([[  0.5325967 ,   3.8031166 ,  -3.5751386 ,  -4.585093  ,\n",
              "          21.20014   ,   6.50547   ,  11.342962  ,  -9.228752  ,\n",
              "          -6.794538  ,   3.345391  ],\n",
              "        [  2.2398207 ,   1.5871406 ,   1.1697465 ,   0.06301922,\n",
              "          -9.228752  ,   0.6625772 ,  -5.936514  ,  12.207751  ,\n",
              "          -3.23346   ,   1.5232466 ],\n",
              "        [ -2.5101416 ,   4.7587724 ,  -5.535282  ,  -3.8501906 ,\n",
              "          11.342962  ,   1.9368417 ,  26.868544  ,  -5.936514  ,\n",
              "          -9.599031  ,  15.192061  ],\n",
              "        [ -0.5646777 ,  -0.10825825,   3.1675892 ,   5.5191536 ,\n",
              "           6.50547   ,  17.807726  ,   1.9368415 ,   0.6625773 ,\n",
              "          -8.315366  ,   4.581167  ],\n",
              "        [-14.589603  ,   2.3279722 ,   4.376459  , -11.049267  ,\n",
              "           3.3453908 ,   4.5811677 ,  15.19206   ,   1.5232463 ,\n",
              "          -8.769389  ,  30.378742  ],\n",
              "        [ 15.181544  ,   0.26030588,  -4.8405914 ,   9.55909   ,\n",
              "           0.53259647,  -0.5646776 ,  -2.5101418 ,   2.2398207 ,\n",
              "          -0.3964715 , -14.589603  ]], dtype=float32)>)"
            ]
          },
          "metadata": {
            "tags": []
          },
          "execution_count": 13
        }
      ]
    },
    {
      "cell_type": "code",
      "metadata": {
        "id": "2J-GDv21jO-3",
        "colab_type": "code",
        "colab": {
          "base_uri": "https://localhost:8080/",
          "height": 0
        },
        "outputId": "9f75efaa-9891-4987-f41f-8c7fcbd2db8d"
      },
      "source": [
        "# (bs * n_seq, n_vocab) -> (bs, n_seq, n_vocab)\n",
        "output = tf.reshape(token_linear, [n_batch, n_seq, config.n_vocab])\n",
        "output.shape"
      ],
      "execution_count": 14,
      "outputs": [
        {
          "output_type": "execute_result",
          "data": {
            "text/plain": [
              "TensorShape([1, 6, 10])"
            ]
          },
          "metadata": {
            "tags": []
          },
          "execution_count": 14
        }
      ]
    },
    {
      "cell_type": "markdown",
      "metadata": {
        "id": "5F2o9a06JKXK",
        "colab_type": "text"
      },
      "source": [
        "### Class"
      ]
    },
    {
      "cell_type": "code",
      "metadata": {
        "id": "HadAObQ2i6FZ",
        "colab_type": "code",
        "colab": {}
      },
      "source": [
        "def kernel_initializer(stddev=0.02):\n",
        "    \"\"\"\n",
        "    parameter initializer 생성\n",
        "    :param stddev: 생성할 랜덤 변수의 표준편차\n",
        "    \"\"\"\n",
        "    return tf.keras.initializers.TruncatedNormal(stddev=stddev)\n",
        "\n",
        "\n",
        "class SharedEmbedding(tf.keras.layers.Layer):\n",
        "    \"\"\"\n",
        "    Weighed Shaed Embedding Class\n",
        "    \"\"\"\n",
        "    def __init__(self, config, name=\"weight_shared_embedding\"):\n",
        "        \"\"\"\n",
        "        생성자\n",
        "        :param config: Config 객체\n",
        "        :param name: layer name\n",
        "        \"\"\"\n",
        "        super().__init__(name=name)\n",
        "\n",
        "        self.n_vocab = config.n_vocab\n",
        "        self.d_model = config.d_model\n",
        "    \n",
        "    def build(self, input_shape):\n",
        "        \"\"\"\n",
        "        shared weight 생성\n",
        "        :param input_shape: Tensor Shape (not used)\n",
        "        \"\"\"\n",
        "        with tf.name_scope(\"shared_embedding_weight\"):\n",
        "            self.shared_weights = self.add_weight(\n",
        "                \"weights\",\n",
        "                shape=[self.n_vocab, self.d_model],\n",
        "                initializer=kernel_initializer(stddev=self.d_model ** -0.5)\n",
        "            )\n",
        "\n",
        "    def call(self, inputs, mode=\"embedding\"):\n",
        "        \"\"\"\n",
        "        layer 실행\n",
        "        :param inputs: 입력\n",
        "        :param mode: 실행 모드\n",
        "        :return: embedding or linear 실행 결과\n",
        "        \"\"\"\n",
        "        # mode가 embedding일 경우 embedding lookup 실행\n",
        "        if mode == \"embedding\":\n",
        "            return self._embedding(inputs)\n",
        "        # mode가 linear일 경우 linear 실행\n",
        "        elif mode == \"linear\":\n",
        "            return self._linear(inputs)\n",
        "        # mode가 기타일 경우 오류 발생\n",
        "        else:\n",
        "            raise ValueError(f\"mode {mode} is not valid.\")\n",
        "    \n",
        "    def _embedding(self, inputs):\n",
        "        \"\"\"\n",
        "        embedding lookup\n",
        "        :param inputs: 입력\n",
        "        \"\"\"\n",
        "        embed = tf.gather(self.shared_weights, tf.cast(inputs, tf.int32))\n",
        "        embed *= self.d_model ** 0.5\n",
        "        return embed\n",
        "\n",
        "    def _linear(self, inputs):  # (bs, n_seq, d_model)\n",
        "        \"\"\"\n",
        "        linear 실행\n",
        "        :param inputs: 입력\n",
        "        \"\"\"\n",
        "        n_batch = tf.shape(inputs)[0]\n",
        "        n_seq = tf.shape(inputs)[1]\n",
        "        inputs = tf.reshape(inputs, [-1, self.d_model])  # (bs * n_seq, d_model)\n",
        "        outputs = tf.matmul(inputs, self.shared_weights, transpose_b=True)\n",
        "        outputs = tf.reshape(outputs, [n_batch, n_seq, self.n_vocab])  # (bs, n_seq, n_vocab)\n",
        "        return outputs"
      ],
      "execution_count": 15,
      "outputs": []
    },
    {
      "cell_type": "markdown",
      "metadata": {
        "id": "4Igt7GwvJWgV",
        "colab_type": "text"
      },
      "source": [
        "### Test"
      ]
    },
    {
      "cell_type": "code",
      "metadata": {
        "id": "mkDCszl4kT_8",
        "colab_type": "code",
        "colab": {
          "base_uri": "https://localhost:8080/",
          "height": 0
        },
        "outputId": "a15eec7f-3a95-41a7-84a5-5189ad7eb0b5"
      },
      "source": [
        "# SharedEmbedding embedding test: shape이 (bs, n_seq, d_model)이면 성공\n",
        "embedding = SharedEmbedding(config)\n",
        "\n",
        "enc_embed = embedding(enc_tokens)\n",
        "assert enc_embed.shape == (enc_tokens.shape[0], enc_tokens.shape[1], config.d_model)\n",
        "enc_embed"
      ],
      "execution_count": 16,
      "outputs": [
        {
          "output_type": "execute_result",
          "data": {
            "text/plain": [
              "<tf.Tensor: shape=(1, 6, 8), dtype=float32, numpy=\n",
              "array([[[ 1.0438616 ,  0.77873224,  0.3661703 ,  0.04562705,\n",
              "         -1.1118658 ,  0.83142024, -0.50751346, -1.6061306 ],\n",
              "        [-1.488764  ,  0.66749793,  0.45289573, -1.3284955 ,\n",
              "         -0.8350257 , -0.14791092,  0.46348926,  0.68240684],\n",
              "        [ 0.53093785,  1.8387237 , -1.4564208 , -0.22360843,\n",
              "          0.8672876 , -0.75745213,  1.4629304 , -1.8092779 ],\n",
              "        [-0.13200705,  0.9998998 , -0.9900697 , -0.2264822 ,\n",
              "          0.5969744 , -0.13854134,  1.1348592 , -0.04831744],\n",
              "        [-1.3377118 ,  1.3356653 , -0.26913092, -1.4376115 ,\n",
              "         -0.3685191 ,  1.0541942 ,  0.37812105, -0.3294939 ],\n",
              "        [ 1.1468066 ,  0.96459925,  0.87830144, -0.31010216,\n",
              "         -0.4058371 , -0.04709157, -0.32690668,  0.5287341 ]]],\n",
              "      dtype=float32)>"
            ]
          },
          "metadata": {
            "tags": []
          },
          "execution_count": 16
        }
      ]
    },
    {
      "cell_type": "code",
      "metadata": {
        "id": "tg0vVqkx2jFb",
        "colab_type": "code",
        "colab": {
          "base_uri": "https://localhost:8080/",
          "height": 0
        },
        "outputId": "83240f4e-768b-4bfb-ae85-a6aed49186d0"
      },
      "source": [
        "# SharedEmbedding embedding test: shape이 (bs, n_seq, d_model)이면 성공\n",
        "dec_embed = embedding(dec_tokens)\n",
        "assert dec_embed.shape == (dec_tokens.shape[0], dec_tokens.shape[1], config.d_model)\n",
        "dec_embed"
      ],
      "execution_count": 17,
      "outputs": [
        {
          "output_type": "execute_result",
          "data": {
            "text/plain": [
              "<tf.Tensor: shape=(1, 5, 8), dtype=float32, numpy=\n",
              "array([[[ 1.7347238 , -0.40107146,  1.5544791 ,  0.83802575,\n",
              "         -0.6956781 , -0.06145862,  1.496493  , -1.8350446 ],\n",
              "        [-1.488764  ,  0.66749793,  0.45289573, -1.3284955 ,\n",
              "         -0.8350257 , -0.14791092,  0.46348926,  0.68240684],\n",
              "        [-1.3377118 ,  1.3356653 , -0.26913092, -1.4376115 ,\n",
              "         -0.3685191 ,  1.0541942 ,  0.37812105, -0.3294939 ],\n",
              "        [ 0.47501525, -0.7355799 ,  0.66509944, -0.3943125 ,\n",
              "          0.71738523, -0.24470258, -0.27618337,  0.6821183 ],\n",
              "        [ 1.1468066 ,  0.96459925,  0.87830144, -0.31010216,\n",
              "         -0.4058371 , -0.04709157, -0.32690668,  0.5287341 ]]],\n",
              "      dtype=float32)>"
            ]
          },
          "metadata": {
            "tags": []
          },
          "execution_count": 17
        }
      ]
    },
    {
      "cell_type": "code",
      "metadata": {
        "id": "ncgRJ-AJklJK",
        "colab_type": "code",
        "colab": {
          "base_uri": "https://localhost:8080/",
          "height": 0
        },
        "outputId": "0543d308-5724-43eb-d00b-f39529f208c1"
      },
      "source": [
        "# SharedEmbedding linear test: shape에 (bs, n_seq, n_vocab)이면 성공\n",
        "linear_outputs = embedding(dec_embed, mode=\"linear\")\n",
        "assert linear_outputs.shape == (dec_tokens.shape[0], dec_tokens.shape[1], config.n_vocab)\n",
        "linear_outputs"
      ],
      "execution_count": 18,
      "outputs": [
        {
          "output_type": "execute_result",
          "data": {
            "text/plain": [
              "<tf.Tensor: shape=(1, 5, 10), dtype=float32, numpy=\n",
              "array([[[ 0.5422481 , -0.1154615 ,  0.07719773, -1.3376666 ,\n",
              "          1.7734799 , -0.34601617,  0.9492115 , -1.1413567 ,\n",
              "          4.378208  , -1.1021316 ],\n",
              "        [ 0.10657363, -0.21159723,  0.99548954,  0.49363035,\n",
              "         -0.514364  ,  0.25861242, -0.38693726,  2.1325045 ,\n",
              "         -1.1413567 ,  1.6876042 ],\n",
              "        [-0.08280095, -0.73594666,  2.20541   , -0.30941206,\n",
              "          0.39001492,  0.77186346,  0.88045573,  1.6876042 ,\n",
              "         -1.1021316 ,  2.549582  ],\n",
              "        [ 0.252074  ,  0.87703884, -0.9234558 ,  0.5945406 ,\n",
              "         -0.63919353, -0.44251698, -0.99400353, -0.21159722,\n",
              "         -0.11546156, -0.73594666],\n",
              "        [ 1.2963187 ,  0.25207406, -0.58869195, -0.17177188,\n",
              "          0.70162946, -0.21868029, -0.20452958,  0.10657358,\n",
              "          0.5422482 , -0.08280102]]], dtype=float32)>"
            ]
          },
          "metadata": {
            "tags": []
          },
          "execution_count": 18
        }
      ]
    },
    {
      "cell_type": "markdown",
      "metadata": {
        "id": "SGHIBE4SUYtC",
        "colab_type": "text"
      },
      "source": [
        "## Postiona Encoding\n",
        "\n",
        "![](https://paul-hyun.github.io/assets/transformer/position_encoding.png)"
      ]
    },
    {
      "cell_type": "markdown",
      "metadata": {
        "id": "aw2CjyEzJdCu",
        "colab_type": "text"
      },
      "source": [
        "### Tutorial Encoding"
      ]
    },
    {
      "cell_type": "code",
      "metadata": {
        "id": "HBBT_PR99-yA",
        "colab_type": "code",
        "colab": {
          "base_uri": "https://localhost:8080/",
          "height": 0
        },
        "outputId": "ae3dcafb-3aa2-4f59-b20c-712015a0f27e"
      },
      "source": [
        "# 지수 계산\n",
        "exs = [2 * (i_ang // 2) / config.d_model for i_ang in range(config.d_model)]\n",
        "exs"
      ],
      "execution_count": 19,
      "outputs": [
        {
          "output_type": "execute_result",
          "data": {
            "text/plain": [
              "[0.0, 0.0, 0.25, 0.25, 0.5, 0.5, 0.75, 0.75]"
            ]
          },
          "metadata": {
            "tags": []
          },
          "execution_count": 19
        }
      ]
    },
    {
      "cell_type": "code",
      "metadata": {
        "id": "TcumTdu5Ulsh",
        "colab_type": "code",
        "colab": {
          "base_uri": "https://localhost:8080/",
          "height": 0
        },
        "outputId": "08bb17e0-2631-4676-ff20-71182521a7d3"
      },
      "source": [
        "# angle 계산\n",
        "angles = [np.power(10000, ex) for ex in exs]\n",
        "angles"
      ],
      "execution_count": 20,
      "outputs": [
        {
          "output_type": "execute_result",
          "data": {
            "text/plain": [
              "[1.0, 1.0, 10.0, 10.0, 100.0, 100.0, 1000.0, 1000.0]"
            ]
          },
          "metadata": {
            "tags": []
          },
          "execution_count": 20
        }
      ]
    },
    {
      "cell_type": "code",
      "metadata": {
        "id": "lal4dGPqVDGW",
        "colab_type": "code",
        "colab": {
          "base_uri": "https://localhost:8080/",
          "height": 0
        },
        "outputId": "0892d8ab-dd0b-4e59-e2de-33f3a9520158"
      },
      "source": [
        "# position angle 계산\n",
        "pos_angles = np.array([[pos / angle for angle in angles] for pos in range(config.n_seq)])\n",
        "pos_angles"
      ],
      "execution_count": 21,
      "outputs": [
        {
          "output_type": "execute_result",
          "data": {
            "text/plain": [
              "array([[0.e+00, 0.e+00, 0.e+00, 0.e+00, 0.e+00, 0.e+00, 0.e+00, 0.e+00],\n",
              "       [1.e+00, 1.e+00, 1.e-01, 1.e-01, 1.e-02, 1.e-02, 1.e-03, 1.e-03],\n",
              "       [2.e+00, 2.e+00, 2.e-01, 2.e-01, 2.e-02, 2.e-02, 2.e-03, 2.e-03],\n",
              "       [3.e+00, 3.e+00, 3.e-01, 3.e-01, 3.e-02, 3.e-02, 3.e-03, 3.e-03],\n",
              "       [4.e+00, 4.e+00, 4.e-01, 4.e-01, 4.e-02, 4.e-02, 4.e-03, 4.e-03],\n",
              "       [5.e+00, 5.e+00, 5.e-01, 5.e-01, 5.e-02, 5.e-02, 5.e-03, 5.e-03],\n",
              "       [6.e+00, 6.e+00, 6.e-01, 6.e-01, 6.e-02, 6.e-02, 6.e-03, 6.e-03],\n",
              "       [7.e+00, 7.e+00, 7.e-01, 7.e-01, 7.e-02, 7.e-02, 7.e-03, 7.e-03],\n",
              "       [8.e+00, 8.e+00, 8.e-01, 8.e-01, 8.e-02, 8.e-02, 8.e-03, 8.e-03],\n",
              "       [9.e+00, 9.e+00, 9.e-01, 9.e-01, 9.e-02, 9.e-02, 9.e-03, 9.e-03]])"
            ]
          },
          "metadata": {
            "tags": []
          },
          "execution_count": 21
        }
      ]
    },
    {
      "cell_type": "code",
      "metadata": {
        "id": "tJIhlEoyVU4o",
        "colab_type": "code",
        "colab": {
          "base_uri": "https://localhost:8080/",
          "height": 0
        },
        "outputId": "c01266ef-90a2-4b3c-d6a9-d9a0b0aa542f"
      },
      "source": [
        "# 짝수는 sin, 홀수는 cos\n",
        "pos_encoding = pos_angles\n",
        "pos_encoding[:, 0::2] = np.sin(pos_encoding[:, 0::2])\n",
        "pos_encoding[:, 1::2] = np.cos(pos_encoding[:, 1::2])\n",
        "pos_encoding"
      ],
      "execution_count": 22,
      "outputs": [
        {
          "output_type": "execute_result",
          "data": {
            "text/plain": [
              "array([[ 0.00000000e+00,  1.00000000e+00,  0.00000000e+00,\n",
              "         1.00000000e+00,  0.00000000e+00,  1.00000000e+00,\n",
              "         0.00000000e+00,  1.00000000e+00],\n",
              "       [ 8.41470985e-01,  5.40302306e-01,  9.98334166e-02,\n",
              "         9.95004165e-01,  9.99983333e-03,  9.99950000e-01,\n",
              "         9.99999833e-04,  9.99999500e-01],\n",
              "       [ 9.09297427e-01, -4.16146837e-01,  1.98669331e-01,\n",
              "         9.80066578e-01,  1.99986667e-02,  9.99800007e-01,\n",
              "         1.99999867e-03,  9.99998000e-01],\n",
              "       [ 1.41120008e-01, -9.89992497e-01,  2.95520207e-01,\n",
              "         9.55336489e-01,  2.99955002e-02,  9.99550034e-01,\n",
              "         2.99999550e-03,  9.99995500e-01],\n",
              "       [-7.56802495e-01, -6.53643621e-01,  3.89418342e-01,\n",
              "         9.21060994e-01,  3.99893342e-02,  9.99200107e-01,\n",
              "         3.99998933e-03,  9.99992000e-01],\n",
              "       [-9.58924275e-01,  2.83662185e-01,  4.79425539e-01,\n",
              "         8.77582562e-01,  4.99791693e-02,  9.98750260e-01,\n",
              "         4.99997917e-03,  9.99987500e-01],\n",
              "       [-2.79415498e-01,  9.60170287e-01,  5.64642473e-01,\n",
              "         8.25335615e-01,  5.99640065e-02,  9.98200540e-01,\n",
              "         5.99996400e-03,  9.99982000e-01],\n",
              "       [ 6.56986599e-01,  7.53902254e-01,  6.44217687e-01,\n",
              "         7.64842187e-01,  6.99428473e-02,  9.97551000e-01,\n",
              "         6.99994283e-03,  9.99975500e-01],\n",
              "       [ 9.89358247e-01, -1.45500034e-01,  7.17356091e-01,\n",
              "         6.96706709e-01,  7.99146940e-02,  9.96801706e-01,\n",
              "         7.99991467e-03,  9.99968000e-01],\n",
              "       [ 4.12118485e-01, -9.11130262e-01,  7.83326910e-01,\n",
              "         6.21609968e-01,  8.98785492e-02,  9.95952733e-01,\n",
              "         8.99987850e-03,  9.99959500e-01]])"
            ]
          },
          "metadata": {
            "tags": []
          },
          "execution_count": 22
        }
      ]
    },
    {
      "cell_type": "code",
      "metadata": {
        "id": "29xP8DjxVkAq",
        "colab_type": "code",
        "colab": {
          "base_uri": "https://localhost:8080/",
          "height": 0
        },
        "outputId": "dde4859e-cdc5-4251-a329-60d8206829ab"
      },
      "source": [
        "# display\n",
        "plt.pcolormesh(pos_encoding, cmap='RdBu')\n",
        "plt.xlabel('Depth')\n",
        "plt.xlim((0, config.d_model))\n",
        "plt.ylabel('Position')\n",
        "plt.colorbar()\n",
        "plt.show()"
      ],
      "execution_count": 23,
      "outputs": [
        {
          "output_type": "display_data",
          "data": {
            "image/png": "[encoded data removed]",
            "text/plain": [
              "<Figure size 432x288 with 2 Axes>"
            ]
          },
          "metadata": {
            "tags": [],
            "needs_background": "light"
          }
        }
      ]
    },
    {
      "cell_type": "markdown",
      "metadata": {
        "id": "KlbxVAZapnGy",
        "colab_type": "text"
      },
      "source": [
        "### Tutorial Position lookup"
      ]
    },
    {
      "cell_type": "code",
      "metadata": {
        "id": "b5l6DZp9Zpuq",
        "colab_type": "code",
        "colab": {}
      },
      "source": [
        "# position embedding 초기 화, trainable=False인 경우는 학습 되지 않음\n",
        "pos_embedding = tf.keras.layers.Embedding(config.n_seq, config.d_model, trainable=False, weights=[pos_encoding])"
      ],
      "execution_count": 24,
      "outputs": []
    },
    {
      "cell_type": "code",
      "metadata": {
        "id": "P4r3rU4caAdB",
        "colab_type": "code",
        "colab": {
          "base_uri": "https://localhost:8080/",
          "height": 0
        },
        "outputId": "a654a035-212b-4d61-b300-7e56dd5211f2"
      },
      "source": [
        "# 모두 1인 값\n",
        "pos_val_1 = tf.ones_like(enc_tokens)\n",
        "pos_val_1"
      ],
      "execution_count": 25,
      "outputs": [
        {
          "output_type": "execute_result",
          "data": {
            "text/plain": [
              "<tf.Tensor: shape=(1, 6), dtype=int64, numpy=array([[1, 1, 1, 1, 1, 1]])>"
            ]
          },
          "metadata": {
            "tags": []
          },
          "execution_count": 25
        }
      ]
    },
    {
      "cell_type": "code",
      "metadata": {
        "id": "-z6mff4QaH5I",
        "colab_type": "code",
        "colab": {
          "base_uri": "https://localhost:8080/",
          "height": 0
        },
        "outputId": "ddcee995-646c-497a-f61d-4e1726b33c4c"
      },
      "source": [
        "# 0부터 시작하는 누적 합, exclusive=False인 경우는 1부터 시작\n",
        "pos_val_2 = tf.math.cumsum(pos_val_1, axis=-1, exclusive=True)\n",
        "pos_val_2 = tf.cast(pos_val_2, tf.int32)\n",
        "pos_val_2"
      ],
      "execution_count": 26,
      "outputs": [
        {
          "output_type": "execute_result",
          "data": {
            "text/plain": [
              "<tf.Tensor: shape=(1, 6), dtype=int32, numpy=array([[0, 1, 2, 3, 4, 5]], dtype=int32)>"
            ]
          },
          "metadata": {
            "tags": []
          },
          "execution_count": 26
        }
      ]
    },
    {
      "cell_type": "code",
      "metadata": {
        "id": "5myVXp9uaVVo",
        "colab_type": "code",
        "colab": {
          "base_uri": "https://localhost:8080/",
          "height": 0
        },
        "outputId": "2736c110-e821-4e0c-f484-2b43559caace"
      },
      "source": [
        "# embedding lookup\n",
        "pos_val = pos_embedding(pos_val_2)\n",
        "pos_val"
      ],
      "execution_count": 27,
      "outputs": [
        {
          "output_type": "execute_result",
          "data": {
            "text/plain": [
              "<tf.Tensor: shape=(1, 6, 8), dtype=float32, numpy=\n",
              "array([[[ 0.0000000e+00,  1.0000000e+00,  0.0000000e+00,  1.0000000e+00,\n",
              "          0.0000000e+00,  1.0000000e+00,  0.0000000e+00,  1.0000000e+00],\n",
              "        [ 8.4147096e-01,  5.4030228e-01,  9.9833414e-02,  9.9500418e-01,\n",
              "          9.9998331e-03,  9.9994999e-01,  9.9999981e-04,  9.9999952e-01],\n",
              "        [ 9.0929741e-01, -4.1614684e-01,  1.9866933e-01,  9.8006660e-01,\n",
              "          1.9998666e-02,  9.9980003e-01,  1.9999987e-03,  9.9999797e-01],\n",
              "        [ 1.4112000e-01, -9.8999250e-01,  2.9552022e-01,  9.5533651e-01,\n",
              "          2.9995501e-02,  9.9955004e-01,  2.9999956e-03,  9.9999553e-01],\n",
              "        [-7.5680250e-01, -6.5364361e-01,  3.8941833e-01,  9.2106098e-01,\n",
              "          3.9989334e-02,  9.9920011e-01,  3.9999895e-03,  9.9999201e-01],\n",
              "        [-9.5892429e-01,  2.8366220e-01,  4.7942555e-01,  8.7758255e-01,\n",
              "          4.9979169e-02,  9.9875027e-01,  4.9999794e-03,  9.9998748e-01]]],\n",
              "      dtype=float32)>"
            ]
          },
          "metadata": {
            "tags": []
          },
          "execution_count": 27
        }
      ]
    },
    {
      "cell_type": "code",
      "metadata": {
        "id": "6sp4Wjgwai_L",
        "colab_type": "code",
        "colab": {
          "base_uri": "https://localhost:8080/",
          "height": 0
        },
        "outputId": "36ef4c0b-9109-455b-9264-43a8ae05a20c"
      },
      "source": [
        "# embedding lookup 대신 pos_encoding table에서 gather를 통해 직접 조회\n",
        "pos_val_g = tf.gather(pos_encoding, pos_val_2)\n",
        "assert np.array_equal(pos_val, tf.cast(pos_val_g, pos_val.dtype))\n",
        "pos_val_g"
      ],
      "execution_count": 28,
      "outputs": [
        {
          "output_type": "execute_result",
          "data": {
            "text/plain": [
              "<tf.Tensor: shape=(1, 6, 8), dtype=float64, numpy=\n",
              "array([[[ 0.00000000e+00,  1.00000000e+00,  0.00000000e+00,\n",
              "          1.00000000e+00,  0.00000000e+00,  1.00000000e+00,\n",
              "          0.00000000e+00,  1.00000000e+00],\n",
              "        [ 8.41470985e-01,  5.40302306e-01,  9.98334166e-02,\n",
              "          9.95004165e-01,  9.99983333e-03,  9.99950000e-01,\n",
              "          9.99999833e-04,  9.99999500e-01],\n",
              "        [ 9.09297427e-01, -4.16146837e-01,  1.98669331e-01,\n",
              "          9.80066578e-01,  1.99986667e-02,  9.99800007e-01,\n",
              "          1.99999867e-03,  9.99998000e-01],\n",
              "        [ 1.41120008e-01, -9.89992497e-01,  2.95520207e-01,\n",
              "          9.55336489e-01,  2.99955002e-02,  9.99550034e-01,\n",
              "          2.99999550e-03,  9.99995500e-01],\n",
              "        [-7.56802495e-01, -6.53643621e-01,  3.89418342e-01,\n",
              "          9.21060994e-01,  3.99893342e-02,  9.99200107e-01,\n",
              "          3.99998933e-03,  9.99992000e-01],\n",
              "        [-9.58924275e-01,  2.83662185e-01,  4.79425539e-01,\n",
              "          8.77582562e-01,  4.99791693e-02,  9.98750260e-01,\n",
              "          4.99997917e-03,  9.99987500e-01]]])>"
            ]
          },
          "metadata": {
            "tags": []
          },
          "execution_count": 28
        }
      ]
    },
    {
      "cell_type": "markdown",
      "metadata": {
        "id": "rRIB0gjRJjAU",
        "colab_type": "text"
      },
      "source": [
        "### Class"
      ]
    },
    {
      "cell_type": "code",
      "metadata": {
        "id": "RxvXF6OrbvaU",
        "colab_type": "code",
        "colab": {}
      },
      "source": [
        "class PositionalEmbedding(tf.keras.layers.Layer):\n",
        "    \"\"\"\n",
        "    Positional Embedding Class\n",
        "    \"\"\"\n",
        "    def __init__(self, config, name=\"position_embedding\"):\n",
        "        \"\"\"\n",
        "        생성자\n",
        "        :param config: Config 객체\n",
        "        :param name: layer name\n",
        "        \"\"\"\n",
        "        super().__init__(name=name)\n",
        "        \n",
        "        pos_encoding = PositionalEmbedding.get_sinusoid_encoding(config.n_seq, config.d_model)\n",
        "        self.embedding = tf.keras.layers.Embedding(config.n_seq, config.d_model, trainable=False, weights=[pos_encoding])\n",
        "\n",
        "    def call(self, inputs):\n",
        "        \"\"\"\n",
        "        layer 실행\n",
        "        :param inputs: 입력\n",
        "        :return embed: positional embedding lookup 결과\n",
        "        \"\"\"\n",
        "        position = tf.cast(tf.math.cumsum(tf.ones_like(inputs), axis=1, exclusive=True), tf.int32)\n",
        "        embed = self.embedding(position)\n",
        "        return embed\n",
        "\n",
        "    @staticmethod\n",
        "    def get_sinusoid_encoding(n_seq, d_model):\n",
        "        \"\"\"\n",
        "        sinusoid encoding 생성\n",
        "        :param n_seq: sequence number\n",
        "        :param n_seq: model hidden dimension\n",
        "        :return: positional encoding table\n",
        "        \"\"\"\n",
        "        angles = [np.power(10000, 2 * (i_ang // 2) / d_model) for i_ang in range(d_model)]\n",
        "        pos_encoding = np.array([[pos / angle for angle in angles] for pos in range(n_seq)])\n",
        "        pos_encoding[:, 0::2] = np.sin(pos_encoding[:, 0::2])\n",
        "        pos_encoding[:, 1::2] = np.cos(pos_encoding[:, 1::2])\n",
        "        return tf.cast(pos_encoding, tf.float32)"
      ],
      "execution_count": 29,
      "outputs": []
    },
    {
      "cell_type": "markdown",
      "metadata": {
        "id": "69ZQF9_QJtgD",
        "colab_type": "text"
      },
      "source": [
        "### Test"
      ]
    },
    {
      "cell_type": "code",
      "metadata": {
        "id": "1b-r4NFWb_1-",
        "colab_type": "code",
        "colab": {
          "base_uri": "https://localhost:8080/",
          "height": 0
        },
        "outputId": "e850d700-8260-426a-eb74-f37b12b546e8"
      },
      "source": [
        "# PositionalEmbedding 클래스 시험\n",
        "pos_embedding = PositionalEmbedding(config)\n",
        "\n",
        "enc_pos = pos_embedding(enc_tokens)\n",
        "assert enc_pos.shape == (enc_tokens.shape[0], enc_tokens.shape[1], config.d_model)\n",
        "enc_pos"
      ],
      "execution_count": 30,
      "outputs": [
        {
          "output_type": "execute_result",
          "data": {
            "text/plain": [
              "<tf.Tensor: shape=(1, 6, 8), dtype=float32, numpy=\n",
              "array([[[ 0.0000000e+00,  1.0000000e+00,  0.0000000e+00,  1.0000000e+00,\n",
              "          0.0000000e+00,  1.0000000e+00,  0.0000000e+00,  1.0000000e+00],\n",
              "        [ 8.4147096e-01,  5.4030228e-01,  9.9833414e-02,  9.9500418e-01,\n",
              "          9.9998331e-03,  9.9994999e-01,  9.9999981e-04,  9.9999952e-01],\n",
              "        [ 9.0929741e-01, -4.1614684e-01,  1.9866933e-01,  9.8006660e-01,\n",
              "          1.9998666e-02,  9.9980003e-01,  1.9999987e-03,  9.9999797e-01],\n",
              "        [ 1.4112000e-01, -9.8999250e-01,  2.9552022e-01,  9.5533651e-01,\n",
              "          2.9995501e-02,  9.9955004e-01,  2.9999956e-03,  9.9999553e-01],\n",
              "        [-7.5680250e-01, -6.5364361e-01,  3.8941833e-01,  9.2106098e-01,\n",
              "          3.9989334e-02,  9.9920011e-01,  3.9999895e-03,  9.9999201e-01],\n",
              "        [-9.5892429e-01,  2.8366220e-01,  4.7942555e-01,  8.7758255e-01,\n",
              "          4.9979169e-02,  9.9875027e-01,  4.9999794e-03,  9.9998748e-01]]],\n",
              "      dtype=float32)>"
            ]
          },
          "metadata": {
            "tags": []
          },
          "execution_count": 30
        }
      ]
    },
    {
      "cell_type": "code",
      "metadata": {
        "id": "_730DE5u4C-o",
        "colab_type": "code",
        "colab": {
          "base_uri": "https://localhost:8080/",
          "height": 0
        },
        "outputId": "c6ffc711-1779-484f-9a86-b076f5532a3a"
      },
      "source": [
        "dec_pos = pos_embedding(dec_tokens)\n",
        "assert dec_pos.shape == (dec_tokens.shape[0], dec_tokens.shape[1], config.d_model)\n",
        "dec_pos"
      ],
      "execution_count": 31,
      "outputs": [
        {
          "output_type": "execute_result",
          "data": {
            "text/plain": [
              "<tf.Tensor: shape=(1, 5, 8), dtype=float32, numpy=\n",
              "array([[[ 0.0000000e+00,  1.0000000e+00,  0.0000000e+00,  1.0000000e+00,\n",
              "          0.0000000e+00,  1.0000000e+00,  0.0000000e+00,  1.0000000e+00],\n",
              "        [ 8.4147096e-01,  5.4030228e-01,  9.9833414e-02,  9.9500418e-01,\n",
              "          9.9998331e-03,  9.9994999e-01,  9.9999981e-04,  9.9999952e-01],\n",
              "        [ 9.0929741e-01, -4.1614684e-01,  1.9866933e-01,  9.8006660e-01,\n",
              "          1.9998666e-02,  9.9980003e-01,  1.9999987e-03,  9.9999797e-01],\n",
              "        [ 1.4112000e-01, -9.8999250e-01,  2.9552022e-01,  9.5533651e-01,\n",
              "          2.9995501e-02,  9.9955004e-01,  2.9999956e-03,  9.9999553e-01],\n",
              "        [-7.5680250e-01, -6.5364361e-01,  3.8941833e-01,  9.2106098e-01,\n",
              "          3.9989334e-02,  9.9920011e-01,  3.9999895e-03,  9.9999201e-01]]],\n",
              "      dtype=float32)>"
            ]
          },
          "metadata": {
            "tags": []
          },
          "execution_count": 31
        }
      ]
    },
    {
      "cell_type": "code",
      "metadata": {
        "id": "F5vdTy5bcz1t",
        "colab_type": "code",
        "colab": {
          "base_uri": "https://localhost:8080/",
          "height": 0
        },
        "outputId": "993ef330-2303-4ef2-e41a-aebc82e2df6c"
      },
      "source": [
        "# 128x128 position encoding table 생성\n",
        "pos_encoding = PositionalEmbedding.get_sinusoid_encoding(128, 128)\n",
        "# display\n",
        "plt.pcolormesh(pos_encoding, cmap='RdBu')\n",
        "plt.xlabel('Depth')\n",
        "plt.xlim((0, 128))\n",
        "plt.ylabel('Position')\n",
        "plt.colorbar()\n",
        "plt.show()"
      ],
      "execution_count": 32,
      "outputs": [
        {
          "output_type": "display_data",
          "data": {
            "image/png": "[encoded data removed]",
            "text/plain": [
              "<Figure size 432x288 with 2 Axes>"
            ]
          },
          "metadata": {
            "tags": [],
            "needs_background": "light"
          }
        }
      ]
    },
    {
      "cell_type": "markdown",
      "metadata": {
        "id": "kRJOG3puSMbl",
        "colab_type": "text"
      },
      "source": [
        "## Pad Mask\n",
        "\n",
        "![](https://paul-hyun.github.io/assets/transformer/pad_mask.png)"
      ]
    },
    {
      "cell_type": "markdown",
      "metadata": {
        "id": "sC6NSo3cJ2HE",
        "colab_type": "text"
      },
      "source": [
        "### Tutorial"
      ]
    },
    {
      "cell_type": "code",
      "metadata": {
        "id": "D9lJOPCBnSj4",
        "colab_type": "code",
        "colab": {
          "base_uri": "https://localhost:8080/",
          "height": 0
        },
        "outputId": "d33abd1e-a3d4-4fd9-c0cd-540582866f3d"
      },
      "source": [
        "# 0인 부분 확인\n",
        "mask1 = tf.math.equal(enc_tokens, config.i_pad)\n",
        "mask1"
      ],
      "execution_count": 33,
      "outputs": [
        {
          "output_type": "execute_result",
          "data": {
            "text/plain": [
              "<tf.Tensor: shape=(1, 6), dtype=bool, numpy=array([[False, False, False, False, False,  True]])>"
            ]
          },
          "metadata": {
            "tags": []
          },
          "execution_count": 33
        }
      ]
    },
    {
      "cell_type": "code",
      "metadata": {
        "id": "_6A0dP-wnfW_",
        "colab_type": "code",
        "colab": {
          "base_uri": "https://localhost:8080/",
          "height": 0
        },
        "outputId": "7ae2be94-0ad6-497a-904b-3df714a34950"
      },
      "source": [
        "# boolean에서 flot32로 변경\n",
        "mask2 = tf.cast(mask1, tf.float32)\n",
        "mask2"
      ],
      "execution_count": 34,
      "outputs": [
        {
          "output_type": "execute_result",
          "data": {
            "text/plain": [
              "<tf.Tensor: shape=(1, 6), dtype=float32, numpy=array([[0., 0., 0., 0., 0., 1.]], dtype=float32)>"
            ]
          },
          "metadata": {
            "tags": []
          },
          "execution_count": 34
        }
      ]
    },
    {
      "cell_type": "code",
      "metadata": {
        "id": "Vks9dn_eno6M",
        "colab_type": "code",
        "colab": {
          "base_uri": "https://localhost:8080/",
          "height": 0
        },
        "outputId": "9ec8ff4c-14bc-4bf1-c0f5-a90032d3652b"
      },
      "source": [
        "# 차원 확대 (차원이 1인 경우에는 차원에 상관없이 연산이 가능)\n",
        "mask = tf.expand_dims(mask2, axis=1)\n",
        "mask"
      ],
      "execution_count": 35,
      "outputs": [
        {
          "output_type": "execute_result",
          "data": {
            "text/plain": [
              "<tf.Tensor: shape=(1, 1, 6), dtype=float32, numpy=array([[[0., 0., 0., 0., 0., 1.]]], dtype=float32)>"
            ]
          },
          "metadata": {
            "tags": []
          },
          "execution_count": 35
        }
      ]
    },
    {
      "cell_type": "markdown",
      "metadata": {
        "id": "TnFBTppYJ4QE",
        "colab_type": "text"
      },
      "source": [
        "### Function"
      ]
    },
    {
      "cell_type": "code",
      "metadata": {
        "id": "UW5K7beRnBI2",
        "colab_type": "code",
        "colab": {}
      },
      "source": [
        "def get_pad_mask(tokens, i_pad=0):\n",
        "    \"\"\"\n",
        "    pad mask 계산하는 함수\n",
        "    :param tokens: tokens (bs, n_seq)\n",
        "    :param i_pad: id of pad\n",
        "    :return mask: pad mask (pad: 1, other: 0)\n",
        "    \"\"\"\n",
        "    mask = tf.cast(tf.math.equal(tokens, i_pad), tf.float32)\n",
        "    mask = tf.expand_dims(mask, axis=1)\n",
        "    return mask"
      ],
      "execution_count": 36,
      "outputs": []
    },
    {
      "cell_type": "markdown",
      "metadata": {
        "id": "253aegyMJ5s9",
        "colab_type": "text"
      },
      "source": [
        "### Test"
      ]
    },
    {
      "cell_type": "code",
      "metadata": {
        "id": "KA1M4BtSTf6n",
        "colab_type": "code",
        "colab": {
          "base_uri": "https://localhost:8080/",
          "height": 0
        },
        "outputId": "1f163ce6-d90c-4641-db0f-c6611c6fe325"
      },
      "source": [
        "enc_pad_mask = get_pad_mask(enc_tokens)\n",
        "# 함수로 구한 mask와 계산한 mask가 같으면 정상\n",
        "assert np.array_equal(mask, enc_pad_mask)\n",
        "enc_tokens, enc_pad_mask"
      ],
      "execution_count": 37,
      "outputs": [
        {
          "output_type": "execute_result",
          "data": {
            "text/plain": [
              "(array([[4, 7, 6, 5, 9, 0]]),\n",
              " <tf.Tensor: shape=(1, 1, 6), dtype=float32, numpy=array([[[0., 0., 0., 0., 0., 1.]]], dtype=float32)>)"
            ]
          },
          "metadata": {
            "tags": []
          },
          "execution_count": 37
        }
      ]
    },
    {
      "cell_type": "markdown",
      "metadata": {
        "id": "1FbtXvu_S6Hm",
        "colab_type": "text"
      },
      "source": [
        "## Ahead mask (Decoder)\n",
        "\n",
        "![](https://paul-hyun.github.io/assets/transformer/ahead_mask.png)"
      ]
    },
    {
      "cell_type": "markdown",
      "metadata": {
        "id": "H1bAp9rqKAMW",
        "colab_type": "text"
      },
      "source": [
        "### Tutorial"
      ]
    },
    {
      "cell_type": "code",
      "metadata": {
        "id": "g88v778TzRZV",
        "colab_type": "code",
        "colab": {
          "base_uri": "https://localhost:8080/",
          "height": 0
        },
        "outputId": "08dca9e8-541f-44b2-fbdb-eee1f60c42b4"
      },
      "source": [
        "# sequence 개수 추출 (bs, n_seq)\n",
        "n_seq = tf.shape(dec_tokens)[1]\n",
        "n_seq"
      ],
      "execution_count": 38,
      "outputs": [
        {
          "output_type": "execute_result",
          "data": {
            "text/plain": [
              "<tf.Tensor: shape=(), dtype=int32, numpy=5>"
            ]
          },
          "metadata": {
            "tags": []
          },
          "execution_count": 38
        }
      ]
    },
    {
      "cell_type": "code",
      "metadata": {
        "id": "zztMXOygzjgF",
        "colab_type": "code",
        "colab": {
          "base_uri": "https://localhost:8080/",
          "height": 0
        },
        "outputId": "068e4810-4d3d-455f-f7c9-066a77e74b06"
      },
      "source": [
        "# 전체가 1일 matrix 생성\n",
        "ahead_mask1 = tf.ones((n_seq, n_seq))\n",
        "ahead_mask1"
      ],
      "execution_count": 39,
      "outputs": [
        {
          "output_type": "execute_result",
          "data": {
            "text/plain": [
              "<tf.Tensor: shape=(5, 5), dtype=float32, numpy=\n",
              "array([[1., 1., 1., 1., 1.],\n",
              "       [1., 1., 1., 1., 1.],\n",
              "       [1., 1., 1., 1., 1.],\n",
              "       [1., 1., 1., 1., 1.],\n",
              "       [1., 1., 1., 1., 1.]], dtype=float32)>"
            ]
          },
          "metadata": {
            "tags": []
          },
          "execution_count": 39
        }
      ]
    },
    {
      "cell_type": "code",
      "metadata": {
        "id": "iGMP_M8RUQdb",
        "colab_type": "code",
        "colab": {
          "base_uri": "https://localhost:8080/",
          "height": 0
        },
        "outputId": "5d0fbfcd-04f2-4c37-e2ea-6343ebbd2b23"
      },
      "source": [
        "# 중간을 기준으로 위쪽을 모두 0으로 변경\n",
        "# https://www.tensorflow.org/api_docs/python/tf/linalg/band_part#useful_special_cases_2\n",
        "ahead_mask2 = tf.linalg.band_part(ahead_mask1, -1, 0)\n",
        "ahead_mask2"
      ],
      "execution_count": 40,
      "outputs": [
        {
          "output_type": "execute_result",
          "data": {
            "text/plain": [
              "<tf.Tensor: shape=(5, 5), dtype=float32, numpy=\n",
              "array([[1., 0., 0., 0., 0.],\n",
              "       [1., 1., 0., 0., 0.],\n",
              "       [1., 1., 1., 0., 0.],\n",
              "       [1., 1., 1., 1., 0.],\n",
              "       [1., 1., 1., 1., 1.]], dtype=float32)>"
            ]
          },
          "metadata": {
            "tags": []
          },
          "execution_count": 40
        }
      ]
    },
    {
      "cell_type": "code",
      "metadata": {
        "id": "1mjydNumzpb_",
        "colab_type": "code",
        "colab": {
          "base_uri": "https://localhost:8080/",
          "height": 0
        },
        "outputId": "c3e8199b-37fa-4c1f-a647-325c8e512a92"
      },
      "source": [
        "# 1에서 값을 빼서 0->1, 1->0으로 변경\n",
        "ahead_mask3 = 1 - ahead_mask2\n",
        "ahead_mask3"
      ],
      "execution_count": 41,
      "outputs": [
        {
          "output_type": "execute_result",
          "data": {
            "text/plain": [
              "<tf.Tensor: shape=(5, 5), dtype=float32, numpy=\n",
              "array([[0., 1., 1., 1., 1.],\n",
              "       [0., 0., 1., 1., 1.],\n",
              "       [0., 0., 0., 1., 1.],\n",
              "       [0., 0., 0., 0., 1.],\n",
              "       [0., 0., 0., 0., 0.]], dtype=float32)>"
            ]
          },
          "metadata": {
            "tags": []
          },
          "execution_count": 41
        }
      ]
    },
    {
      "cell_type": "code",
      "metadata": {
        "id": "nesuHASz0GqL",
        "colab_type": "code",
        "colab": {
          "base_uri": "https://localhost:8080/",
          "height": 0
        },
        "outputId": "b90aa8c2-2218-4496-ed02-5c08d223055f"
      },
      "source": [
        "# batch 차원 추가 (0)\n",
        "ahead_mask4 = tf.expand_dims(ahead_mask3, axis=0)\n",
        "ahead_mask4"
      ],
      "execution_count": 42,
      "outputs": [
        {
          "output_type": "execute_result",
          "data": {
            "text/plain": [
              "<tf.Tensor: shape=(1, 5, 5), dtype=float32, numpy=\n",
              "array([[[0., 1., 1., 1., 1.],\n",
              "        [0., 0., 1., 1., 1.],\n",
              "        [0., 0., 0., 1., 1.],\n",
              "        [0., 0., 0., 0., 1.],\n",
              "        [0., 0., 0., 0., 0.]]], dtype=float32)>"
            ]
          },
          "metadata": {
            "tags": []
          },
          "execution_count": 42
        }
      ]
    },
    {
      "cell_type": "code",
      "metadata": {
        "id": "J0YmBI89U286",
        "colab_type": "code",
        "colab": {
          "base_uri": "https://localhost:8080/",
          "height": 0
        },
        "outputId": "d11dc79e-91b1-405a-c600-05d386305fb9"
      },
      "source": [
        "# pad_mask 조회\n",
        "pad_mask = get_pad_mask(dec_tokens)\n",
        "pad_mask"
      ],
      "execution_count": 43,
      "outputs": [
        {
          "output_type": "execute_result",
          "data": {
            "text/plain": [
              "<tf.Tensor: shape=(1, 1, 5), dtype=float32, numpy=array([[[0., 0., 0., 0., 1.]]], dtype=float32)>"
            ]
          },
          "metadata": {
            "tags": []
          },
          "execution_count": 43
        }
      ]
    },
    {
      "cell_type": "code",
      "metadata": {
        "id": "8nUEj4W-0O8X",
        "colab_type": "code",
        "colab": {
          "base_uri": "https://localhost:8080/",
          "height": 0
        },
        "outputId": "bb479f27-ef7f-4377-8e16-8acd3b700599"
      },
      "source": [
        "# pad mask 또는 ahead mask인 부분은 모두 mask\n",
        "mask = tf.maximum(ahead_mask4, pad_mask)\n",
        "mask"
      ],
      "execution_count": 44,
      "outputs": [
        {
          "output_type": "execute_result",
          "data": {
            "text/plain": [
              "<tf.Tensor: shape=(1, 5, 5), dtype=float32, numpy=\n",
              "array([[[0., 1., 1., 1., 1.],\n",
              "        [0., 0., 1., 1., 1.],\n",
              "        [0., 0., 0., 1., 1.],\n",
              "        [0., 0., 0., 0., 1.],\n",
              "        [0., 0., 0., 0., 1.]]], dtype=float32)>"
            ]
          },
          "metadata": {
            "tags": []
          },
          "execution_count": 44
        }
      ]
    },
    {
      "cell_type": "markdown",
      "metadata": {
        "id": "oZcLQR0NKINv",
        "colab_type": "text"
      },
      "source": [
        "### Function"
      ]
    },
    {
      "cell_type": "code",
      "metadata": {
        "id": "xQ0bR5TuzJRJ",
        "colab_type": "code",
        "colab": {}
      },
      "source": [
        "def get_ahead_mask(tokens, i_pad=0):\n",
        "    \"\"\"\n",
        "    ahead mask 계산하는 함수\n",
        "    :param tokens: tokens (bs, n_seq)\n",
        "    :param i_pad: id of pad\n",
        "    :return mask: ahead and pad mask (ahead or pad: 1, other: 0)\n",
        "    \"\"\"\n",
        "    n_seq = tf.shape(tokens)[1]\n",
        "    ahead_mask = 1 - tf.linalg.band_part(tf.ones((n_seq, n_seq)), -1, 0)\n",
        "    ahead_mask = tf.expand_dims(ahead_mask, axis=0)\n",
        "    pad_mask = get_pad_mask(tokens, i_pad)\n",
        "    mask = tf.maximum(ahead_mask, pad_mask)\n",
        "    return mask"
      ],
      "execution_count": 45,
      "outputs": []
    },
    {
      "cell_type": "markdown",
      "metadata": {
        "id": "PTpTinUoKLc1",
        "colab_type": "text"
      },
      "source": [
        "### Test"
      ]
    },
    {
      "cell_type": "code",
      "metadata": {
        "id": "hAXZlBpqVJzT",
        "colab_type": "code",
        "colab": {
          "base_uri": "https://localhost:8080/",
          "height": 0
        },
        "outputId": "bb4ca634-416b-4ded-d6e5-cfaf22d554b9"
      },
      "source": [
        "# 기능 확인\n",
        "dec_ahead_mask = get_ahead_mask(dec_tokens)\n",
        "# 함수로 구한 mask와 계산한 mask가 같으면 정상\n",
        "assert np.array_equal(mask, dec_ahead_mask)\n",
        "dec_tokens, dec_ahead_mask"
      ],
      "execution_count": 46,
      "outputs": [
        {
          "output_type": "execute_result",
          "data": {
            "text/plain": [
              "(array([[8, 7, 9, 1, 0]]), <tf.Tensor: shape=(1, 5, 5), dtype=float32, numpy=\n",
              " array([[[0., 1., 1., 1., 1.],\n",
              "         [0., 0., 1., 1., 1.],\n",
              "         [0., 0., 0., 1., 1.],\n",
              "         [0., 0., 0., 0., 1.],\n",
              "         [0., 0., 0., 0., 1.]]], dtype=float32)>)"
            ]
          },
          "metadata": {
            "tags": []
          },
          "execution_count": 46
        }
      ]
    },
    {
      "cell_type": "markdown",
      "metadata": {
        "colab_type": "text",
        "id": "wWAtDOgtLHZr"
      },
      "source": [
        "## Scaled dot product attention (Encoder Self Attention)\n",
        "\n",
        "![](https://paul-hyun.github.io/assets/transformer/scaled_dot_attention_encoder.png)"
      ]
    },
    {
      "cell_type": "markdown",
      "metadata": {
        "colab_type": "text",
        "id": "owr3DtdjLHZs"
      },
      "source": [
        "### Tutorial"
      ]
    },
    {
      "cell_type": "code",
      "metadata": {
        "id": "amQb_h2Kw_Fn",
        "colab_type": "code",
        "colab": {
          "base_uri": "https://localhost:8080/",
          "height": 0
        },
        "outputId": "abd09f80-6819-4498-f5a4-2fb01a443fb0"
      },
      "source": [
        "weights = np.random.randint(1, 10, (config.n_vocab, 4)) / 10\n",
        "weights"
      ],
      "execution_count": 47,
      "outputs": [
        {
          "output_type": "execute_result",
          "data": {
            "text/plain": [
              "array([[0.1, 0.7, 0.3, 0.1],\n",
              "       [0.6, 0.3, 0.7, 0.4],\n",
              "       [0.8, 0.1, 0.1, 0.4],\n",
              "       [0.3, 0.4, 0.2, 0.4],\n",
              "       [0.2, 0.4, 0.8, 0.2],\n",
              "       [0.8, 0.5, 0.1, 0.6],\n",
              "       [0.2, 0.6, 0.5, 0.1],\n",
              "       [0.9, 0.9, 0.7, 0.9],\n",
              "       [0.7, 0.4, 0.2, 0.3],\n",
              "       [0.6, 0.3, 0.6, 0.7]])"
            ]
          },
          "metadata": {
            "tags": []
          },
          "execution_count": 47
        }
      ]
    },
    {
      "cell_type": "code",
      "metadata": {
        "colab_type": "code",
        "id": "tbWZpQAFLHZs",
        "colab": {}
      },
      "source": [
        "# embedding layer / 기능 확인을 위해 weights를 정수로 초기화 함\n",
        "int_embedding = tf.keras.layers.Embedding(input_dim=config.n_vocab, output_dim=4, weights=[weights])"
      ],
      "execution_count": 48,
      "outputs": []
    },
    {
      "cell_type": "code",
      "metadata": {
        "colab_type": "code",
        "id": "AVzEuM5XLHZ0",
        "colab": {
          "base_uri": "https://localhost:8080/",
          "height": 0
        },
        "outputId": "386c995c-e5b8-470a-ed86-4b7c71ffb092"
      },
      "source": [
        "# enc_input pad mask\n",
        "enc_self_mask = get_pad_mask(enc_tokens)\n",
        "enc_self_mask"
      ],
      "execution_count": 49,
      "outputs": [
        {
          "output_type": "execute_result",
          "data": {
            "text/plain": [
              "<tf.Tensor: shape=(1, 1, 6), dtype=float32, numpy=array([[[0., 0., 0., 0., 0., 1.]]], dtype=float32)>"
            ]
          },
          "metadata": {
            "tags": []
          },
          "execution_count": 49
        }
      ]
    },
    {
      "cell_type": "code",
      "metadata": {
        "colab_type": "code",
        "id": "VMLQN5_oLHZy",
        "colab": {
          "base_uri": "https://localhost:8080/",
          "height": 0
        },
        "outputId": "e36380ae-2b74-4a24-f937-8627c53a6aef"
      },
      "source": [
        "# Q value\n",
        "Q = int_embedding(enc_tokens)\n",
        "Q"
      ],
      "execution_count": 50,
      "outputs": [
        {
          "output_type": "execute_result",
          "data": {
            "text/plain": [
              "<tf.Tensor: shape=(1, 6, 4), dtype=float32, numpy=\n",
              "array([[[0.2, 0.4, 0.8, 0.2],\n",
              "        [0.9, 0.9, 0.7, 0.9],\n",
              "        [0.2, 0.6, 0.5, 0.1],\n",
              "        [0.8, 0.5, 0.1, 0.6],\n",
              "        [0.6, 0.3, 0.6, 0.7],\n",
              "        [0.1, 0.7, 0.3, 0.1]]], dtype=float32)>"
            ]
          },
          "metadata": {
            "tags": []
          },
          "execution_count": 50
        }
      ]
    },
    {
      "cell_type": "code",
      "metadata": {
        "colab_type": "code",
        "id": "RwFCUjukLHZv",
        "colab": {}
      },
      "source": [
        "# Q, K, V 모두 동일한 값\n",
        "K = Q\n",
        "V = K"
      ],
      "execution_count": 51,
      "outputs": []
    },
    {
      "cell_type": "code",
      "metadata": {
        "colab_type": "code",
        "id": "usRoSZ1ZLHZ2",
        "colab": {
          "base_uri": "https://localhost:8080/",
          "height": 0
        },
        "outputId": "4ec27919-7360-4de8-8c6c-114647dde7c4"
      },
      "source": [
        "# attention score\n",
        "attention_score = tf.matmul(Q, K, transpose_b=True)\n",
        "attention_score"
      ],
      "execution_count": 52,
      "outputs": [
        {
          "output_type": "execute_result",
          "data": {
            "text/plain": [
              "<tf.Tensor: shape=(1, 6, 6), dtype=float32, numpy=\n",
              "array([[[0.88000005, 1.2799999 , 0.7       , 0.56000006, 0.86      ,\n",
              "         0.56      ],\n",
              "        [1.2799999 , 2.9199998 , 1.1600001 , 1.78      , 1.86      ,\n",
              "         1.02      ],\n",
              "        [0.7       , 1.1600001 , 0.65999997, 0.57000005, 0.67      ,\n",
              "         0.6       ],\n",
              "        [0.56000006, 1.78      , 0.57000005, 1.26      , 1.11      ,\n",
              "         0.52      ],\n",
              "        [0.86      , 1.86      , 0.67      , 1.11      , 1.3000001 ,\n",
              "         0.52000004],\n",
              "        [0.56      , 1.02      , 0.6       , 0.52      , 0.52000004,\n",
              "         0.59999996]]], dtype=float32)>"
            ]
          },
          "metadata": {
            "tags": []
          },
          "execution_count": 52
        }
      ]
    },
    {
      "cell_type": "code",
      "metadata": {
        "colab_type": "code",
        "id": "zi_Kr39mLHZ3",
        "colab": {
          "base_uri": "https://localhost:8080/",
          "height": 0
        },
        "outputId": "f8e6fd34-f242-426c-a91c-09779c9303ce"
      },
      "source": [
        "# scale 계산\n",
        "scale = tf.math.sqrt(tf.cast(tf.shape(K)[-1], tf.float32))\n",
        "scale"
      ],
      "execution_count": 53,
      "outputs": [
        {
          "output_type": "execute_result",
          "data": {
            "text/plain": [
              "<tf.Tensor: shape=(), dtype=float32, numpy=2.0>"
            ]
          },
          "metadata": {
            "tags": []
          },
          "execution_count": 53
        }
      ]
    },
    {
      "cell_type": "code",
      "metadata": {
        "colab_type": "code",
        "id": "tNfrVcGzLHZ5",
        "colab": {
          "base_uri": "https://localhost:8080/",
          "height": 0
        },
        "outputId": "5768631a-0a6e-45db-f160-a5959180c736"
      },
      "source": [
        "# attention_score를 scale로 나눔\n",
        "attention_scaled = tf.math.divide(attention_score, scale)\n",
        "attention_scaled"
      ],
      "execution_count": 54,
      "outputs": [
        {
          "output_type": "execute_result",
          "data": {
            "text/plain": [
              "<tf.Tensor: shape=(1, 6, 6), dtype=float32, numpy=\n",
              "array([[[0.44000003, 0.6399999 , 0.35      , 0.28000003, 0.43      ,\n",
              "         0.28      ],\n",
              "        [0.6399999 , 1.4599999 , 0.58000004, 0.89      , 0.93      ,\n",
              "         0.51      ],\n",
              "        [0.35      , 0.58000004, 0.32999998, 0.28500003, 0.335     ,\n",
              "         0.3       ],\n",
              "        [0.28000003, 0.89      , 0.28500003, 0.63      , 0.555     ,\n",
              "         0.26      ],\n",
              "        [0.43      , 0.93      , 0.335     , 0.555     , 0.65000004,\n",
              "         0.26000002],\n",
              "        [0.28      , 0.51      , 0.3       , 0.26      , 0.26000002,\n",
              "         0.29999998]]], dtype=float32)>"
            ]
          },
          "metadata": {
            "tags": []
          },
          "execution_count": 54
        }
      ]
    },
    {
      "cell_type": "code",
      "metadata": {
        "colab_type": "code",
        "id": "x8eR3vsDLHZ-",
        "colab": {
          "base_uri": "https://localhost:8080/",
          "height": 0
        },
        "outputId": "56221d4c-ff18-4cf0-8c2c-3f79dd34c2ff"
      },
      "source": [
        "# mask 해야할 부분이 매우 큰 음수를 뺌\n",
        "attention_masked = attention_scaled - 1.e9 * enc_self_mask\n",
        "attention_masked"
      ],
      "execution_count": 55,
      "outputs": [
        {
          "output_type": "execute_result",
          "data": {
            "text/plain": [
              "<tf.Tensor: shape=(1, 6, 6), dtype=float32, numpy=\n",
              "array([[[ 4.4000003e-01,  6.3999993e-01,  3.4999999e-01,  2.8000003e-01,\n",
              "          4.3000001e-01, -1.0000000e+09],\n",
              "        [ 6.3999993e-01,  1.4599999e+00,  5.8000004e-01,  8.8999999e-01,\n",
              "          9.3000001e-01, -1.0000000e+09],\n",
              "        [ 3.4999999e-01,  5.8000004e-01,  3.2999998e-01,  2.8500003e-01,\n",
              "          3.3500001e-01, -1.0000000e+09],\n",
              "        [ 2.8000003e-01,  8.8999999e-01,  2.8500003e-01,  6.3000000e-01,\n",
              "          5.5500001e-01, -1.0000000e+09],\n",
              "        [ 4.3000001e-01,  9.3000001e-01,  3.3500001e-01,  5.5500001e-01,\n",
              "          6.5000004e-01, -1.0000000e+09],\n",
              "        [ 2.8000000e-01,  5.0999999e-01,  3.0000001e-01,  2.5999999e-01,\n",
              "          2.6000002e-01, -1.0000000e+09]]], dtype=float32)>"
            ]
          },
          "metadata": {
            "tags": []
          },
          "execution_count": 55
        }
      ]
    },
    {
      "cell_type": "code",
      "metadata": {
        "colab_type": "code",
        "id": "K8XQ3oVsLHZ_",
        "colab": {
          "base_uri": "https://localhost:8080/",
          "height": 0
        },
        "outputId": "919c13d9-c958-4b87-80da-8cc424d2019b"
      },
      "source": [
        "# attention 확률분포 계산\n",
        "attention_prob = tf.nn.softmax(attention_masked, axis=-1)\n",
        "attention_prob"
      ],
      "execution_count": 56,
      "outputs": [
        {
          "output_type": "execute_result",
          "data": {
            "text/plain": [
              "<tf.Tensor: shape=(1, 6, 6), dtype=float32, numpy=\n",
              "array([[[0.20090295, 0.2453834 , 0.18361147, 0.17119819, 0.19890393,\n",
              "         0.        ],\n",
              "        [0.14635466, 0.33229822, 0.13783163, 0.18792309, 0.1955924 ,\n",
              "         0.        ],\n",
              "        [0.19376172, 0.24386853, 0.18992499, 0.18156782, 0.19087699,\n",
              "         0.        ],\n",
              "        [0.15195161, 0.2796565 , 0.15271327, 0.21562959, 0.20004895,\n",
              "         0.        ],\n",
              "        [0.16842617, 0.27768782, 0.1531622 , 0.19085185, 0.20987193,\n",
              "         0.        ],\n",
              "        [0.19086887, 0.24022757, 0.19472468, 0.18708941, 0.18708941,\n",
              "         0.        ]]], dtype=float32)>"
            ]
          },
          "metadata": {
            "tags": []
          },
          "execution_count": 56
        }
      ]
    },
    {
      "cell_type": "code",
      "metadata": {
        "colab_type": "code",
        "id": "G5ooI4b0LHaB",
        "colab": {
          "base_uri": "https://localhost:8080/",
          "height": 0
        },
        "outputId": "d5237896-9e73-410f-83bf-d7eec18a90ee"
      },
      "source": [
        "# attention output 계산\n",
        "attention_output = tf.matmul(attention_prob, V)\n",
        "attention_output"
      ],
      "execution_count": 57,
      "outputs": [
        {
          "output_type": "execute_result",
          "data": {
            "text/plain": [
              "<tf.Tensor: shape=(1, 6, 4), dtype=float32, numpy=\n",
              "array([[[0.5540489 , 0.55664337, 0.56075865, 0.52133846],\n",
              "        [0.6235995 , 0.5929485 , 0.55475605, 0.59179103],\n",
              "        [0.5559995 , 0.5589884 , 0.5533628 , 0.5197811 ],\n",
              "        [0.6051569 , 0.5719289 , 0.5352698 , 0.56676453],\n",
              "        [0.5928414 , 0.5675743 , 0.55071187, 0.56034195],\n",
              "        [0.55524874, 0.5590587 , 0.5491793 , 0.5170673 ]]], dtype=float32)>"
            ]
          },
          "metadata": {
            "tags": []
          },
          "execution_count": 57
        }
      ]
    },
    {
      "cell_type": "markdown",
      "metadata": {
        "colab_type": "text",
        "id": "UP9HqezULHaC"
      },
      "source": [
        "### Class"
      ]
    },
    {
      "cell_type": "code",
      "metadata": {
        "colab_type": "code",
        "id": "gh5Ya0LwLHaC",
        "colab": {}
      },
      "source": [
        "class ScaleDotProductAttention(tf.keras.layers.Layer):\n",
        "    \"\"\"\n",
        "    Scale Dot Product Attention Class\n",
        "    \"\"\"\n",
        "    def __init__(self, name=\"scale_dot_product_attention\"):\n",
        "        \"\"\"\n",
        "        생성자\n",
        "        :param name: layer name\n",
        "        \"\"\"\n",
        "        super().__init__(name=name)\n",
        "\n",
        "    def call(self, Q, K, V, attn_mask):\n",
        "        \"\"\"\n",
        "        layer 실행\n",
        "        :param Q: Q value\n",
        "        :param K: K value\n",
        "        :param V: V value\n",
        "        :param attn_mask: 실행 모드\n",
        "        :return attn_out: attention 실행 결과\n",
        "        \"\"\"\n",
        "        attn_score = tf.matmul(Q, K, transpose_b=True)\n",
        "        scale = tf.math.sqrt(tf.cast(tf.shape(K)[-1], tf.float32))\n",
        "        attn_scale = tf.math.divide(attn_score, scale)\n",
        "        attn_scale -= 1.e9 * attn_mask\n",
        "        attn_prob = tf.nn.softmax(attn_scale, axis=-1)\n",
        "        attn_out = tf.matmul(attn_prob, V)\n",
        "        return attn_out"
      ],
      "execution_count": 58,
      "outputs": []
    },
    {
      "cell_type": "markdown",
      "metadata": {
        "colab_type": "text",
        "id": "QJ4wDtrPLHaE"
      },
      "source": [
        "### Test"
      ]
    },
    {
      "cell_type": "code",
      "metadata": {
        "colab_type": "code",
        "id": "uzMyTIFrLHaE",
        "colab": {
          "base_uri": "https://localhost:8080/",
          "height": 0
        },
        "outputId": "89cca6cf-b86c-47b8-bf7f-8822eb9b49a8"
      },
      "source": [
        "# ScaleDotProductAttention 클래스 기능 확인\n",
        "attention = ScaleDotProductAttention()\n",
        "\n",
        "attn_out = attention(Q, K, V, enc_self_mask)\n",
        "# class 값과 직접 계산한 attention_output과 동일하면 정상\n",
        "assert np.array_equal(attention_output, attn_out)\n",
        "attn_out"
      ],
      "execution_count": 59,
      "outputs": [
        {
          "output_type": "execute_result",
          "data": {
            "text/plain": [
              "<tf.Tensor: shape=(1, 6, 4), dtype=float32, numpy=\n",
              "array([[[0.5540489 , 0.55664337, 0.56075865, 0.52133846],\n",
              "        [0.6235995 , 0.5929485 , 0.55475605, 0.59179103],\n",
              "        [0.5559995 , 0.5589884 , 0.5533628 , 0.5197811 ],\n",
              "        [0.6051569 , 0.5719289 , 0.5352698 , 0.56676453],\n",
              "        [0.5928414 , 0.5675743 , 0.55071187, 0.56034195],\n",
              "        [0.55524874, 0.5590587 , 0.5491793 , 0.5170673 ]]], dtype=float32)>"
            ]
          },
          "metadata": {
            "tags": []
          },
          "execution_count": 59
        }
      ]
    },
    {
      "cell_type": "markdown",
      "metadata": {
        "id": "ZZYToSV7yRVF",
        "colab_type": "text"
      },
      "source": [
        "## Scaled dot product attention (Decoder Masked Self Attentio)\n",
        "\n",
        "![](https://paul-hyun.github.io/assets/transformer/scaled_dot_attention_decoder.png)"
      ]
    },
    {
      "cell_type": "markdown",
      "metadata": {
        "id": "VlhvQ5TcKlp_",
        "colab_type": "text"
      },
      "source": [
        "### Tutorial"
      ]
    },
    {
      "cell_type": "code",
      "metadata": {
        "id": "t2vVkvAQ099L",
        "colab_type": "code",
        "colab": {
          "base_uri": "https://localhost:8080/",
          "height": 0
        },
        "outputId": "f6e9ce6f-fa46-4ee6-dbeb-21bf3943fcd0"
      },
      "source": [
        "# ahead mask 계산\n",
        "dec_self_mask = get_ahead_mask(dec_tokens)\n",
        "dec_self_mask"
      ],
      "execution_count": 60,
      "outputs": [
        {
          "output_type": "execute_result",
          "data": {
            "text/plain": [
              "<tf.Tensor: shape=(1, 5, 5), dtype=float32, numpy=\n",
              "array([[[0., 1., 1., 1., 1.],\n",
              "        [0., 0., 1., 1., 1.],\n",
              "        [0., 0., 0., 1., 1.],\n",
              "        [0., 0., 0., 0., 1.],\n",
              "        [0., 0., 0., 0., 1.]]], dtype=float32)>"
            ]
          },
          "metadata": {
            "tags": []
          },
          "execution_count": 60
        }
      ]
    },
    {
      "cell_type": "code",
      "metadata": {
        "id": "BHDRgT9sY9XN",
        "colab_type": "code",
        "colab": {
          "base_uri": "https://localhost:8080/",
          "height": 0
        },
        "outputId": "519b647e-d440-4da6-ab4a-cb20d0c838d7"
      },
      "source": [
        "# Q\n",
        "Q = int_embedding(dec_tokens)\n",
        "Q"
      ],
      "execution_count": 61,
      "outputs": [
        {
          "output_type": "execute_result",
          "data": {
            "text/plain": [
              "<tf.Tensor: shape=(1, 5, 4), dtype=float32, numpy=\n",
              "array([[[0.7, 0.4, 0.2, 0.3],\n",
              "        [0.9, 0.9, 0.7, 0.9],\n",
              "        [0.6, 0.3, 0.6, 0.7],\n",
              "        [0.6, 0.3, 0.7, 0.4],\n",
              "        [0.1, 0.7, 0.3, 0.1]]], dtype=float32)>"
            ]
          },
          "metadata": {
            "tags": []
          },
          "execution_count": 61
        }
      ]
    },
    {
      "cell_type": "code",
      "metadata": {
        "id": "68Vh6DMK2rUH",
        "colab_type": "code",
        "colab": {}
      },
      "source": [
        "# Q, K, V는 모두 같음\n",
        "K = Q\n",
        "V = K"
      ],
      "execution_count": 62,
      "outputs": []
    },
    {
      "cell_type": "code",
      "metadata": {
        "id": "6VdnLr0k2Q0t",
        "colab_type": "code",
        "colab": {
          "base_uri": "https://localhost:8080/",
          "height": 0
        },
        "outputId": "a28dde34-47c6-416c-dc69-b4bfc23b784f"
      },
      "source": [
        "# attention score 계산\n",
        "attention_score = tf.matmul(Q, K, transpose_b=True)\n",
        "attention_score"
      ],
      "execution_count": 63,
      "outputs": [
        {
          "output_type": "execute_result",
          "data": {
            "text/plain": [
              "<tf.Tensor: shape=(1, 5, 5), dtype=float32, numpy=\n",
              "array([[[0.78      , 1.4       , 0.87      , 0.8       , 0.44      ],\n",
              "        [1.4       , 2.9199998 , 1.86      , 1.6600001 , 1.02      ],\n",
              "        [0.87      , 1.86      , 1.3000001 , 1.15      , 0.52000004],\n",
              "        [0.8       , 1.6600001 , 1.15      , 1.1       , 0.52000004],\n",
              "        [0.44      , 1.02      , 0.52000004, 0.52000004, 0.59999996]]],\n",
              "      dtype=float32)>"
            ]
          },
          "metadata": {
            "tags": []
          },
          "execution_count": 63
        }
      ]
    },
    {
      "cell_type": "code",
      "metadata": {
        "id": "84tkL_dr2V21",
        "colab_type": "code",
        "colab": {
          "base_uri": "https://localhost:8080/",
          "height": 0
        },
        "outputId": "50fa1609-98c2-4c35-8c24-38f33ceef479"
      },
      "source": [
        "# attention score를 scal로 나눔\n",
        "attention_scaled = tf.math.divide(attention_score, scale)\n",
        "attention_scaled"
      ],
      "execution_count": 64,
      "outputs": [
        {
          "output_type": "execute_result",
          "data": {
            "text/plain": [
              "<tf.Tensor: shape=(1, 5, 5), dtype=float32, numpy=\n",
              "array([[[0.39      , 0.7       , 0.435     , 0.4       , 0.22      ],\n",
              "        [0.7       , 1.4599999 , 0.93      , 0.83000004, 0.51      ],\n",
              "        [0.435     , 0.93      , 0.65000004, 0.575     , 0.26000002],\n",
              "        [0.4       , 0.83000004, 0.575     , 0.55      , 0.26000002],\n",
              "        [0.22      , 0.51      , 0.26000002, 0.26000002, 0.29999998]]],\n",
              "      dtype=float32)>"
            ]
          },
          "metadata": {
            "tags": []
          },
          "execution_count": 64
        }
      ]
    },
    {
      "cell_type": "code",
      "metadata": {
        "id": "dBK4CDoZ2ZR2",
        "colab_type": "code",
        "colab": {
          "base_uri": "https://localhost:8080/",
          "height": 0
        },
        "outputId": "c7d747b9-44b9-4365-dc80-1124bcdf2846"
      },
      "source": [
        "# mask 해야할 부분이 매우 큰 음수를 뺌\n",
        "attention_masked = attention_scaled - 1.e9 * dec_self_mask\n",
        "attention_masked"
      ],
      "execution_count": 65,
      "outputs": [
        {
          "output_type": "execute_result",
          "data": {
            "text/plain": [
              "<tf.Tensor: shape=(1, 5, 5), dtype=float32, numpy=\n",
              "array([[[ 3.8999999e-01, -1.0000000e+09, -1.0000000e+09, -1.0000000e+09,\n",
              "         -1.0000000e+09],\n",
              "        [ 6.9999999e-01,  1.4599999e+00, -1.0000000e+09, -1.0000000e+09,\n",
              "         -1.0000000e+09],\n",
              "        [ 4.3500000e-01,  9.3000001e-01,  6.5000004e-01, -1.0000000e+09,\n",
              "         -1.0000000e+09],\n",
              "        [ 4.0000001e-01,  8.3000004e-01,  5.7499999e-01,  5.5000001e-01,\n",
              "         -1.0000000e+09],\n",
              "        [ 2.2000000e-01,  5.0999999e-01,  2.6000002e-01,  2.6000002e-01,\n",
              "         -1.0000000e+09]]], dtype=float32)>"
            ]
          },
          "metadata": {
            "tags": []
          },
          "execution_count": 65
        }
      ]
    },
    {
      "cell_type": "code",
      "metadata": {
        "id": "TmBbfOfq2dnU",
        "colab_type": "code",
        "colab": {
          "base_uri": "https://localhost:8080/",
          "height": 0
        },
        "outputId": "9e4db982-ff08-484a-e550-a7a69dee2b16"
      },
      "source": [
        "# attention 확률분포 계산\n",
        "attention_prob = tf.nn.softmax(attention_masked, axis=-1)\n",
        "attention_prob"
      ],
      "execution_count": 66,
      "outputs": [
        {
          "output_type": "execute_result",
          "data": {
            "text/plain": [
              "<tf.Tensor: shape=(1, 5, 5), dtype=float32, numpy=\n",
              "array([[[1.        , 0.        , 0.        , 0.        , 0.        ],\n",
              "        [0.31864628, 0.68135375, 0.        , 0.        , 0.        ],\n",
              "        [0.25770804, 0.42276955, 0.31952235, 0.        , 0.        ],\n",
              "        [0.20448484, 0.31434587, 0.24359179, 0.23757747, 0.        ],\n",
              "        [0.22634424, 0.30249268, 0.23558153, 0.23558153, 0.        ]]],\n",
              "      dtype=float32)>"
            ]
          },
          "metadata": {
            "tags": []
          },
          "execution_count": 66
        }
      ]
    },
    {
      "cell_type": "code",
      "metadata": {
        "id": "5n9pOBvR3NkG",
        "colab_type": "code",
        "colab": {
          "base_uri": "https://localhost:8080/",
          "height": 0
        },
        "outputId": "cfdbf8f2-e9be-4129-a496-1d6d4b9e811a"
      },
      "source": [
        "# attention output 계산\n",
        "attention_output = tf.matmul(attention_prob, V)\n",
        "attention_output"
      ],
      "execution_count": 67,
      "outputs": [
        {
          "output_type": "execute_result",
          "data": {
            "text/plain": [
              "<tf.Tensor: shape=(1, 5, 4), dtype=float32, numpy=\n",
              "array([[[0.7       , 0.4       , 0.2       , 0.3       ],\n",
              "        [0.83627075, 0.7406769 , 0.5406769 , 0.70881224],\n",
              "        [0.7526016 , 0.5794325 , 0.5391937 , 0.68147063],\n",
              "        [0.7147522 , 0.509056  , 0.57339835, 0.60980195],\n",
              "        [0.71338224, 0.50413   , 0.56326973, 0.5992864 ]]], dtype=float32)>"
            ]
          },
          "metadata": {
            "tags": []
          },
          "execution_count": 67
        }
      ]
    },
    {
      "cell_type": "markdown",
      "metadata": {
        "id": "O33u8_SWKrH4",
        "colab_type": "text"
      },
      "source": [
        "### Test"
      ]
    },
    {
      "cell_type": "code",
      "metadata": {
        "id": "FeBoulyk2Ij3",
        "colab_type": "code",
        "colab": {
          "base_uri": "https://localhost:8080/",
          "height": 0
        },
        "outputId": "f2170988-ed44-4e83-cfdb-20b1d24b41e1"
      },
      "source": [
        "# ScaleDotProductAttention 클래스 기능 확인\n",
        "attention = ScaleDotProductAttention()\n",
        "\n",
        "attn_out = attention(Q, K, V, dec_self_mask)\n",
        "# class 값과 직접 계산한 attention_output과 동일하면 정상\n",
        "assert np.array_equal(attention_output, attn_out)\n",
        "attn_out"
      ],
      "execution_count": 68,
      "outputs": [
        {
          "output_type": "execute_result",
          "data": {
            "text/plain": [
              "<tf.Tensor: shape=(1, 5, 4), dtype=float32, numpy=\n",
              "array([[[0.7       , 0.4       , 0.2       , 0.3       ],\n",
              "        [0.83627075, 0.7406769 , 0.5406769 , 0.70881224],\n",
              "        [0.7526016 , 0.5794325 , 0.5391937 , 0.68147063],\n",
              "        [0.7147522 , 0.509056  , 0.57339835, 0.60980195],\n",
              "        [0.71338224, 0.50413   , 0.56326973, 0.5992864 ]]], dtype=float32)>"
            ]
          },
          "metadata": {
            "tags": []
          },
          "execution_count": 68
        }
      ]
    },
    {
      "cell_type": "markdown",
      "metadata": {
        "id": "oPBEA8FAl39-",
        "colab_type": "text"
      },
      "source": [
        "## Scaled dot product attention (Encoder Decoder Attention)\n",
        "\n",
        "![](https://paul-hyun.github.io/assets/transformer/scaled_dot_attention_ende.png)"
      ]
    },
    {
      "cell_type": "markdown",
      "metadata": {
        "id": "64BhMxZ4KUI1",
        "colab_type": "text"
      },
      "source": [
        "### Tutorial"
      ]
    },
    {
      "cell_type": "code",
      "metadata": {
        "id": "UZMU3cCBplu5",
        "colab_type": "code",
        "colab": {
          "base_uri": "https://localhost:8080/",
          "height": 0
        },
        "outputId": "1bfa9971-a977-4264-e2b2-08e49f849b96"
      },
      "source": [
        "# K pad mask\n",
        "ende_attn_mask = get_pad_mask(enc_tokens)\n",
        "ende_attn_mask"
      ],
      "execution_count": 69,
      "outputs": [
        {
          "output_type": "execute_result",
          "data": {
            "text/plain": [
              "<tf.Tensor: shape=(1, 1, 6), dtype=float32, numpy=array([[[0., 0., 0., 0., 0., 1.]]], dtype=float32)>"
            ]
          },
          "metadata": {
            "tags": []
          },
          "execution_count": 69
        }
      ]
    },
    {
      "cell_type": "code",
      "metadata": {
        "id": "P6Y713Sw59_3",
        "colab_type": "code",
        "colab": {
          "base_uri": "https://localhost:8080/",
          "height": 0
        },
        "outputId": "a334caa8-b3b7-4147-c108-7c7a6d7a0a5a"
      },
      "source": [
        "Q = int_embedding(dec_tokens)\n",
        "Q"
      ],
      "execution_count": 70,
      "outputs": [
        {
          "output_type": "execute_result",
          "data": {
            "text/plain": [
              "<tf.Tensor: shape=(1, 5, 4), dtype=float32, numpy=\n",
              "array([[[0.7, 0.4, 0.2, 0.3],\n",
              "        [0.9, 0.9, 0.7, 0.9],\n",
              "        [0.6, 0.3, 0.6, 0.7],\n",
              "        [0.6, 0.3, 0.7, 0.4],\n",
              "        [0.1, 0.7, 0.3, 0.1]]], dtype=float32)>"
            ]
          },
          "metadata": {
            "tags": []
          },
          "execution_count": 70
        }
      ]
    },
    {
      "cell_type": "code",
      "metadata": {
        "id": "l4Zm-xaC5l13",
        "colab_type": "code",
        "colab": {
          "base_uri": "https://localhost:8080/",
          "height": 0
        },
        "outputId": "c2c8de88-ee32-4398-8147-5c17c703a16a"
      },
      "source": [
        "K = int_embedding(enc_tokens)\n",
        "V = K\n",
        "K"
      ],
      "execution_count": 71,
      "outputs": [
        {
          "output_type": "execute_result",
          "data": {
            "text/plain": [
              "<tf.Tensor: shape=(1, 6, 4), dtype=float32, numpy=\n",
              "array([[[0.2, 0.4, 0.8, 0.2],\n",
              "        [0.9, 0.9, 0.7, 0.9],\n",
              "        [0.2, 0.6, 0.5, 0.1],\n",
              "        [0.8, 0.5, 0.1, 0.6],\n",
              "        [0.6, 0.3, 0.6, 0.7],\n",
              "        [0.1, 0.7, 0.3, 0.1]]], dtype=float32)>"
            ]
          },
          "metadata": {
            "tags": []
          },
          "execution_count": 71
        }
      ]
    },
    {
      "cell_type": "code",
      "metadata": {
        "id": "5Xfr2fWUpu2M",
        "colab_type": "code",
        "colab": {
          "base_uri": "https://localhost:8080/",
          "height": 0
        },
        "outputId": "ebdc3205-3cce-409b-984c-7434ff2a68cf"
      },
      "source": [
        "# attention score\n",
        "attention_score = tf.matmul(Q, K, transpose_b=True)\n",
        "attention_score"
      ],
      "execution_count": 72,
      "outputs": [
        {
          "output_type": "execute_result",
          "data": {
            "text/plain": [
              "<tf.Tensor: shape=(1, 5, 6), dtype=float32, numpy=\n",
              "array([[[0.52000004, 1.4       , 0.51      , 0.96      , 0.87      ,\n",
              "         0.44      ],\n",
              "        [1.2799999 , 2.9199998 , 1.1600001 , 1.78      , 1.86      ,\n",
              "         1.02      ],\n",
              "        [0.86      , 1.86      , 0.67      , 1.11      , 1.3000001 ,\n",
              "         0.52000004],\n",
              "        [0.88      , 1.6600001 , 0.69      , 0.94      , 1.15      ,\n",
              "         0.52000004],\n",
              "        [0.56      , 1.02      , 0.6       , 0.52      , 0.52000004,\n",
              "         0.59999996]]], dtype=float32)>"
            ]
          },
          "metadata": {
            "tags": []
          },
          "execution_count": 72
        }
      ]
    },
    {
      "cell_type": "code",
      "metadata": {
        "id": "-wCXHWVgp2KI",
        "colab_type": "code",
        "colab": {
          "base_uri": "https://localhost:8080/",
          "height": 0
        },
        "outputId": "9a2d2fcb-be7c-4f20-fe41-17d086650362"
      },
      "source": [
        "# scale 계산\n",
        "scale = tf.math.sqrt(tf.cast(tf.shape(K)[-1], tf.float32))\n",
        "scale"
      ],
      "execution_count": 73,
      "outputs": [
        {
          "output_type": "execute_result",
          "data": {
            "text/plain": [
              "<tf.Tensor: shape=(), dtype=float32, numpy=2.0>"
            ]
          },
          "metadata": {
            "tags": []
          },
          "execution_count": 73
        }
      ]
    },
    {
      "cell_type": "code",
      "metadata": {
        "id": "yz1ULURnqCQg",
        "colab_type": "code",
        "colab": {
          "base_uri": "https://localhost:8080/",
          "height": 0
        },
        "outputId": "5fb0472a-0cde-4a19-ad5c-4e64c5863c69"
      },
      "source": [
        "# attention_score를 scale로 나눔\n",
        "attention_scaled = tf.math.divide(attention_score, scale)\n",
        "attention_scaled"
      ],
      "execution_count": 74,
      "outputs": [
        {
          "output_type": "execute_result",
          "data": {
            "text/plain": [
              "<tf.Tensor: shape=(1, 5, 6), dtype=float32, numpy=\n",
              "array([[[0.26000002, 0.7       , 0.255     , 0.48      , 0.435     ,\n",
              "         0.22      ],\n",
              "        [0.6399999 , 1.4599999 , 0.58000004, 0.89      , 0.93      ,\n",
              "         0.51      ],\n",
              "        [0.43      , 0.93      , 0.335     , 0.555     , 0.65000004,\n",
              "         0.26000002],\n",
              "        [0.44      , 0.83000004, 0.345     , 0.47      , 0.575     ,\n",
              "         0.26000002],\n",
              "        [0.28      , 0.51      , 0.3       , 0.26      , 0.26000002,\n",
              "         0.29999998]]], dtype=float32)>"
            ]
          },
          "metadata": {
            "tags": []
          },
          "execution_count": 74
        }
      ]
    },
    {
      "cell_type": "code",
      "metadata": {
        "id": "8sn-fgrBsKdv",
        "colab_type": "code",
        "colab": {
          "base_uri": "https://localhost:8080/",
          "height": 0
        },
        "outputId": "b9674442-9104-4435-8875-c20b4ba44100"
      },
      "source": [
        "# mask 해야할 부분이 매우 큰 음수를 뺌\n",
        "attention_masked = attention_scaled - 1.e9 * ende_attn_mask\n",
        "attention_masked"
      ],
      "execution_count": 75,
      "outputs": [
        {
          "output_type": "execute_result",
          "data": {
            "text/plain": [
              "<tf.Tensor: shape=(1, 5, 6), dtype=float32, numpy=\n",
              "array([[[ 2.6000002e-01,  6.9999999e-01,  2.5500000e-01,  4.7999999e-01,\n",
              "          4.3500000e-01, -1.0000000e+09],\n",
              "        [ 6.3999993e-01,  1.4599999e+00,  5.8000004e-01,  8.8999999e-01,\n",
              "          9.3000001e-01, -1.0000000e+09],\n",
              "        [ 4.3000001e-01,  9.3000001e-01,  3.3500001e-01,  5.5500001e-01,\n",
              "          6.5000004e-01, -1.0000000e+09],\n",
              "        [ 4.4000000e-01,  8.3000004e-01,  3.4500000e-01,  4.7000000e-01,\n",
              "          5.7499999e-01, -1.0000000e+09],\n",
              "        [ 2.8000000e-01,  5.0999999e-01,  3.0000001e-01,  2.5999999e-01,\n",
              "          2.6000002e-01, -1.0000000e+09]]], dtype=float32)>"
            ]
          },
          "metadata": {
            "tags": []
          },
          "execution_count": 75
        }
      ]
    },
    {
      "cell_type": "code",
      "metadata": {
        "id": "ZjKnrJIYsabT",
        "colab_type": "code",
        "colab": {
          "base_uri": "https://localhost:8080/",
          "height": 0
        },
        "outputId": "d61a3d3a-6e9c-4f25-e00c-2a30f95da9ea"
      },
      "source": [
        "# attention 확률분포 계산\n",
        "attention_prob = tf.nn.softmax(attention_masked, axis=-1)\n",
        "attention_prob"
      ],
      "execution_count": 76,
      "outputs": [
        {
          "output_type": "execute_result",
          "data": {
            "text/plain": [
              "<tf.Tensor: shape=(1, 5, 6), dtype=float32, numpy=\n",
              "array([[[0.16708319, 0.25943127, 0.16624986, 0.20819847, 0.19903722,\n",
              "         0.        ],\n",
              "        [0.14635466, 0.33229822, 0.13783163, 0.18792309, 0.1955924 ,\n",
              "         0.        ],\n",
              "        [0.16842617, 0.27768782, 0.1531622 , 0.19085185, 0.20987193,\n",
              "         0.        ],\n",
              "        [0.17981261, 0.2655798 , 0.16351672, 0.18528873, 0.20580216,\n",
              "         0.        ],\n",
              "        [0.19086887, 0.24022757, 0.19472468, 0.18708941, 0.18708941,\n",
              "         0.        ]]], dtype=float32)>"
            ]
          },
          "metadata": {
            "tags": []
          },
          "execution_count": 76
        }
      ]
    },
    {
      "cell_type": "code",
      "metadata": {
        "id": "dkYVG5hxsjel",
        "colab_type": "code",
        "colab": {
          "base_uri": "https://localhost:8080/",
          "height": 0
        },
        "outputId": "d2b7ed1e-c548-4c01-ee39-fcd451659a2e"
      },
      "source": [
        "# attention output 계산\n",
        "attention_output = tf.matmul(attention_prob, V)\n",
        "attention_output"
      ],
      "execution_count": 77,
      "outputs": [
        {
          "output_type": "execute_result",
          "data": {
            "text/plain": [
              "<tf.Tensor: shape=(1, 5, 4), dtype=float32, numpy=\n",
              "array([[[0.58613586, 0.56388175, 0.5386356 , 0.5477749 ],\n",
              "        [0.6235995 , 0.5929485 , 0.55475605, 0.59179103],\n",
              "        [0.5928414 , 0.5675743 , 0.55071187, 0.56034195],\n",
              "        [0.57939994, 0.5634419 , 0.55352443, 0.5465708 ],\n",
              "        [0.55524874, 0.5590587 , 0.5491793 , 0.5170673 ]]], dtype=float32)>"
            ]
          },
          "metadata": {
            "tags": []
          },
          "execution_count": 77
        }
      ]
    },
    {
      "cell_type": "markdown",
      "metadata": {
        "id": "SbQ-4OZ2KdbH",
        "colab_type": "text"
      },
      "source": [
        "### Test"
      ]
    },
    {
      "cell_type": "code",
      "metadata": {
        "id": "41x0arlEwnFJ",
        "colab_type": "code",
        "colab": {
          "base_uri": "https://localhost:8080/",
          "height": 0
        },
        "outputId": "0e03e1e0-dc59-4db8-a735-b511e8c12d2b"
      },
      "source": [
        "# ScaleDotProductAttention 클래스 기능 확인\n",
        "attention = ScaleDotProductAttention()\n",
        "\n",
        "attn_out = attention(Q, K, V, ende_attn_mask)\n",
        "# class 값과 직접 계산한 attention_output과 동일하면 정상\n",
        "assert np.array_equal(attention_output, attn_out)\n",
        "attn_out"
      ],
      "execution_count": 78,
      "outputs": [
        {
          "output_type": "execute_result",
          "data": {
            "text/plain": [
              "<tf.Tensor: shape=(1, 5, 4), dtype=float32, numpy=\n",
              "array([[[0.58613586, 0.56388175, 0.5386356 , 0.5477749 ],\n",
              "        [0.6235995 , 0.5929485 , 0.55475605, 0.59179103],\n",
              "        [0.5928414 , 0.5675743 , 0.55071187, 0.56034195],\n",
              "        [0.57939994, 0.5634419 , 0.55352443, 0.5465708 ],\n",
              "        [0.55524874, 0.5590587 , 0.5491793 , 0.5170673 ]]], dtype=float32)>"
            ]
          },
          "metadata": {
            "tags": []
          },
          "execution_count": 78
        }
      ]
    },
    {
      "cell_type": "markdown",
      "metadata": {
        "id": "sc0xdcL-6ZZl",
        "colab_type": "text"
      },
      "source": [
        "## Multi Head Attention\n",
        "\n",
        "![](https://paul-hyun.github.io/assets/transformer/multihead_attention.png)"
      ]
    },
    {
      "cell_type": "markdown",
      "metadata": {
        "id": "W_ks6mcOKzow",
        "colab_type": "text"
      },
      "source": [
        "### Tutorial"
      ]
    },
    {
      "cell_type": "code",
      "metadata": {
        "id": "VGCkd7u65dBq",
        "colab_type": "code",
        "colab": {}
      },
      "source": [
        "# SharedEmbedding\n",
        "embedding = SharedEmbedding(config)"
      ],
      "execution_count": 79,
      "outputs": []
    },
    {
      "cell_type": "code",
      "metadata": {
        "id": "tgRVy_TacLgU",
        "colab_type": "code",
        "colab": {
          "base_uri": "https://localhost:8080/",
          "height": 0
        },
        "outputId": "ae32d4ea-add6-4fe4-a97e-ca50a31d340e"
      },
      "source": [
        "# Q\n",
        "Q = embedding(dec_tokens)\n",
        "Q"
      ],
      "execution_count": 80,
      "outputs": [
        {
          "output_type": "execute_result",
          "data": {
            "text/plain": [
              "<tf.Tensor: shape=(1, 5, 8), dtype=float32, numpy=\n",
              "array([[[-1.8684977 , -0.10887106, -1.6283252 , -0.09412991,\n",
              "         -0.9135378 , -0.5230187 ,  0.18054976,  1.0659311 ],\n",
              "        [-1.851637  , -0.52205473, -1.1127012 ,  0.556745  ,\n",
              "         -1.2216276 ,  0.70823485, -0.7989583 , -0.48866653],\n",
              "        [-0.20390666,  0.557556  , -0.40127853,  0.23037532,\n",
              "          0.02648634, -1.6108699 , -0.32580003, -0.3013221 ],\n",
              "        [ 0.8284642 ,  1.1036007 , -0.78627795,  1.6918567 ,\n",
              "         -0.34767905,  1.3073093 ,  0.2444622 , -0.7029787 ],\n",
              "        [-0.3198804 ,  1.3575249 , -0.15776914,  0.5804112 ,\n",
              "          0.4537885 ,  0.9504126 ,  1.6937656 ,  1.2484983 ]]],\n",
              "      dtype=float32)>"
            ]
          },
          "metadata": {
            "tags": []
          },
          "execution_count": 80
        }
      ]
    },
    {
      "cell_type": "code",
      "metadata": {
        "id": "5UlS_GDGCchP",
        "colab_type": "code",
        "colab": {
          "base_uri": "https://localhost:8080/",
          "height": 0
        },
        "outputId": "597def86-190b-4e0e-ac52-401f0f4b7e13"
      },
      "source": [
        "# K, V\n",
        "K = embedding(enc_tokens)\n",
        "V = K\n",
        "K"
      ],
      "execution_count": 81,
      "outputs": [
        {
          "output_type": "execute_result",
          "data": {
            "text/plain": [
              "<tf.Tensor: shape=(1, 6, 8), dtype=float32, numpy=\n",
              "array([[[ 0.19626832,  1.6160245 , -1.5125287 ,  0.8802097 ,\n",
              "          0.43964735, -0.49681696,  0.9233131 , -1.0172113 ],\n",
              "        [-1.851637  , -0.52205473, -1.1127012 ,  0.556745  ,\n",
              "         -1.2216276 ,  0.70823485, -0.7989583 , -0.48866653],\n",
              "        [-0.39263427, -1.7194668 ,  1.8227654 , -0.15567164,\n",
              "         -0.6654087 ,  0.68538827,  0.68061614,  0.74703187],\n",
              "        [-1.3610662 , -1.8012775 , -0.09980725, -0.69201565,\n",
              "         -1.6705056 , -0.07607771, -0.5028183 , -0.22716261],\n",
              "        [-0.20390666,  0.557556  , -0.40127853,  0.23037532,\n",
              "          0.02648634, -1.6108699 , -0.32580003, -0.3013221 ],\n",
              "        [-0.3198804 ,  1.3575249 , -0.15776914,  0.5804112 ,\n",
              "          0.4537885 ,  0.9504126 ,  1.6937656 ,  1.2484983 ]]],\n",
              "      dtype=float32)>"
            ]
          },
          "metadata": {
            "tags": []
          },
          "execution_count": 81
        }
      ]
    },
    {
      "cell_type": "code",
      "metadata": {
        "id": "XcgGGASr-XKZ",
        "colab_type": "code",
        "colab": {
          "base_uri": "https://localhost:8080/",
          "height": 0
        },
        "outputId": "fcc7f549-39a2-49a0-8aa5-c1b9f9b400ae"
      },
      "source": [
        "# Q에 Weight W_Q 곱함\n",
        "W_Q = tf.keras.layers.Dense(config.n_head * config.d_head)\n",
        "Q_multi_1 = W_Q(Q)\n",
        "Q_multi_1"
      ],
      "execution_count": 82,
      "outputs": [
        {
          "output_type": "execute_result",
          "data": {
            "text/plain": [
              "<tf.Tensor: shape=(1, 5, 8), dtype=float32, numpy=\n",
              "array([[[ 0.60726416,  0.36179903,  0.32159328,  1.0295479 ,\n",
              "          2.0804245 , -0.7570441 , -0.34533682,  1.0343486 ],\n",
              "        [ 0.46542645,  0.6619142 , -0.23965865, -0.07134926,\n",
              "          1.7227607 ,  0.51219004, -0.8823885 ,  0.36687952],\n",
              "        [ 0.541306  , -0.90740347,  0.27299052, -0.4724496 ,\n",
              "          0.66669774, -0.36000645,  0.40457246,  0.09094185],\n",
              "        [ 0.7040179 ,  1.3128388 ,  0.02026618, -0.20661888,\n",
              "          1.2101818 ,  0.39174786, -0.87256515,  2.276158  ],\n",
              "        [-0.39734793,  1.7864552 , -0.09988433,  0.5383763 ,\n",
              "          0.74667156, -0.8564163 ,  0.32024744,  2.4470553 ]]],\n",
              "      dtype=float32)>"
            ]
          },
          "metadata": {
            "tags": []
          },
          "execution_count": 82
        }
      ]
    },
    {
      "cell_type": "code",
      "metadata": {
        "id": "bzHKYhM7-rzx",
        "colab_type": "code",
        "colab": {
          "base_uri": "https://localhost:8080/",
          "height": 0
        },
        "outputId": "7eb8002f-46a0-4c74-c20f-91565311307c"
      },
      "source": [
        "# 여러 개의 head로 분할\n",
        "Q_multi_2 = tf.reshape(Q_multi_1, [tf.shape(Q)[0], -1, config.n_head, config.d_head])  # (bs, n_seq, n_head, d_head)\n",
        "Q_multi_2"
      ],
      "execution_count": 83,
      "outputs": [
        {
          "output_type": "execute_result",
          "data": {
            "text/plain": [
              "<tf.Tensor: shape=(1, 5, 2, 4), dtype=float32, numpy=\n",
              "array([[[[ 0.60726416,  0.36179903,  0.32159328,  1.0295479 ],\n",
              "         [ 2.0804245 , -0.7570441 , -0.34533682,  1.0343486 ]],\n",
              "\n",
              "        [[ 0.46542645,  0.6619142 , -0.23965865, -0.07134926],\n",
              "         [ 1.7227607 ,  0.51219004, -0.8823885 ,  0.36687952]],\n",
              "\n",
              "        [[ 0.541306  , -0.90740347,  0.27299052, -0.4724496 ],\n",
              "         [ 0.66669774, -0.36000645,  0.40457246,  0.09094185]],\n",
              "\n",
              "        [[ 0.7040179 ,  1.3128388 ,  0.02026618, -0.20661888],\n",
              "         [ 1.2101818 ,  0.39174786, -0.87256515,  2.276158  ]],\n",
              "\n",
              "        [[-0.39734793,  1.7864552 , -0.09988433,  0.5383763 ],\n",
              "         [ 0.74667156, -0.8564163 ,  0.32024744,  2.4470553 ]]]],\n",
              "      dtype=float32)>"
            ]
          },
          "metadata": {
            "tags": []
          },
          "execution_count": 83
        }
      ]
    },
    {
      "cell_type": "code",
      "metadata": {
        "id": "vdCKZWoV-7Ad",
        "colab_type": "code",
        "colab": {
          "base_uri": "https://localhost:8080/",
          "height": 0
        },
        "outputId": "93375320-4a2f-4b2d-d9e4-25868201b4df"
      },
      "source": [
        "# bs, number of head, seq length, dim of head 가 되도록 정렬\n",
        "Q_multi = tf.transpose(Q_multi_2, [0, 2, 1, 3])  # (bs, h_head, n_seq, d_head)\n",
        "Q_multi"
      ],
      "execution_count": 84,
      "outputs": [
        {
          "output_type": "execute_result",
          "data": {
            "text/plain": [
              "<tf.Tensor: shape=(1, 2, 5, 4), dtype=float32, numpy=\n",
              "array([[[[ 0.60726416,  0.36179903,  0.32159328,  1.0295479 ],\n",
              "         [ 0.46542645,  0.6619142 , -0.23965865, -0.07134926],\n",
              "         [ 0.541306  , -0.90740347,  0.27299052, -0.4724496 ],\n",
              "         [ 0.7040179 ,  1.3128388 ,  0.02026618, -0.20661888],\n",
              "         [-0.39734793,  1.7864552 , -0.09988433,  0.5383763 ]],\n",
              "\n",
              "        [[ 2.0804245 , -0.7570441 , -0.34533682,  1.0343486 ],\n",
              "         [ 1.7227607 ,  0.51219004, -0.8823885 ,  0.36687952],\n",
              "         [ 0.66669774, -0.36000645,  0.40457246,  0.09094185],\n",
              "         [ 1.2101818 ,  0.39174786, -0.87256515,  2.276158  ],\n",
              "         [ 0.74667156, -0.8564163 ,  0.32024744,  2.4470553 ]]]],\n",
              "      dtype=float32)>"
            ]
          },
          "metadata": {
            "tags": []
          },
          "execution_count": 84
        }
      ]
    },
    {
      "cell_type": "code",
      "metadata": {
        "id": "0g9OJ_Bk_OmD",
        "colab_type": "code",
        "colab": {
          "base_uri": "https://localhost:8080/",
          "height": 0
        },
        "outputId": "4bfa585f-9a10-40b3-90c3-5d48a5b53840"
      },
      "source": [
        "# K multi head로 분할\n",
        "W_K = tf.keras.layers.Dense(config.n_head * config.d_head)\n",
        "K_multi = tf.transpose(tf.reshape(W_K(K), [tf.shape(K)[0], -1, config.n_head, config.d_head]), [0, 2, 1, 3])  # (bs, h_head, n_seq, d_head)\n",
        "K_multi"
      ],
      "execution_count": 85,
      "outputs": [
        {
          "output_type": "execute_result",
          "data": {
            "text/plain": [
              "<tf.Tensor: shape=(1, 2, 6, 4), dtype=float32, numpy=\n",
              "array([[[[ 0.44157654,  0.6153864 ,  1.0823402 , -0.86922544],\n",
              "         [-0.07734162, -1.2439793 , -0.50609183,  0.7221384 ],\n",
              "         [-0.3402935 , -0.2853378 , -1.0854981 ,  1.3541911 ],\n",
              "         [-0.669067  , -0.8918519 , -1.4189062 ,  0.19565569],\n",
              "         [-0.09156863,  0.6330453 ,  0.34754407, -0.74757963],\n",
              "         [ 1.2972405 ,  0.22881103,  0.8145461 ,  1.3349972 ]],\n",
              "\n",
              "        [[ 1.8166773 , -1.2446976 ,  0.44066074, -0.8677362 ],\n",
              "         [ 1.7250284 ,  0.31310377,  1.3237873 , -1.119676  ],\n",
              "         [-0.23594195,  2.147542  , -0.1751713 ,  0.52035725],\n",
              "         [ 0.3804278 ,  0.8608245 ,  0.5974173 , -0.5911523 ],\n",
              "         [-0.3509707 , -1.2586634 , -0.36838096, -0.14807178],\n",
              "         [ 1.167274  ,  0.708056  ,  0.5896891 , -0.9456644 ]]]],\n",
              "      dtype=float32)>"
            ]
          },
          "metadata": {
            "tags": []
          },
          "execution_count": 85
        }
      ]
    },
    {
      "cell_type": "code",
      "metadata": {
        "id": "JdUJuxmm_ZHp",
        "colab_type": "code",
        "colab": {
          "base_uri": "https://localhost:8080/",
          "height": 0
        },
        "outputId": "85f9b2ea-dc3f-4b8e-fe1e-b014bb8fa305"
      },
      "source": [
        "# V multi head로 분할\n",
        "W_V = tf.keras.layers.Dense(config.n_head * config.d_head)\n",
        "V_multi = tf.transpose(tf.reshape(W_V(V), [tf.shape(V)[0], -1, config.n_head, config.d_head]), [0, 2, 1, 3])  # (bs, h_head, n_seq, d_head)\n",
        "V_multi"
      ],
      "execution_count": 86,
      "outputs": [
        {
          "output_type": "execute_result",
          "data": {
            "text/plain": [
              "<tf.Tensor: shape=(1, 2, 6, 4), dtype=float32, numpy=\n",
              "array([[[[-0.05052549,  1.3679097 ,  0.06428897, -1.794766  ],\n",
              "         [ 0.30957353, -1.4764541 , -0.75112426,  0.45604098],\n",
              "         [-0.8646058 , -2.518207  ,  0.688274  ,  2.2011814 ],\n",
              "         [-0.35476363, -1.8334684 , -0.7684364 ,  1.4162139 ],\n",
              "         [-0.6195556 ,  1.0833172 , -0.48860148, -1.2713012 ],\n",
              "         [ 0.90829015, -0.8477763 ,  2.126217  ,  0.9595523 ]],\n",
              "\n",
              "        [[-1.1524616 , -0.30813012, -0.50484705, -0.3681637 ],\n",
              "         [-0.10167963,  1.8378878 , -0.3448023 ,  0.42790192],\n",
              "         [-0.231125  ,  0.55959207, -0.55778337, -0.05705123],\n",
              "         [ 0.04607373,  1.2424754 ,  0.4524849 ,  1.4593087 ],\n",
              "         [-0.7989114 , -0.7697486 ,  0.7987878 ,  0.4939655 ],\n",
              "         [-0.48566872, -0.09066993, -1.7201098 , -0.80178815]]]],\n",
              "      dtype=float32)>"
            ]
          },
          "metadata": {
            "tags": []
          },
          "execution_count": 86
        }
      ]
    },
    {
      "cell_type": "code",
      "metadata": {
        "id": "qwMiDvqkB4eI",
        "colab_type": "code",
        "colab": {
          "base_uri": "https://localhost:8080/",
          "height": 0
        },
        "outputId": "cb5a8791-b5a8-4bee-b2b3-bdbabbb68c64"
      },
      "source": [
        "# pad mask 구함 / decoder 일 경우는 ahead mask 구하면 됨\n",
        "ende_mask = get_pad_mask(enc_tokens)\n",
        "ende_mask"
      ],
      "execution_count": 87,
      "outputs": [
        {
          "output_type": "execute_result",
          "data": {
            "text/plain": [
              "<tf.Tensor: shape=(1, 1, 6), dtype=float32, numpy=array([[[0., 0., 0., 0., 0., 1.]]], dtype=float32)>"
            ]
          },
          "metadata": {
            "tags": []
          },
          "execution_count": 87
        }
      ]
    },
    {
      "cell_type": "code",
      "metadata": {
        "id": "WUYOdq1QCA0x",
        "colab_type": "code",
        "colab": {
          "base_uri": "https://localhost:8080/",
          "height": 0
        },
        "outputId": "11475654-03af-46c2-9358-4c97481bb230"
      },
      "source": [
        "# Q_multi, K_mulit, V_multi와 동일한 차원이 되도록 차원을 늘려 줌\n",
        "ende_mask_multi = tf.expand_dims(ende_mask, axis=1)\n",
        "ende_mask_multi"
      ],
      "execution_count": 88,
      "outputs": [
        {
          "output_type": "execute_result",
          "data": {
            "text/plain": [
              "<tf.Tensor: shape=(1, 1, 1, 6), dtype=float32, numpy=array([[[[0., 0., 0., 0., 0., 1.]]]], dtype=float32)>"
            ]
          },
          "metadata": {
            "tags": []
          },
          "execution_count": 88
        }
      ]
    },
    {
      "cell_type": "code",
      "metadata": {
        "id": "yuQjJWfcCH44",
        "colab_type": "code",
        "colab": {
          "base_uri": "https://localhost:8080/",
          "height": 0
        },
        "outputId": "eaffcbea-7380-4439-da3c-7bb9b1a89285"
      },
      "source": [
        "# ScaleDotProductAttention을 여러 head 동시 실행 함\n",
        "attention = ScaleDotProductAttention()\n",
        "attn_val_multi = attention(Q_multi, K_multi, V_multi, ende_mask_multi)  # (bs, n_head, Q_len, d_head)\n",
        "attn_val_multi"
      ],
      "execution_count": 89,
      "outputs": [
        {
          "output_type": "execute_result",
          "data": {
            "text/plain": [
              "<tf.Tensor: shape=(1, 2, 5, 4), dtype=float32, numpy=\n",
              "array([[[[-0.34562594, -0.8479199 , -0.11944495,  0.36608973],\n",
              "         [-0.3459013 , -0.35639045, -0.20108911, -0.07225244],\n",
              "         [-0.21888992, -0.54503214, -0.33133984,  0.01956929],\n",
              "         [-0.3329003 ,  0.2834197 , -0.16911803, -0.6665487 ],\n",
              "         [-0.4335849 , -0.3412676 , -0.10640375, -0.03630596]],\n",
              "\n",
              "        [[-0.77040124,  0.25091752, -0.27838963,  0.02456305],\n",
              "         [-0.4761507 ,  0.64109826, -0.23332982,  0.24423584],\n",
              "         [-0.54133904,  0.5510782 , -0.13543905,  0.28242606],\n",
              "         [-0.39123476,  0.46834347, -0.24057709,  0.1913853 ],\n",
              "         [-0.6347244 ,  0.1411059 , -0.01146939,  0.23022278]]]],\n",
              "      dtype=float32)>"
            ]
          },
          "metadata": {
            "tags": []
          },
          "execution_count": 89
        }
      ]
    },
    {
      "cell_type": "code",
      "metadata": {
        "id": "QMK74028ERaN",
        "colab_type": "code",
        "colab": {
          "base_uri": "https://localhost:8080/",
          "height": 0
        },
        "outputId": "9e18e43f-ce9f-46eb-b051-58eadbe54a4f"
      },
      "source": [
        "attention_transpose = tf.transpose(attn_val_multi, perm=[0, 2, 1, 3])  # (bs, Q_len, n_head, d_head)\n",
        "attention_transpose"
      ],
      "execution_count": 90,
      "outputs": [
        {
          "output_type": "execute_result",
          "data": {
            "text/plain": [
              "<tf.Tensor: shape=(1, 5, 2, 4), dtype=float32, numpy=\n",
              "array([[[[-0.34562594, -0.8479199 , -0.11944495,  0.36608973],\n",
              "         [-0.77040124,  0.25091752, -0.27838963,  0.02456305]],\n",
              "\n",
              "        [[-0.3459013 , -0.35639045, -0.20108911, -0.07225244],\n",
              "         [-0.4761507 ,  0.64109826, -0.23332982,  0.24423584]],\n",
              "\n",
              "        [[-0.21888992, -0.54503214, -0.33133984,  0.01956929],\n",
              "         [-0.54133904,  0.5510782 , -0.13543905,  0.28242606]],\n",
              "\n",
              "        [[-0.3329003 ,  0.2834197 , -0.16911803, -0.6665487 ],\n",
              "         [-0.39123476,  0.46834347, -0.24057709,  0.1913853 ]],\n",
              "\n",
              "        [[-0.4335849 , -0.3412676 , -0.10640375, -0.03630596],\n",
              "         [-0.6347244 ,  0.1411059 , -0.01146939,  0.23022278]]]],\n",
              "      dtype=float32)>"
            ]
          },
          "metadata": {
            "tags": []
          },
          "execution_count": 90
        }
      ]
    },
    {
      "cell_type": "code",
      "metadata": {
        "id": "nVO0kq3_EgG2",
        "colab_type": "code",
        "colab": {
          "base_uri": "https://localhost:8080/",
          "height": 0
        },
        "outputId": "3442c9d7-3fac-4c99-90e8-5ff711307de3"
      },
      "source": [
        "attention_concat = tf.reshape(attention_transpose, [tf.shape(Q)[0], -1, config.n_head * config.d_head])  # (bs, Q_len, n_head * d_head)\n",
        "attention_concat"
      ],
      "execution_count": 91,
      "outputs": [
        {
          "output_type": "execute_result",
          "data": {
            "text/plain": [
              "<tf.Tensor: shape=(1, 5, 8), dtype=float32, numpy=\n",
              "array([[[-0.34562594, -0.8479199 , -0.11944495,  0.36608973,\n",
              "         -0.77040124,  0.25091752, -0.27838963,  0.02456305],\n",
              "        [-0.3459013 , -0.35639045, -0.20108911, -0.07225244,\n",
              "         -0.4761507 ,  0.64109826, -0.23332982,  0.24423584],\n",
              "        [-0.21888992, -0.54503214, -0.33133984,  0.01956929,\n",
              "         -0.54133904,  0.5510782 , -0.13543905,  0.28242606],\n",
              "        [-0.3329003 ,  0.2834197 , -0.16911803, -0.6665487 ,\n",
              "         -0.39123476,  0.46834347, -0.24057709,  0.1913853 ],\n",
              "        [-0.4335849 , -0.3412676 , -0.10640375, -0.03630596,\n",
              "         -0.6347244 ,  0.1411059 , -0.01146939,  0.23022278]]],\n",
              "      dtype=float32)>"
            ]
          },
          "metadata": {
            "tags": []
          },
          "execution_count": 91
        }
      ]
    },
    {
      "cell_type": "code",
      "metadata": {
        "id": "0lbienE8EwMF",
        "colab_type": "code",
        "colab": {
          "base_uri": "https://localhost:8080/",
          "height": 0
        },
        "outputId": "48e9c8fa-f0cb-4856-bc49-e2aeefb30095"
      },
      "source": [
        "WO = tf.keras.layers.Dense(config.d_model)\n",
        "attention_output = WO(attention_concat)\n",
        "attention_output"
      ],
      "execution_count": 92,
      "outputs": [
        {
          "output_type": "execute_result",
          "data": {
            "text/plain": [
              "<tf.Tensor: shape=(1, 5, 8), dtype=float32, numpy=\n",
              "array([[[ 0.49050608, -0.8050246 , -0.45042843,  0.45777676,\n",
              "          0.06806503, -0.33055833,  0.11655104,  1.1064618 ],\n",
              "        [ 0.38006845, -0.673133  , -0.5220271 ,  0.21313778,\n",
              "          0.2849807 ,  0.0296824 , -0.01816981,  0.7601285 ],\n",
              "        [ 0.4035927 , -0.7793803 , -0.3197016 ,  0.25294086,\n",
              "          0.29103556, -0.05029402,  0.03342265,  0.80691427],\n",
              "        [ 0.1614267 , -0.28013894, -0.42321342, -0.3257166 ,\n",
              "          0.22512603,  0.12906909,  0.18890849, -0.07056844],\n",
              "        [ 0.26344997, -0.61582273, -0.15614234, -0.0834959 ,\n",
              "          0.0115939 , -0.32596976,  0.5276856 ,  0.5310106 ]]],\n",
              "      dtype=float32)>"
            ]
          },
          "metadata": {
            "tags": []
          },
          "execution_count": 92
        }
      ]
    },
    {
      "cell_type": "markdown",
      "metadata": {
        "id": "hXWYTm6JK9OR",
        "colab_type": "text"
      },
      "source": [
        "### Class"
      ]
    },
    {
      "cell_type": "code",
      "metadata": {
        "id": "jjC2xmX4F5ay",
        "colab_type": "code",
        "colab": {}
      },
      "source": [
        "class MultiHeadAttention(tf.keras.layers.Layer):\n",
        "    \"\"\"\n",
        "    Multi Head Attention Class\n",
        "    \"\"\"\n",
        "    def __init__(self, config, name=\"multi_head_attention\"):\n",
        "        \"\"\"\n",
        "        생성자\n",
        "        :param config: Config 객체\n",
        "        :param name: layer name\n",
        "        \"\"\"\n",
        "        super().__init__(name=name)\n",
        "\n",
        "        self.d_model = config.d_model\n",
        "        self.n_head = config.n_head\n",
        "        self.d_head = config.d_head\n",
        "\n",
        "        # Q, K, V input dense layer\n",
        "        self.W_Q = tf.keras.layers.Dense(config.n_head * config.d_head)\n",
        "        self.W_K = tf.keras.layers.Dense(config.n_head * config.d_head)\n",
        "        self.W_V = tf.keras.layers.Dense(config.n_head * config.d_head)\n",
        "        # Scale Dot Product Attention class\n",
        "        self.attention = ScaleDotProductAttention(name=\"self_attention\")\n",
        "        # output dense layer\n",
        "        self.W_O = tf.keras.layers.Dense(config.d_model)\n",
        "\n",
        "    def call(self, Q, K, V, attn_mask):\n",
        "        \"\"\"\n",
        "        layer 실행\n",
        "        :param Q: Q value\n",
        "        :param K: K value\n",
        "        :param V: V value\n",
        "        :param attn_mask: 실행 모드\n",
        "        :return attn_out: attention 실행 결과\n",
        "        \"\"\"\n",
        "        # reshape Q, K, V, attn_mask\n",
        "        batch_size = tf.shape(Q)[0]\n",
        "        Q_m = tf.transpose(tf.reshape(self.W_Q(Q), [batch_size, -1, self.n_head, self.d_head]), [0, 2, 1, 3])  # (bs, n_head, Q_len, d_head)\n",
        "        K_m = tf.transpose(tf.reshape(self.W_K(K), [batch_size, -1, self.n_head, self.d_head]), [0, 2, 1, 3])  # (bs, n_head, K_len, d_head)\n",
        "        V_m = tf.transpose(tf.reshape(self.W_V(V), [batch_size, -1, self.n_head, self.d_head]), [0, 2, 1, 3])  # (bs, n_head, K_len, d_head)\n",
        "        attn_mask_m = tf.expand_dims(attn_mask, axis=1)\n",
        "        # Scale Dot Product Attention with multi head Q, K, V, attn_mask\n",
        "        attn_out = self.attention(Q_m, K_m, V_m, attn_mask_m)  # (bs, n_head, Q_len, d_head)\n",
        "        # transpose and liner\n",
        "        attn_out_m = tf.transpose(attn_out, perm=[0, 2, 1, 3])  # (bs, Q_len, n_head, d_head)\n",
        "        attn_out = tf.reshape(attn_out_m, [batch_size, -1, config.n_head * config.d_head])  # (bs, Q_len, d_model)\n",
        "        attn_out = self.W_O(attn_out) # (bs, Q_len, d_model)\n",
        "\n",
        "        return attn_out"
      ],
      "execution_count": 93,
      "outputs": []
    },
    {
      "cell_type": "markdown",
      "metadata": {
        "id": "f9HRMhWKK-6I",
        "colab_type": "text"
      },
      "source": [
        "### Test"
      ]
    },
    {
      "cell_type": "code",
      "metadata": {
        "id": "T8ONc_AXG7Db",
        "colab_type": "code",
        "colab": {
          "base_uri": "https://localhost:8080/",
          "height": 0
        },
        "outputId": "538fa0ad-f54d-4fa6-dd1d-c4773adc13d1"
      },
      "source": [
        "attention = MultiHeadAttention(config)\n",
        "\n",
        "attn_out = attention(Q, K, V, ende_mask)\n",
        "# Q와 output의 shape 같으면 정상 (W_Q, W_K, W_V, W_O 값이 랜덤하게 초기화 되므로 값은 달라 짐)\n",
        "assert Q.shape == attn_out.shape\n",
        "attn_out"
      ],
      "execution_count": 94,
      "outputs": [
        {
          "output_type": "execute_result",
          "data": {
            "text/plain": [
              "<tf.Tensor: shape=(1, 5, 8), dtype=float32, numpy=\n",
              "array([[[-1.7263755 ,  0.01100424, -0.14146975, -1.4741412 ,\n",
              "          0.6791463 ,  0.5476541 , -1.3935212 ,  1.6705613 ],\n",
              "        [-1.3784302 ,  0.7695726 , -0.45037347, -1.3775394 ,\n",
              "          0.87207174, -0.3568232 , -0.64005435,  0.96092784],\n",
              "        [-0.9750034 , -0.19607307, -0.03950721, -0.85755706,\n",
              "          0.25044265,  0.84326804, -1.0721036 ,  1.1410964 ],\n",
              "        [-0.5620067 ,  0.6079061 , -0.26716498, -0.5765987 ,\n",
              "          0.34476867, -0.15077245, -0.14507551,  0.39121914],\n",
              "        [-1.350141  ,  0.18068255, -0.08150241, -1.1048428 ,\n",
              "          0.5075928 ,  0.48607206, -0.92029136,  1.2991698 ]]],\n",
              "      dtype=float32)>"
            ]
          },
          "metadata": {
            "tags": []
          },
          "execution_count": 94
        }
      ]
    },
    {
      "cell_type": "markdown",
      "metadata": {
        "id": "Z3Jc-KlSQDMG",
        "colab_type": "text"
      },
      "source": [
        "## Feed Forward\n",
        "\n",
        "![](https://paul-hyun.github.io/assets/transformer/feedforward.png)"
      ]
    },
    {
      "cell_type": "markdown",
      "metadata": {
        "id": "OnCeiVe2NrNz",
        "colab_type": "text"
      },
      "source": [
        "### Tutorial"
      ]
    },
    {
      "cell_type": "code",
      "metadata": {
        "id": "Eq9g080D19oi",
        "colab_type": "code",
        "colab": {
          "base_uri": "https://localhost:8080/",
          "height": 0
        },
        "outputId": "dd2616bf-d99e-4a3b-8afd-83f45f4b605d"
      },
      "source": [
        "# sublayer output\n",
        "sublayer_output = embedding(enc_tokens)\n",
        "sublayer_output"
      ],
      "execution_count": 95,
      "outputs": [
        {
          "output_type": "execute_result",
          "data": {
            "text/plain": [
              "<tf.Tensor: shape=(1, 6, 8), dtype=float32, numpy=\n",
              "array([[[ 0.19626832,  1.6160245 , -1.5125287 ,  0.8802097 ,\n",
              "          0.43964735, -0.49681696,  0.9233131 , -1.0172113 ],\n",
              "        [-1.851637  , -0.52205473, -1.1127012 ,  0.556745  ,\n",
              "         -1.2216276 ,  0.70823485, -0.7989583 , -0.48866653],\n",
              "        [-0.39263427, -1.7194668 ,  1.8227654 , -0.15567164,\n",
              "         -0.6654087 ,  0.68538827,  0.68061614,  0.74703187],\n",
              "        [-1.3610662 , -1.8012775 , -0.09980725, -0.69201565,\n",
              "         -1.6705056 , -0.07607771, -0.5028183 , -0.22716261],\n",
              "        [-0.20390666,  0.557556  , -0.40127853,  0.23037532,\n",
              "          0.02648634, -1.6108699 , -0.32580003, -0.3013221 ],\n",
              "        [-0.3198804 ,  1.3575249 , -0.15776914,  0.5804112 ,\n",
              "          0.4537885 ,  0.9504126 ,  1.6937656 ,  1.2484983 ]]],\n",
              "      dtype=float32)>"
            ]
          },
          "metadata": {
            "tags": []
          },
          "execution_count": 95
        }
      ]
    },
    {
      "cell_type": "code",
      "metadata": {
        "id": "8p432ETKQGMf",
        "colab_type": "code",
        "colab": {
          "base_uri": "https://localhost:8080/",
          "height": 0
        },
        "outputId": "cb89b94c-0ec8-42fa-852e-8b0fffc05bbd"
      },
      "source": [
        "# dense 1: d_mdoel -> d_ff\n",
        "ff_val_1 = tf.keras.layers.Dense(config.d_ff)(sublayer_output)\n",
        "ff_val_1"
      ],
      "execution_count": 96,
      "outputs": [
        {
          "output_type": "execute_result",
          "data": {
            "text/plain": [
              "<tf.Tensor: shape=(1, 6, 32), dtype=float32, numpy=\n",
              "array([[[ 7.7031571e-01, -6.3997334e-01,  9.1023535e-02,  1.3620910e-01,\n",
              "         -6.6182721e-01,  2.5415921e-01,  3.4217364e-01, -3.8794968e-01,\n",
              "         -1.1187077e-02,  3.5169870e-01,  5.4275781e-01, -9.4716631e-02,\n",
              "          4.2744771e-01,  6.4273638e-01, -6.2227696e-03,  4.0499973e-01,\n",
              "          5.0659734e-01, -1.2033993e-01,  8.4220314e-01, -3.2478133e-01,\n",
              "         -1.6106594e-01,  6.0928249e-01, -3.1512687e-01, -2.2889431e-01,\n",
              "          1.0023954e+00,  4.4507617e-01,  2.9803553e-01, -7.0957206e-02,\n",
              "         -1.0344104e+00, -4.9265411e-01,  4.5147824e-01, -2.4699214e-01],\n",
              "        [ 5.7942396e-01, -3.1980455e-02,  7.1110237e-01, -2.4003801e-01,\n",
              "         -8.1442398e-01, -1.2713451e+00, -7.0793545e-01,  4.6208960e-01,\n",
              "         -2.5861040e-01,  1.4218054e+00,  1.8033302e-01, -7.5368106e-02,\n",
              "          5.5270493e-01,  8.0002576e-02, -1.9854778e-01,  1.0054317e+00,\n",
              "          5.7834148e-01, -1.2824627e+00, -1.6690974e-01,  3.5366517e-01,\n",
              "         -1.1411150e+00, -4.9964029e-01,  7.1466655e-01,  7.4253523e-01,\n",
              "          1.1395468e-01, -1.4249539e-01, -8.8010603e-01, -6.5248674e-01,\n",
              "          4.6452349e-01, -2.1270216e-03, -2.0986857e-01,  2.5336069e-01],\n",
              "        [-7.2910178e-01,  5.2506238e-02,  5.7353273e-02, -7.0616293e-01,\n",
              "          5.6857067e-01,  3.1377071e-01,  2.9526538e-01, -3.0134076e-01,\n",
              "         -2.2399893e-01, -7.7470469e-01, -3.5355666e-01,  2.2478200e-01,\n",
              "         -4.9228603e-01, -7.0582581e-01, -3.2548615e-01, -4.7750655e-01,\n",
              "         -3.2047996e-01,  5.7108223e-01, -1.3232665e+00,  4.9953249e-01,\n",
              "         -2.7110964e-01, -1.0204016e+00,  9.8022497e-01,  3.8862637e-01,\n",
              "         -1.2683330e+00,  4.8406664e-02, -3.1995887e-01,  5.7920837e-01,\n",
              "          1.4581698e+00,  5.4629171e-01, -9.5293003e-01,  4.1980624e-01],\n",
              "        [-3.9197278e-01,  8.9776736e-01,  5.9198356e-01, -1.2672752e-01,\n",
              "         -7.3769689e-04, -4.8439696e-01, -4.5251882e-01,  6.7514193e-01,\n",
              "         -8.5150197e-02,  6.5453720e-01, -2.5314039e-01,  8.4378675e-02,\n",
              "          3.8834900e-02, -1.4491270e-01, -5.2905595e-01,  7.3339045e-02,\n",
              "         -5.5365950e-01, -4.3959951e-01, -9.5370579e-01,  2.5929868e-01,\n",
              "         -6.7489493e-01, -7.1621162e-01,  1.3821949e+00,  1.2744250e+00,\n",
              "         -1.3447812e-01, -1.2623402e-01, -3.9556608e-01, -7.9383814e-01,\n",
              "          9.1784841e-01,  2.3702183e-01, -3.6153078e-01,  3.3879828e-01],\n",
              "        [-1.4856537e-01,  3.6119080e-01, -3.1158358e-01,  2.1333542e-01,\n",
              "         -4.9532282e-01,  3.4184954e-01, -2.0787656e-01,  4.5236754e-01,\n",
              "          6.7950231e-01,  2.5161102e-01,  4.3081206e-01, -4.3105596e-01,\n",
              "         -2.6678234e-01,  7.1194607e-01,  2.4308614e-02,  1.9006130e-01,\n",
              "         -2.4239630e-02, -1.7861590e-01,  1.8328184e-01, -1.3510843e-01,\n",
              "          1.4219277e-01,  2.7497920e-01, -3.2282531e-01,  4.8111078e-01,\n",
              "          9.4380188e-01, -2.1392670e-01,  5.0278717e-01, -7.0339793e-01,\n",
              "         -5.8686960e-01, -4.4861898e-02,  1.1911212e-01, -4.1336876e-01],\n",
              "        [ 7.9324722e-02, -9.8293650e-01,  2.0782730e-01, -2.0811744e-01,\n",
              "         -5.1357460e-01, -3.1266052e-01,  4.0670031e-01, -9.3118632e-01,\n",
              "         -6.0891742e-01, -6.8914038e-01,  5.6956542e-01,  4.4738623e-01,\n",
              "         -2.2437228e-01,  2.6204109e-01,  2.5881031e-01,  6.0026282e-01,\n",
              "          1.3433512e+00, -4.9340135e-01,  2.0923750e-01,  2.5450030e-01,\n",
              "         -6.4171642e-02, -1.4561637e-01, -2.8117272e-01, -6.0708076e-01,\n",
              "         -7.1484399e-01, -2.4042147e-01, -5.9817612e-01,  1.3398441e+00,\n",
              "          1.7528468e-01,  2.3007892e-01, -6.2891161e-01,  3.2215783e-01]]],\n",
              "      dtype=float32)>"
            ]
          },
          "metadata": {
            "tags": []
          },
          "execution_count": 96
        }
      ]
    },
    {
      "cell_type": "code",
      "metadata": {
        "id": "hawd2-NhQQlL",
        "colab_type": "code",
        "colab": {
          "base_uri": "https://localhost:8080/",
          "height": 0
        },
        "outputId": "c65a184b-a94d-4f8c-c51b-76d2e36af07f"
      },
      "source": [
        "# relu: 0보다 작은 값은 모두 0\n",
        "ff_val_2 = tf.nn.relu(ff_val_1)\n",
        "ff_val_2"
      ],
      "execution_count": 97,
      "outputs": [
        {
          "output_type": "execute_result",
          "data": {
            "text/plain": [
              "<tf.Tensor: shape=(1, 6, 32), dtype=float32, numpy=\n",
              "array([[[0.7703157 , 0.        , 0.09102353, 0.1362091 , 0.        ,\n",
              "         0.2541592 , 0.34217364, 0.        , 0.        , 0.3516987 ,\n",
              "         0.5427578 , 0.        , 0.4274477 , 0.6427364 , 0.        ,\n",
              "         0.40499973, 0.50659734, 0.        , 0.84220314, 0.        ,\n",
              "         0.        , 0.6092825 , 0.        , 0.        , 1.0023954 ,\n",
              "         0.44507617, 0.29803553, 0.        , 0.        , 0.        ,\n",
              "         0.45147824, 0.        ],\n",
              "        [0.57942396, 0.        , 0.71110237, 0.        , 0.        ,\n",
              "         0.        , 0.        , 0.4620896 , 0.        , 1.4218054 ,\n",
              "         0.18033302, 0.        , 0.55270493, 0.08000258, 0.        ,\n",
              "         1.0054317 , 0.5783415 , 0.        , 0.        , 0.35366517,\n",
              "         0.        , 0.        , 0.71466655, 0.74253523, 0.11395468,\n",
              "         0.        , 0.        , 0.        , 0.4645235 , 0.        ,\n",
              "         0.        , 0.2533607 ],\n",
              "        [0.        , 0.05250624, 0.05735327, 0.        , 0.5685707 ,\n",
              "         0.3137707 , 0.29526538, 0.        , 0.        , 0.        ,\n",
              "         0.        , 0.224782  , 0.        , 0.        , 0.        ,\n",
              "         0.        , 0.        , 0.57108223, 0.        , 0.4995325 ,\n",
              "         0.        , 0.        , 0.98022497, 0.38862637, 0.        ,\n",
              "         0.04840666, 0.        , 0.5792084 , 1.4581698 , 0.5462917 ,\n",
              "         0.        , 0.41980624],\n",
              "        [0.        , 0.89776736, 0.59198356, 0.        , 0.        ,\n",
              "         0.        , 0.        , 0.67514193, 0.        , 0.6545372 ,\n",
              "         0.        , 0.08437867, 0.0388349 , 0.        , 0.        ,\n",
              "         0.07333905, 0.        , 0.        , 0.        , 0.25929868,\n",
              "         0.        , 0.        , 1.3821949 , 1.274425  , 0.        ,\n",
              "         0.        , 0.        , 0.        , 0.9178484 , 0.23702183,\n",
              "         0.        , 0.33879828],\n",
              "        [0.        , 0.3611908 , 0.        , 0.21333542, 0.        ,\n",
              "         0.34184954, 0.        , 0.45236754, 0.6795023 , 0.25161102,\n",
              "         0.43081206, 0.        , 0.        , 0.71194607, 0.02430861,\n",
              "         0.1900613 , 0.        , 0.        , 0.18328184, 0.        ,\n",
              "         0.14219277, 0.2749792 , 0.        , 0.48111078, 0.9438019 ,\n",
              "         0.        , 0.5027872 , 0.        , 0.        , 0.        ,\n",
              "         0.11911212, 0.        ],\n",
              "        [0.07932472, 0.        , 0.2078273 , 0.        , 0.        ,\n",
              "         0.        , 0.4067003 , 0.        , 0.        , 0.        ,\n",
              "         0.5695654 , 0.44738623, 0.        , 0.2620411 , 0.2588103 ,\n",
              "         0.6002628 , 1.3433512 , 0.        , 0.2092375 , 0.2545003 ,\n",
              "         0.        , 0.        , 0.        , 0.        , 0.        ,\n",
              "         0.        , 0.        , 1.3398441 , 0.17528468, 0.23007892,\n",
              "         0.        , 0.32215783]]], dtype=float32)>"
            ]
          },
          "metadata": {
            "tags": []
          },
          "execution_count": 97
        }
      ]
    },
    {
      "cell_type": "code",
      "metadata": {
        "id": "W20iKxKGQYly",
        "colab_type": "code",
        "colab": {
          "base_uri": "https://localhost:8080/",
          "height": 0
        },
        "outputId": "ffb58889-806d-4401-c4b4-853293befa5d"
      },
      "source": [
        "# dense 2: d_ff -> d_model\n",
        "ff_val = tf.keras.layers.Dense(config.d_model)(ff_val_2)\n",
        "ff_val"
      ],
      "execution_count": 98,
      "outputs": [
        {
          "output_type": "execute_result",
          "data": {
            "text/plain": [
              "<tf.Tensor: shape=(1, 6, 8), dtype=float32, numpy=\n",
              "array([[[ 0.05343075, -0.12957534, -0.12799206,  0.22800428,\n",
              "          0.3755629 ,  0.02002761, -0.52819777,  0.3447255 ],\n",
              "        [ 0.43111062,  0.47392774,  0.10379801,  0.6578367 ,\n",
              "         -0.13527879,  0.09563409, -0.27491823, -0.70665586],\n",
              "        [ 0.59465665,  0.9119929 , -0.3263978 ,  0.37083977,\n",
              "          0.6611173 , -0.00635345,  0.1908662 , -0.04102041],\n",
              "        [ 0.39177606,  0.548897  , -0.1065183 ,  0.2984062 ,\n",
              "         -0.07401261,  0.02801819,  0.4292276 , -0.32901528],\n",
              "        [ 0.16526428,  0.12299663,  0.24812302,  0.7795001 ,\n",
              "          0.2166494 ,  0.48855445,  0.11982807,  0.90903956],\n",
              "        [-0.5053141 , -0.1995892 , -0.571194  ,  0.34657496,\n",
              "          0.03725423, -0.57696253, -1.0532656 ,  0.19136594]]],\n",
              "      dtype=float32)>"
            ]
          },
          "metadata": {
            "tags": []
          },
          "execution_count": 98
        }
      ]
    },
    {
      "cell_type": "markdown",
      "metadata": {
        "id": "xDuEmCeoN2lq",
        "colab_type": "text"
      },
      "source": [
        "### Class"
      ]
    },
    {
      "cell_type": "code",
      "metadata": {
        "id": "9nUJHhLfQhdE",
        "colab_type": "code",
        "colab": {}
      },
      "source": [
        "class PositionWiseFeedForward(tf.keras.layers.Layer):\n",
        "    \"\"\"\n",
        "    Position Wise Feed Forward Class\n",
        "    \"\"\"\n",
        "    def __init__(self, config, name=\"feed_forward\"):\n",
        "        \"\"\"\n",
        "        생성자\n",
        "        :param config: Config 객체\n",
        "        :param name: layer name\n",
        "        \"\"\"\n",
        "        super().__init__(name=name)\n",
        "\n",
        "        self.W_1 = tf.keras.layers.Dense(config.d_ff, activation=tf.nn.relu)\n",
        "        self.W_2 = tf.keras.layers.Dense(config.d_model)\n",
        "\n",
        "    def call(self, inputs):\n",
        "        \"\"\"\n",
        "        layer 실행\n",
        "        :param inputs: inputs\n",
        "        :return ff_val: feed forward 실행 결과\n",
        "        \"\"\"\n",
        "        ff_val = self.W_2(self.W_1(inputs))\n",
        "        return ff_val"
      ],
      "execution_count": 99,
      "outputs": []
    },
    {
      "cell_type": "markdown",
      "metadata": {
        "id": "5rTITKdIN5nU",
        "colab_type": "text"
      },
      "source": [
        "### Test"
      ]
    },
    {
      "cell_type": "code",
      "metadata": {
        "id": "2zBze7AoQp-_",
        "colab_type": "code",
        "colab": {
          "base_uri": "https://localhost:8080/",
          "height": 0
        },
        "outputId": "7e3ca3c4-d702-4ce7-a8e7-9cf53eb65aca"
      },
      "source": [
        "# feed-forward class 동작 확인\n",
        "feed_forward = PositionWiseFeedForward(config)\n",
        "\n",
        "ff_val = feed_forward(sublayer_output)\n",
        "# 입력과 출력의 shape가 같의면 정상 (W_1, W_2 값이 랜덤초기화 되므로 값은 변경 됨)\n",
        "assert ff_val.shape == sublayer_output.shape\n",
        "ff_val"
      ],
      "execution_count": 100,
      "outputs": [
        {
          "output_type": "execute_result",
          "data": {
            "text/plain": [
              "<tf.Tensor: shape=(1, 6, 8), dtype=float32, numpy=\n",
              "array([[[ 0.3864193 ,  0.6548004 , -0.9338118 ,  0.26108032,\n",
              "          0.03351755,  1.0447208 ,  0.7750368 , -0.12114957],\n",
              "        [-0.59722066,  0.18925115, -0.06597053, -0.37621725,\n",
              "         -0.23455417,  1.5406342 ,  0.4521676 ,  0.73663914],\n",
              "        [-0.04632387,  0.10500703,  0.22665873, -0.3026586 ,\n",
              "         -0.7785901 ,  0.04514271,  0.0512608 , -0.0021835 ],\n",
              "        [-0.77620435, -0.29549295,  0.35187596, -0.13449736,\n",
              "         -0.13364094,  0.82650733, -0.20703031,  0.51752913],\n",
              "        [ 0.26921114,  0.25551227, -0.37782532,  0.05918773,\n",
              "         -0.3883301 ,  0.08096398,  0.00456275,  0.4402079 ],\n",
              "        [ 0.6045598 ,  0.11301185, -0.6297971 ,  0.12454662,\n",
              "         -0.6757138 ,  0.29747704,  0.1991685 , -0.18869305]]],\n",
              "      dtype=float32)>"
            ]
          },
          "metadata": {
            "tags": []
          },
          "execution_count": 100
        }
      ]
    },
    {
      "cell_type": "markdown",
      "metadata": {
        "id": "oCkXJQIUlETb",
        "colab_type": "text"
      },
      "source": [
        "## Encoder Layer\n",
        "\n",
        "![](https://paul-hyun.github.io/assets/transformer/encoder_layer.png)"
      ]
    },
    {
      "cell_type": "markdown",
      "metadata": {
        "id": "eZXtO5pKONH1",
        "colab_type": "text"
      },
      "source": [
        "### Tutorial"
      ]
    },
    {
      "cell_type": "code",
      "metadata": {
        "id": "wQ0BTLQmOXEE",
        "colab_type": "code",
        "colab": {
          "base_uri": "https://localhost:8080/",
          "height": 0
        },
        "outputId": "76a4b792-39d0-41de-bd86-1eb40f6f11fa"
      },
      "source": [
        "# encoder self attetnion mask\n",
        "self_mask = get_pad_mask(enc_tokens)\n",
        "self_mask"
      ],
      "execution_count": 101,
      "outputs": [
        {
          "output_type": "execute_result",
          "data": {
            "text/plain": [
              "<tf.Tensor: shape=(1, 1, 6), dtype=float32, numpy=array([[[0., 0., 0., 0., 0., 1.]]], dtype=float32)>"
            ]
          },
          "metadata": {
            "tags": []
          },
          "execution_count": 101
        }
      ]
    },
    {
      "cell_type": "code",
      "metadata": {
        "id": "M3V8lHcKOSYN",
        "colab_type": "code",
        "colab": {
          "base_uri": "https://localhost:8080/",
          "height": 0
        },
        "outputId": "50914a65-ccec-4efb-b00a-3ade04a0f2c6"
      },
      "source": [
        "# encoder embedding\n",
        "enc_embed = embedding(enc_tokens)\n",
        "enc_embed"
      ],
      "execution_count": 102,
      "outputs": [
        {
          "output_type": "execute_result",
          "data": {
            "text/plain": [
              "<tf.Tensor: shape=(1, 6, 8), dtype=float32, numpy=\n",
              "array([[[ 0.19626832,  1.6160245 , -1.5125287 ,  0.8802097 ,\n",
              "          0.43964735, -0.49681696,  0.9233131 , -1.0172113 ],\n",
              "        [-1.851637  , -0.52205473, -1.1127012 ,  0.556745  ,\n",
              "         -1.2216276 ,  0.70823485, -0.7989583 , -0.48866653],\n",
              "        [-0.39263427, -1.7194668 ,  1.8227654 , -0.15567164,\n",
              "         -0.6654087 ,  0.68538827,  0.68061614,  0.74703187],\n",
              "        [-1.3610662 , -1.8012775 , -0.09980725, -0.69201565,\n",
              "         -1.6705056 , -0.07607771, -0.5028183 , -0.22716261],\n",
              "        [-0.20390666,  0.557556  , -0.40127853,  0.23037532,\n",
              "          0.02648634, -1.6108699 , -0.32580003, -0.3013221 ],\n",
              "        [-0.3198804 ,  1.3575249 , -0.15776914,  0.5804112 ,\n",
              "          0.4537885 ,  0.9504126 ,  1.6937656 ,  1.2484983 ]]],\n",
              "      dtype=float32)>"
            ]
          },
          "metadata": {
            "tags": []
          },
          "execution_count": 102
        }
      ]
    },
    {
      "cell_type": "code",
      "metadata": {
        "id": "9siOPgyXOlmN",
        "colab_type": "code",
        "colab": {
          "base_uri": "https://localhost:8080/",
          "height": 0
        },
        "outputId": "84569dfa-1ab6-48b1-e7cb-776f6207ed4e"
      },
      "source": [
        "# MultiHeadAttention\n",
        "self_attention = MultiHeadAttention(config)\n",
        "self_attn_val = self_attention(enc_embed, enc_embed, enc_embed, self_mask)\n",
        "self_attn_val"
      ],
      "execution_count": 103,
      "outputs": [
        {
          "output_type": "execute_result",
          "data": {
            "text/plain": [
              "<tf.Tensor: shape=(1, 6, 8), dtype=float32, numpy=\n",
              "array([[[ 0.06125213, -0.7417859 , -0.24070373, -0.13314433,\n",
              "          0.7362003 ,  0.05651649, -0.24332067, -0.39187843],\n",
              "        [-0.18421775, -0.63064814, -0.3743923 , -0.06857643,\n",
              "          0.58380187,  0.17402935, -0.20345758, -0.7997295 ],\n",
              "        [-0.09924531,  0.4825187 ,  0.6180561 , -0.7602583 ,\n",
              "          0.32308692, -0.52801055, -0.5650271 ,  0.2589812 ],\n",
              "        [-0.34235   , -0.10044113,  0.05761166, -0.13948211,\n",
              "          0.07773675,  0.08463562, -0.31411588, -0.46418273],\n",
              "        [ 0.12851135, -0.60527325, -0.07221869, -0.29906297,\n",
              "          0.7786446 , -0.08854971, -0.33206272, -0.179259  ],\n",
              "        [ 0.21461186, -0.42240644, -0.06978095, -0.3544655 ,\n",
              "          0.826947  , -0.15981814, -0.30214188, -0.10174474]]],\n",
              "      dtype=float32)>"
            ]
          },
          "metadata": {
            "tags": []
          },
          "execution_count": 103
        }
      ]
    },
    {
      "cell_type": "code",
      "metadata": {
        "id": "hGI5NdiaO7FS",
        "colab_type": "code",
        "colab": {
          "base_uri": "https://localhost:8080/",
          "height": 0
        },
        "outputId": "57971ace-35f2-48cd-9a54-165176898d4c"
      },
      "source": [
        "norm1 = tf.keras.layers.LayerNormalization(epsilon=config.layernorm_epsilon)\n",
        "dropout = tf.keras.layers.Dropout(config.dropout)\n",
        "norm1_val = norm1(enc_embed + dropout(self_attn_val))\n",
        "norm1_val"
      ],
      "execution_count": 104,
      "outputs": [
        {
          "output_type": "execute_result",
          "data": {
            "text/plain": [
              "<tf.Tensor: shape=(1, 6, 8), dtype=float32, numpy=\n",
              "array([[[ 0.23391862,  0.8324778 , -1.7176285 ,  0.70904917,\n",
              "          1.1252061 , -0.44335526,  0.6439511 , -1.3836191 ],\n",
              "        [-1.3507801 , -0.40145454, -0.7609007 ,  1.3623655 ,\n",
              "          0.15200171,  1.7859902 , -0.23990679, -0.5473152 ],\n",
              "        [-0.53051513, -1.2079626 ,  2.1360192 , -0.91607946,\n",
              "         -0.3945309 ,  0.05981676,  0.02182073,  0.83143145],\n",
              "        [-1.1077341 , -1.3979136 ,  1.3231605 ,  0.1681602 ,\n",
              "         -0.9458218 ,  1.3974291 ,  0.18947141,  0.37324786],\n",
              "        [ 0.39393005,  0.43556786, -0.20495962,  0.4040208 ,\n",
              "          1.7185609 , -2.0491915 , -0.4823123 , -0.21561636],\n",
              "        [-1.3229213 ,  0.43036264, -1.5289929 , -0.7647515 ,\n",
              "          1.0128044 ,  0.18680753,  1.1996758 ,  0.78701496]]],\n",
              "      dtype=float32)>"
            ]
          },
          "metadata": {
            "tags": []
          },
          "execution_count": 104
        }
      ]
    },
    {
      "cell_type": "code",
      "metadata": {
        "id": "eFpRZ-R3PV2C",
        "colab_type": "code",
        "colab": {
          "base_uri": "https://localhost:8080/",
          "height": 0
        },
        "outputId": "301c1dc2-c04b-4cb1-b379-6145765fe93e"
      },
      "source": [
        "ffn = PositionWiseFeedForward(config)\n",
        "ffn_val = ffn(norm1_val)\n",
        "ffn_val"
      ],
      "execution_count": 105,
      "outputs": [
        {
          "output_type": "execute_result",
          "data": {
            "text/plain": [
              "<tf.Tensor: shape=(1, 6, 8), dtype=float32, numpy=\n",
              "array([[[-0.3325595 ,  0.6135318 ,  0.20051412, -0.07957099,\n",
              "          0.7559771 , -0.07830811,  0.7206068 , -0.29344258],\n",
              "        [-0.41146573,  0.05666243, -0.22377066, -0.3695033 ,\n",
              "          0.26574633, -0.26741296,  0.5624498 , -0.14689448],\n",
              "        [ 0.5862982 , -0.6090269 , -0.23588449,  0.7762842 ,\n",
              "          0.48423082, -0.14400674,  1.137095  , -0.17276293],\n",
              "        [ 0.06423843, -0.7943398 ,  0.01329803,  0.21145219,\n",
              "          0.561966  ,  0.07592963,  0.5929384 ,  0.30395535],\n",
              "        [ 0.09608704,  1.0420611 , -0.5916425 ,  0.06332767,\n",
              "          0.7061918 , -0.1245482 ,  1.2926265 , -0.30812192],\n",
              "        [ 0.4622246 , -0.02264547, -0.22483435, -0.15210834,\n",
              "         -0.618608  , -0.45302588,  0.32223728, -0.51863307]]],\n",
              "      dtype=float32)>"
            ]
          },
          "metadata": {
            "tags": []
          },
          "execution_count": 105
        }
      ]
    },
    {
      "cell_type": "code",
      "metadata": {
        "id": "M-nhPgYpPft4",
        "colab_type": "code",
        "colab": {
          "base_uri": "https://localhost:8080/",
          "height": 0
        },
        "outputId": "ab56165f-0927-43d8-b3bd-255946f3dbe9"
      },
      "source": [
        "norm2 = tf.keras.layers.LayerNormalization(epsilon=config.layernorm_epsilon)\n",
        "enc_out = norm2(norm1_val + dropout(ffn_val))\n",
        "enc_out"
      ],
      "execution_count": 106,
      "outputs": [
        {
          "output_type": "execute_result",
          "data": {
            "text/plain": [
              "<tf.Tensor: shape=(1, 6, 8), dtype=float32, numpy=\n",
              "array([[[-0.22505724,  0.98627955, -1.3374442 ,  0.345944  ,\n",
              "          1.3275487 , -0.55679744,  0.922404  , -1.4628772 ],\n",
              "        [-1.6727693 , -0.2742958 , -0.90560675,  1.0454468 ,\n",
              "          0.47803363,  1.5641223 ,  0.38410345, -0.6190345 ],\n",
              "        [-0.16865917, -2.005106  ,  1.6399181 , -0.36044392,\n",
              "         -0.1354002 , -0.3059172 ,  0.9130763 ,  0.42253223],\n",
              "        [-0.99559164, -1.9712933 ,  1.0258316 ,  0.2131306 ,\n",
              "         -0.435324  ,  1.1421082 ,  0.55524814,  0.46589047],\n",
              "        [ 0.1634807 ,  0.9040362 , -0.80128396,  0.14648274,\n",
              "          1.6142321 , -1.8339232 ,  0.40365377, -0.59667844],\n",
              "        [-0.7451013 ,  0.5859788 , -1.6823572 , -0.80403924,\n",
              "          0.57179004, -0.12125265,  1.7552218 ,  0.43975964]]],\n",
              "      dtype=float32)>"
            ]
          },
          "metadata": {
            "tags": []
          },
          "execution_count": 106
        }
      ]
    },
    {
      "cell_type": "markdown",
      "metadata": {
        "id": "F8_N3eEDOA2z",
        "colab_type": "text"
      },
      "source": [
        "### Class"
      ]
    },
    {
      "cell_type": "code",
      "metadata": {
        "id": "Z3PGFf56lnVa",
        "colab_type": "code",
        "colab": {}
      },
      "source": [
        "class EncoderLayer(tf.keras.layers.Layer):\n",
        "    \"\"\"\n",
        "    Encoder Layer Class\n",
        "    \"\"\"\n",
        "    def __init__(self, config, name=\"encoder_layer\"):\n",
        "        \"\"\"\n",
        "        생성자\n",
        "        :param config: Config 객체\n",
        "        :param name: layer name\n",
        "        \"\"\"\n",
        "        super().__init__(name=name)\n",
        "\n",
        "        self.self_attention = MultiHeadAttention(config)\n",
        "        self.norm1 = tf.keras.layers.LayerNormalization(epsilon=config.layernorm_epsilon)\n",
        "\n",
        "        self.ffn = PositionWiseFeedForward(config)\n",
        "        self.norm2 = tf.keras.layers.LayerNormalization(epsilon=config.layernorm_epsilon)\n",
        "\n",
        "        self.dropout = tf.keras.layers.Dropout(config.dropout)\n",
        " \n",
        "    def call(self, enc_embed, self_mask):\n",
        "        \"\"\"\n",
        "        layer 실행\n",
        "        :param enc_embed: enc_embed 또는 이전 EncoderLayer의 출력\n",
        "        :param self_mask: enc_tokens의 pad mask\n",
        "        :return enc_out: EncoderLayer 실행 결과\n",
        "        \"\"\"\n",
        "        self_attn_val = self.self_attention(enc_embed, enc_embed, enc_embed, self_mask)\n",
        "        norm1_val = self.norm1(enc_embed + self.dropout(self_attn_val))\n",
        "\n",
        "        ffn_val = self.ffn(norm1_val)\n",
        "        enc_out = self.norm2(norm1_val + self.dropout(ffn_val))\n",
        "\n",
        "        return enc_out"
      ],
      "execution_count": 107,
      "outputs": []
    },
    {
      "cell_type": "markdown",
      "metadata": {
        "id": "I9zNYIgzPwW3",
        "colab_type": "text"
      },
      "source": [
        "### Test"
      ]
    },
    {
      "cell_type": "code",
      "metadata": {
        "id": "K3rfiHQ6nJt6",
        "colab_type": "code",
        "colab": {
          "base_uri": "https://localhost:8080/",
          "height": 0
        },
        "outputId": "c33bf0fe-3387-41ab-ea8b-069bdf4f5d9d"
      },
      "source": [
        "# EncoderLayer 기능 확인: 결과의 shape이 enc_embed과 같으면 성공\n",
        "encoder_layer = EncoderLayer(config)\n",
        "enc_out = encoder_layer(enc_embed, self_mask)\n",
        "assert enc_embed.shape == enc_out.shape\n",
        "enc_out"
      ],
      "execution_count": 108,
      "outputs": [
        {
          "output_type": "execute_result",
          "data": {
            "text/plain": [
              "<tf.Tensor: shape=(1, 6, 8), dtype=float32, numpy=\n",
              "array([[[ 1.3676884 ,  1.1106462 , -0.47449332,  0.5410458 ,\n",
              "         -0.4758251 , -1.8929135 ,  0.43532416, -0.6114727 ],\n",
              "        [-0.9921528 ,  0.11668632, -0.9610562 ,  1.8877946 ,\n",
              "         -1.0831547 ,  1.1038936 , -0.27301744,  0.20100632],\n",
              "        [-0.45617127, -2.2258744 ,  0.2684582 ,  0.9690313 ,\n",
              "         -0.6119591 ,  0.8086656 ,  0.5392151 ,  0.70863485],\n",
              "        [-0.5972522 , -1.7844365 , -0.00578466,  1.4824632 ,\n",
              "         -0.85839444,  1.1552196 ,  0.29377365,  0.31441143],\n",
              "        [ 1.0394422 ,  0.29920736,  0.12604168,  0.2683921 ,\n",
              "          0.4059655 , -2.5473633 ,  0.18588047,  0.22243404],\n",
              "        [-1.193143  , -0.7259167 , -0.794822  , -0.01026419,\n",
              "         -0.18535131,  0.03583572,  0.6497321 ,  2.2239294 ]]],\n",
              "      dtype=float32)>"
            ]
          },
          "metadata": {
            "tags": []
          },
          "execution_count": 108
        }
      ]
    },
    {
      "cell_type": "markdown",
      "metadata": {
        "id": "teJEuUHAlI5f",
        "colab_type": "text"
      },
      "source": [
        "## Decoder Layer\n",
        "\n",
        "![](https://paul-hyun.github.io/assets/transformer/decoder_layer.png)"
      ]
    },
    {
      "cell_type": "markdown",
      "metadata": {
        "id": "L9be5hBhR0k9",
        "colab_type": "text"
      },
      "source": [
        "### Tutorial"
      ]
    },
    {
      "cell_type": "code",
      "metadata": {
        "id": "MUVYeyNwQuTV",
        "colab_type": "code",
        "colab": {
          "base_uri": "https://localhost:8080/",
          "height": 0
        },
        "outputId": "9fc940e0-4208-4892-ac32-64f7bf1d01cc"
      },
      "source": [
        "# decoder self attention ahead mask\n",
        "self_mask = get_ahead_mask(dec_tokens)\n",
        "self_mask"
      ],
      "execution_count": 109,
      "outputs": [
        {
          "output_type": "execute_result",
          "data": {
            "text/plain": [
              "<tf.Tensor: shape=(1, 5, 5), dtype=float32, numpy=\n",
              "array([[[0., 1., 1., 1., 1.],\n",
              "        [0., 0., 1., 1., 1.],\n",
              "        [0., 0., 0., 1., 1.],\n",
              "        [0., 0., 0., 0., 1.],\n",
              "        [0., 0., 0., 0., 1.]]], dtype=float32)>"
            ]
          },
          "metadata": {
            "tags": []
          },
          "execution_count": 109
        }
      ]
    },
    {
      "cell_type": "code",
      "metadata": {
        "id": "5qjjwRI2Q3j-",
        "colab_type": "code",
        "colab": {
          "base_uri": "https://localhost:8080/",
          "height": 0
        },
        "outputId": "ad543185-248d-4262-940e-57dc14065f50"
      },
      "source": [
        "# encoder & decoder attention mask\n",
        "ende_mask = get_pad_mask(enc_tokens)\n",
        "ende_mask"
      ],
      "execution_count": 110,
      "outputs": [
        {
          "output_type": "execute_result",
          "data": {
            "text/plain": [
              "<tf.Tensor: shape=(1, 1, 6), dtype=float32, numpy=array([[[0., 0., 0., 0., 0., 1.]]], dtype=float32)>"
            ]
          },
          "metadata": {
            "tags": []
          },
          "execution_count": 110
        }
      ]
    },
    {
      "cell_type": "code",
      "metadata": {
        "id": "M3XHbm2lQWFc",
        "colab_type": "code",
        "colab": {
          "base_uri": "https://localhost:8080/",
          "height": 0
        },
        "outputId": "e09dd83c-f7f9-4fa0-f3a8-d4519f14955d"
      },
      "source": [
        "enc_out = embedding(enc_tokens)\n",
        "enc_out"
      ],
      "execution_count": 111,
      "outputs": [
        {
          "output_type": "execute_result",
          "data": {
            "text/plain": [
              "<tf.Tensor: shape=(1, 6, 8), dtype=float32, numpy=\n",
              "array([[[ 0.19626832,  1.6160245 , -1.5125287 ,  0.8802097 ,\n",
              "          0.43964735, -0.49681696,  0.9233131 , -1.0172113 ],\n",
              "        [-1.851637  , -0.52205473, -1.1127012 ,  0.556745  ,\n",
              "         -1.2216276 ,  0.70823485, -0.7989583 , -0.48866653],\n",
              "        [-0.39263427, -1.7194668 ,  1.8227654 , -0.15567164,\n",
              "         -0.6654087 ,  0.68538827,  0.68061614,  0.74703187],\n",
              "        [-1.3610662 , -1.8012775 , -0.09980725, -0.69201565,\n",
              "         -1.6705056 , -0.07607771, -0.5028183 , -0.22716261],\n",
              "        [-0.20390666,  0.557556  , -0.40127853,  0.23037532,\n",
              "          0.02648634, -1.6108699 , -0.32580003, -0.3013221 ],\n",
              "        [-0.3198804 ,  1.3575249 , -0.15776914,  0.5804112 ,\n",
              "          0.4537885 ,  0.9504126 ,  1.6937656 ,  1.2484983 ]]],\n",
              "      dtype=float32)>"
            ]
          },
          "metadata": {
            "tags": []
          },
          "execution_count": 111
        }
      ]
    },
    {
      "cell_type": "code",
      "metadata": {
        "id": "uYHuqpojQckk",
        "colab_type": "code",
        "colab": {
          "base_uri": "https://localhost:8080/",
          "height": 0
        },
        "outputId": "e9bd30d5-f9bc-47b4-bc45-fcd8ff60a023"
      },
      "source": [
        "dec_embed = embedding(dec_tokens)\n",
        "dec_embed"
      ],
      "execution_count": 112,
      "outputs": [
        {
          "output_type": "execute_result",
          "data": {
            "text/plain": [
              "<tf.Tensor: shape=(1, 5, 8), dtype=float32, numpy=\n",
              "array([[[-1.8684977 , -0.10887106, -1.6283252 , -0.09412991,\n",
              "         -0.9135378 , -0.5230187 ,  0.18054976,  1.0659311 ],\n",
              "        [-1.851637  , -0.52205473, -1.1127012 ,  0.556745  ,\n",
              "         -1.2216276 ,  0.70823485, -0.7989583 , -0.48866653],\n",
              "        [-0.20390666,  0.557556  , -0.40127853,  0.23037532,\n",
              "          0.02648634, -1.6108699 , -0.32580003, -0.3013221 ],\n",
              "        [ 0.8284642 ,  1.1036007 , -0.78627795,  1.6918567 ,\n",
              "         -0.34767905,  1.3073093 ,  0.2444622 , -0.7029787 ],\n",
              "        [-0.3198804 ,  1.3575249 , -0.15776914,  0.5804112 ,\n",
              "          0.4537885 ,  0.9504126 ,  1.6937656 ,  1.2484983 ]]],\n",
              "      dtype=float32)>"
            ]
          },
          "metadata": {
            "tags": []
          },
          "execution_count": 112
        }
      ]
    },
    {
      "cell_type": "code",
      "metadata": {
        "id": "R6YNM4zPQpn9",
        "colab_type": "code",
        "colab": {
          "base_uri": "https://localhost:8080/",
          "height": 0
        },
        "outputId": "1eaba855-c110-47f5-ee3f-6571d811923a"
      },
      "source": [
        "# MultiHeadAttention\n",
        "self_attention = MultiHeadAttention(config)\n",
        "self_attn_val = self_attention(dec_embed, dec_embed, dec_embed, self_mask)\n",
        "self_attn_val"
      ],
      "execution_count": 113,
      "outputs": [
        {
          "output_type": "execute_result",
          "data": {
            "text/plain": [
              "<tf.Tensor: shape=(1, 5, 8), dtype=float32, numpy=\n",
              "array([[[-0.2852324 ,  0.4208145 , -0.70683515,  1.2605366 ,\n",
              "          0.80964255, -0.70027095, -0.20946491, -0.98482513],\n",
              "        [-0.39821142,  0.49257648, -0.88418823,  0.88798165,\n",
              "          0.6358985 , -0.43642837, -0.03065154, -0.6418692 ],\n",
              "        [-0.3649325 ,  0.6137138 , -0.6272023 ,  0.31882334,\n",
              "          0.10736643, -0.12597029, -0.40170333,  0.11896834],\n",
              "        [ 0.07283233, -0.05366343, -0.6364631 ,  0.10185602,\n",
              "          0.01400785,  0.04241411, -0.00430873,  0.11441461],\n",
              "        [ 0.0622538 ,  0.08478439, -0.58896554,  0.46568584,\n",
              "          0.27507114, -0.19285972, -0.00310168, -0.3683273 ]]],\n",
              "      dtype=float32)>"
            ]
          },
          "metadata": {
            "tags": []
          },
          "execution_count": 113
        }
      ]
    },
    {
      "cell_type": "code",
      "metadata": {
        "id": "b9mNNIyURIVz",
        "colab_type": "code",
        "colab": {
          "base_uri": "https://localhost:8080/",
          "height": 0
        },
        "outputId": "01d7c846-2c22-44d7-c9dd-6f98ec4fee77"
      },
      "source": [
        "norm1 = tf.keras.layers.LayerNormalization(epsilon=config.layernorm_epsilon)\n",
        "dropout = tf.keras.layers.Dropout(config.dropout)\n",
        "norm1_val = norm1(dec_embed + dropout(self_attn_val))\n",
        "norm1_val"
      ],
      "execution_count": 114,
      "outputs": [
        {
          "output_type": "execute_result",
          "data": {
            "text/plain": [
              "<tf.Tensor: shape=(1, 5, 8), dtype=float32, numpy=\n",
              "array([[[-1.3941187 ,  0.73033136, -1.5504408 ,  1.4665457 ,\n",
              "          0.3720404 , -0.59244156,  0.43664402,  0.53143936],\n",
              "        [-1.4223993 ,  0.53723574, -1.199145  ,  1.8383268 ,\n",
              "          0.04630465,  0.803141  , -0.1689375 , -0.43452603],\n",
              "        [-0.31332773,  1.7050711 , -0.8464782 ,  0.98351413,\n",
              "          0.5017434 , -1.6681231 , -0.49736652,  0.13496701],\n",
              "        [ 0.51534015,  0.6605363 , -1.7548413 ,  1.3870759 ,\n",
              "         -0.6910091 ,  0.9533753 , -0.13048194, -0.93999517],\n",
              "        [-1.2389445 ,  0.9773583 , -1.8766224 ,  0.46079394,\n",
              "          0.04719358,  0.08460253,  1.3011523 ,  0.24446683]]],\n",
              "      dtype=float32)>"
            ]
          },
          "metadata": {
            "tags": []
          },
          "execution_count": 114
        }
      ]
    },
    {
      "cell_type": "code",
      "metadata": {
        "id": "cRZ-kXIeREfI",
        "colab_type": "code",
        "colab": {
          "base_uri": "https://localhost:8080/",
          "height": 0
        },
        "outputId": "353f548c-bb9e-415d-c54f-7eb7b96dfd35"
      },
      "source": [
        "# MultiHeadAttention\n",
        "ende_attn = MultiHeadAttention(config)\n",
        "ende_attn_val = ende_attn(norm1_val, enc_out, enc_out, ende_mask)\n",
        "ende_attn_val"
      ],
      "execution_count": 115,
      "outputs": [
        {
          "output_type": "execute_result",
          "data": {
            "text/plain": [
              "<tf.Tensor: shape=(1, 5, 8), dtype=float32, numpy=\n",
              "array([[[ 0.1556097 , -0.47930825, -0.10339537,  0.58925897,\n",
              "         -0.55039364,  0.41632497, -0.36272573, -0.715899  ],\n",
              "        [-0.08362544, -0.66093415, -0.8670446 ,  0.20810007,\n",
              "         -0.353948  ,  0.9197676 , -0.26825485, -0.30807742],\n",
              "        [ 0.40666932, -0.40180013,  0.29215094,  0.66815907,\n",
              "         -0.47366628,  0.16566025, -0.4442336 , -0.8687927 ],\n",
              "        [-0.08692276, -0.5690259 , -0.9159167 ,  0.15064606,\n",
              "         -0.26811436,  0.8909161 , -0.24519931, -0.15989664],\n",
              "        [-0.02124169, -0.61071146, -0.74210215,  0.38190126,\n",
              "         -0.54190004,  0.85552585, -0.3627075 , -0.45385766]]],\n",
              "      dtype=float32)>"
            ]
          },
          "metadata": {
            "tags": []
          },
          "execution_count": 115
        }
      ]
    },
    {
      "cell_type": "code",
      "metadata": {
        "id": "eSXb8l89Ratj",
        "colab_type": "code",
        "colab": {
          "base_uri": "https://localhost:8080/",
          "height": 0
        },
        "outputId": "26fc9b1a-dc9e-4648-b8e7-ade7e5eca09e"
      },
      "source": [
        "norm2 = tf.keras.layers.LayerNormalization(epsilon=config.layernorm_epsilon)\n",
        "norm2_val = norm2(norm1_val + dropout(ende_attn_val))\n",
        "norm2_val"
      ],
      "execution_count": 116,
      "outputs": [
        {
          "output_type": "execute_result",
          "data": {
            "text/plain": [
              "<tf.Tensor: shape=(1, 5, 8), dtype=float32, numpy=\n",
              "array([[[-1.0721947 ,  0.3702535 , -1.4743935 ,  2.1179862 ,\n",
              "         -0.04555035, -0.04338439,  0.19874692, -0.0514637 ],\n",
              "        [-0.9940957 ,  0.03967612, -1.4130145 ,  1.6626028 ,\n",
              "         -0.09788699,  1.42066   , -0.19477011, -0.42317158],\n",
              "        [ 0.1713014 ,  1.3534757 , -0.46151027,  1.6938858 ,\n",
              "          0.10753404, -1.3878962 , -0.8398993 , -0.6368911 ],\n",
              "        [ 0.4201039 ,  0.1755944 , -1.8291161 ,  1.2251794 ,\n",
              "         -0.58690095,  1.4476715 , -0.16346896, -0.6890632 ],\n",
              "        [-0.9123304 ,  0.47051668, -2.0671206 ,  0.8751692 ,\n",
              "         -0.2616543 ,  0.95798975,  0.9565587 , -0.01912916]]],\n",
              "      dtype=float32)>"
            ]
          },
          "metadata": {
            "tags": []
          },
          "execution_count": 116
        }
      ]
    },
    {
      "cell_type": "code",
      "metadata": {
        "id": "8oG4_TLaRnbh",
        "colab_type": "code",
        "colab": {
          "base_uri": "https://localhost:8080/",
          "height": 0
        },
        "outputId": "88b3723e-ca2c-4c89-9eaf-d0ff46f6a0d9"
      },
      "source": [
        "ffn = PositionWiseFeedForward(config)\n",
        "ffn_val = ffn(norm2_val)\n",
        "ffn_val"
      ],
      "execution_count": 117,
      "outputs": [
        {
          "output_type": "execute_result",
          "data": {
            "text/plain": [
              "<tf.Tensor: shape=(1, 5, 8), dtype=float32, numpy=\n",
              "array([[[ 0.06123817,  0.31636155,  1.4304272 ,  0.57025176,\n",
              "         -0.07129043, -0.2288833 , -0.58413416,  0.4339293 ],\n",
              "        [ 0.03198646,  0.07162552,  0.78945005,  0.7710272 ,\n",
              "         -0.128409  , -0.33248097,  0.03863737,  0.6759969 ],\n",
              "        [-0.834555  ,  0.6630019 ,  1.5049067 ,  1.1795566 ,\n",
              "          0.14338756,  0.25348714, -1.003786  ,  0.18767136],\n",
              "        [-0.33797997,  0.44553936,  0.5964004 ,  0.91889906,\n",
              "         -0.19107962, -0.34810108, -0.05615854,  0.90421027],\n",
              "        [ 0.42497897,  0.44764152,  1.067889  ,  0.8069382 ,\n",
              "         -0.21009508, -0.49760538, -0.04377609,  0.79625756]]],\n",
              "      dtype=float32)>"
            ]
          },
          "metadata": {
            "tags": []
          },
          "execution_count": 117
        }
      ]
    },
    {
      "cell_type": "code",
      "metadata": {
        "id": "7ixzZBNURq_1",
        "colab_type": "code",
        "colab": {
          "base_uri": "https://localhost:8080/",
          "height": 0
        },
        "outputId": "066c883f-fa30-4970-8930-a47dafc216d2"
      },
      "source": [
        "norm3 = tf.keras.layers.LayerNormalization(epsilon=config.layernorm_epsilon)\n",
        "dec_out = norm2(norm2_val + dropout(ffn_val))\n",
        "dec_out"
      ],
      "execution_count": 118,
      "outputs": [
        {
          "output_type": "execute_result",
          "data": {
            "text/plain": [
              "<tf.Tensor: shape=(1, 5, 8), dtype=float32, numpy=\n",
              "array([[[-1.2041254 ,  0.42860657, -0.27406985,  2.3537765 ,\n",
              "         -0.34416085, -0.49365118, -0.6024501 ,  0.13607427],\n",
              "        [-1.1928285 , -0.12746477, -0.8568218 ,  2.1774535 ,\n",
              "         -0.46253148,  0.8420893 , -0.39289424,  0.01299795],\n",
              "        [-0.6121968 ,  1.1614136 ,  0.51736873,  1.7286054 ,\n",
              "         -0.00713963, -0.9240364 , -1.3934789 , -0.4705361 ],\n",
              "        [-0.1597462 ,  0.38062987, -1.4779186 ,  1.9074349 ,\n",
              "         -1.0220308 ,  0.8602793 , -0.4622625 , -0.02638588],\n",
              "        [-0.98113656,  0.66763175, -1.5816104 ,  1.5638016 ,\n",
              "         -0.9628342 ,  0.1306287 ,  0.6613258 ,  0.5021932 ]]],\n",
              "      dtype=float32)>"
            ]
          },
          "metadata": {
            "tags": []
          },
          "execution_count": 118
        }
      ]
    },
    {
      "cell_type": "markdown",
      "metadata": {
        "id": "XpS8LxinR4HZ",
        "colab_type": "text"
      },
      "source": [
        "### Class"
      ]
    },
    {
      "cell_type": "code",
      "metadata": {
        "id": "iuaIfX6wolCJ",
        "colab_type": "code",
        "colab": {}
      },
      "source": [
        "class DecoderLayer(tf.keras.layers.Layer):\n",
        "    \"\"\"\n",
        "    Decoder Layer Class\n",
        "    \"\"\"\n",
        "    def __init__(self, config, name=\"decoder_layer\"):\n",
        "        \"\"\"\n",
        "        생성자\n",
        "        :param config: Config 객체\n",
        "        :param name: layer name\n",
        "        \"\"\"\n",
        "        super().__init__(name=name)\n",
        "\n",
        "        self.self_attention = MultiHeadAttention(config)\n",
        "        self.norm1 = tf.keras.layers.LayerNormalization(epsilon=config.layernorm_epsilon)\n",
        "\n",
        "        self.ende_attn = MultiHeadAttention(config)\n",
        "        self.norm2 = tf.keras.layers.LayerNormalization(epsilon=config.layernorm_epsilon)\n",
        "\n",
        "        self.ffn = PositionWiseFeedForward(config)\n",
        "        self.norm3 = tf.keras.layers.LayerNormalization(epsilon=config.layernorm_epsilon)\n",
        "\n",
        "        self.dropout = tf.keras.layers.Dropout(config.dropout)\n",
        "\n",
        "    def call(self, dec_embed, enc_out, self_mask, ende_mask):\n",
        "        \"\"\"\n",
        "        layer 실행\n",
        "        :param dec_embed: dec_embed 또는 이전 DecoderLayer의 출력\n",
        "        :param enc_out: 마지막 EncoderLayer의 출력\n",
        "        :param self_mask: dec_tokens의 ahead mask\n",
        "        :param ende_mask: enc_tokens의 pad mask\n",
        "        :return dec_out: DecoderLayer 실행 결과\n",
        "        \"\"\"\n",
        "        self_attn_val = self.self_attention(dec_embed, dec_embed, dec_embed, self_mask)\n",
        "        norm1_val = self.norm1(dec_embed + self.dropout(self_attn_val))\n",
        "\n",
        "        ende_attn_val = self.ende_attn(norm1_val, enc_out, enc_out, ende_mask)\n",
        "        norm2_val = self.norm2(norm1_val + self.dropout(ende_attn_val))\n",
        "\n",
        "        ffn_val = self.ffn(norm2_val)\n",
        "        dec_out = self.norm3(norm2_val + self.dropout(ffn_val))\n",
        "\n",
        "        return dec_out"
      ],
      "execution_count": 119,
      "outputs": []
    },
    {
      "cell_type": "markdown",
      "metadata": {
        "id": "hsohSU2sR7QF",
        "colab_type": "text"
      },
      "source": [
        "### Test"
      ]
    },
    {
      "cell_type": "code",
      "metadata": {
        "colab_type": "code",
        "id": "rXgIQENZp1Je",
        "colab": {
          "base_uri": "https://localhost:8080/",
          "height": 0
        },
        "outputId": "39aa9e76-45a9-4b63-be7f-c55ba26a2508"
      },
      "source": [
        "# Decoder 실행: 결과의 shape이 dec_embed 같으면 성공(?)\n",
        "decoder_layer = DecoderLayer(config)\n",
        "dec_out = decoder_layer(dec_embed, enc_out, self_mask, ende_mask)\n",
        "assert dec_embed.shape == dec_out.shape\n",
        "dec_out"
      ],
      "execution_count": 120,
      "outputs": [
        {
          "output_type": "execute_result",
          "data": {
            "text/plain": [
              "<tf.Tensor: shape=(1, 5, 8), dtype=float32, numpy=\n",
              "array([[[-1.0030594 ,  0.580575  , -1.697617  , -0.36998567,\n",
              "         -0.06975577,  0.05840588,  0.75268304,  1.7487538 ],\n",
              "        [-1.1175425 , -0.8313827 , -0.7349679 , -0.7224272 ,\n",
              "          0.15881291,  0.83438903,  0.38462862,  2.0284898 ],\n",
              "        [-1.3698311 ,  1.086454  , -1.0407254 ,  0.42365548,\n",
              "          0.6603588 , -1.1805588 ,  1.3566747 ,  0.06397215],\n",
              "        [-1.1084545 ,  1.1683538 , -0.28642395,  1.0768398 ,\n",
              "         -0.19314095,  0.10367056,  1.0011281 , -1.7619731 ],\n",
              "        [-1.9044942 ,  0.906461  , -1.0239764 , -0.09501362,\n",
              "          0.37727764, -0.11386959,  1.4811611 ,  0.37245405]]],\n",
              "      dtype=float32)>"
            ]
          },
          "metadata": {
            "tags": []
          },
          "execution_count": 120
        }
      ]
    },
    {
      "cell_type": "markdown",
      "metadata": {
        "id": "fC79J4CYuWF7",
        "colab_type": "text"
      },
      "source": [
        "## Transformer\n",
        "\n",
        "![](https://paul-hyun.github.io/assets/transformer/transformer.png)"
      ]
    },
    {
      "cell_type": "markdown",
      "metadata": {
        "id": "MRwW6_IRTtWv",
        "colab_type": "text"
      },
      "source": [
        "### Tutorial"
      ]
    },
    {
      "cell_type": "code",
      "metadata": {
        "id": "E5-0K2HaT4S8",
        "colab_type": "code",
        "colab": {
          "base_uri": "https://localhost:8080/",
          "height": 0
        },
        "outputId": "62621a5c-05a4-4792-95c7-f4b3f29d90ba"
      },
      "source": [
        "# encoder self attention mask\n",
        "enc_self_mask = get_pad_mask(enc_tokens)\n",
        "enc_self_mask"
      ],
      "execution_count": 121,
      "outputs": [
        {
          "output_type": "execute_result",
          "data": {
            "text/plain": [
              "<tf.Tensor: shape=(1, 1, 6), dtype=float32, numpy=array([[[0., 0., 0., 0., 0., 1.]]], dtype=float32)>"
            ]
          },
          "metadata": {
            "tags": []
          },
          "execution_count": 121
        }
      ]
    },
    {
      "cell_type": "code",
      "metadata": {
        "id": "sYbavBWVULDW",
        "colab_type": "code",
        "colab": {
          "base_uri": "https://localhost:8080/",
          "height": 0
        },
        "outputId": "393a31d2-7f40-4201-a72c-388fd52f4cda"
      },
      "source": [
        "# decoder self attention mask\n",
        "dec_self_mask = get_ahead_mask(dec_tokens)\n",
        "dec_self_mask"
      ],
      "execution_count": 122,
      "outputs": [
        {
          "output_type": "execute_result",
          "data": {
            "text/plain": [
              "<tf.Tensor: shape=(1, 5, 5), dtype=float32, numpy=\n",
              "array([[[0., 1., 1., 1., 1.],\n",
              "        [0., 0., 1., 1., 1.],\n",
              "        [0., 0., 0., 1., 1.],\n",
              "        [0., 0., 0., 0., 1.],\n",
              "        [0., 0., 0., 0., 1.]]], dtype=float32)>"
            ]
          },
          "metadata": {
            "tags": []
          },
          "execution_count": 122
        }
      ]
    },
    {
      "cell_type": "code",
      "metadata": {
        "id": "jsCPrXSHUXyW",
        "colab_type": "code",
        "colab": {
          "base_uri": "https://localhost:8080/",
          "height": 0
        },
        "outputId": "4208408c-1e3c-4817-9069-00c2693581e3"
      },
      "source": [
        "# encoder decoder attention mask\n",
        "ende_attn_mask = get_pad_mask(enc_tokens)\n",
        "ende_attn_mask"
      ],
      "execution_count": 123,
      "outputs": [
        {
          "output_type": "execute_result",
          "data": {
            "text/plain": [
              "<tf.Tensor: shape=(1, 1, 6), dtype=float32, numpy=array([[[0., 0., 0., 0., 0., 1.]]], dtype=float32)>"
            ]
          },
          "metadata": {
            "tags": []
          },
          "execution_count": 123
        }
      ]
    },
    {
      "cell_type": "code",
      "metadata": {
        "id": "o4TFj2QvTv9x",
        "colab_type": "code",
        "colab": {}
      },
      "source": [
        "# embedding 선언\n",
        "embedding = SharedEmbedding(config)\n",
        "position = PositionalEmbedding(config)"
      ],
      "execution_count": 124,
      "outputs": []
    },
    {
      "cell_type": "code",
      "metadata": {
        "id": "CDejHFtYUgJS",
        "colab_type": "code",
        "colab": {
          "base_uri": "https://localhost:8080/",
          "height": 0
        },
        "outputId": "60a9e7c7-0df6-41d9-8d7f-17e7cc2770dd"
      },
      "source": [
        "# encoder embedding\n",
        "enc_embed = embedding(enc_tokens) + position(enc_tokens)\n",
        "enc_embed"
      ],
      "execution_count": 125,
      "outputs": [
        {
          "output_type": "execute_result",
          "data": {
            "text/plain": [
              "<tf.Tensor: shape=(1, 6, 8), dtype=float32, numpy=\n",
              "array([[[ 0.08233406,  2.8566623 , -1.413196  ,  1.9292356 ,\n",
              "          1.0852543 ,  2.3589113 ,  1.0987881 , -0.57102036],\n",
              "        [ 1.3721294 ,  0.86170125,  1.0635568 ,  2.274029  ,\n",
              "         -0.4628705 , -0.1085456 , -0.69250786,  0.23946345],\n",
              "        [-0.18527573,  0.14757022,  0.17361866,  1.924506  ,\n",
              "         -1.076756  , -0.657716  ,  0.59556913, -0.09281492],\n",
              "        [ 2.06635   , -1.9722767 ,  0.16101182,  1.0998178 ,\n",
              "          0.32978362,  0.16121948, -0.7051664 ,  0.13986266],\n",
              "        [ 0.9735252 , -1.039552  ,  0.6461056 ,  2.1154597 ,\n",
              "         -0.73406786,  0.39392954, -1.1797982 ,  1.0604619 ],\n",
              "        [-1.0512958 ,  0.5968548 , -0.70903325,  0.7909003 ,\n",
              "          1.8263443 ,  1.3972509 , -0.44632512, -0.08020413]]],\n",
              "      dtype=float32)>"
            ]
          },
          "metadata": {
            "tags": []
          },
          "execution_count": 125
        }
      ]
    },
    {
      "cell_type": "code",
      "metadata": {
        "id": "PU-JPl-lUp0b",
        "colab_type": "code",
        "colab": {
          "base_uri": "https://localhost:8080/",
          "height": 0
        },
        "outputId": "5c83bbd1-216e-42a7-ffed-d8d7a7e1774d"
      },
      "source": [
        "# encoder embedding\n",
        "dec_embed = embedding(dec_tokens) + position(dec_tokens)\n",
        "dec_embed"
      ],
      "execution_count": 126,
      "outputs": [
        {
          "output_type": "execute_result",
          "data": {
            "text/plain": [
              "<tf.Tensor: shape=(1, 5, 8), dtype=float32, numpy=\n",
              "array([[[-0.15543607,  1.4198871 ,  0.8532211 ,  0.48257583,\n",
              "         -0.01898028,  0.6980718 , -0.94074667,  1.5109348 ],\n",
              "        [ 1.3721294 ,  0.86170125,  1.0635568 ,  2.274029  ,\n",
              "         -0.4628705 , -0.1085456 , -0.69250786,  0.23946345],\n",
              "        [ 2.639625  , -0.8020551 ,  0.4553566 ,  2.1744652 ,\n",
              "         -0.75405854,  0.39452946, -1.1817982 ,  1.0604678 ],\n",
              "        [ 0.2066074 , -1.1322836 , -1.0079966 ,  1.0053984 ,\n",
              "         -0.9590478 ,  0.34747452, -0.24890092,  2.4411082 ],\n",
              "        [-0.84917396, -0.340451  , -0.79904044,  0.8343787 ,\n",
              "          1.8163544 ,  1.3977008 , -0.4473251 , -0.0801996 ]]],\n",
              "      dtype=float32)>"
            ]
          },
          "metadata": {
            "tags": []
          },
          "execution_count": 126
        }
      ]
    },
    {
      "cell_type": "code",
      "metadata": {
        "id": "NDwvDtJeUwnA",
        "colab_type": "code",
        "colab": {}
      },
      "source": [
        "dropout = tf.keras.layers.Dropout(config.dropout)"
      ],
      "execution_count": 127,
      "outputs": []
    },
    {
      "cell_type": "code",
      "metadata": {
        "id": "GTSc3HkxUzHl",
        "colab_type": "code",
        "colab": {}
      },
      "source": [
        "enc_out = dropout(enc_embed)"
      ],
      "execution_count": 128,
      "outputs": []
    },
    {
      "cell_type": "code",
      "metadata": {
        "id": "07h9QYTRU33t",
        "colab_type": "code",
        "colab": {
          "base_uri": "https://localhost:8080/",
          "height": 0
        },
        "outputId": "385b2131-c51f-4d51-b97b-ca8c026c117d"
      },
      "source": [
        "# encoder layer 생성 config.n_layer 개수\n",
        "encoder_layers = [EncoderLayer(config, name=f\"encoder_layer_{i}\") for i in range(config.n_layer)]\n",
        "assert len(encoder_layers) == config.n_layer\n",
        "encoder_layers"
      ],
      "execution_count": 129,
      "outputs": [
        {
          "output_type": "execute_result",
          "data": {
            "text/plain": [
              "[<__main__.EncoderLayer at 0x7f554009cb00>,\n",
              " <__main__.EncoderLayer at 0x7f55400c49e8>,\n",
              " <__main__.EncoderLayer at 0x7f554016a748>]"
            ]
          },
          "metadata": {
            "tags": []
          },
          "execution_count": 129
        }
      ]
    },
    {
      "cell_type": "code",
      "metadata": {
        "id": "I9KWtAdeVBcf",
        "colab_type": "code",
        "colab": {
          "base_uri": "https://localhost:8080/",
          "height": 0
        },
        "outputId": "6598d53a-9796-4359-c0db-8b4899ae2e16"
      },
      "source": [
        "# layer를 순환하며 실행. 이전 layer 결과가 다음 layer 입력이 됨\n",
        "for encoder_layer in encoder_layers:\n",
        "    enc_out = encoder_layer(enc_out, enc_self_mask)\n",
        "enc_out"
      ],
      "execution_count": 130,
      "outputs": [
        {
          "output_type": "execute_result",
          "data": {
            "text/plain": [
              "<tf.Tensor: shape=(1, 6, 8), dtype=float32, numpy=\n",
              "array([[[-0.0164199 ,  1.7443534 , -1.9569262 ,  0.805189  ,\n",
              "          0.29447836, -0.01110621, -0.51996946, -0.3395991 ],\n",
              "        [ 0.6596276 , -0.21063349, -0.84621406,  2.2521105 ,\n",
              "         -0.92478037, -0.92603725,  0.08337084, -0.08744389],\n",
              "        [ 0.44695544, -0.23582178, -0.8397596 ,  2.1305463 ,\n",
              "         -1.0522934 , -1.0793475 ,  0.4280118 ,  0.20170875],\n",
              "        [ 1.2166032 , -1.2724937 , -0.417235  ,  1.5618125 ,\n",
              "         -0.7329493 , -1.0821369 ,  0.7565194 , -0.03012013],\n",
              "        [ 0.819291  , -0.93700683, -0.43735653,  1.8818612 ,\n",
              "         -1.0563735 , -1.0849974 ,  0.61743873,  0.19714335],\n",
              "        [-0.02201808,  0.60482967, -1.72039   , -0.15700594,\n",
              "          1.844797  , -0.1131691 ,  0.53396606, -0.9710096 ]]],\n",
              "      dtype=float32)>"
            ]
          },
          "metadata": {
            "tags": []
          },
          "execution_count": 130
        }
      ]
    },
    {
      "cell_type": "code",
      "metadata": {
        "id": "qmgQm2xYVYnu",
        "colab_type": "code",
        "colab": {}
      },
      "source": [
        "dec_out = dropout(dec_embed)"
      ],
      "execution_count": 131,
      "outputs": []
    },
    {
      "cell_type": "code",
      "metadata": {
        "id": "KhwNJjYuVbE-",
        "colab_type": "code",
        "colab": {
          "base_uri": "https://localhost:8080/",
          "height": 0
        },
        "outputId": "6c5e8142-7bf6-42bf-85f6-df8ab6326c1f"
      },
      "source": [
        "# decoder layer 생성 config.n_layer 개수\n",
        "decoder_layers = [DecoderLayer(config, name=f\"decoder_layer_{i}\") for i in range(config.n_layer)]\n",
        "assert len(decoder_layers) == config.n_layer\n",
        "decoder_layers"
      ],
      "execution_count": 132,
      "outputs": [
        {
          "output_type": "execute_result",
          "data": {
            "text/plain": [
              "[<__main__.DecoderLayer at 0x7f554009c7b8>,\n",
              " <__main__.DecoderLayer at 0x7f55401b7b38>,\n",
              " <__main__.DecoderLayer at 0x7f5540191cc0>]"
            ]
          },
          "metadata": {
            "tags": []
          },
          "execution_count": 132
        }
      ]
    },
    {
      "cell_type": "code",
      "metadata": {
        "id": "bmQ8m5JMVrjw",
        "colab_type": "code",
        "colab": {
          "base_uri": "https://localhost:8080/",
          "height": 0
        },
        "outputId": "2ab4f543-1bb2-4924-c88f-abae28185331"
      },
      "source": [
        "for decoder_layer in decoder_layers:\n",
        "    dec_out = decoder_layer(dec_out, enc_out, dec_self_mask, ende_attn_mask)\n",
        "dec_out"
      ],
      "execution_count": 133,
      "outputs": [
        {
          "output_type": "execute_result",
          "data": {
            "text/plain": [
              "<tf.Tensor: shape=(1, 5, 8), dtype=float32, numpy=\n",
              "array([[[ 0.30285424, -0.94883025,  0.1538057 ,  0.08533417,\n",
              "          1.1990507 , -2.1416757 ,  0.8097739 ,  0.53968716],\n",
              "        [ 0.43946582, -1.0445919 ,  0.19191447, -0.01680876,\n",
              "          1.034282  , -2.106845  ,  0.8839409 ,  0.6186423 ],\n",
              "        [ 0.42350546, -1.0721103 ,  0.1601551 , -0.14043942,\n",
              "          1.0635351 , -2.0400596 ,  0.9408983 ,  0.66451526],\n",
              "        [ 0.2995789 , -1.0043011 ,  0.03578647, -0.15494531,\n",
              "          1.1705276 , -2.0160024 ,  0.98067087,  0.68868476],\n",
              "        [ 0.3538905 , -1.0061551 , -0.11797055, -0.07693058,\n",
              "          1.4073578 , -1.947783  ,  0.916879  ,  0.47071174]]],\n",
              "      dtype=float32)>"
            ]
          },
          "metadata": {
            "tags": []
          },
          "execution_count": 133
        }
      ]
    },
    {
      "cell_type": "code",
      "metadata": {
        "id": "fin1ZkzlV0f5",
        "colab_type": "code",
        "colab": {
          "base_uri": "https://localhost:8080/",
          "height": 0
        },
        "outputId": "8638a7db-cd26-4163-eb23-8a75c6e653a8"
      },
      "source": [
        "# 최종 softmax 이전 linear 실행\n",
        "logits = embedding(dec_out, mode=\"linear\")\n",
        "logits"
      ],
      "execution_count": 134,
      "outputs": [
        {
          "output_type": "execute_result",
          "data": {
            "text/plain": [
              "<tf.Tensor: shape=(1, 5, 10), dtype=float32, numpy=\n",
              "array([[[-0.06621161,  0.2626956 , -0.28878814, -0.3288377 ,\n",
              "         -1.2169118 ,  0.92771053,  0.47236478,  0.33521676,\n",
              "         -0.07798429,  0.16750902],\n",
              "        [-0.23472112,  0.33451465, -0.17469805, -0.21850187,\n",
              "         -1.389923  ,  0.9765578 ,  0.3945058 ,  0.29124185,\n",
              "         -0.08254419,  0.23275888],\n",
              "        [-0.21893947,  0.340652  , -0.18914412, -0.14528832,\n",
              "         -1.3932418 ,  0.92554075,  0.29794604,  0.161028  ,\n",
              "         -0.09069928,  0.12650466],\n",
              "        [-0.09967335,  0.35724464, -0.28541893, -0.13641341,\n",
              "         -1.2403265 ,  0.80971336,  0.29909956,  0.0529805 ,\n",
              "         -0.12083422, -0.02653166],\n",
              "        [ 0.21233742,  0.22691667, -0.37151024, -0.14081179,\n",
              "         -0.91757333,  0.94576293,  0.24414268,  0.05377041,\n",
              "         -0.21177752, -0.03143537]]], dtype=float32)>"
            ]
          },
          "metadata": {
            "tags": []
          },
          "execution_count": 134
        }
      ]
    },
    {
      "cell_type": "markdown",
      "metadata": {
        "id": "fQDSL7Q1TrvJ",
        "colab_type": "text"
      },
      "source": [
        "### Class"
      ]
    },
    {
      "cell_type": "code",
      "metadata": {
        "id": "SD4jefa2SIpS",
        "colab_type": "code",
        "colab": {}
      },
      "source": [
        "class Transformer(tf.keras.layers.Layer):\n",
        "    \"\"\"\n",
        "    Transformer Class\n",
        "    \"\"\"\n",
        "    def __init__(self, config, name=\"transformer\"):\n",
        "        \"\"\"\n",
        "        생성자\n",
        "        :param config: Config 객체\n",
        "        :param name: layer name\n",
        "        \"\"\"\n",
        "        super().__init__(name=name)\n",
        "\n",
        "        self.i_pad = config.i_pad\n",
        "        self.embedding = SharedEmbedding(config)\n",
        "        self.position = PositionalEmbedding(config)\n",
        "        \n",
        "        self.encoder_layers = [EncoderLayer(config, name=f\"encoder_layer_{i}\") for i in range(config.n_layer)]\n",
        "        self.decoder_layers = [DecoderLayer(config, name=f\"decoder_layer_{i}\") for i in range(config.n_layer)]\n",
        "\n",
        "        self.dropout = tf.keras.layers.Dropout(config.dropout)\n",
        "\n",
        "    def call(self, inputs):\n",
        "        \"\"\"\n",
        "        layer 실행\n",
        "        :param inputs: (enc_tokens, dec_tokens) tuple\n",
        "        :return logits: dec_tokens에 대한 다음 토큰 예측 결과 logits\n",
        "        \"\"\"\n",
        "        enc_tokens, dec_tokens = inputs\n",
        "\n",
        "        enc_self_mask = tf.keras.layers.Lambda(get_pad_mask, output_shape=(1, None), name='enc_self_mask')(enc_tokens, self.i_pad)\n",
        "        dec_self_mask = tf.keras.layers.Lambda(get_ahead_mask, output_shape=(None, None), name='dec_self_mask')(dec_tokens, self.i_pad)\n",
        "        ende_attn_mask = tf.keras.layers.Lambda(get_pad_mask, output_shape=(1, None), name='ende_attn_mask')(enc_tokens, self.i_pad)\n",
        "\n",
        "        enc_embed = self.get_embedding(enc_tokens)\n",
        "        dec_embed = self.get_embedding(dec_tokens)\n",
        "\n",
        "        enc_out = self.dropout(enc_embed)\n",
        "        for encoder_layer in self.encoder_layers:\n",
        "            enc_out = encoder_layer(enc_out, enc_self_mask)\n",
        "        \n",
        "        dec_out = self.dropout(dec_embed)\n",
        "        for decoder_layer in self.decoder_layers:\n",
        "            dec_out = decoder_layer(dec_out, enc_out, dec_self_mask, ende_attn_mask)\n",
        "\n",
        "        logits = self.embedding(dec_out, mode=\"linear\")\n",
        "        return logits\n",
        "    \n",
        "    def get_embedding(self, tokens):\n",
        "        \"\"\"\n",
        "        token embedding, position embedding lookup\n",
        "        :param tokens: 입력 tokens\n",
        "        :return embed: embedding 결과\n",
        "        \"\"\"\n",
        "        embed = self.embedding(tokens) + self.position(tokens)\n",
        "        return embed"
      ],
      "execution_count": 135,
      "outputs": []
    },
    {
      "cell_type": "markdown",
      "metadata": {
        "id": "_N5l-XL5WAuP",
        "colab_type": "text"
      },
      "source": [
        "### Test"
      ]
    },
    {
      "cell_type": "code",
      "metadata": {
        "id": "ho09l7wwWC0Y",
        "colab_type": "code",
        "colab": {
          "base_uri": "https://localhost:8080/",
          "height": 0
        },
        "outputId": "c8cc45d1-8a4b-442b-d3ca-71bc31a6aa1d"
      },
      "source": [
        "# Transformer 기능 확인. 최종 결과가 (bs, n_seq(dec), n_vocab)\n",
        "transformer = Transformer(config)\n",
        "\n",
        "logits = transformer((enc_tokens, dec_tokens))\n",
        "assert logits.shape == (dec_tokens.shape[0], dec_tokens.shape[1], config.n_vocab)\n",
        "logits"
      ],
      "execution_count": 136,
      "outputs": [
        {
          "output_type": "execute_result",
          "data": {
            "text/plain": [
              "<tf.Tensor: shape=(1, 5, 10), dtype=float32, numpy=\n",
              "array([[[-0.22803521,  0.12426312, -0.43943322, -0.80678964,\n",
              "         -0.06882856,  1.1942756 ,  0.9215124 ,  0.03392895,\n",
              "         -0.05843499, -0.3590299 ],\n",
              "        [-0.25559124,  0.2801765 , -0.20359847, -0.82338655,\n",
              "         -0.01472074,  1.2325627 ,  1.1135418 ,  0.55003893,\n",
              "          0.13010341, -0.5705525 ],\n",
              "        [-0.12270705,  0.05449368, -0.467516  , -0.8853946 ,\n",
              "         -0.16956867,  1.1342182 ,  0.79351115, -0.20254382,\n",
              "         -0.08344322, -0.09620897],\n",
              "        [-0.03693207,  0.12546481, -0.36338612, -0.92431194,\n",
              "         -0.14594169,  1.0637096 ,  0.8613004 , -0.13289632,\n",
              "         -0.0784255 , -0.2210991 ],\n",
              "        [ 0.05455402,  0.12219068, -0.35891038, -0.9438473 ,\n",
              "         -0.17226166,  0.9925857 ,  0.84797823, -0.20073786,\n",
              "         -0.06487098, -0.2746322 ]]], dtype=float32)>"
            ]
          },
          "metadata": {
            "tags": []
          },
          "execution_count": 136
        }
      ]
    },
    {
      "cell_type": "markdown",
      "metadata": {
        "id": "tOZoGy998QRV",
        "colab_type": "text"
      },
      "source": [
        "# Transformer Train (Songys)"
      ]
    },
    {
      "cell_type": "code",
      "metadata": {
        "id": "SY0szhZ4cWzM",
        "colab_type": "code",
        "colab": {}
      },
      "source": [
        "# 위에서 Q, K, V의 K와 중복 돔\n",
        "import tensorflow.keras.backend as K"
      ],
      "execution_count": 137,
      "outputs": []
    },
    {
      "cell_type": "code",
      "metadata": {
        "id": "Itc2MqpAEmex",
        "colab_type": "code",
        "colab": {}
      },
      "source": [
        "def print_file(filename, count=5):\n",
        "    \"\"\"\n",
        "    파일 내용 출력\n",
        "    :param filename: 파일 이름\n",
        "    :param count: 출력 라인 수\n",
        "    \"\"\"\n",
        "    with open(filename) as f:\n",
        "        for i, line in enumerate(f):\n",
        "            if count <= i:\n",
        "                break\n",
        "            print(line.strip())"
      ],
      "execution_count": 138,
      "outputs": []
    },
    {
      "cell_type": "markdown",
      "metadata": {
        "id": "34abQnr98r7B",
        "colab_type": "text"
      },
      "source": [
        "## Download Data"
      ]
    },
    {
      "cell_type": "code",
      "metadata": {
        "id": "GFwVgQYX8uG3",
        "colab_type": "code",
        "colab": {
          "base_uri": "https://localhost:8080/",
          "height": 0
        },
        "outputId": "34788cd3-ef1f-440e-fad3-02bf01e83a65"
      },
      "source": [
        "# 다운로드\n",
        "!wget https://raw.githubusercontent.com/songys/Chatbot_data/master/ChatbotData%20.csv"
      ],
      "execution_count": 139,
      "outputs": [
        {
          "output_type": "stream",
          "text": [
            "--2020-08-23 13:14:08--  https://raw.githubusercontent.com/songys/Chatbot_data/master/ChatbotData%20.csv\n",
            "Resolving raw.githubusercontent.com (raw.githubusercontent.com)... 151.101.0.133, 151.101.64.133, 151.101.128.133, ...\n",
            "Connecting to raw.githubusercontent.com (raw.githubusercontent.com)|151.101.0.133|:443... connected.\n",
            "HTTP request sent, awaiting response... 200 OK\n",
            "Length: 889842 (869K) [text/plain]\n",
            "Saving to: ‘ChatbotData .csv’\n",
            "\n",
            "\rChatbotData .csv      0%[                    ]       0  --.-KB/s               \rChatbotData .csv    100%[===================>] 868.99K  --.-KB/s    in 0.05s   \n",
            "\n",
            "2020-08-23 13:14:09 (18.8 MB/s) - ‘ChatbotData .csv’ saved [889842/889842]\n",
            "\n"
          ],
          "name": "stdout"
        }
      ]
    },
    {
      "cell_type": "code",
      "metadata": {
        "id": "OtLSGXP-8quQ",
        "colab_type": "code",
        "colab": {}
      },
      "source": [
        "# 이름변경 (원본 파일 이름에 공백 제거)\n",
        "!mv ChatbotData\\ .csv ChatbotData.csv"
      ],
      "execution_count": 140,
      "outputs": []
    },
    {
      "cell_type": "code",
      "metadata": {
        "id": "U2hN4yQGDoHB",
        "colab_type": "code",
        "colab": {
          "base_uri": "https://localhost:8080/",
          "height": 0
        },
        "outputId": "a60e2a98-06d6-4a05-f0f1-28fb68e81355"
      },
      "source": [
        "print_file(\"ChatbotData.csv\")"
      ],
      "execution_count": 141,
      "outputs": [
        {
          "output_type": "stream",
          "text": [
            "Q,A,label\n",
            "12시 땡!,하루가 또 가네요.,0\n",
            "1지망 학교 떨어졌어,위로해 드립니다.,0\n",
            "3박4일 놀러가고 싶다,여행은 언제나 좋죠.,0\n",
            "3박4일 정도 놀러가고 싶다,여행은 언제나 좋죠.,0\n"
          ],
          "name": "stdout"
        }
      ]
    },
    {
      "cell_type": "markdown",
      "metadata": {
        "id": "S3266YeXD2Yw",
        "colab_type": "text"
      },
      "source": [
        "## Create Vocab"
      ]
    },
    {
      "cell_type": "code",
      "metadata": {
        "id": "Kt-vE5irD-aI",
        "colab_type": "code",
        "colab": {
          "base_uri": "https://localhost:8080/",
          "height": 0
        },
        "outputId": "b29dee5f-5206-454d-d0c1-ff3b4b20a8a4"
      },
      "source": [
        "# head=0 첫벗째 줄이 head\n",
        "chatbot_data = pd.read_csv(\"ChatbotData.csv\", header=0)\n",
        "chatbot_data.head(10)"
      ],
      "execution_count": 142,
      "outputs": [
        {
          "output_type": "execute_result",
          "data": {
            "text/html": [
              "<div>\n",
              "<style scoped>\n",
              "    .dataframe tbody tr th:only-of-type {\n",
              "        vertical-align: middle;\n",
              "    }\n",
              "\n",
              "    .dataframe tbody tr th {\n",
              "        vertical-align: top;\n",
              "    }\n",
              "\n",
              "    .dataframe thead th {\n",
              "        text-align: right;\n",
              "    }\n",
              "</style>\n",
              "<table border=\"1\" class=\"dataframe\">\n",
              "  <thead>\n",
              "    <tr style=\"text-align: right;\">\n",
              "      <th></th>\n",
              "      <th>Q</th>\n",
              "      <th>A</th>\n",
              "      <th>label</th>\n",
              "    </tr>\n",
              "  </thead>\n",
              "  <tbody>\n",
              "    <tr>\n",
              "      <th>0</th>\n",
              "      <td>12시 땡!</td>\n",
              "      <td>하루가 또 가네요.</td>\n",
              "      <td>0</td>\n",
              "    </tr>\n",
              "    <tr>\n",
              "      <th>1</th>\n",
              "      <td>1지망 학교 떨어졌어</td>\n",
              "      <td>위로해 드립니다.</td>\n",
              "      <td>0</td>\n",
              "    </tr>\n",
              "    <tr>\n",
              "      <th>2</th>\n",
              "      <td>3박4일 놀러가고 싶다</td>\n",
              "      <td>여행은 언제나 좋죠.</td>\n",
              "      <td>0</td>\n",
              "    </tr>\n",
              "    <tr>\n",
              "      <th>3</th>\n",
              "      <td>3박4일 정도 놀러가고 싶다</td>\n",
              "      <td>여행은 언제나 좋죠.</td>\n",
              "      <td>0</td>\n",
              "    </tr>\n",
              "    <tr>\n",
              "      <th>4</th>\n",
              "      <td>PPL 심하네</td>\n",
              "      <td>눈살이 찌푸려지죠.</td>\n",
              "      <td>0</td>\n",
              "    </tr>\n",
              "    <tr>\n",
              "      <th>5</th>\n",
              "      <td>SD카드 망가졌어</td>\n",
              "      <td>다시 새로 사는 게 마음 편해요.</td>\n",
              "      <td>0</td>\n",
              "    </tr>\n",
              "    <tr>\n",
              "      <th>6</th>\n",
              "      <td>SD카드 안돼</td>\n",
              "      <td>다시 새로 사는 게 마음 편해요.</td>\n",
              "      <td>0</td>\n",
              "    </tr>\n",
              "    <tr>\n",
              "      <th>7</th>\n",
              "      <td>SNS 맞팔 왜 안하지ㅠㅠ</td>\n",
              "      <td>잘 모르고 있을 수도 있어요.</td>\n",
              "      <td>0</td>\n",
              "    </tr>\n",
              "    <tr>\n",
              "      <th>8</th>\n",
              "      <td>SNS 시간낭비인 거 아는데 매일 하는 중</td>\n",
              "      <td>시간을 정하고 해보세요.</td>\n",
              "      <td>0</td>\n",
              "    </tr>\n",
              "    <tr>\n",
              "      <th>9</th>\n",
              "      <td>SNS 시간낭비인데 자꾸 보게됨</td>\n",
              "      <td>시간을 정하고 해보세요.</td>\n",
              "      <td>0</td>\n",
              "    </tr>\n",
              "  </tbody>\n",
              "</table>\n",
              "</div>"
            ],
            "text/plain": [
              "                         Q                   A  label\n",
              "0                   12시 땡!          하루가 또 가네요.      0\n",
              "1              1지망 학교 떨어졌어           위로해 드립니다.      0\n",
              "2             3박4일 놀러가고 싶다         여행은 언제나 좋죠.      0\n",
              "3          3박4일 정도 놀러가고 싶다         여행은 언제나 좋죠.      0\n",
              "4                  PPL 심하네          눈살이 찌푸려지죠.      0\n",
              "5                SD카드 망가졌어  다시 새로 사는 게 마음 편해요.      0\n",
              "6                  SD카드 안돼  다시 새로 사는 게 마음 편해요.      0\n",
              "7           SNS 맞팔 왜 안하지ㅠㅠ    잘 모르고 있을 수도 있어요.      0\n",
              "8  SNS 시간낭비인 거 아는데 매일 하는 중       시간을 정하고 해보세요.      0\n",
              "9        SNS 시간낭비인데 자꾸 보게됨       시간을 정하고 해보세요.      0"
            ]
          },
          "metadata": {
            "tags": []
          },
          "execution_count": 142
        }
      ]
    },
    {
      "cell_type": "code",
      "metadata": {
        "id": "r5QPVFHbEE5P",
        "colab_type": "code",
        "colab": {
          "base_uri": "https://localhost:8080/",
          "height": 0
        },
        "outputId": "a4c5d359-35ac-422d-d76b-94428d6aef9e"
      },
      "source": [
        "# data 합치기\n",
        "corpus_set = pd.Series(chatbot_data['Q'].tolist() + chatbot_data['A'].tolist()).astype(str)\n",
        "corpus_set.head(10)"
      ],
      "execution_count": 143,
      "outputs": [
        {
          "output_type": "execute_result",
          "data": {
            "text/plain": [
              "0                     12시 땡!\n",
              "1                1지망 학교 떨어졌어\n",
              "2               3박4일 놀러가고 싶다\n",
              "3            3박4일 정도 놀러가고 싶다\n",
              "4                    PPL 심하네\n",
              "5                  SD카드 망가졌어\n",
              "6                    SD카드 안돼\n",
              "7             SNS 맞팔 왜 안하지ㅠㅠ\n",
              "8    SNS 시간낭비인 거 아는데 매일 하는 중\n",
              "9          SNS 시간낭비인데 자꾸 보게됨\n",
              "dtype: object"
            ]
          },
          "metadata": {
            "tags": []
          },
          "execution_count": 143
        }
      ]
    },
    {
      "cell_type": "code",
      "metadata": {
        "id": "uWXTBj3hETZI",
        "colab_type": "code",
        "colab": {}
      },
      "source": [
        "with open(\"ChatbotData.txt\", \"w\") as f:\n",
        "    for line in corpus_set:\n",
        "        f.write(line.strip())\n",
        "        f.write(\"\\n\")"
      ],
      "execution_count": 144,
      "outputs": []
    },
    {
      "cell_type": "code",
      "metadata": {
        "id": "IAvrv3rsEwhz",
        "colab_type": "code",
        "colab": {
          "base_uri": "https://localhost:8080/",
          "height": 0
        },
        "outputId": "2f88d21e-7806-44e8-841d-98aadc98c3a0"
      },
      "source": [
        "print_file(\"ChatbotData.txt\")"
      ],
      "execution_count": 145,
      "outputs": [
        {
          "output_type": "stream",
          "text": [
            "12시 땡!\n",
            "1지망 학교 떨어졌어\n",
            "3박4일 놀러가고 싶다\n",
            "3박4일 정도 놀러가고 싶다\n",
            "PPL 심하네\n"
          ],
          "name": "stdout"
        }
      ]
    },
    {
      "cell_type": "code",
      "metadata": {
        "id": "KlBr3ZMSE-Lz",
        "colab_type": "code",
        "colab": {}
      },
      "source": [
        "def train_sentencepiece(corpus, prefix, vocab_size=8000):\n",
        "    \"\"\"\n",
        "    sentencepiece를 이용해 vocab 학습\n",
        "    :param corpus: 학습할 말뭉치\n",
        "    :param prefix: 저장할 vocab 이름\n",
        "    :param vocab_size: vocab 개수\n",
        "    \"\"\"\n",
        "    spm.SentencePieceTrainer.train(\n",
        "        f\"--input={corpus} --model_prefix={prefix} --vocab_size={vocab_size + 7}\" +  # 7은 특수문자 개수\n",
        "        \" --model_type=bpe\" +\n",
        "        \" --max_sentence_length=999999\" +  # 문장 최대 길이\n",
        "        \" --pad_id=0 --pad_piece=[PAD]\" +  # pad token 및 id 지정\n",
        "        \" --unk_id=1 --unk_piece=[UNK]\" +  # unknown token 및 id 지정\n",
        "        \" --bos_id=2 --bos_piece=[BOS]\" +  # begin of sequence token 및 id 지정\n",
        "        \" --eos_id=3 --eos_piece=[EOS]\" +  # end of sequence token 및 id 지정\n",
        "        \" --user_defined_symbols=[SEP],[CLS],[MASK]\")  # 기타 추가 토큰 SEP: 4, CLS: 5, MASK: 6"
      ],
      "execution_count": 146,
      "outputs": []
    },
    {
      "cell_type": "code",
      "metadata": {
        "id": "Eg6YJLDtFK_N",
        "colab_type": "code",
        "colab": {}
      },
      "source": [
        "# vocab 생성\n",
        "train_sentencepiece(f\"ChatbotData.txt\", f\"syngys\", vocab_size=8000)"
      ],
      "execution_count": 147,
      "outputs": []
    },
    {
      "cell_type": "code",
      "metadata": {
        "id": "WzrEXtlfFTDs",
        "colab_type": "code",
        "colab": {
          "base_uri": "https://localhost:8080/",
          "height": 0
        },
        "outputId": "8a3d4a98-6049-41f4-f4d5-209b2e6a5dcc"
      },
      "source": [
        "os.listdir(\".\")"
      ],
      "execution_count": 148,
      "outputs": [
        {
          "output_type": "execute_result",
          "data": {
            "text/plain": [
              "['.config',\n",
              " 'syngys.vocab',\n",
              " 'ChatbotData.txt',\n",
              " 'ChatbotData.csv',\n",
              " 'syngys.model',\n",
              " 'sample_data']"
            ]
          },
          "metadata": {
            "tags": []
          },
          "execution_count": 148
        }
      ]
    },
    {
      "cell_type": "code",
      "metadata": {
        "id": "yREQozPuFV_U",
        "colab_type": "code",
        "colab": {
          "base_uri": "https://localhost:8080/",
          "height": 0
        },
        "outputId": "75679c49-7e2c-4360-9585-8a995b94d324"
      },
      "source": [
        "# load vocab\n",
        "vocab = spm.SentencePieceProcessor()\n",
        "vocab.load(f\"syngys.model\")"
      ],
      "execution_count": 149,
      "outputs": [
        {
          "output_type": "execute_result",
          "data": {
            "text/plain": [
              "True"
            ]
          },
          "metadata": {
            "tags": []
          },
          "execution_count": 149
        }
      ]
    },
    {
      "cell_type": "code",
      "metadata": {
        "id": "fAHHyXSKFb60",
        "colab_type": "code",
        "colab": {
          "base_uri": "https://localhost:8080/",
          "height": 0
        },
        "outputId": "c42ee45a-c712-482a-d548-99f355a565e1"
      },
      "source": [
        "# vocab 출력\n",
        "print(f\"len: {len(vocab)}\")\n",
        "for id in range(20):\n",
        "    print(f\"{id:2d}: {vocab.id_to_piece(id)}\")"
      ],
      "execution_count": 150,
      "outputs": [
        {
          "output_type": "stream",
          "text": [
            "len: 8007\n",
            " 0: [PAD]\n",
            " 1: [UNK]\n",
            " 2: [BOS]\n",
            " 3: [EOS]\n",
            " 4: [SEP]\n",
            " 5: [CLS]\n",
            " 6: [MASK]\n",
            " 7: 세요\n",
            " 8: ▁사\n",
            " 9: ▁좋\n",
            "10: ▁있\n",
            "11: ▁이\n",
            "12: ▁거\n",
            "13: 하는\n",
            "14: 보세요\n",
            "15: ▁그\n",
            "16: ▁나\n",
            "17: ▁아\n",
            "18: 예요\n",
            "19: ▁마\n"
          ],
          "name": "stdout"
        }
      ]
    },
    {
      "cell_type": "code",
      "metadata": {
        "id": "NsFBGdvPFmRm",
        "colab_type": "code",
        "colab": {
          "base_uri": "https://localhost:8080/",
          "height": 0
        },
        "outputId": "c87d75e4-6de0-4a00-c16c-3e2768b78793"
      },
      "source": [
        "pieces = vocab.encode_as_pieces(corpus_set[10])\n",
        "pieces"
      ],
      "execution_count": 151,
      "outputs": [
        {
          "output_type": "execute_result",
          "data": {
            "text/plain": [
              "['▁SNS', '보면', '▁나만', '▁빼고', '▁다', '▁행복해보여']"
            ]
          },
          "metadata": {
            "tags": []
          },
          "execution_count": 151
        }
      ]
    },
    {
      "cell_type": "markdown",
      "metadata": {
        "id": "1-xIfzOMF8nO",
        "colab_type": "text"
      },
      "source": [
        "## Data Load"
      ]
    },
    {
      "cell_type": "code",
      "metadata": {
        "id": "88FUzaPqGbT3",
        "colab_type": "code",
        "colab": {
          "base_uri": "https://localhost:8080/",
          "height": 0
        },
        "outputId": "f633acbc-e07c-4d6b-ae93-24f7fbe297d0"
      },
      "source": [
        "# head=0 첫벗째 줄이 head\n",
        "chatbot_data = pd.read_csv(\"ChatbotData.csv\", header=0)\n",
        "chatbot_data.head(10)"
      ],
      "execution_count": 152,
      "outputs": [
        {
          "output_type": "execute_result",
          "data": {
            "text/html": [
              "<div>\n",
              "<style scoped>\n",
              "    .dataframe tbody tr th:only-of-type {\n",
              "        vertical-align: middle;\n",
              "    }\n",
              "\n",
              "    .dataframe tbody tr th {\n",
              "        vertical-align: top;\n",
              "    }\n",
              "\n",
              "    .dataframe thead th {\n",
              "        text-align: right;\n",
              "    }\n",
              "</style>\n",
              "<table border=\"1\" class=\"dataframe\">\n",
              "  <thead>\n",
              "    <tr style=\"text-align: right;\">\n",
              "      <th></th>\n",
              "      <th>Q</th>\n",
              "      <th>A</th>\n",
              "      <th>label</th>\n",
              "    </tr>\n",
              "  </thead>\n",
              "  <tbody>\n",
              "    <tr>\n",
              "      <th>0</th>\n",
              "      <td>12시 땡!</td>\n",
              "      <td>하루가 또 가네요.</td>\n",
              "      <td>0</td>\n",
              "    </tr>\n",
              "    <tr>\n",
              "      <th>1</th>\n",
              "      <td>1지망 학교 떨어졌어</td>\n",
              "      <td>위로해 드립니다.</td>\n",
              "      <td>0</td>\n",
              "    </tr>\n",
              "    <tr>\n",
              "      <th>2</th>\n",
              "      <td>3박4일 놀러가고 싶다</td>\n",
              "      <td>여행은 언제나 좋죠.</td>\n",
              "      <td>0</td>\n",
              "    </tr>\n",
              "    <tr>\n",
              "      <th>3</th>\n",
              "      <td>3박4일 정도 놀러가고 싶다</td>\n",
              "      <td>여행은 언제나 좋죠.</td>\n",
              "      <td>0</td>\n",
              "    </tr>\n",
              "    <tr>\n",
              "      <th>4</th>\n",
              "      <td>PPL 심하네</td>\n",
              "      <td>눈살이 찌푸려지죠.</td>\n",
              "      <td>0</td>\n",
              "    </tr>\n",
              "    <tr>\n",
              "      <th>5</th>\n",
              "      <td>SD카드 망가졌어</td>\n",
              "      <td>다시 새로 사는 게 마음 편해요.</td>\n",
              "      <td>0</td>\n",
              "    </tr>\n",
              "    <tr>\n",
              "      <th>6</th>\n",
              "      <td>SD카드 안돼</td>\n",
              "      <td>다시 새로 사는 게 마음 편해요.</td>\n",
              "      <td>0</td>\n",
              "    </tr>\n",
              "    <tr>\n",
              "      <th>7</th>\n",
              "      <td>SNS 맞팔 왜 안하지ㅠㅠ</td>\n",
              "      <td>잘 모르고 있을 수도 있어요.</td>\n",
              "      <td>0</td>\n",
              "    </tr>\n",
              "    <tr>\n",
              "      <th>8</th>\n",
              "      <td>SNS 시간낭비인 거 아는데 매일 하는 중</td>\n",
              "      <td>시간을 정하고 해보세요.</td>\n",
              "      <td>0</td>\n",
              "    </tr>\n",
              "    <tr>\n",
              "      <th>9</th>\n",
              "      <td>SNS 시간낭비인데 자꾸 보게됨</td>\n",
              "      <td>시간을 정하고 해보세요.</td>\n",
              "      <td>0</td>\n",
              "    </tr>\n",
              "  </tbody>\n",
              "</table>\n",
              "</div>"
            ],
            "text/plain": [
              "                         Q                   A  label\n",
              "0                   12시 땡!          하루가 또 가네요.      0\n",
              "1              1지망 학교 떨어졌어           위로해 드립니다.      0\n",
              "2             3박4일 놀러가고 싶다         여행은 언제나 좋죠.      0\n",
              "3          3박4일 정도 놀러가고 싶다         여행은 언제나 좋죠.      0\n",
              "4                  PPL 심하네          눈살이 찌푸려지죠.      0\n",
              "5                SD카드 망가졌어  다시 새로 사는 게 마음 편해요.      0\n",
              "6                  SD카드 안돼  다시 새로 사는 게 마음 편해요.      0\n",
              "7           SNS 맞팔 왜 안하지ㅠㅠ    잘 모르고 있을 수도 있어요.      0\n",
              "8  SNS 시간낭비인 거 아는데 매일 하는 중       시간을 정하고 해보세요.      0\n",
              "9        SNS 시간낭비인데 자꾸 보게됨       시간을 정하고 해보세요.      0"
            ]
          },
          "metadata": {
            "tags": []
          },
          "execution_count": 152
        }
      ]
    },
    {
      "cell_type": "code",
      "metadata": {
        "id": "q5nDXAxSF77s",
        "colab_type": "code",
        "colab": {}
      },
      "source": [
        "def load_data(vocab, dataframe):\n",
        "    \"\"\"\n",
        "    학습에 필요한 데이터를 로드\n",
        "    :param vocab: vocab\n",
        "    :param dataframe: pandas dataframe\n",
        "    :return enc_inputs: encoder inputs\n",
        "    :return dec_inputs: decoder inputs\n",
        "    :return labels: labels\n",
        "    \"\"\"\n",
        "    total = len(dataframe)\n",
        "\n",
        "    # 데이터 미리 생성\n",
        "    enc_tokens = []\n",
        "    dec_tokens = []\n",
        "    labels = []\n",
        "\n",
        "    # 라인단위로 데이터 생성\n",
        "    for i, row in tqdm(dataframe.iterrows(), total=len(dataframe)):\n",
        "        # Q, A 모두 string 인 경우만 처리\n",
        "        if type(row[\"Q\"]) == str and type(row[\"A\"]) == str:\n",
        "            # qestion을 id 형태로 변경\n",
        "            q_id = vocab.encode_as_ids(row[\"Q\"])\n",
        "            # answer를 id 형태로 변경\n",
        "            a_id = vocab.encode_as_ids(row[\"A\"])\n",
        "\n",
        "            # enc_token: <question tokens>, [PAD] tokens\n",
        "            enc_tokens.append(q_id)\n",
        "            # dec_token: [BOS], <answer tokens>, [PAD] tokens\n",
        "            dec_tokens.append([vocab.bos_id()] + a_id)\n",
        "            # label: <answer tokens>, [EOS], [PAD] tokens\n",
        "            labels.append(a_id + [vocab.eos_id()])\n",
        "    \n",
        "    enc_len = max([len(tokens) for tokens in enc_tokens])\n",
        "    dec_len = max([len(tokens) for tokens in dec_tokens])\n",
        "    label_len = max([len(tokens) for tokens in labels])\n",
        "\n",
        "    # 데이터 미리 생성\n",
        "    np_enc_tokens = np.zeros((total, enc_len), np.int)\n",
        "    np_dec_tokens = np.zeros((total, dec_len), np.int)\n",
        "    np_labels = np.zeros((total, label_len), np.int)\n",
        "\n",
        "    for i, (enc_token, dec_token, label) in enumerate(zip(enc_tokens, dec_tokens, labels)):\n",
        "        np_enc_tokens[i,:len(enc_token)] = enc_token\n",
        "        np_dec_tokens[i,:len(dec_token)] = dec_token\n",
        "        np_labels[i,:len(label)] = label\n",
        "\n",
        "    return (np_enc_tokens, np_dec_tokens), np_labels"
      ],
      "execution_count": 153,
      "outputs": []
    },
    {
      "cell_type": "code",
      "metadata": {
        "id": "SUvENcJBGffw",
        "colab_type": "code",
        "colab": {
          "base_uri": "https://localhost:8080/",
          "height": 0,
          "referenced_widgets": [
            "b7e44e68f53c4c869dcfbcdd1e745143",
            "d004b3226eaa4eed8cf18901fde5fb8d",
            "c374c11d8f4b4ac6bbaa50abc233ceb8",
            "d25a3e30f3584961afdd0ebfd7009d99",
            "8d0bf43a347e4bada53a1d448fe9c4d0",
            "2f9d1ec2fa6947ceb8ba53a10fdb314c",
            "ba2f186f0252446cbcdeb0253939b249",
            "029631a37ac343ab946110e0a0939fa4"
          ]
        },
        "outputId": "fc27a65b-2841-44d8-d624-62e0dcf8e8eb"
      },
      "source": [
        "train_inputs, train_labels = load_data(vocab, chatbot_data)\n",
        "# 마지막 출력. 마지막이 0이 아니면 끝까지 잘 처리 된 것임\n",
        "train_inputs[0][-1], train_inputs[1][-1], train_labels[-1]"
      ],
      "execution_count": 154,
      "outputs": [
        {
          "output_type": "display_data",
          "data": {
            "application/vnd.jupyter.widget-view+json": {
              "model_id": "b7e44e68f53c4c869dcfbcdd1e745143",
              "version_minor": 0,
              "version_major": 2
            },
            "text/plain": [
              "HBox(children=(FloatProgress(value=0.0, max=11823.0), HTML(value='')))"
            ]
          },
          "metadata": {
            "tags": []
          }
        },
        {
          "output_type": "stream",
          "text": [
            "\n"
          ],
          "name": "stdout"
        },
        {
          "output_type": "execute_result",
          "data": {
            "text/plain": [
              "(array([2475,  215, 4315,    0,    0,    0,    0,    0,    0,    0,    0,\n",
              "           0,    0,    0,    0,    0,    0,    0,    0,    0,    0]),\n",
              " array([   2,  195, 7117, 7115, 3068,  392, 1475,  632, 6923,    0,    0,\n",
              "           0,    0,    0,    0,    0,    0,    0,    0,    0,    0,    0,\n",
              "           0,    0,    0,    0,    0,    0,    0,    0]),\n",
              " array([ 195, 7117, 7115, 3068,  392, 1475,  632, 6923,    3,    0,    0,\n",
              "           0,    0,    0,    0,    0,    0,    0,    0,    0,    0,    0,\n",
              "           0,    0,    0,    0,    0,    0,    0,    0]))"
            ]
          },
          "metadata": {
            "tags": []
          },
          "execution_count": 154
        }
      ]
    },
    {
      "cell_type": "markdown",
      "metadata": {
        "id": "xclGDmnmDCUY",
        "colab_type": "text"
      },
      "source": [
        "## Model"
      ]
    },
    {
      "cell_type": "code",
      "metadata": {
        "id": "R_9KQmbJDDyV",
        "colab_type": "code",
        "colab": {}
      },
      "source": [
        "def get_pad_mask(tokens, i_pad=0):\n",
        "    \"\"\"\n",
        "    pad mask 계산하는 함수\n",
        "    :param tokens: tokens (bs, n_seq)\n",
        "    :param i_pad: id of pad\n",
        "    :return mask: pad mask (pad: 1, other: 0)\n",
        "    \"\"\"\n",
        "    mask = tf.cast(tf.math.equal(tokens, i_pad), tf.float32)\n",
        "    mask = tf.expand_dims(mask, axis=1)\n",
        "    return mask\n",
        "\n",
        "\n",
        "def get_ahead_mask(tokens, i_pad=0):\n",
        "    \"\"\"\n",
        "    ahead mask 계산하는 함수\n",
        "    :param tokens: tokens (bs, n_seq)\n",
        "    :param i_pad: id of pad\n",
        "    :return mask: ahead and pad mask (ahead or pad: 1, other: 0)\n",
        "    \"\"\"\n",
        "    n_seq = tf.shape(tokens)[1]\n",
        "    ahead_mask = 1 - tf.linalg.band_part(tf.ones((n_seq, n_seq)), -1, 0)\n",
        "    ahead_mask = tf.expand_dims(ahead_mask, axis=0)\n",
        "    pad_mask = get_pad_mask(tokens, i_pad)\n",
        "    mask = tf.maximum(ahead_mask, pad_mask)\n",
        "    return mask\n",
        "\n",
        "\n",
        "def kernel_initializer(stddev=0.02):\n",
        "    \"\"\"\n",
        "    parameter initializer 생성\n",
        "    :param stddev: 생성할 랜덤 변수의 표준편차\n",
        "    \"\"\"\n",
        "    return tf.keras.initializers.TruncatedNormal(stddev=stddev)\n",
        "\n",
        "\n",
        "class Config(dict):\n",
        "    \"\"\"\n",
        "    json을 config 형태로 사용하기 위한 Class\n",
        "    :param dict: config dictionary\n",
        "    \"\"\"\n",
        "    __getattr__ = dict.__getitem__\n",
        "    __setattr__ = dict.__setitem__\n",
        "\n",
        "    @classmethod\n",
        "    def load(cls, file):\n",
        "        \"\"\"\n",
        "        file에서 Config를 생성 함\n",
        "        :param file: filename\n",
        "        \"\"\"\n",
        "        with open(file, 'r') as f:\n",
        "            config = json.loads(f.read())\n",
        "            return Config(config)\n",
        "\n",
        "\n",
        "class SharedEmbedding(tf.keras.layers.Layer):\n",
        "    \"\"\"\n",
        "    Weighed Shaed Embedding Class\n",
        "    \"\"\"\n",
        "    def __init__(self, config, name=\"weight_shared_embedding\"):\n",
        "        \"\"\"\n",
        "        생성자\n",
        "        :param config: Config 객체\n",
        "        :param name: layer name\n",
        "        \"\"\"\n",
        "        super().__init__(name=name)\n",
        "\n",
        "        self.n_vocab = config.n_vocab\n",
        "        self.d_model = config.d_model\n",
        "    \n",
        "    def build(self, input_shape):\n",
        "        \"\"\"\n",
        "        shared weight 생성\n",
        "        :param input_shape: Tensor Shape (not used)\n",
        "        \"\"\"\n",
        "        with tf.name_scope(\"shared_embedding_weight\"):\n",
        "            self.shared_weights = self.add_weight(\n",
        "                \"weights\",\n",
        "                shape=[self.n_vocab, self.d_model],\n",
        "                initializer=kernel_initializer(stddev=self.d_model ** -0.5)\n",
        "            )\n",
        "\n",
        "    def call(self, inputs, mode=\"embedding\"):\n",
        "        \"\"\"\n",
        "        layer 실행\n",
        "        :param inputs: 입력\n",
        "        :param mode: 실행 모드\n",
        "        :return: embedding or linear 실행 결과\n",
        "        \"\"\"\n",
        "        # mode가 embedding일 경우 embedding lookup 실행\n",
        "        if mode == \"embedding\":\n",
        "            return self._embedding(inputs)\n",
        "        # mode가 linear일 경우 linear 실행\n",
        "        elif mode == \"linear\":\n",
        "            return self._linear(inputs)\n",
        "        # mode가 기타일 경우 오류 발생\n",
        "        else:\n",
        "            raise ValueError(f\"mode {mode} is not valid.\")\n",
        "    \n",
        "    def _embedding(self, inputs):\n",
        "        \"\"\"\n",
        "        embedding lookup\n",
        "        :param inputs: 입력\n",
        "        \"\"\"\n",
        "        embed = tf.gather(self.shared_weights, tf.cast(inputs, tf.int32))\n",
        "        embed *= self.d_model ** 0.5\n",
        "        return embed\n",
        "\n",
        "    def _linear(self, inputs):  # (bs, n_seq, d_model)\n",
        "        \"\"\"\n",
        "        linear 실행\n",
        "        :param inputs: 입력\n",
        "        \"\"\"\n",
        "        n_batch = tf.shape(inputs)[0]\n",
        "        n_seq = tf.shape(inputs)[1]\n",
        "        inputs = tf.reshape(inputs, [-1, self.d_model])  # (bs * n_seq, d_model)\n",
        "        outputs = tf.matmul(inputs, self.shared_weights, transpose_b=True)\n",
        "        outputs = tf.reshape(outputs, [n_batch, n_seq, self.n_vocab])  # (bs, n_seq, n_vocab)\n",
        "        return outputs\n",
        "\n",
        "\n",
        "class PositionalEmbedding(tf.keras.layers.Layer):\n",
        "    \"\"\"\n",
        "    Positional Embedding Class\n",
        "    \"\"\"\n",
        "    def __init__(self, config, name=\"position_embedding\"):\n",
        "        \"\"\"\n",
        "        생성자\n",
        "        :param config: Config 객체\n",
        "        :param name: layer name\n",
        "        \"\"\"\n",
        "        super().__init__(name=name)\n",
        "        \n",
        "        pos_encoding = PositionalEmbedding.get_sinusoid_encoding(config.n_seq, config.d_model)\n",
        "        self.embedding = tf.keras.layers.Embedding(config.n_seq, config.d_model, trainable=False, weights=[pos_encoding])\n",
        "\n",
        "    def call(self, inputs):\n",
        "        \"\"\"\n",
        "        layer 실행\n",
        "        :param inputs: 입력\n",
        "        :return embed: positional embedding lookup 결과\n",
        "        \"\"\"\n",
        "        position = tf.cast(tf.math.cumsum(tf.ones_like(inputs), axis=1, exclusive=True), tf.int32)\n",
        "        embed = self.embedding(position)\n",
        "        return embed\n",
        "\n",
        "    @staticmethod\n",
        "    def get_sinusoid_encoding(n_seq, d_model):\n",
        "        \"\"\"\n",
        "        sinusoid encoding 생성\n",
        "        :param n_seq: sequence number\n",
        "        :param n_seq: model hidden dimension\n",
        "        :return: positional encoding table\n",
        "        \"\"\"\n",
        "        angles = [np.power(10000, 2 * (i_ang // 2) / d_model) for i_ang in range(d_model)]\n",
        "        pos_encoding = np.array([[pos / angle for angle in angles] for pos in range(n_seq)])\n",
        "        pos_encoding[:, 0::2] = np.sin(pos_encoding[:, 0::2])\n",
        "        pos_encoding[:, 1::2] = np.cos(pos_encoding[:, 1::2])\n",
        "        return tf.cast(pos_encoding, tf.float32)\n",
        "\n",
        "\n",
        "class ScaleDotProductAttention(tf.keras.layers.Layer):\n",
        "    \"\"\"\n",
        "    Scale Dot Product Attention Class\n",
        "    \"\"\"\n",
        "    def __init__(self, name=\"scale_dot_product_attention\"):\n",
        "        \"\"\"\n",
        "        생성자\n",
        "        :param name: layer name\n",
        "        \"\"\"\n",
        "        super().__init__(name=name)\n",
        "\n",
        "    def call(self, Q, K, V, attn_mask):\n",
        "        \"\"\"\n",
        "        layer 실행\n",
        "        :param Q: Q value\n",
        "        :param K: K value\n",
        "        :param V: V value\n",
        "        :param attn_mask: 실행 모드\n",
        "        :return attn_out: attention 실행 결과\n",
        "        \"\"\"\n",
        "        attn_score = tf.matmul(Q, K, transpose_b=True)\n",
        "        scale = tf.math.sqrt(tf.cast(tf.shape(K)[-1], tf.float32))\n",
        "        attn_scale = tf.math.divide(attn_score, scale)\n",
        "        attn_scale -= 1.e9 * attn_mask\n",
        "        attn_prob = tf.nn.softmax(attn_scale, axis=-1)\n",
        "        attn_out = tf.matmul(attn_prob, V)\n",
        "        return attn_out\n",
        "\n",
        "\n",
        "class MultiHeadAttention(tf.keras.layers.Layer):\n",
        "    \"\"\"\n",
        "    Multi Head Attention Class\n",
        "    \"\"\"\n",
        "    def __init__(self, config, name=\"multi_head_attention\"):\n",
        "        \"\"\"\n",
        "        생성자\n",
        "        :param config: Config 객체\n",
        "        :param name: layer name\n",
        "        \"\"\"\n",
        "        super().__init__(name=name)\n",
        "\n",
        "        self.d_model = config.d_model\n",
        "        self.n_head = config.n_head\n",
        "        self.d_head = config.d_head\n",
        "\n",
        "        # Q, K, V input dense layer\n",
        "        self.W_Q = tf.keras.layers.Dense(config.n_head * config.d_head)\n",
        "        self.W_K = tf.keras.layers.Dense(config.n_head * config.d_head)\n",
        "        self.W_V = tf.keras.layers.Dense(config.n_head * config.d_head)\n",
        "        # Scale Dot Product Attention class\n",
        "        self.attention = ScaleDotProductAttention(name=\"self_attention\")\n",
        "        # output dense layer\n",
        "        self.W_O = tf.keras.layers.Dense(config.d_model)\n",
        "\n",
        "    def call(self, Q, K, V, attn_mask):\n",
        "        \"\"\"\n",
        "        layer 실행\n",
        "        :param Q: Q value\n",
        "        :param K: K value\n",
        "        :param V: V value\n",
        "        :param attn_mask: 실행 모드\n",
        "        :return attn_out: attention 실행 결과\n",
        "        \"\"\"\n",
        "        # reshape Q, K, V, attn_mask\n",
        "        batch_size = tf.shape(Q)[0]\n",
        "        Q_m = tf.transpose(tf.reshape(self.W_Q(Q), [batch_size, -1, self.n_head, self.d_head]), [0, 2, 1, 3])  # (bs, n_head, Q_len, d_head)\n",
        "        K_m = tf.transpose(tf.reshape(self.W_K(K), [batch_size, -1, self.n_head, self.d_head]), [0, 2, 1, 3])  # (bs, n_head, K_len, d_head)\n",
        "        V_m = tf.transpose(tf.reshape(self.W_V(V), [batch_size, -1, self.n_head, self.d_head]), [0, 2, 1, 3])  # (bs, n_head, K_len, d_head)\n",
        "        attn_mask_m = tf.expand_dims(attn_mask, axis=1)\n",
        "        # Scale Dot Product Attention with multi head Q, K, V, attn_mask\n",
        "        attn_out = self.attention(Q_m, K_m, V_m, attn_mask_m)  # (bs, n_head, Q_len, d_head)\n",
        "        # transpose and liner\n",
        "        attn_out_m = tf.transpose(attn_out, perm=[0, 2, 1, 3])  # (bs, Q_len, n_head, d_head)\n",
        "        attn_out = tf.reshape(attn_out_m, [batch_size, -1, config.n_head * config.d_head])  # (bs, Q_len, d_model)\n",
        "        attn_out = self.W_O(attn_out) # (bs, Q_len, d_model)\n",
        "\n",
        "        return attn_out\n",
        "\n",
        "\n",
        "class PositionWiseFeedForward(tf.keras.layers.Layer):\n",
        "    \"\"\"\n",
        "    Position Wise Feed Forward Class\n",
        "    \"\"\"\n",
        "    def __init__(self, config, name=\"feed_forward\"):\n",
        "        \"\"\"\n",
        "        생성자\n",
        "        :param config: Config 객체\n",
        "        :param name: layer name\n",
        "        \"\"\"\n",
        "        super().__init__(name=name)\n",
        "\n",
        "        self.W_1 = tf.keras.layers.Dense(config.d_ff, activation=tf.nn.relu)\n",
        "        self.W_2 = tf.keras.layers.Dense(config.d_model)\n",
        "\n",
        "    def call(self, inputs):\n",
        "        \"\"\"\n",
        "        layer 실행\n",
        "        :param inputs: inputs\n",
        "        :return ff_val: feed forward 실행 결과\n",
        "        \"\"\"\n",
        "        ff_val = self.W_2(self.W_1(inputs))\n",
        "        return ff_val\n",
        "\n",
        "\n",
        "class EncoderLayer(tf.keras.layers.Layer):\n",
        "    \"\"\"\n",
        "    Encoder Layer Class\n",
        "    \"\"\"\n",
        "    def __init__(self, config, name=\"encoder_layer\"):\n",
        "        \"\"\"\n",
        "        생성자\n",
        "        :param config: Config 객체\n",
        "        :param name: layer name\n",
        "        \"\"\"\n",
        "        super().__init__(name=name)\n",
        "\n",
        "        self.self_attention = MultiHeadAttention(config)\n",
        "        self.norm1 = tf.keras.layers.LayerNormalization(epsilon=config.layernorm_epsilon)\n",
        "\n",
        "        self.ffn = PositionWiseFeedForward(config)\n",
        "        self.norm2 = tf.keras.layers.LayerNormalization(epsilon=config.layernorm_epsilon)\n",
        "\n",
        "        self.dropout = tf.keras.layers.Dropout(config.dropout)\n",
        " \n",
        "    def call(self, enc_embed, self_mask):\n",
        "        \"\"\"\n",
        "        layer 실행\n",
        "        :param enc_embed: enc_embed 또는 이전 EncoderLayer의 출력\n",
        "        :param self_mask: enc_tokens의 pad mask\n",
        "        :return enc_out: EncoderLayer 실행 결과\n",
        "        \"\"\"\n",
        "        self_attn_val = self.self_attention(enc_embed, enc_embed, enc_embed, self_mask)\n",
        "        norm1_val = self.norm1(enc_embed + self.dropout(self_attn_val))\n",
        "\n",
        "        ffn_val = self.ffn(norm1_val)\n",
        "        enc_out = self.norm2(norm1_val + self.dropout(ffn_val))\n",
        "\n",
        "        return enc_out\n",
        "\n",
        "\n",
        "class DecoderLayer(tf.keras.layers.Layer):\n",
        "    \"\"\"\n",
        "    Decoder Layer Class\n",
        "    \"\"\"\n",
        "    def __init__(self, config, name=\"decoder_layer\"):\n",
        "        \"\"\"\n",
        "        생성자\n",
        "        :param config: Config 객체\n",
        "        :param name: layer name\n",
        "        \"\"\"\n",
        "        super().__init__(name=name)\n",
        "\n",
        "        self.self_attention = MultiHeadAttention(config)\n",
        "        self.norm1 = tf.keras.layers.LayerNormalization(epsilon=config.layernorm_epsilon)\n",
        "\n",
        "        self.ende_attn = MultiHeadAttention(config)\n",
        "        self.norm2 = tf.keras.layers.LayerNormalization(epsilon=config.layernorm_epsilon)\n",
        "\n",
        "        self.ffn = PositionWiseFeedForward(config)\n",
        "        self.norm3 = tf.keras.layers.LayerNormalization(epsilon=config.layernorm_epsilon)\n",
        "\n",
        "        self.dropout = tf.keras.layers.Dropout(config.dropout)\n",
        "\n",
        "    def call(self, dec_embed, enc_out, self_mask, ende_mask):\n",
        "        \"\"\"\n",
        "        layer 실행\n",
        "        :param dec_embed: dec_embed 또는 이전 DecoderLayer의 출력\n",
        "        :param enc_out: 마지막 EncoderLayer의 출력\n",
        "        :param self_mask: dec_tokens의 ahead mask\n",
        "        :param ende_mask: enc_tokens의 pad mask\n",
        "        :return dec_out: DecoderLayer 실행 결과\n",
        "        \"\"\"\n",
        "        self_attn_val = self.self_attention(dec_embed, dec_embed, dec_embed, self_mask)\n",
        "        norm1_val = self.norm1(dec_embed + self.dropout(self_attn_val))\n",
        "\n",
        "        ende_attn_val = self.ende_attn(norm1_val, enc_out, enc_out, ende_mask)\n",
        "        norm2_val = self.norm2(norm1_val + self.dropout(ende_attn_val))\n",
        "\n",
        "        ffn_val = self.ffn(norm2_val)\n",
        "        dec_out = self.norm3(norm2_val + self.dropout(ffn_val))\n",
        "\n",
        "        return dec_out\n",
        "\n",
        "\n",
        "class Transformer(tf.keras.layers.Layer):\n",
        "    \"\"\"\n",
        "    Transformer Class\n",
        "    \"\"\"\n",
        "    def __init__(self, config, name=\"transformer\"):\n",
        "        \"\"\"\n",
        "        생성자\n",
        "        :param config: Config 객체\n",
        "        :param name: layer name\n",
        "        \"\"\"\n",
        "        super().__init__(name=name)\n",
        "\n",
        "        self.i_pad = config.i_pad\n",
        "        self.embedding = SharedEmbedding(config)\n",
        "        self.position = PositionalEmbedding(config)\n",
        "        \n",
        "        self.encoder_layers = [EncoderLayer(config, name=f\"encoder_layer_{i}\") for i in range(config.n_layer)]\n",
        "        self.decoder_layers = [DecoderLayer(config, name=f\"decoder_layer_{i}\") for i in range(config.n_layer)]\n",
        "\n",
        "        self.dropout = tf.keras.layers.Dropout(config.dropout)\n",
        "\n",
        "    def call(self, inputs):\n",
        "        \"\"\"\n",
        "        layer 실행\n",
        "        :param inputs: (enc_tokens, dec_tokens) tuple\n",
        "        :return logits: dec_tokens에 대한 다음 토큰 예측 결과 logits\n",
        "        \"\"\"\n",
        "        enc_tokens, dec_tokens = inputs\n",
        "\n",
        "        enc_self_mask = tf.keras.layers.Lambda(get_pad_mask, output_shape=(1, None), name='enc_self_mask')(enc_tokens, self.i_pad)\n",
        "        dec_self_mask = tf.keras.layers.Lambda(get_ahead_mask, output_shape=(None, None), name='dec_self_mask')(dec_tokens, self.i_pad)\n",
        "        ende_attn_mask = tf.keras.layers.Lambda(get_pad_mask, output_shape=(1, None), name='ende_attn_mask')(enc_tokens, self.i_pad)\n",
        "\n",
        "        enc_embed = self.get_embedding(enc_tokens)\n",
        "        dec_embed = self.get_embedding(dec_tokens)\n",
        "\n",
        "        enc_out = self.dropout(enc_embed)\n",
        "        for encoder_layer in self.encoder_layers:\n",
        "            enc_out = encoder_layer(enc_out, enc_self_mask)\n",
        "        \n",
        "        dec_out = self.dropout(dec_embed)\n",
        "        for decoder_layer in self.decoder_layers:\n",
        "            dec_out = decoder_layer(dec_out, enc_out, dec_self_mask, ende_attn_mask)\n",
        "\n",
        "        logits = self.embedding(dec_out, mode=\"linear\")\n",
        "        return logits\n",
        "    \n",
        "    def get_embedding(self, tokens):\n",
        "        \"\"\"\n",
        "        token embedding, position embedding lookup\n",
        "        :param tokens: 입력 tokens\n",
        "        :return embed: embedding 결과\n",
        "        \"\"\"\n",
        "        embed = self.embedding(tokens) + self.position(tokens)\n",
        "        return embed"
      ],
      "execution_count": 155,
      "outputs": []
    },
    {
      "cell_type": "code",
      "metadata": {
        "id": "A2Ys1-pYDMFo",
        "colab_type": "code",
        "colab": {}
      },
      "source": [
        "# model build\n",
        "def build_model(config):\n",
        "    \"\"\"\n",
        "    model build\n",
        "    :param config: Configuration\n",
        "    :return model\n",
        "    \"\"\"\n",
        "    enc_tokens = tf.keras.layers.Input((None,), name=\"enc_tokens\")\n",
        "    dec_tokens = tf.keras.layers.Input((None,), name=\"dec_tokens\")\n",
        "\n",
        "    logits = Transformer(config)((enc_tokens, dec_tokens))\n",
        "    outputs = tf.keras.layers.Softmax(name=\"lm\")(logits)\n",
        "\n",
        "    model = tf.keras.Model(inputs=(enc_tokens, dec_tokens), outputs=outputs)\n",
        "    return model"
      ],
      "execution_count": 156,
      "outputs": []
    },
    {
      "cell_type": "code",
      "metadata": {
        "id": "pd9SRdI7DNWt",
        "colab_type": "code",
        "colab": {
          "base_uri": "https://localhost:8080/",
          "height": 0
        },
        "outputId": "5cae05f8-4b46-46c2-eb8f-8b65d9199e88"
      },
      "source": [
        "config = Config({\"d_model\": 256, \"n_head\": 4, \"d_head\": 64, \"dropout\": 0.1, \"d_ff\": 1024, \"layernorm_epsilon\": 0.001, \"n_layer\": 3, \"n_seq\": 256, \"n_vocab\": 0, \"i_pad\": 0})\n",
        "config.n_vocab = len(vocab)\n",
        "config.i_pad = vocab.pad_id()\n",
        "config"
      ],
      "execution_count": 157,
      "outputs": [
        {
          "output_type": "execute_result",
          "data": {
            "text/plain": [
              "{'d_ff': 1024,\n",
              " 'd_head': 64,\n",
              " 'd_model': 256,\n",
              " 'dropout': 0.1,\n",
              " 'i_pad': 0,\n",
              " 'layernorm_epsilon': 0.001,\n",
              " 'n_head': 4,\n",
              " 'n_layer': 3,\n",
              " 'n_seq': 256,\n",
              " 'n_vocab': 8007}"
            ]
          },
          "metadata": {
            "tags": []
          },
          "execution_count": 157
        }
      ]
    },
    {
      "cell_type": "code",
      "metadata": {
        "id": "tB-BlxJBKs4A",
        "colab_type": "code",
        "colab": {
          "base_uri": "https://localhost:8080/",
          "height": 0
        },
        "outputId": "47298bac-4f03-4dc1-9de0-8e54bda4657b"
      },
      "source": [
        "model = build_model(config)\n",
        "tf.keras.utils.plot_model(model, 'model.png', show_shapes=True)"
      ],
      "execution_count": 158,
      "outputs": [
        {
          "output_type": "execute_result",
          "data": {
            "image/png": "[encoded data removed]",
            "text/plain": [
              "<IPython.core.display.Image object>"
            ]
          },
          "metadata": {
            "tags": []
          },
          "execution_count": 158
        }
      ]
    },
    {
      "cell_type": "markdown",
      "metadata": {
        "id": "hjqOTrjvxji7",
        "colab_type": "text"
      },
      "source": [
        "## Loss"
      ]
    },
    {
      "cell_type": "markdown",
      "metadata": {
        "id": "6x6W5AYLaqMw",
        "colab_type": "text"
      },
      "source": [
        "### Tutorial"
      ]
    },
    {
      "cell_type": "code",
      "metadata": {
        "id": "nuExhj88Y78P",
        "colab_type": "code",
        "colab": {
          "base_uri": "https://localhost:8080/",
          "height": 0
        },
        "outputId": "0221d601-7ffc-45ca-ab39-b1aa3381b2d7"
      },
      "source": [
        "# vocab 개수\n",
        "n_test_vocab = 4\n",
        "# 문자열 개수\n",
        "n_test_seq = 8\n",
        "\n",
        "# 정답\n",
        "y_true = np.random.randint(0, n_test_vocab, (1, n_test_seq))\n",
        "y_true[:,n_test_seq - 2:] = 0\n",
        "y_true"
      ],
      "execution_count": 159,
      "outputs": [
        {
          "output_type": "execute_result",
          "data": {
            "text/plain": [
              "array([[3, 0, 3, 1, 2, 3, 0, 0]])"
            ]
          },
          "metadata": {
            "tags": []
          },
          "execution_count": 159
        }
      ]
    },
    {
      "cell_type": "code",
      "metadata": {
        "id": "aBnHCjOLZlrJ",
        "colab_type": "code",
        "colab": {
          "base_uri": "https://localhost:8080/",
          "height": 0
        },
        "outputId": "8559699f-ffeb-4d95-c54d-5ac0629a72ad"
      },
      "source": [
        "# 예측 값\n",
        "y_pred = np.random.random((1, n_test_seq, n_test_vocab))\n",
        "y_pred = tf.nn.softmax(y_pred, axis=-1)  # 확률 값으로 변경\n",
        "y_pred"
      ],
      "execution_count": 160,
      "outputs": [
        {
          "output_type": "execute_result",
          "data": {
            "text/plain": [
              "<tf.Tensor: shape=(1, 8, 4), dtype=float64, numpy=\n",
              "array([[[0.25100796, 0.29038113, 0.19352738, 0.26508353],\n",
              "        [0.156816  , 0.34132925, 0.29911483, 0.20273992],\n",
              "        [0.13582323, 0.32769097, 0.29060293, 0.24588287],\n",
              "        [0.17807239, 0.19304151, 0.27926074, 0.34962536],\n",
              "        [0.3500575 , 0.24878816, 0.2201442 , 0.18101014],\n",
              "        [0.13758752, 0.2658076 , 0.34122989, 0.25537499],\n",
              "        [0.29718426, 0.2201506 , 0.28483235, 0.19783279],\n",
              "        [0.25733929, 0.17902035, 0.17726573, 0.38637464]]])>"
            ]
          },
          "metadata": {
            "tags": []
          },
          "execution_count": 160
        }
      ]
    },
    {
      "cell_type": "code",
      "metadata": {
        "id": "qSxBrmylauiQ",
        "colab_type": "code",
        "colab": {
          "base_uri": "https://localhost:8080/",
          "height": 0
        },
        "outputId": "4efb9709-aace-4d0f-d435-82d2a9bfdb96"
      },
      "source": [
        "# loss 계산\n",
        "loss = tf.keras.losses.SparseCategoricalCrossentropy(reduction=tf.keras.losses.Reduction.NONE)(y_true, y_pred)\n",
        "loss"
      ],
      "execution_count": 161,
      "outputs": [
        {
          "output_type": "execute_result",
          "data": {
            "text/plain": [
              "<tf.Tensor: shape=(1, 8), dtype=float64, numpy=\n",
              "array([[1.32771027, 1.85268211, 1.40289998, 1.64485002, 1.51347256,\n",
              "        1.3650223 , 1.21340287, 1.35735989]])>"
            ]
          },
          "metadata": {
            "tags": []
          },
          "execution_count": 161
        }
      ]
    },
    {
      "cell_type": "code",
      "metadata": {
        "id": "ne8JKo0Za6Oj",
        "colab_type": "code",
        "colab": {
          "base_uri": "https://localhost:8080/",
          "height": 0
        },
        "outputId": "9ba9cebd-9c90-4c6c-dfa5-08ea1a07cebc"
      },
      "source": [
        "# true token이 0인 부분은 0, 아닌 부분은 1인 mask 생성\n",
        "mask = tf.cast(tf.math.not_equal(y_true, 0), dtype=loss.dtype)\n",
        "mask"
      ],
      "execution_count": 162,
      "outputs": [
        {
          "output_type": "execute_result",
          "data": {
            "text/plain": [
              "<tf.Tensor: shape=(1, 8), dtype=float64, numpy=array([[1., 0., 1., 1., 1., 1., 0., 0.]])>"
            ]
          },
          "metadata": {
            "tags": []
          },
          "execution_count": 162
        }
      ]
    },
    {
      "cell_type": "code",
      "metadata": {
        "id": "GWZUCZhObNF8",
        "colab_type": "code",
        "colab": {
          "base_uri": "https://localhost:8080/",
          "height": 0
        },
        "outputId": "ecb215ce-395f-404e-e277-b57f8239cd21"
      },
      "source": [
        "# loss에 mask를 취함. mask가 0인 부분은 모두 0\n",
        "loss *= mask\n",
        "loss"
      ],
      "execution_count": 163,
      "outputs": [
        {
          "output_type": "execute_result",
          "data": {
            "text/plain": [
              "<tf.Tensor: shape=(1, 8), dtype=float64, numpy=\n",
              "array([[1.32771027, 0.        , 1.40289998, 1.64485002, 1.51347256,\n",
              "        1.3650223 , 0.        , 0.        ]])>"
            ]
          },
          "metadata": {
            "tags": []
          },
          "execution_count": 163
        }
      ]
    },
    {
      "cell_type": "markdown",
      "metadata": {
        "id": "TOWlO39Vaoit",
        "colab_type": "text"
      },
      "source": [
        "### 함수"
      ]
    },
    {
      "cell_type": "code",
      "metadata": {
        "id": "fZwfXjFux190",
        "colab_type": "code",
        "colab": {}
      },
      "source": [
        "def lm_loss(y_true, y_pred):\n",
        "    \"\"\"\n",
        "    loss 계산 함수\n",
        "    :param y_true: 정답 (bs, n_seq)\n",
        "    :param y_pred: 예측 값 (bs, n_seq, n_vocab)\n",
        "    \"\"\"\n",
        "    # loss 계산\n",
        "    loss = tf.keras.losses.SparseCategoricalCrossentropy(reduction=tf.keras.losses.Reduction.NONE)(y_true, y_pred)\n",
        "    # pad(0) 인 부분 mask\n",
        "    mask = tf.cast(tf.math.not_equal(y_true, 0), dtype=loss.dtype)\n",
        "    loss *= mask\n",
        "    return loss"
      ],
      "execution_count": 164,
      "outputs": []
    },
    {
      "cell_type": "markdown",
      "metadata": {
        "id": "ZV5zGuQQL_mK",
        "colab_type": "text"
      },
      "source": [
        "### Test"
      ]
    },
    {
      "cell_type": "code",
      "metadata": {
        "id": "larwLi_RbefS",
        "colab_type": "code",
        "colab": {
          "base_uri": "https://localhost:8080/",
          "height": 0
        },
        "outputId": "671dd243-0809-42eb-b2bb-b24dc0ebbaa1"
      },
      "source": [
        "# loss 함수 기능 확인\n",
        "loss2 = lm_loss(y_true, y_pred)\n",
        "assert np.array_equal(loss, loss2)\n",
        "loss2"
      ],
      "execution_count": 165,
      "outputs": [
        {
          "output_type": "execute_result",
          "data": {
            "text/plain": [
              "<tf.Tensor: shape=(1, 8), dtype=float64, numpy=\n",
              "array([[1.32771027, 0.        , 1.40289998, 1.64485002, 1.51347256,\n",
              "        1.3650223 , 0.        , 0.        ]])>"
            ]
          },
          "metadata": {
            "tags": []
          },
          "execution_count": 165
        }
      ]
    },
    {
      "cell_type": "markdown",
      "metadata": {
        "id": "fAR-ddNrMGby",
        "colab_type": "text"
      },
      "source": [
        "## Accuracy"
      ]
    },
    {
      "cell_type": "markdown",
      "metadata": {
        "id": "jWIUoq0cbYT8",
        "colab_type": "text"
      },
      "source": [
        "### Tutorial"
      ]
    },
    {
      "cell_type": "code",
      "metadata": {
        "id": "h1WlqKVDbbJi",
        "colab_type": "code",
        "colab": {
          "base_uri": "https://localhost:8080/",
          "height": 0
        },
        "outputId": "fa9257c2-985a-407a-99f2-d4f45d9d859f"
      },
      "source": [
        "# vocab 개수\n",
        "n_test_vocab = 3\n",
        "# 문자열 개수\n",
        "n_test_seq = 16\n",
        "\n",
        "# 정답\n",
        "y_true = np.random.randint(0, n_test_vocab, (1, n_test_seq))\n",
        "y_true[:,n_test_seq - 2:] = 0\n",
        "y_true"
      ],
      "execution_count": 166,
      "outputs": [
        {
          "output_type": "execute_result",
          "data": {
            "text/plain": [
              "array([[0, 2, 1, 0, 2, 0, 2, 2, 2, 2, 1, 0, 0, 1, 0, 0]])"
            ]
          },
          "metadata": {
            "tags": []
          },
          "execution_count": 166
        }
      ]
    },
    {
      "cell_type": "code",
      "metadata": {
        "id": "Xb_oYi3wbbCz",
        "colab_type": "code",
        "colab": {
          "base_uri": "https://localhost:8080/",
          "height": 0
        },
        "outputId": "45d7ba4f-281e-492e-b5bd-8cc35afd5b33"
      },
      "source": [
        "# 예측 값\n",
        "y_pred = np.random.random((1, n_test_seq, n_test_vocab))\n",
        "y_pred = tf.nn.softmax(y_pred, axis=-1)  # 확률 값으로 변경\n",
        "y_pred"
      ],
      "execution_count": 167,
      "outputs": [
        {
          "output_type": "execute_result",
          "data": {
            "text/plain": [
              "<tf.Tensor: shape=(1, 16, 3), dtype=float64, numpy=\n",
              "array([[[0.42962916, 0.20050436, 0.36986648],\n",
              "        [0.33637154, 0.31709933, 0.34652913],\n",
              "        [0.31573923, 0.47484686, 0.20941391],\n",
              "        [0.25999641, 0.45710555, 0.28289804],\n",
              "        [0.49895507, 0.26704405, 0.23400088],\n",
              "        [0.2431871 , 0.38622575, 0.37058715],\n",
              "        [0.3297653 , 0.36277189, 0.30746282],\n",
              "        [0.37566364, 0.30902627, 0.31531009],\n",
              "        [0.38077417, 0.33740447, 0.28182136],\n",
              "        [0.34309708, 0.29835482, 0.35854811],\n",
              "        [0.47506772, 0.26487238, 0.2600599 ],\n",
              "        [0.24959169, 0.32607041, 0.42433791],\n",
              "        [0.36358922, 0.32441693, 0.31199385],\n",
              "        [0.5126483 , 0.22688291, 0.26046879],\n",
              "        [0.33714714, 0.1927852 , 0.47006767],\n",
              "        [0.48391873, 0.31784703, 0.19823424]]])>"
            ]
          },
          "metadata": {
            "tags": []
          },
          "execution_count": 167
        }
      ]
    },
    {
      "cell_type": "code",
      "metadata": {
        "id": "7fU1IEMAcTHF",
        "colab_type": "code",
        "colab": {
          "base_uri": "https://localhost:8080/",
          "height": 0
        },
        "outputId": "30249c65-f2cb-46cc-f543-c2f2894b7490"
      },
      "source": [
        "# 예측 값 중 최대인 index번호를 vocab으로 예측\n",
        "y_pred_class = tf.cast(K.argmax(y_pred, axis=-1), tf.float32)\n",
        "y_pred_class"
      ],
      "execution_count": 168,
      "outputs": [
        {
          "output_type": "execute_result",
          "data": {
            "text/plain": [
              "<tf.Tensor: shape=(1, 16), dtype=float32, numpy=\n",
              "array([[0., 2., 1., 1., 0., 1., 1., 0., 0., 2., 0., 2., 0., 0., 2., 0.]],\n",
              "      dtype=float32)>"
            ]
          },
          "metadata": {
            "tags": []
          },
          "execution_count": 168
        }
      ]
    },
    {
      "cell_type": "code",
      "metadata": {
        "id": "tDOlTxMmcmWQ",
        "colab_type": "code",
        "colab": {
          "base_uri": "https://localhost:8080/",
          "height": 0
        },
        "outputId": "5f1d87d0-dd71-4b02-db6b-26ee57f3bce3"
      },
      "source": [
        "# 두 값이 같으면 정답(1), 다르면 오류(0)\n",
        "matches = tf.cast(K.equal(y_true, y_pred_class), tf.float32)\n",
        "matches"
      ],
      "execution_count": 169,
      "outputs": [
        {
          "output_type": "execute_result",
          "data": {
            "text/plain": [
              "<tf.Tensor: shape=(1, 16), dtype=float32, numpy=\n",
              "array([[1., 1., 1., 0., 0., 0., 0., 0., 0., 1., 0., 0., 1., 0., 0., 1.]],\n",
              "      dtype=float32)>"
            ]
          },
          "metadata": {
            "tags": []
          },
          "execution_count": 169
        }
      ]
    },
    {
      "cell_type": "code",
      "metadata": {
        "id": "tGdUhsjbc2nG",
        "colab_type": "code",
        "colab": {
          "base_uri": "https://localhost:8080/",
          "height": 0
        },
        "outputId": "3b03eb18-85a1-4e8b-a471-cfe3a9f5dc31"
      },
      "source": [
        "# true token이 0인 부분은 0, 아닌 부분은 1인 mask 생성\n",
        "mask = tf.cast(tf.math.not_equal(y_true, 0), dtype=matches.dtype)\n",
        "mask"
      ],
      "execution_count": 170,
      "outputs": [
        {
          "output_type": "execute_result",
          "data": {
            "text/plain": [
              "<tf.Tensor: shape=(1, 16), dtype=float32, numpy=\n",
              "array([[0., 1., 1., 0., 1., 0., 1., 1., 1., 1., 1., 0., 0., 1., 0., 0.]],\n",
              "      dtype=float32)>"
            ]
          },
          "metadata": {
            "tags": []
          },
          "execution_count": 170
        }
      ]
    },
    {
      "cell_type": "code",
      "metadata": {
        "id": "K6FbhVs1dH5Z",
        "colab_type": "code",
        "colab": {
          "base_uri": "https://localhost:8080/",
          "height": 0
        },
        "outputId": "26a2a02b-292c-43d2-cbb8-7c79bae68156"
      },
      "source": [
        "# matches에 mask를 취함. mask가 0인 부분은 모두 0\n",
        "matches *= mask\n",
        "matches"
      ],
      "execution_count": 171,
      "outputs": [
        {
          "output_type": "execute_result",
          "data": {
            "text/plain": [
              "<tf.Tensor: shape=(1, 16), dtype=float32, numpy=\n",
              "array([[0., 1., 1., 0., 0., 0., 0., 0., 0., 1., 0., 0., 0., 0., 0., 0.]],\n",
              "      dtype=float32)>"
            ]
          },
          "metadata": {
            "tags": []
          },
          "execution_count": 171
        }
      ]
    },
    {
      "cell_type": "code",
      "metadata": {
        "id": "4f4Q2iRedUy3",
        "colab_type": "code",
        "colab": {
          "base_uri": "https://localhost:8080/",
          "height": 0
        },
        "outputId": "8b01bb93-6cbd-4fe7-c401-fa4f6fb7a1e8"
      },
      "source": [
        "# matches합을 mask합으로 나누면 정확도 / mask가 모두 0일 경우를 대비해서 분모에 K.maximum(K.sum(mask), 1) 사용\n",
        "accuracy = K.sum(matches) / K.maximum(K.sum(mask), 1)\n",
        "accuracy"
      ],
      "execution_count": 172,
      "outputs": [
        {
          "output_type": "execute_result",
          "data": {
            "text/plain": [
              "<tf.Tensor: shape=(), dtype=float32, numpy=0.33333334>"
            ]
          },
          "metadata": {
            "tags": []
          },
          "execution_count": 172
        }
      ]
    },
    {
      "cell_type": "markdown",
      "metadata": {
        "id": "qQqF2KJVcLBF",
        "colab_type": "text"
      },
      "source": [
        "### 함수"
      ]
    },
    {
      "cell_type": "code",
      "metadata": {
        "id": "233nfwn6ba17",
        "colab_type": "code",
        "colab": {}
      },
      "source": [
        "def lm_acc(y_true, y_pred):\n",
        "    \"\"\"\n",
        "    acc 계산 함수\n",
        "    :param y_true: 정답 (bs, n_seq)\n",
        "    :param y_pred: 예측 값 (bs, n_seq, n_vocab)\n",
        "    \"\"\"\n",
        "    # 정답 여부 확인\n",
        "    y_pred_class = tf.cast(K.argmax(y_pred, axis=-1), tf.float32)\n",
        "    matches = tf.cast(K.equal(y_true, y_pred_class), tf.float32)\n",
        "    # pad(0) 인 부분 mask\n",
        "    mask = tf.cast(tf.math.not_equal(y_true, 0), dtype=matches.dtype)\n",
        "    matches *= mask\n",
        "    # 정확도 계산\n",
        "    accuracy = K.sum(matches) / K.maximum(K.sum(mask), 1)\n",
        "    return accuracy"
      ],
      "execution_count": 173,
      "outputs": []
    },
    {
      "cell_type": "markdown",
      "metadata": {
        "id": "DYYcdK-_MRni",
        "colab_type": "text"
      },
      "source": [
        "### Test"
      ]
    },
    {
      "cell_type": "code",
      "metadata": {
        "id": "JeWKJfTPdjuA",
        "colab_type": "code",
        "colab": {
          "base_uri": "https://localhost:8080/",
          "height": 0
        },
        "outputId": "959d995c-0720-4e9f-9202-2631d61f2989"
      },
      "source": [
        "accuracy2 = lm_acc(y_true, y_pred)\n",
        "assert accuracy == accuracy2\n",
        "accuracy2"
      ],
      "execution_count": 174,
      "outputs": [
        {
          "output_type": "execute_result",
          "data": {
            "text/plain": [
              "<tf.Tensor: shape=(), dtype=float32, numpy=0.33333334>"
            ]
          },
          "metadata": {
            "tags": []
          },
          "execution_count": 174
        }
      ]
    },
    {
      "cell_type": "markdown",
      "metadata": {
        "id": "Ey3sghogI4rz",
        "colab_type": "text"
      },
      "source": [
        "## Scheduler\n",
        "\n",
        "![](https://paul-hyun.github.io/assets/transformer/learning_rate.png)"
      ]
    },
    {
      "cell_type": "markdown",
      "metadata": {
        "id": "VKkOrvxoJM1h",
        "colab_type": "text"
      },
      "source": [
        "### Tutorial"
      ]
    },
    {
      "cell_type": "code",
      "metadata": {
        "id": "0uUiLdINLVw_",
        "colab_type": "code",
        "colab": {
          "base_uri": "https://localhost:8080/",
          "height": 0
        },
        "outputId": "46e0dd74-c434-416a-a0ac-0ae267021a60"
      },
      "source": [
        "warmup_steps = tf.dtypes.cast(1000, tf.float32)\n",
        "step_num = tf.dtypes.cast(1100, tf.float32)\n",
        "d_model = tf.dtypes.cast(config.d_model, tf.float32)\n",
        "\n",
        "warmup_steps, step_num, d_model"
      ],
      "execution_count": 175,
      "outputs": [
        {
          "output_type": "execute_result",
          "data": {
            "text/plain": [
              "(<tf.Tensor: shape=(), dtype=float32, numpy=1000.0>,\n",
              " <tf.Tensor: shape=(), dtype=float32, numpy=1100.0>,\n",
              " <tf.Tensor: shape=(), dtype=float32, numpy=256.0>)"
            ]
          },
          "metadata": {
            "tags": []
          },
          "execution_count": 175
        }
      ]
    },
    {
      "cell_type": "code",
      "metadata": {
        "id": "7yjfmrczLf2a",
        "colab_type": "code",
        "colab": {
          "base_uri": "https://localhost:8080/",
          "height": 0
        },
        "outputId": "9cbb15f3-0637-4442-b754-3233e99e1493"
      },
      "source": [
        "# step_num ** -0.5 (https://www.tensorflow.org/api_docs/python/tf/math/rsqrt)\n",
        "arg1 = tf.math.rsqrt(step_num)\n",
        "arg1"
      ],
      "execution_count": 176,
      "outputs": [
        {
          "output_type": "execute_result",
          "data": {
            "text/plain": [
              "<tf.Tensor: shape=(), dtype=float32, numpy=0.030151134>"
            ]
          },
          "metadata": {
            "tags": []
          },
          "execution_count": 176
        }
      ]
    },
    {
      "cell_type": "code",
      "metadata": {
        "id": "Qq1kSzDPNXue",
        "colab_type": "code",
        "colab": {
          "base_uri": "https://localhost:8080/",
          "height": 0
        },
        "outputId": "d1228792-8981-442b-a053-016c875d9ba8"
      },
      "source": [
        "# step_num * (warmup_steps ** -1.5)\n",
        "arg2 = step_num * (warmup_steps ** -1.5)\n",
        "arg2"
      ],
      "execution_count": 177,
      "outputs": [
        {
          "output_type": "execute_result",
          "data": {
            "text/plain": [
              "<tf.Tensor: shape=(), dtype=float32, numpy=0.03478505>"
            ]
          },
          "metadata": {
            "tags": []
          },
          "execution_count": 177
        }
      ]
    },
    {
      "cell_type": "code",
      "metadata": {
        "id": "o6B3pN97Nubx",
        "colab_type": "code",
        "colab": {
          "base_uri": "https://localhost:8080/",
          "height": 0
        },
        "outputId": "9bdcdc0e-7ad2-4d7d-c5d9-9fe065dfd2e5"
      },
      "source": [
        "# 두 값중 작은 값 선택\n",
        "arg = tf.math.minimum(arg1, arg2)\n",
        "arg"
      ],
      "execution_count": 178,
      "outputs": [
        {
          "output_type": "execute_result",
          "data": {
            "text/plain": [
              "<tf.Tensor: shape=(), dtype=float32, numpy=0.030151134>"
            ]
          },
          "metadata": {
            "tags": []
          },
          "execution_count": 178
        }
      ]
    },
    {
      "cell_type": "code",
      "metadata": {
        "id": "N1A4vH27OPFN",
        "colab_type": "code",
        "colab": {
          "base_uri": "https://localhost:8080/",
          "height": 0
        },
        "outputId": "fd9a84ce-b35d-4ee1-f245-c2cc79d6037c"
      },
      "source": [
        "# (d_model ** -0.5) * arg\n",
        "lr = tf.math.rsqrt(d_model) * arg\n",
        "lr"
      ],
      "execution_count": 179,
      "outputs": [
        {
          "output_type": "execute_result",
          "data": {
            "text/plain": [
              "<tf.Tensor: shape=(), dtype=float32, numpy=0.0018844459>"
            ]
          },
          "metadata": {
            "tags": []
          },
          "execution_count": 179
        }
      ]
    },
    {
      "cell_type": "markdown",
      "metadata": {
        "id": "A7k-JyedJK6J",
        "colab_type": "text"
      },
      "source": [
        "### Class"
      ]
    },
    {
      "cell_type": "code",
      "metadata": {
        "id": "VPWnDRRMaP4o",
        "colab_type": "code",
        "colab": {}
      },
      "source": [
        "class InverseSquareRootSchedule(tf.keras.optimizers.schedules.LearningRateSchedule):\n",
        "    \"\"\"\n",
        "    TransformerSchedule class\n",
        "    \"\"\"\n",
        "    def __init__(self, d_model, warmup_steps=4000):\n",
        "        \"\"\"\n",
        "        생성자\n",
        "        :param d_model: 모델 hidden\n",
        "        :param warmup_steps: warmup steps\n",
        "        \"\"\"\n",
        "        super().__init__()\n",
        "\n",
        "        self.d_model = tf.cast(d_model, tf.float32)\n",
        "        self.warmup_steps = tf.cast(warmup_steps, tf.float32)\n",
        "\n",
        "    def __call__(self, step_num):\n",
        "        \"\"\"\n",
        "        learning rate 계산\n",
        "        :param step_num: 현재 step number\n",
        "        :retrun: 계산된 learning rate\n",
        "        \"\"\"\n",
        "        arg1 = tf.math.rsqrt(step_num)\n",
        "        arg2 = step_num * (self.warmup_steps**-1.5)\n",
        "        arg = tf.math.minimum(arg1, arg2)\n",
        "        lr = tf.math.rsqrt(self.d_model) * arg\n",
        "        return lr"
      ],
      "execution_count": 180,
      "outputs": []
    },
    {
      "cell_type": "markdown",
      "metadata": {
        "id": "HNHVGEgyacKg",
        "colab_type": "text"
      },
      "source": [
        "### Test"
      ]
    },
    {
      "cell_type": "code",
      "metadata": {
        "id": "WG8ZT6nPadip",
        "colab_type": "code",
        "colab": {
          "base_uri": "https://localhost:8080/",
          "height": 0
        },
        "outputId": "88181728-f339-43e3-acab-6670c4240fa1"
      },
      "source": [
        "# compute lr\n",
        "test_schedule = InverseSquareRootSchedule(config.d_model, warmup_steps=100)\n",
        "lrs = []\n",
        "for step in range(1000):\n",
        "    lrs.append(test_schedule(float(step)).numpy())\n",
        "\n",
        "# draw\n",
        "plt.plot(lrs, 'r-', label='learning_rate')\n",
        "plt.xlabel('Step')\n",
        "plt.show()"
      ],
      "execution_count": 181,
      "outputs": [
        {
          "output_type": "display_data",
          "data": {
            "image/png": "[encoded data removed]",
            "text/plain": [
              "<Figure size 432x288 with 1 Axes>"
            ]
          },
          "metadata": {
            "tags": [],
            "needs_background": "light"
          }
        }
      ]
    },
    {
      "cell_type": "markdown",
      "metadata": {
        "id": "KMtlbz8YMd_j",
        "colab_type": "text"
      },
      "source": [
        "## Train"
      ]
    },
    {
      "cell_type": "code",
      "metadata": {
        "id": "4DadTw6RMhni",
        "colab_type": "code",
        "colab": {}
      },
      "source": [
        "# optimizer의 learning_rate를 InverseSquareRootSchedule로 지정\n",
        "learning_rate = InverseSquareRootSchedule(config.d_model, warmup_steps=500)\n",
        "optimizer = tf.keras.optimizers.Adam(learning_rate, beta_1=0.9, beta_2=0.98, epsilon=1e-9)\n",
        "\n",
        "model.compile(loss=lm_loss, optimizer=optimizer, metrics=[lm_acc])"
      ],
      "execution_count": 182,
      "outputs": []
    },
    {
      "cell_type": "code",
      "metadata": {
        "id": "r1YwBGFwMjQ7",
        "colab_type": "code",
        "colab": {
          "base_uri": "https://localhost:8080/",
          "height": 1000
        },
        "outputId": "913a7bac-1be6-4906-ac63-7f74928d5c18"
      },
      "source": [
        "# save weights callback\n",
        "save_weights = tf.keras.callbacks.ModelCheckpoint(\"songys_chat_transformer.hdf5\", monitor=\"lm_acc\", verbose=1, save_best_only=True, mode=\"max\", save_freq=\"epoch\", save_weights_only=True)\n",
        "# train\n",
        "history = model.fit(train_inputs, train_labels, epochs=50, batch_size=256, callbacks=[save_weights])"
      ],
      "execution_count": 183,
      "outputs": [
        {
          "output_type": "stream",
          "text": [
            "Epoch 1/50\n"
          ],
          "name": "stdout"
        },
        {
          "output_type": "stream",
          "text": [
            "/usr/local/lib/python3.6/dist-packages/tensorflow/python/framework/indexed_slices.py:432: UserWarning: Converting sparse IndexedSlices to a dense Tensor of unknown shape. This may consume a large amount of memory.\n",
            "  \"Converting sparse IndexedSlices to a dense Tensor of unknown shape. \"\n"
          ],
          "name": "stderr"
        },
        {
          "output_type": "stream",
          "text": [
            "47/47 [==============================] - ETA: 0s - loss: 1.6976 - lm_acc: 0.1412\n",
            "Epoch 00001: lm_acc improved from -inf to 0.14118, saving model to songys_chat_transformer.hdf5\n",
            "47/47 [==============================] - 7s 156ms/step - loss: 1.6976 - lm_acc: 0.1412\n",
            "Epoch 2/50\n",
            "47/47 [==============================] - ETA: 0s - loss: 1.3716 - lm_acc: 0.2881\n",
            "Epoch 00002: lm_acc improved from 0.14118 to 0.28814, saving model to songys_chat_transformer.hdf5\n",
            "47/47 [==============================] - 7s 159ms/step - loss: 1.3716 - lm_acc: 0.2881\n",
            "Epoch 3/50\n",
            "47/47 [==============================] - ETA: 0s - loss: 1.2792 - lm_acc: 0.2944\n",
            "Epoch 00003: lm_acc improved from 0.28814 to 0.29435, saving model to songys_chat_transformer.hdf5\n",
            "47/47 [==============================] - 8s 161ms/step - loss: 1.2792 - lm_acc: 0.2944\n",
            "Epoch 4/50\n",
            "47/47 [==============================] - ETA: 0s - loss: 1.2140 - lm_acc: 0.3075\n",
            "Epoch 00004: lm_acc improved from 0.29435 to 0.30751, saving model to songys_chat_transformer.hdf5\n",
            "47/47 [==============================] - 8s 161ms/step - loss: 1.2140 - lm_acc: 0.3075\n",
            "Epoch 5/50\n",
            "47/47 [==============================] - ETA: 0s - loss: 1.1622 - lm_acc: 0.3223\n",
            "Epoch 00005: lm_acc improved from 0.30751 to 0.32226, saving model to songys_chat_transformer.hdf5\n",
            "47/47 [==============================] - 8s 163ms/step - loss: 1.1622 - lm_acc: 0.3223\n",
            "Epoch 6/50\n",
            "47/47 [==============================] - ETA: 0s - loss: 1.0677 - lm_acc: 0.3478\n",
            "Epoch 00006: lm_acc improved from 0.32226 to 0.34781, saving model to songys_chat_transformer.hdf5\n",
            "47/47 [==============================] - 8s 165ms/step - loss: 1.0677 - lm_acc: 0.3478\n",
            "Epoch 7/50\n",
            "47/47 [==============================] - ETA: 0s - loss: 0.9386 - lm_acc: 0.3891\n",
            "Epoch 00007: lm_acc improved from 0.34781 to 0.38907, saving model to songys_chat_transformer.hdf5\n",
            "47/47 [==============================] - 8s 166ms/step - loss: 0.9386 - lm_acc: 0.3891\n",
            "Epoch 8/50\n",
            "47/47 [==============================] - ETA: 0s - loss: 0.8041 - lm_acc: 0.4398\n",
            "Epoch 00008: lm_acc improved from 0.38907 to 0.43983, saving model to songys_chat_transformer.hdf5\n",
            "47/47 [==============================] - 8s 167ms/step - loss: 0.8041 - lm_acc: 0.4398\n",
            "Epoch 9/50\n",
            "47/47 [==============================] - ETA: 0s - loss: 0.6843 - lm_acc: 0.4920\n",
            "Epoch 00009: lm_acc improved from 0.43983 to 0.49197, saving model to songys_chat_transformer.hdf5\n",
            "47/47 [==============================] - 8s 165ms/step - loss: 0.6843 - lm_acc: 0.4920\n",
            "Epoch 10/50\n",
            "47/47 [==============================] - ETA: 0s - loss: 0.5840 - lm_acc: 0.5401\n",
            "Epoch 00010: lm_acc improved from 0.49197 to 0.54014, saving model to songys_chat_transformer.hdf5\n",
            "47/47 [==============================] - 8s 164ms/step - loss: 0.5840 - lm_acc: 0.5401\n",
            "Epoch 11/50\n",
            "47/47 [==============================] - ETA: 0s - loss: 0.5099 - lm_acc: 0.5776\n",
            "Epoch 00011: lm_acc improved from 0.54014 to 0.57758, saving model to songys_chat_transformer.hdf5\n",
            "47/47 [==============================] - 8s 163ms/step - loss: 0.5099 - lm_acc: 0.5776\n",
            "Epoch 12/50\n",
            "47/47 [==============================] - ETA: 0s - loss: 0.4356 - lm_acc: 0.6193\n",
            "Epoch 00012: lm_acc improved from 0.57758 to 0.61928, saving model to songys_chat_transformer.hdf5\n",
            "47/47 [==============================] - 8s 162ms/step - loss: 0.4356 - lm_acc: 0.6193\n",
            "Epoch 13/50\n",
            "47/47 [==============================] - ETA: 0s - loss: 0.3677 - lm_acc: 0.6605\n",
            "Epoch 00013: lm_acc improved from 0.61928 to 0.66055, saving model to songys_chat_transformer.hdf5\n",
            "47/47 [==============================] - 8s 164ms/step - loss: 0.3677 - lm_acc: 0.6605\n",
            "Epoch 14/50\n",
            "47/47 [==============================] - ETA: 0s - loss: 0.3097 - lm_acc: 0.7013\n",
            "Epoch 00014: lm_acc improved from 0.66055 to 0.70126, saving model to songys_chat_transformer.hdf5\n",
            "47/47 [==============================] - 8s 163ms/step - loss: 0.3097 - lm_acc: 0.7013\n",
            "Epoch 15/50\n",
            "47/47 [==============================] - ETA: 0s - loss: 0.2660 - lm_acc: 0.7321\n",
            "Epoch 00015: lm_acc improved from 0.70126 to 0.73214, saving model to songys_chat_transformer.hdf5\n",
            "47/47 [==============================] - 8s 164ms/step - loss: 0.2660 - lm_acc: 0.7321\n",
            "Epoch 16/50\n",
            "47/47 [==============================] - ETA: 0s - loss: 0.2328 - lm_acc: 0.7586\n",
            "Epoch 00016: lm_acc improved from 0.73214 to 0.75860, saving model to songys_chat_transformer.hdf5\n",
            "47/47 [==============================] - 8s 164ms/step - loss: 0.2328 - lm_acc: 0.7586\n",
            "Epoch 17/50\n",
            "47/47 [==============================] - ETA: 0s - loss: 0.2013 - lm_acc: 0.7836\n",
            "Epoch 00017: lm_acc improved from 0.75860 to 0.78361, saving model to songys_chat_transformer.hdf5\n",
            "47/47 [==============================] - 8s 164ms/step - loss: 0.2013 - lm_acc: 0.7836\n",
            "Epoch 18/50\n",
            "47/47 [==============================] - ETA: 0s - loss: 0.1776 - lm_acc: 0.8046\n",
            "Epoch 00018: lm_acc improved from 0.78361 to 0.80460, saving model to songys_chat_transformer.hdf5\n",
            "47/47 [==============================] - 8s 164ms/step - loss: 0.1776 - lm_acc: 0.8046\n",
            "Epoch 19/50\n",
            "47/47 [==============================] - ETA: 0s - loss: 0.1582 - lm_acc: 0.8208\n",
            "Epoch 00019: lm_acc improved from 0.80460 to 0.82075, saving model to songys_chat_transformer.hdf5\n",
            "47/47 [==============================] - 8s 164ms/step - loss: 0.1582 - lm_acc: 0.8208\n",
            "Epoch 20/50\n",
            "47/47 [==============================] - ETA: 0s - loss: 0.1424 - lm_acc: 0.8355\n",
            "Epoch 00020: lm_acc improved from 0.82075 to 0.83546, saving model to songys_chat_transformer.hdf5\n",
            "47/47 [==============================] - 8s 164ms/step - loss: 0.1424 - lm_acc: 0.8355\n",
            "Epoch 21/50\n",
            "47/47 [==============================] - ETA: 0s - loss: 0.1274 - lm_acc: 0.8513\n",
            "Epoch 00021: lm_acc improved from 0.83546 to 0.85128, saving model to songys_chat_transformer.hdf5\n",
            "47/47 [==============================] - 8s 163ms/step - loss: 0.1274 - lm_acc: 0.8513\n",
            "Epoch 22/50\n",
            "47/47 [==============================] - ETA: 0s - loss: 0.1170 - lm_acc: 0.8618\n",
            "Epoch 00022: lm_acc improved from 0.85128 to 0.86182, saving model to songys_chat_transformer.hdf5\n",
            "47/47 [==============================] - 8s 163ms/step - loss: 0.1170 - lm_acc: 0.8618\n",
            "Epoch 23/50\n",
            "47/47 [==============================] - ETA: 0s - loss: 0.1055 - lm_acc: 0.8728\n",
            "Epoch 00023: lm_acc improved from 0.86182 to 0.87284, saving model to songys_chat_transformer.hdf5\n",
            "47/47 [==============================] - 8s 163ms/step - loss: 0.1055 - lm_acc: 0.8728\n",
            "Epoch 24/50\n",
            "47/47 [==============================] - ETA: 0s - loss: 0.0967 - lm_acc: 0.8840\n",
            "Epoch 00024: lm_acc improved from 0.87284 to 0.88402, saving model to songys_chat_transformer.hdf5\n",
            "47/47 [==============================] - 8s 163ms/step - loss: 0.0967 - lm_acc: 0.8840\n",
            "Epoch 25/50\n",
            "47/47 [==============================] - ETA: 0s - loss: 0.0899 - lm_acc: 0.8907\n",
            "Epoch 00025: lm_acc improved from 0.88402 to 0.89073, saving model to songys_chat_transformer.hdf5\n",
            "47/47 [==============================] - 8s 163ms/step - loss: 0.0899 - lm_acc: 0.8907\n",
            "Epoch 26/50\n",
            "47/47 [==============================] - ETA: 0s - loss: 0.0819 - lm_acc: 0.9002\n",
            "Epoch 00026: lm_acc improved from 0.89073 to 0.90023, saving model to songys_chat_transformer.hdf5\n",
            "47/47 [==============================] - 8s 163ms/step - loss: 0.0819 - lm_acc: 0.9002\n",
            "Epoch 27/50\n",
            "47/47 [==============================] - ETA: 0s - loss: 0.0799 - lm_acc: 0.9020\n",
            "Epoch 00027: lm_acc improved from 0.90023 to 0.90204, saving model to songys_chat_transformer.hdf5\n",
            "47/47 [==============================] - 8s 164ms/step - loss: 0.0799 - lm_acc: 0.9020\n",
            "Epoch 28/50\n",
            "47/47 [==============================] - ETA: 0s - loss: 0.0733 - lm_acc: 0.9101\n",
            "Epoch 00028: lm_acc improved from 0.90204 to 0.91010, saving model to songys_chat_transformer.hdf5\n",
            "47/47 [==============================] - 8s 163ms/step - loss: 0.0733 - lm_acc: 0.9101\n",
            "Epoch 29/50\n",
            "47/47 [==============================] - ETA: 0s - loss: 0.0685 - lm_acc: 0.9148\n",
            "Epoch 00029: lm_acc improved from 0.91010 to 0.91477, saving model to songys_chat_transformer.hdf5\n",
            "47/47 [==============================] - 8s 163ms/step - loss: 0.0685 - lm_acc: 0.9148\n",
            "Epoch 30/50\n",
            "47/47 [==============================] - ETA: 0s - loss: 0.0656 - lm_acc: 0.9180\n",
            "Epoch 00030: lm_acc improved from 0.91477 to 0.91798, saving model to songys_chat_transformer.hdf5\n",
            "47/47 [==============================] - 8s 164ms/step - loss: 0.0656 - lm_acc: 0.9180\n",
            "Epoch 31/50\n",
            "47/47 [==============================] - ETA: 0s - loss: 0.0618 - lm_acc: 0.9237\n",
            "Epoch 00031: lm_acc improved from 0.91798 to 0.92368, saving model to songys_chat_transformer.hdf5\n",
            "47/47 [==============================] - 8s 163ms/step - loss: 0.0618 - lm_acc: 0.9237\n",
            "Epoch 32/50\n",
            "47/47 [==============================] - ETA: 0s - loss: 0.0579 - lm_acc: 0.9273\n",
            "Epoch 00032: lm_acc improved from 0.92368 to 0.92729, saving model to songys_chat_transformer.hdf5\n",
            "47/47 [==============================] - 8s 163ms/step - loss: 0.0579 - lm_acc: 0.9273\n",
            "Epoch 33/50\n",
            "47/47 [==============================] - ETA: 0s - loss: 0.0569 - lm_acc: 0.9291\n",
            "Epoch 00033: lm_acc improved from 0.92729 to 0.92906, saving model to songys_chat_transformer.hdf5\n",
            "47/47 [==============================] - 8s 163ms/step - loss: 0.0569 - lm_acc: 0.9291\n",
            "Epoch 34/50\n",
            "47/47 [==============================] - ETA: 0s - loss: 0.0543 - lm_acc: 0.9316\n",
            "Epoch 00034: lm_acc improved from 0.92906 to 0.93161, saving model to songys_chat_transformer.hdf5\n",
            "47/47 [==============================] - 8s 163ms/step - loss: 0.0543 - lm_acc: 0.9316\n",
            "Epoch 35/50\n",
            "47/47 [==============================] - ETA: 0s - loss: 0.0500 - lm_acc: 0.9363\n",
            "Epoch 00035: lm_acc improved from 0.93161 to 0.93634, saving model to songys_chat_transformer.hdf5\n",
            "47/47 [==============================] - 8s 163ms/step - loss: 0.0500 - lm_acc: 0.9363\n",
            "Epoch 36/50\n",
            "47/47 [==============================] - ETA: 0s - loss: 0.0484 - lm_acc: 0.9397\n",
            "Epoch 00036: lm_acc improved from 0.93634 to 0.93971, saving model to songys_chat_transformer.hdf5\n",
            "47/47 [==============================] - 8s 163ms/step - loss: 0.0484 - lm_acc: 0.9397\n",
            "Epoch 37/50\n",
            "47/47 [==============================] - ETA: 0s - loss: 0.0480 - lm_acc: 0.9387\n",
            "Epoch 00037: lm_acc did not improve from 0.93971\n",
            "47/47 [==============================] - 8s 161ms/step - loss: 0.0480 - lm_acc: 0.9387\n",
            "Epoch 38/50\n",
            "47/47 [==============================] - ETA: 0s - loss: 0.0458 - lm_acc: 0.9426\n",
            "Epoch 00038: lm_acc improved from 0.93971 to 0.94265, saving model to songys_chat_transformer.hdf5\n",
            "47/47 [==============================] - 8s 162ms/step - loss: 0.0458 - lm_acc: 0.9426\n",
            "Epoch 39/50\n",
            "47/47 [==============================] - ETA: 0s - loss: 0.0442 - lm_acc: 0.9448\n",
            "Epoch 00039: lm_acc improved from 0.94265 to 0.94480, saving model to songys_chat_transformer.hdf5\n",
            "47/47 [==============================] - 8s 163ms/step - loss: 0.0442 - lm_acc: 0.9448\n",
            "Epoch 40/50\n",
            "47/47 [==============================] - ETA: 0s - loss: 0.0405 - lm_acc: 0.9494\n",
            "Epoch 00040: lm_acc improved from 0.94480 to 0.94943, saving model to songys_chat_transformer.hdf5\n",
            "47/47 [==============================] - 8s 163ms/step - loss: 0.0405 - lm_acc: 0.9494\n",
            "Epoch 41/50\n",
            "47/47 [==============================] - ETA: 0s - loss: 0.0395 - lm_acc: 0.9505\n",
            "Epoch 00041: lm_acc improved from 0.94943 to 0.95053, saving model to songys_chat_transformer.hdf5\n",
            "47/47 [==============================] - 8s 164ms/step - loss: 0.0395 - lm_acc: 0.9505\n",
            "Epoch 42/50\n",
            "47/47 [==============================] - ETA: 0s - loss: 0.0393 - lm_acc: 0.9508\n",
            "Epoch 00042: lm_acc improved from 0.95053 to 0.95085, saving model to songys_chat_transformer.hdf5\n",
            "47/47 [==============================] - 8s 163ms/step - loss: 0.0393 - lm_acc: 0.9508\n",
            "Epoch 43/50\n",
            "47/47 [==============================] - ETA: 0s - loss: 0.0378 - lm_acc: 0.9518\n",
            "Epoch 00043: lm_acc improved from 0.95085 to 0.95178, saving model to songys_chat_transformer.hdf5\n",
            "47/47 [==============================] - 8s 162ms/step - loss: 0.0378 - lm_acc: 0.9518\n",
            "Epoch 44/50\n",
            "47/47 [==============================] - ETA: 0s - loss: 0.0358 - lm_acc: 0.9538\n",
            "Epoch 00044: lm_acc improved from 0.95178 to 0.95377, saving model to songys_chat_transformer.hdf5\n",
            "47/47 [==============================] - 8s 163ms/step - loss: 0.0358 - lm_acc: 0.9538\n",
            "Epoch 45/50\n",
            "47/47 [==============================] - ETA: 0s - loss: 0.0360 - lm_acc: 0.9545\n",
            "Epoch 00045: lm_acc improved from 0.95377 to 0.95451, saving model to songys_chat_transformer.hdf5\n",
            "47/47 [==============================] - 8s 162ms/step - loss: 0.0360 - lm_acc: 0.9545\n",
            "Epoch 46/50\n",
            "47/47 [==============================] - ETA: 0s - loss: 0.0339 - lm_acc: 0.9573\n",
            "Epoch 00046: lm_acc improved from 0.95451 to 0.95732, saving model to songys_chat_transformer.hdf5\n",
            "47/47 [==============================] - 8s 163ms/step - loss: 0.0339 - lm_acc: 0.9573\n",
            "Epoch 47/50\n",
            "47/47 [==============================] - ETA: 0s - loss: 0.0333 - lm_acc: 0.9572\n",
            "Epoch 00047: lm_acc did not improve from 0.95732\n",
            "47/47 [==============================] - 8s 161ms/step - loss: 0.0333 - lm_acc: 0.9572\n",
            "Epoch 48/50\n",
            "47/47 [==============================] - ETA: 0s - loss: 0.0314 - lm_acc: 0.9604\n",
            "Epoch 00048: lm_acc improved from 0.95732 to 0.96038, saving model to songys_chat_transformer.hdf5\n",
            "47/47 [==============================] - 8s 163ms/step - loss: 0.0314 - lm_acc: 0.9604\n",
            "Epoch 49/50\n",
            "47/47 [==============================] - ETA: 0s - loss: 0.0299 - lm_acc: 0.9623\n",
            "Epoch 00049: lm_acc improved from 0.96038 to 0.96230, saving model to songys_chat_transformer.hdf5\n",
            "47/47 [==============================] - 8s 163ms/step - loss: 0.0299 - lm_acc: 0.9623\n",
            "Epoch 50/50\n",
            "47/47 [==============================] - ETA: 0s - loss: 0.0296 - lm_acc: 0.9620\n",
            "Epoch 00050: lm_acc did not improve from 0.96230\n",
            "47/47 [==============================] - 8s 161ms/step - loss: 0.0296 - lm_acc: 0.9620\n"
          ],
          "name": "stdout"
        }
      ]
    },
    {
      "cell_type": "code",
      "metadata": {
        "id": "zqJUd1RoMsic",
        "colab_type": "code",
        "colab": {
          "base_uri": "https://localhost:8080/",
          "height": 283
        },
        "outputId": "83658b9c-d2e2-46eb-a3d4-eae4d51704a1"
      },
      "source": [
        "# training result\n",
        "plt.figure(figsize=(12, 4))\n",
        "\n",
        "plt.subplot(1, 2, 1)\n",
        "plt.plot(history.history['loss'], 'b-', label='loss')\n",
        "plt.xlabel('Epoch')\n",
        "plt.legend()\n",
        "\n",
        "plt.subplot(1, 2, 2)\n",
        "plt.plot(history.history['lm_acc'], 'g-', label='accuracy')\n",
        "plt.xlabel('Epoch')\n",
        "plt.legend()\n",
        "\n",
        "plt.show()"
      ],
      "execution_count": 184,
      "outputs": [
        {
          "output_type": "display_data",
          "data": {
            "image/png": "[encoded data removed]",
            "text/plain": [
              "<Figure size 864x288 with 2 Axes>"
            ]
          },
          "metadata": {
            "tags": [],
            "needs_background": "light"
          }
        }
      ]
    },
    {
      "cell_type": "markdown",
      "metadata": {
        "id": "dtqNHlkRdjz5",
        "colab_type": "text"
      },
      "source": [
        "## Inference"
      ]
    },
    {
      "cell_type": "code",
      "metadata": {
        "id": "0wV723x3dsOy",
        "colab_type": "code",
        "colab": {
          "base_uri": "https://localhost:8080/",
          "height": 312
        },
        "outputId": "a290660f-d083-463a-c693-81797c601a2e"
      },
      "source": [
        "model = build_model(config)\n",
        "tf.keras.utils.plot_model(model, 'model.png', show_shapes=True)"
      ],
      "execution_count": 185,
      "outputs": [
        {
          "output_type": "execute_result",
          "data": {
            "image/png": "[encoded data removed]",
            "text/plain": [
              "<IPython.core.display.Image object>"
            ]
          },
          "metadata": {
            "tags": []
          },
          "execution_count": 185
        }
      ]
    },
    {
      "cell_type": "code",
      "metadata": {
        "id": "0WfW_jOjdxO7",
        "colab_type": "code",
        "colab": {}
      },
      "source": [
        "# 기존 학습 weight 로드\n",
        "model.load_weights(\"songys_chat_transformer.hdf5\")"
      ],
      "execution_count": 186,
      "outputs": []
    },
    {
      "cell_type": "code",
      "metadata": {
        "id": "6ztQryROd6sq",
        "colab_type": "code",
        "colab": {}
      },
      "source": [
        "def do_predict(model, n_seq, string):\n",
        "    \"\"\"\n",
        "    입력에 대한 답변 생성하는 함수\n",
        "    :param model: model\n",
        "    :param n_seq: 디코더 입력 개수\n",
        "    :param string: 입력 문자열\n",
        "    \"\"\"\n",
        "    # enc_token 생성: <string tokens>, [PAD] tokens\n",
        "    enc_token = vocab.encode_as_ids(string)\n",
        "    # dec_token 생성: [BOS], [PAD] tokens\n",
        "    dec_token = [vocab.bos_id()]\n",
        "    dec_token += [0] * (n_seq - len(dec_token))\n",
        "    dec_token = dec_token[:n_seq]\n",
        "\n",
        "    response = []\n",
        "    for i in range(n_seq - 1):\n",
        "        # model 실행\n",
        "        output = model.predict((np.array([enc_token]), np.array([dec_token])))\n",
        "        # decoder의 마지막 위치의 token 예측 값\n",
        "        word_id = int(np.argmax(output, axis=2)[0][i])\n",
        "        # [EOS] 토큰이 생성되면 종료\n",
        "        if word_id == vocab.eos_id():\n",
        "            break\n",
        "        # 예측된 token을 응답에 저장\n",
        "        response.append(word_id)\n",
        "        # 예측된 token을 decoder의 다음 입력으로 저장\n",
        "        dec_token[i + 1] = word_id\n",
        "    \n",
        "    # 생성된 token을 문자열로 변경\n",
        "    return vocab.decode_ids(response)"
      ],
      "execution_count": 187,
      "outputs": []
    },
    {
      "cell_type": "code",
      "metadata": {
        "id": "CAGU6rovd2eB",
        "colab_type": "code",
        "colab": {
          "base_uri": "https://localhost:8080/",
          "height": 136
        },
        "outputId": "d925e1ee-47b8-467e-e454-8d53ceed428b"
      },
      "source": [
        "while True:\n",
        "    print(\"input > \", end=\"\")\n",
        "    string = str(input())\n",
        "    if len(string) == 0:\n",
        "        break\n",
        "    print(f\"output > {do_predict(model, 20, string)}\")"
      ],
      "execution_count": 188,
      "outputs": [
        {
          "output_type": "stream",
          "text": [
            "input > 안녕 만나서 반가워\n",
            "output > 반갑습니다.\n",
            "input > 너는 누구니?\n",
            "output > 저는 마음을 이어주는 위로봇입니다.\n",
            "input > 오늘 날씨 어때>\n",
            "output > 따뜻해졌죠.\n",
            "input > \n"
          ],
          "name": "stdout"
        }
      ]
    }
  ]
}