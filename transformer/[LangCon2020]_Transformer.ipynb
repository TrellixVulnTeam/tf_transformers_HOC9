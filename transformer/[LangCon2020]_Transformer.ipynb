{
  "nbformat": 4,
  "nbformat_minor": 0,
  "metadata": {
    "colab": {
      "name": "[LangCon2020] Transformer.ipynb",
      "provenance": [],
      "collapsed_sections": [
        "dg6iIMEJRVF5",
        "Aw_RiCrZd1Jp",
        "pKEZAHeCzxRm",
        "6zIuHDPU0qif",
        "oNFjgMAqf5F9",
        "8AaJfELdJAws",
        "v4JrzZa-JFqz",
        "5F2o9a06JKXK",
        "4Igt7GwvJWgV",
        "SGHIBE4SUYtC",
        "aw2CjyEzJdCu",
        "KlbxVAZapnGy",
        "rRIB0gjRJjAU",
        "69ZQF9_QJtgD",
        "kRJOG3puSMbl",
        "sC6NSo3cJ2HE",
        "TnFBTppYJ4QE",
        "253aegyMJ5s9",
        "1FbtXvu_S6Hm",
        "H1bAp9rqKAMW",
        "oZcLQR0NKINv",
        "PTpTinUoKLc1",
        "wWAtDOgtLHZr",
        "owr3DtdjLHZs",
        "UP9HqezULHaC",
        "QJ4wDtrPLHaE",
        "ZZYToSV7yRVF",
        "VlhvQ5TcKlp_",
        "O33u8_SWKrH4",
        "oPBEA8FAl39-",
        "64BhMxZ4KUI1",
        "SbQ-4OZ2KdbH",
        "sc0xdcL-6ZZl",
        "W_ks6mcOKzow",
        "hXWYTm6JK9OR",
        "f9HRMhWKK-6I",
        "Z3Jc-KlSQDMG",
        "OnCeiVe2NrNz",
        "xDuEmCeoN2lq",
        "5rTITKdIN5nU",
        "oCkXJQIUlETb",
        "eZXtO5pKONH1",
        "F8_N3eEDOA2z",
        "I9zNYIgzPwW3",
        "teJEuUHAlI5f",
        "L9be5hBhR0k9",
        "XpS8LxinR4HZ",
        "hsohSU2sR7QF",
        "fC79J4CYuWF7",
        "MRwW6_IRTtWv",
        "fQDSL7Q1TrvJ",
        "_N5l-XL5WAuP",
        "tOZoGy998QRV",
        "34abQnr98r7B",
        "S3266YeXD2Yw",
        "1-xIfzOMF8nO",
        "xclGDmnmDCUY",
        "hjqOTrjvxji7",
        "6x6W5AYLaqMw",
        "TOWlO39Vaoit",
        "ZV5zGuQQL_mK",
        "fAR-ddNrMGby",
        "jWIUoq0cbYT8",
        "qQqF2KJVcLBF",
        "DYYcdK-_MRni",
        "Ey3sghogI4rz",
        "VKkOrvxoJM1h",
        "A7k-JyedJK6J",
        "HNHVGEgyacKg",
        "KMtlbz8YMd_j",
        "dtqNHlkRdjz5"
      ],
      "toc_visible": true
    },
    "kernelspec": {
      "name": "python3",
      "display_name": "Python 3"
    },
    "accelerator": "GPU",
    "widgets": {
      "application/vnd.jupyter.widget-state+json": {
        "047a73f052fe4b81acedfc4ae3089d5a": {
          "model_module": "@jupyter-widgets/controls",
          "model_name": "HBoxModel",
          "state": {
            "_view_name": "HBoxView",
            "_dom_classes": [],
            "_model_name": "HBoxModel",
            "_view_module": "@jupyter-widgets/controls",
            "_model_module_version": "1.5.0",
            "_view_count": null,
            "_view_module_version": "1.5.0",
            "box_style": "",
            "layout": "IPY_MODEL_c76a4f4c686b448daba9874b0272a62b",
            "_model_module": "@jupyter-widgets/controls",
            "children": [
              "IPY_MODEL_cd3f647e132c42afbe4ab7a478fa39ec",
              "IPY_MODEL_9b050ccbc4634c85b5c41b36f43157bc"
            ]
          }
        },
        "c76a4f4c686b448daba9874b0272a62b": {
          "model_module": "@jupyter-widgets/base",
          "model_name": "LayoutModel",
          "state": {
            "_view_name": "LayoutView",
            "grid_template_rows": null,
            "right": null,
            "justify_content": null,
            "_view_module": "@jupyter-widgets/base",
            "overflow": null,
            "_model_module_version": "1.2.0",
            "_view_count": null,
            "flex_flow": null,
            "width": null,
            "min_width": null,
            "border": null,
            "align_items": null,
            "bottom": null,
            "_model_module": "@jupyter-widgets/base",
            "top": null,
            "grid_column": null,
            "overflow_y": null,
            "overflow_x": null,
            "grid_auto_flow": null,
            "grid_area": null,
            "grid_template_columns": null,
            "flex": null,
            "_model_name": "LayoutModel",
            "justify_items": null,
            "grid_row": null,
            "max_height": null,
            "align_content": null,
            "visibility": null,
            "align_self": null,
            "height": null,
            "min_height": null,
            "padding": null,
            "grid_auto_rows": null,
            "grid_gap": null,
            "max_width": null,
            "order": null,
            "_view_module_version": "1.2.0",
            "grid_template_areas": null,
            "object_position": null,
            "object_fit": null,
            "grid_auto_columns": null,
            "margin": null,
            "display": null,
            "left": null
          }
        },
        "cd3f647e132c42afbe4ab7a478fa39ec": {
          "model_module": "@jupyter-widgets/controls",
          "model_name": "FloatProgressModel",
          "state": {
            "_view_name": "ProgressView",
            "style": "IPY_MODEL_37237552f7da49dfa862abac119e3f44",
            "_dom_classes": [],
            "description": "100%",
            "_model_name": "FloatProgressModel",
            "bar_style": "success",
            "max": 11823,
            "_view_module": "@jupyter-widgets/controls",
            "_model_module_version": "1.5.0",
            "value": 11823,
            "_view_count": null,
            "_view_module_version": "1.5.0",
            "orientation": "horizontal",
            "min": 0,
            "description_tooltip": null,
            "_model_module": "@jupyter-widgets/controls",
            "layout": "IPY_MODEL_abafd9c839ee493495b6045a72298df3"
          }
        },
        "9b050ccbc4634c85b5c41b36f43157bc": {
          "model_module": "@jupyter-widgets/controls",
          "model_name": "HTMLModel",
          "state": {
            "_view_name": "HTMLView",
            "style": "IPY_MODEL_b46ba5694356433997206349bf61776c",
            "_dom_classes": [],
            "description": "",
            "_model_name": "HTMLModel",
            "placeholder": "​",
            "_view_module": "@jupyter-widgets/controls",
            "_model_module_version": "1.5.0",
            "value": " 11823/11823 [09:42&lt;00:00, 20.31it/s]",
            "_view_count": null,
            "_view_module_version": "1.5.0",
            "description_tooltip": null,
            "_model_module": "@jupyter-widgets/controls",
            "layout": "IPY_MODEL_45d7ff61f95e458cada41064e5260d1d"
          }
        },
        "37237552f7da49dfa862abac119e3f44": {
          "model_module": "@jupyter-widgets/controls",
          "model_name": "ProgressStyleModel",
          "state": {
            "_view_name": "StyleView",
            "_model_name": "ProgressStyleModel",
            "description_width": "initial",
            "_view_module": "@jupyter-widgets/base",
            "_model_module_version": "1.5.0",
            "_view_count": null,
            "_view_module_version": "1.2.0",
            "bar_color": null,
            "_model_module": "@jupyter-widgets/controls"
          }
        },
        "abafd9c839ee493495b6045a72298df3": {
          "model_module": "@jupyter-widgets/base",
          "model_name": "LayoutModel",
          "state": {
            "_view_name": "LayoutView",
            "grid_template_rows": null,
            "right": null,
            "justify_content": null,
            "_view_module": "@jupyter-widgets/base",
            "overflow": null,
            "_model_module_version": "1.2.0",
            "_view_count": null,
            "flex_flow": null,
            "width": null,
            "min_width": null,
            "border": null,
            "align_items": null,
            "bottom": null,
            "_model_module": "@jupyter-widgets/base",
            "top": null,
            "grid_column": null,
            "overflow_y": null,
            "overflow_x": null,
            "grid_auto_flow": null,
            "grid_area": null,
            "grid_template_columns": null,
            "flex": null,
            "_model_name": "LayoutModel",
            "justify_items": null,
            "grid_row": null,
            "max_height": null,
            "align_content": null,
            "visibility": null,
            "align_self": null,
            "height": null,
            "min_height": null,
            "padding": null,
            "grid_auto_rows": null,
            "grid_gap": null,
            "max_width": null,
            "order": null,
            "_view_module_version": "1.2.0",
            "grid_template_areas": null,
            "object_position": null,
            "object_fit": null,
            "grid_auto_columns": null,
            "margin": null,
            "display": null,
            "left": null
          }
        },
        "b46ba5694356433997206349bf61776c": {
          "model_module": "@jupyter-widgets/controls",
          "model_name": "DescriptionStyleModel",
          "state": {
            "_view_name": "StyleView",
            "_model_name": "DescriptionStyleModel",
            "description_width": "",
            "_view_module": "@jupyter-widgets/base",
            "_model_module_version": "1.5.0",
            "_view_count": null,
            "_view_module_version": "1.2.0",
            "_model_module": "@jupyter-widgets/controls"
          }
        },
        "45d7ff61f95e458cada41064e5260d1d": {
          "model_module": "@jupyter-widgets/base",
          "model_name": "LayoutModel",
          "state": {
            "_view_name": "LayoutView",
            "grid_template_rows": null,
            "right": null,
            "justify_content": null,
            "_view_module": "@jupyter-widgets/base",
            "overflow": null,
            "_model_module_version": "1.2.0",
            "_view_count": null,
            "flex_flow": null,
            "width": null,
            "min_width": null,
            "border": null,
            "align_items": null,
            "bottom": null,
            "_model_module": "@jupyter-widgets/base",
            "top": null,
            "grid_column": null,
            "overflow_y": null,
            "overflow_x": null,
            "grid_auto_flow": null,
            "grid_area": null,
            "grid_template_columns": null,
            "flex": null,
            "_model_name": "LayoutModel",
            "justify_items": null,
            "grid_row": null,
            "max_height": null,
            "align_content": null,
            "visibility": null,
            "align_self": null,
            "height": null,
            "min_height": null,
            "padding": null,
            "grid_auto_rows": null,
            "grid_gap": null,
            "max_width": null,
            "order": null,
            "_view_module_version": "1.2.0",
            "grid_template_areas": null,
            "object_position": null,
            "object_fit": null,
            "grid_auto_columns": null,
            "margin": null,
            "display": null,
            "left": null
          }
        }
      }
    }
  },
  "cells": [
    {
      "cell_type": "markdown",
      "metadata": {
        "id": "dg6iIMEJRVF5",
        "colab_type": "text"
      },
      "source": [
        "# 환경"
      ]
    },
    {
      "cell_type": "code",
      "metadata": {
        "id": "LdVt9pWh8eYV",
        "colab_type": "code",
        "colab": {
          "base_uri": "https://localhost:8080/",
          "height": 122
        },
        "outputId": "5fc2425f-67b7-42a4-8322-01f1142e998d"
      },
      "source": [
        "# vocab 사용을 위한 sentencepiece 설치\n",
        "!pip install sentencepiece"
      ],
      "execution_count": 2,
      "outputs": [
        {
          "output_type": "stream",
          "text": [
            "Collecting sentencepiece\n",
            "\u001b[?25l  Downloading https://files.pythonhosted.org/packages/d4/a4/d0a884c4300004a78cca907a6ff9a5e9fe4f090f5d95ab341c53d28cbc58/sentencepiece-0.1.91-cp36-cp36m-manylinux1_x86_64.whl (1.1MB)\n",
            "\u001b[K     |████████████████████████████████| 1.1MB 4.6MB/s \n",
            "\u001b[?25hInstalling collected packages: sentencepiece\n",
            "Successfully installed sentencepiece-0.1.91\n"
          ],
          "name": "stdout"
        }
      ]
    },
    {
      "cell_type": "code",
      "metadata": {
        "id": "BQCFd-7JRcca",
        "colab_type": "code",
        "colab": {}
      },
      "source": [
        "# imports\n",
        "from __future__ import absolute_import, division, print_function, unicode_literals\n",
        "\n",
        "import tensorflow as tf\n",
        "import tensorflow.keras.backend as K\n",
        "\n",
        "import os\n",
        "import re\n",
        "import numpy as np\n",
        "import pandas as pd\n",
        "import random\n",
        "import collections\n",
        "import json\n",
        "from datetime import datetime\n",
        "\n",
        "import matplotlib.pyplot as plt\n",
        "import sentencepiece as spm\n",
        "from tqdm.notebook import tqdm\n",
        "\n",
        "random_seed = 1234\n",
        "random.seed(random_seed)\n",
        "np.random.seed(random_seed)\n",
        "tf.random.set_seed(random_seed)"
      ],
      "execution_count": 3,
      "outputs": []
    },
    {
      "cell_type": "code",
      "metadata": {
        "id": "-vVvopnXRgka",
        "colab_type": "code",
        "colab": {
          "base_uri": "https://localhost:8080/",
          "height": 0
        },
        "outputId": "1671e788-df81-4e35-8501-bed019bd378a"
      },
      "source": [
        "# gpu 확인\n",
        "!nvidia-smi"
      ],
      "execution_count": 4,
      "outputs": [
        {
          "output_type": "stream",
          "text": [
            "Sun Aug  9 05:49:51 2020       \n",
            "+-----------------------------------------------------------------------------+\n",
            "| NVIDIA-SMI 450.57       Driver Version: 418.67       CUDA Version: 10.1     |\n",
            "|-------------------------------+----------------------+----------------------+\n",
            "| GPU  Name        Persistence-M| Bus-Id        Disp.A | Volatile Uncorr. ECC |\n",
            "| Fan  Temp  Perf  Pwr:Usage/Cap|         Memory-Usage | GPU-Util  Compute M. |\n",
            "|                               |                      |               MIG M. |\n",
            "|===============================+======================+======================|\n",
            "|   0  Tesla T4            Off  | 00000000:00:04.0 Off |                    0 |\n",
            "| N/A   54C    P8    10W /  70W |      0MiB / 15079MiB |      0%      Default |\n",
            "|                               |                      |                 ERR! |\n",
            "+-------------------------------+----------------------+----------------------+\n",
            "                                                                               \n",
            "+-----------------------------------------------------------------------------+\n",
            "| Processes:                                                                  |\n",
            "|  GPU   GI   CI        PID   Type   Process name                  GPU Memory |\n",
            "|        ID   ID                                                   Usage      |\n",
            "|=============================================================================|\n",
            "|  No running processes found                                                 |\n",
            "+-----------------------------------------------------------------------------+\n"
          ],
          "name": "stdout"
        }
      ]
    },
    {
      "cell_type": "code",
      "metadata": {
        "id": "FlYm3JM7fcdd",
        "colab_type": "code",
        "colab": {
          "base_uri": "https://localhost:8080/",
          "height": 0
        },
        "outputId": "15b5bcda-9295-43a6-e382-a91dd1bb8488"
      },
      "source": [
        "# tf version 및 gpu 확인\n",
        "print(tf.__version__)\n",
        "print(tf.config.list_physical_devices('GPU'))\n",
        "print(tf.test.gpu_device_name())"
      ],
      "execution_count": 5,
      "outputs": [
        {
          "output_type": "stream",
          "text": [
            "2.3.0\n",
            "[PhysicalDevice(name='/physical_device:GPU:0', device_type='GPU')]\n",
            "/device:GPU:0\n"
          ],
          "name": "stdout"
        }
      ]
    },
    {
      "cell_type": "markdown",
      "metadata": {
        "id": "Aw_RiCrZd1Jp",
        "colab_type": "text"
      },
      "source": [
        "# Transformer Tutorial"
      ]
    },
    {
      "cell_type": "markdown",
      "metadata": {
        "id": "pKEZAHeCzxRm",
        "colab_type": "text"
      },
      "source": [
        "## Config"
      ]
    },
    {
      "cell_type": "code",
      "metadata": {
        "id": "u9VJvPSx12Q8",
        "colab_type": "code",
        "colab": {}
      },
      "source": [
        "class Config(dict):\n",
        "    \"\"\"\n",
        "    json을 config 형태로 사용하기 위한 Class\n",
        "    :param dict: config dictionary\n",
        "    \"\"\"\n",
        "    __getattr__ = dict.__getitem__\n",
        "    __setattr__ = dict.__setitem__\n",
        "\n",
        "    @classmethod\n",
        "    def load(cls, file):\n",
        "        \"\"\"\n",
        "        file에서 Config를 생성 함\n",
        "        :param file: filename\n",
        "        \"\"\"\n",
        "        with open(file, 'r') as f:\n",
        "            config = json.loads(f.read())\n",
        "            return Config(config)"
      ],
      "execution_count": 7,
      "outputs": []
    },
    {
      "cell_type": "code",
      "metadata": {
        "id": "4Bb_Q7DhzlGp",
        "colab_type": "code",
        "colab": {
          "base_uri": "https://localhost:8080/",
          "height": 187
        },
        "outputId": "1ddb6018-fc51-4ef2-df16-9b0785ef9424"
      },
      "source": [
        "# config 생성\n",
        "# d_model: model hidden dim\n",
        "# n_head: multi head attention head number\n",
        "# d_head: multi head attention head dim\n",
        "# dropout: dropout rate\n",
        "# d_ff: feed forward dim\n",
        "# layernorm_epsilon: layernormal epsilon\n",
        "# n_layer: layer number\n",
        "# n_seq: sequence max number\n",
        "# n_vocab: vocab count\n",
        "# i_pad: vocab pad id\n",
        "config = Config({\"d_model\": 8, \"n_head\": 2, \"d_head\": 4, \"dropout\": 0.1, \"d_ff\": 32, \"layernorm_epsilon\": 0.001, \"n_layer\": 3, \"n_seq\": 10, \"n_vocab\": 0, \"i_pad\": 0})\n",
        "config.n_vocab = 10\n",
        "config.i_pad = 0\n",
        "config"
      ],
      "execution_count": 8,
      "outputs": [
        {
          "output_type": "execute_result",
          "data": {
            "text/plain": [
              "{'d_ff': 32,\n",
              " 'd_head': 4,\n",
              " 'd_model': 8,\n",
              " 'dropout': 0.1,\n",
              " 'i_pad': 0,\n",
              " 'layernorm_epsilon': 0.001,\n",
              " 'n_head': 2,\n",
              " 'n_layer': 3,\n",
              " 'n_seq': 10,\n",
              " 'n_vocab': 10}"
            ]
          },
          "metadata": {
            "tags": []
          },
          "execution_count": 8
        }
      ]
    },
    {
      "cell_type": "markdown",
      "metadata": {
        "id": "6zIuHDPU0qif",
        "colab_type": "text"
      },
      "source": [
        "## Inputs"
      ]
    },
    {
      "cell_type": "code",
      "metadata": {
        "id": "yP8BiMdU0pjZ",
        "colab_type": "code",
        "colab": {
          "base_uri": "https://localhost:8080/",
          "height": 34
        },
        "outputId": "01ca69b7-75df-4bd0-84ff-d9b26e3c7335"
      },
      "source": [
        "# encoder 입력 값 정의\n",
        "enc_tokens = np.random.randint(1, config.n_vocab, (1, 6))\n",
        "# 마지막은 padding\n",
        "enc_tokens[:,5:] = config.i_pad\n",
        "enc_tokens"
      ],
      "execution_count": 18,
      "outputs": [
        {
          "output_type": "execute_result",
          "data": {
            "text/plain": [
              "array([[1, 9, 5, 1, 1, 0]])"
            ]
          },
          "metadata": {
            "tags": []
          },
          "execution_count": 18
        }
      ]
    },
    {
      "cell_type": "code",
      "metadata": {
        "id": "GkZb4b9-00Ng",
        "colab_type": "code",
        "colab": {
          "base_uri": "https://localhost:8080/",
          "height": 34
        },
        "outputId": "d4f672f4-1911-40ce-db07-88d8bff8c2e1"
      },
      "source": [
        "# 입력 값 정의\n",
        "dec_tokens = np.random.randint(1, config.n_vocab, (1, 5))\n",
        "# 마지막은 padding\n",
        "dec_tokens[:,4:] = config.i_pad\n",
        "dec_tokens"
      ],
      "execution_count": 19,
      "outputs": [
        {
          "output_type": "execute_result",
          "data": {
            "text/plain": [
              "array([[1, 4, 2, 4, 0]])"
            ]
          },
          "metadata": {
            "tags": []
          },
          "execution_count": 19
        }
      ]
    },
    {
      "cell_type": "markdown",
      "metadata": {
        "id": "oNFjgMAqf5F9",
        "colab_type": "text"
      },
      "source": [
        "## Weight Shared Embedding\n",
        "\n",
        "![](https://paul-hyun.github.io/assets/transformer/weight_shared_embedding.png)"
      ]
    },
    {
      "cell_type": "markdown",
      "metadata": {
        "id": "8AaJfELdJAws",
        "colab_type": "text"
      },
      "source": [
        "### Tutorial Embedding"
      ]
    },
    {
      "cell_type": "code",
      "metadata": {
        "id": "rCGzHgobgGju",
        "colab_type": "code",
        "colab": {
          "base_uri": "https://localhost:8080/",
          "height": 391
        },
        "outputId": "69d32722-b4ec-4858-caf1-b180d9572c38"
      },
      "source": [
        "# embedding weight 초기화\n",
        "embed_weight = tf.random.normal([config.n_vocab, config.d_model])\n",
        "embed_weight"
      ],
      "execution_count": null,
      "outputs": [
        {
          "output_type": "execute_result",
          "data": {
            "text/plain": [
              "<tf.Tensor: shape=(10, 8), dtype=float32, numpy=\n",
              "array([[ 1.1468066e+00,  9.6459925e-01,  8.7830144e-01, -3.1010219e-01,\n",
              "         1.0766513e+00,  1.0087478e+00, -8.1858063e-01, -1.6364609e-01],\n",
              "       [-1.2851634e+00,  4.8043427e-01, -7.4934468e-02, -1.2139158e+00,\n",
              "        -1.6844451e+00,  5.8187848e-01, -4.1433084e-01,  8.4568202e-01],\n",
              "       [-1.0041721e+00,  2.5354072e-01,  7.3124993e-01, -3.4877825e-01,\n",
              "        -2.0613933e-01,  1.2796137e-01, -2.9869077e-01,  6.4293331e-01],\n",
              "       [ 6.5259171e-01,  1.5599339e+00,  1.1578255e+00,  3.5086939e-01,\n",
              "        -1.5116149e+00,  9.3240601e-01, -1.0664375e+00,  5.4151677e-02],\n",
              "       [-2.3044170e-01, -4.6098581e-01, -2.7603853e-01, -5.1529491e-01,\n",
              "         5.9657533e-02, -4.9658725e-01,  3.9430723e-01,  1.3386700e+00],\n",
              "       [ 1.4531926e-02,  1.6088300e+00,  1.1884310e-01,  2.4563615e-01,\n",
              "         1.4115586e+00,  4.6241831e-02, -2.6942236e+00,  6.6174403e-02],\n",
              "       [ 1.0009037e+00,  2.5966296e-01,  3.5906963e-02, -1.4425921e-01,\n",
              "         7.0204556e-01,  6.6610001e-02, -7.5066738e-02, -2.6702802e-04],\n",
              "       [-7.6020014e-01, -8.1110376e-01, -2.6180820e+00,  3.9480880e-01,\n",
              "         1.4318655e+00, -4.8004350e-01,  5.7930893e-01, -3.2677621e-01],\n",
              "       [ 1.0412444e+00,  2.2952862e-01, -8.6404449e-01,  5.5277920e-01,\n",
              "        -4.3022946e-01, -1.0657014e+00,  7.9324245e-01,  1.0036352e-02],\n",
              "       [ 4.5738243e-02,  5.6568366e-01,  4.6100944e-01,  3.3675268e-02,\n",
              "        -2.1813616e-01,  8.8996315e-01,  1.3181646e-01, -7.5811917e-01]],\n",
              "      dtype=float32)>"
            ]
          },
          "metadata": {
            "tags": []
          },
          "execution_count": 55
        }
      ]
    },
    {
      "cell_type": "code",
      "metadata": {
        "id": "9o24Kl2ZgLnR",
        "colab_type": "code",
        "colab": {
          "base_uri": "https://localhost:8080/",
          "height": 255
        },
        "outputId": "cacd7b5f-327f-424b-997c-70849da1c621"
      },
      "source": [
        "# embedding lookup 대신에 tf.gather 함수 사용\n",
        "token_embed1 = tf.gather(embed_weight, enc_tokens)\n",
        "token_embed1"
      ],
      "execution_count": null,
      "outputs": [
        {
          "output_type": "execute_result",
          "data": {
            "text/plain": [
              "<tf.Tensor: shape=(1, 6, 8), dtype=float32, numpy=\n",
              "array([[[-2.3044170e-01, -4.6098581e-01, -2.7603853e-01, -5.1529491e-01,\n",
              "          5.9657533e-02, -4.9658725e-01,  3.9430723e-01,  1.3386700e+00],\n",
              "        [-7.6020014e-01, -8.1110376e-01, -2.6180820e+00,  3.9480880e-01,\n",
              "          1.4318655e+00, -4.8004350e-01,  5.7930893e-01, -3.2677621e-01],\n",
              "        [ 1.0009037e+00,  2.5966296e-01,  3.5906963e-02, -1.4425921e-01,\n",
              "          7.0204556e-01,  6.6610001e-02, -7.5066738e-02, -2.6702802e-04],\n",
              "        [ 1.4531926e-02,  1.6088300e+00,  1.1884310e-01,  2.4563615e-01,\n",
              "          1.4115586e+00,  4.6241831e-02, -2.6942236e+00,  6.6174403e-02],\n",
              "        [ 4.5738243e-02,  5.6568366e-01,  4.6100944e-01,  3.3675268e-02,\n",
              "         -2.1813616e-01,  8.8996315e-01,  1.3181646e-01, -7.5811917e-01],\n",
              "        [ 1.1468066e+00,  9.6459925e-01,  8.7830144e-01, -3.1010219e-01,\n",
              "          1.0766513e+00,  1.0087478e+00, -8.1858063e-01, -1.6364609e-01]]],\n",
              "      dtype=float32)>"
            ]
          },
          "metadata": {
            "tags": []
          },
          "execution_count": 56
        }
      ]
    },
    {
      "cell_type": "code",
      "metadata": {
        "id": "OwUzEGoVgU37",
        "colab_type": "code",
        "colab": {
          "base_uri": "https://localhost:8080/",
          "height": 255
        },
        "outputId": "a6dccc4d-ebf4-4753-b705-acb502190489"
      },
      "source": [
        "# embedding 값에 d_model ** 0.5 곱\n",
        "token_embed = token_embed1 * config.d_model ** 0.5\n",
        "token_embed"
      ],
      "execution_count": null,
      "outputs": [
        {
          "output_type": "execute_result",
          "data": {
            "text/plain": [
              "<tf.Tensor: shape=(1, 6, 8), dtype=float32, numpy=\n",
              "array([[[-6.5178758e-01, -1.3038647e+00, -7.8075486e-01, -1.4574741e+00,\n",
              "          1.6873698e-01, -1.4045608e+00,  1.1152692e+00,  3.7863305e+00],\n",
              "        [-2.1501706e+00, -2.2941477e+00, -7.4050541e+00,  1.1166879e+00,\n",
              "          4.0499272e+00, -1.3577681e+00,  1.6385330e+00, -9.2426264e-01],\n",
              "        [ 2.8309832e+00,  7.3443776e-01,  1.0156023e-01, -4.0802667e-01,\n",
              "          1.9856846e+00,  1.8840154e-01, -2.1232079e-01, -7.5526931e-04],\n",
              "        [ 4.1102495e-02,  4.5504584e+00,  3.3613905e-01,  6.9476396e-01,\n",
              "          3.9924905e+00,  1.3079165e-01, -7.6204152e+00,  1.8716948e-01],\n",
              "        [ 1.2936728e-01,  1.5999950e+00,  1.3039316e+00,  9.5248044e-02,\n",
              "         -6.1698222e-01,  2.5171959e+00,  3.7283325e-01, -2.1442847e+00],\n",
              "        [ 3.2436588e+00,  2.7282987e+00,  2.4842117e+00, -8.7710142e-01,\n",
              "          3.0452297e+00,  2.8531697e+00, -2.3152957e+00, -4.6286103e-01]]],\n",
              "      dtype=float32)>"
            ]
          },
          "metadata": {
            "tags": []
          },
          "execution_count": 57
        }
      ]
    },
    {
      "cell_type": "markdown",
      "metadata": {
        "id": "v4JrzZa-JFqz",
        "colab_type": "text"
      },
      "source": [
        "### Tutorial Linear"
      ]
    },
    {
      "cell_type": "code",
      "metadata": {
        "id": "HDIsy0HogjvO",
        "colab_type": "code",
        "colab": {
          "base_uri": "https://localhost:8080/",
          "height": 255
        },
        "outputId": "52093d8d-4088-4770-e023-b903bae17bce"
      },
      "source": [
        "# linear layer\n",
        "# (n_batch, n_seq, d_model) -> (n_batch * n_seq, d_model)\n",
        "n_batch, n_seq, d_model = tf.shape(token_embed)\n",
        "token_reshape = tf.reshape(token_embed, [-1, d_model])\n",
        "token_reshape"
      ],
      "execution_count": null,
      "outputs": [
        {
          "output_type": "execute_result",
          "data": {
            "text/plain": [
              "<tf.Tensor: shape=(6, 8), dtype=float32, numpy=\n",
              "array([[-6.5178758e-01, -1.3038647e+00, -7.8075486e-01, -1.4574741e+00,\n",
              "         1.6873698e-01, -1.4045608e+00,  1.1152692e+00,  3.7863305e+00],\n",
              "       [-2.1501706e+00, -2.2941477e+00, -7.4050541e+00,  1.1166879e+00,\n",
              "         4.0499272e+00, -1.3577681e+00,  1.6385330e+00, -9.2426264e-01],\n",
              "       [ 2.8309832e+00,  7.3443776e-01,  1.0156023e-01, -4.0802667e-01,\n",
              "         1.9856846e+00,  1.8840154e-01, -2.1232079e-01, -7.5526931e-04],\n",
              "       [ 4.1102495e-02,  4.5504584e+00,  3.3613905e-01,  6.9476396e-01,\n",
              "         3.9924905e+00,  1.3079165e-01, -7.6204152e+00,  1.8716948e-01],\n",
              "       [ 1.2936728e-01,  1.5999950e+00,  1.3039316e+00,  9.5248044e-02,\n",
              "        -6.1698222e-01,  2.5171959e+00,  3.7283325e-01, -2.1442847e+00],\n",
              "       [ 3.2436588e+00,  2.7282987e+00,  2.4842117e+00, -8.7710142e-01,\n",
              "         3.0452297e+00,  2.8531697e+00, -2.3152957e+00, -4.6286103e-01]],\n",
              "      dtype=float32)>"
            ]
          },
          "metadata": {
            "tags": []
          },
          "execution_count": 58
        }
      ]
    },
    {
      "cell_type": "code",
      "metadata": {
        "id": "rsrpvA1qgz8e",
        "colab_type": "code",
        "colab": {
          "base_uri": "https://localhost:8080/",
          "height": 374
        },
        "outputId": "47a23fe6-9fa2-4ca0-f9c4-db6051439d6d"
      },
      "source": [
        "# matrix mul with embd_weight\n",
        "token_linear = tf.matmul(token_reshape, embed_weight, transpose_b=True)\n",
        "token_reshape.shape, embed_weight.shape, token_linear"
      ],
      "execution_count": null,
      "outputs": [
        {
          "output_type": "execute_result",
          "data": {
            "text/plain": [
              "(TensorShape([6, 8]),\n",
              " TensorShape([10, 8]),\n",
              " <tf.Tensor: shape=(6, 10), dtype=float32, numpy=\n",
              " array([[ -5.006686  ,   3.6774178 ,   2.148057  ,  -6.42367   ,\n",
              "           7.9337687 ,  -5.138958  ,  -0.86854976,   3.346377  ,\n",
              "           1.2379277 ,  -5.1866965 ],\n",
              "        [ -9.728226  ,  -8.212001  ,  -6.3191853 , -22.349216  ,\n",
              "           3.346377  ,  -3.149693  ,  -0.54476446,  31.02525   ,\n",
              "           5.2452073 ,  -5.9474144 ],\n",
              "        [  6.6726236 ,  -5.9455442 ,  -2.7622945 ,   0.36803746,\n",
              "          -0.8685499 ,   4.518181  ,   4.509285  ,  -0.5447649 ,\n",
              "           1.5795093 ,   0.28512946],\n",
              "        [ 15.15404   ,  -2.0685685 ,   2.7061477 ,   9.9818735 ,\n",
              "          -5.138958  ,  33.71729   ,   4.518181  ,  -3.1496937 ,\n",
              "          -6.71916   ,   0.8534597 ],\n",
              "        [  4.7280726 ,   0.9252172 ,   0.15533054,   6.889424  ,\n",
              "          -5.186697  ,   0.8534597 ,   0.28512943,  -5.9474144 ,\n",
              "          -2.714965  ,   5.564907  ],\n",
              "        [ 16.933222  ,  -4.8807483 ,  -0.31164077,   9.442437  ,\n",
              "          -5.0066867 ,  15.15404   ,   6.672624  ,  -9.728227  ,\n",
              "          -4.819659  ,   4.7280726 ]], dtype=float32)>)"
            ]
          },
          "metadata": {
            "tags": []
          },
          "execution_count": 59
        }
      ]
    },
    {
      "cell_type": "code",
      "metadata": {
        "id": "2J-GDv21jO-3",
        "colab_type": "code",
        "colab": {
          "base_uri": "https://localhost:8080/",
          "height": 34
        },
        "outputId": "fd32f010-3802-455e-f35e-dec0a68f39f2"
      },
      "source": [
        "# (bs * n_seq, n_vocab) -> (bs, n_seq, n_vocab)\n",
        "output = tf.reshape(token_linear, [n_batch, n_seq, config.n_vocab])\n",
        "output.shape"
      ],
      "execution_count": null,
      "outputs": [
        {
          "output_type": "execute_result",
          "data": {
            "text/plain": [
              "TensorShape([1, 6, 10])"
            ]
          },
          "metadata": {
            "tags": []
          },
          "execution_count": 60
        }
      ]
    },
    {
      "cell_type": "markdown",
      "metadata": {
        "id": "5F2o9a06JKXK",
        "colab_type": "text"
      },
      "source": [
        "### Class"
      ]
    },
    {
      "cell_type": "code",
      "metadata": {
        "id": "HadAObQ2i6FZ",
        "colab_type": "code",
        "colab": {}
      },
      "source": [
        "def kernel_initializer(stddev=0.02):\n",
        "    \"\"\"\n",
        "    parameter initializer 생성\n",
        "    :param stddev: 생성할 랜덤 변수의 표준편차\n",
        "    \"\"\"\n",
        "    return tf.keras.initializers.TruncatedNormal(stddev=stddev)\n",
        "\n",
        "\n",
        "class SharedEmbedding(tf.keras.layers.Layer):\n",
        "    \"\"\"\n",
        "    Weighed Shaed Embedding Class\n",
        "    \"\"\"\n",
        "    def __init__(self, config, name=\"weight_shared_embedding\"):\n",
        "        \"\"\"\n",
        "        생성자\n",
        "        :param config: Config 객체\n",
        "        :param name: layer name\n",
        "        \"\"\"\n",
        "        super().__init__(name=name)\n",
        "\n",
        "        self.n_vocab = config.n_vocab\n",
        "        self.d_model = config.d_model\n",
        "    \n",
        "    def build(self, input_shape):\n",
        "        \"\"\"\n",
        "        shared weight 생성\n",
        "        :param input_shape: Tensor Shape (not used)\n",
        "        \"\"\"\n",
        "        with tf.name_scope(\"shared_embedding_weight\"):\n",
        "            self.shared_weights = self.add_weight(\n",
        "                \"weights\",\n",
        "                shape=[self.n_vocab, self.d_model],\n",
        "                initializer=kernel_initializer(stddev=self.d_model ** -0.5)\n",
        "            )\n",
        "\n",
        "    def call(self, inputs, mode=\"embedding\"):\n",
        "        \"\"\"\n",
        "        layer 실행\n",
        "        :param inputs: 입력\n",
        "        :param mode: 실행 모드\n",
        "        :return: embedding or linear 실행 결과\n",
        "        \"\"\"\n",
        "        # mode가 embedding일 경우 embedding lookup 실행\n",
        "        if mode == \"embedding\":\n",
        "            return self._embedding(inputs)\n",
        "        # mode가 linear일 경우 linear 실행\n",
        "        elif mode == \"linear\":\n",
        "            return self._linear(inputs)\n",
        "        # mode가 기타일 경우 오류 발생\n",
        "        else:\n",
        "            raise ValueError(f\"mode {mode} is not valid.\")\n",
        "    \n",
        "    def _embedding(self, inputs):\n",
        "        \"\"\"\n",
        "        embedding lookup\n",
        "        :param inputs: 입력\n",
        "        \"\"\"\n",
        "        embed = tf.gather(self.shared_weights, tf.cast(inputs, tf.int32))\n",
        "        embed *= self.d_model ** 0.5\n",
        "        return embed\n",
        "\n",
        "    def _linear(self, inputs):  # (bs, n_seq, d_model)\n",
        "        \"\"\"\n",
        "        linear 실행\n",
        "        :param inputs: 입력\n",
        "        \"\"\"\n",
        "        n_batch = tf.shape(inputs)[0]\n",
        "        n_seq = tf.shape(inputs)[1]\n",
        "        inputs = tf.reshape(inputs, [-1, self.d_model])  # (bs * n_seq, d_model)\n",
        "        outputs = tf.matmul(inputs, self.shared_weights, transpose_b=True)\n",
        "        outputs = tf.reshape(outputs, [n_batch, n_seq, self.n_vocab])  # (bs, n_seq, n_vocab)\n",
        "        return outputs"
      ],
      "execution_count": null,
      "outputs": []
    },
    {
      "cell_type": "markdown",
      "metadata": {
        "id": "4Igt7GwvJWgV",
        "colab_type": "text"
      },
      "source": [
        "### Test"
      ]
    },
    {
      "cell_type": "code",
      "metadata": {
        "id": "mkDCszl4kT_8",
        "colab_type": "code",
        "colab": {
          "base_uri": "https://localhost:8080/",
          "height": 255
        },
        "outputId": "90d384c2-1775-4d0b-bc74-9186f9638c76"
      },
      "source": [
        "# SharedEmbedding embedding test: shape이 (bs, n_seq, d_model)이면 성공\n",
        "embedding = SharedEmbedding(config)\n",
        "\n",
        "enc_embed = embedding(enc_tokens)\n",
        "assert enc_embed.shape == (enc_tokens.shape[0], enc_tokens.shape[1], config.d_model)\n",
        "enc_embed"
      ],
      "execution_count": null,
      "outputs": [
        {
          "output_type": "execute_result",
          "data": {
            "text/plain": [
              "<tf.Tensor: shape=(1, 6, 8), dtype=float32, numpy=\n",
              "array([[[ 0.00432141, -1.8687965 ,  0.44065621,  0.82813895,\n",
              "          0.03443412,  0.46535334,  0.49447912,  0.26405132],\n",
              "        [-0.21304592,  1.2907797 , -0.1086603 ,  0.23993012,\n",
              "          0.46643016, -0.5267802 , -0.4279529 ,  0.1897406 ],\n",
              "        [-0.668867  ,  1.2300687 ,  0.8046531 , -0.06732277,\n",
              "         -0.49097258, -1.3009213 ,  1.3948475 ,  1.6189909 ],\n",
              "        [ 1.1375076 ,  1.3150845 ,  0.27649412,  1.8703516 ,\n",
              "         -0.18713138, -0.33553603,  1.1578921 , -0.49563864],\n",
              "        [ 0.5463764 ,  0.5039837 , -0.46484855, -0.31914976,\n",
              "          0.92087096, -1.1852058 , -0.5426515 ,  0.40838614],\n",
              "        [ 0.9588322 , -0.33258024, -0.06361825,  0.02438497,\n",
              "          0.07176014,  1.2468479 , -1.458237  ,  1.9586515 ]]],\n",
              "      dtype=float32)>"
            ]
          },
          "metadata": {
            "tags": []
          },
          "execution_count": 62
        }
      ]
    },
    {
      "cell_type": "code",
      "metadata": {
        "id": "tg0vVqkx2jFb",
        "colab_type": "code",
        "colab": {
          "base_uri": "https://localhost:8080/",
          "height": 221
        },
        "outputId": "c9925e4d-61f7-4b2b-fc1f-389a53cc8550"
      },
      "source": [
        "# SharedEmbedding embedding test: shape이 (bs, n_seq, d_model)이면 성공\n",
        "dec_embed = embedding(dec_tokens)\n",
        "assert dec_embed.shape == (dec_tokens.shape[0], dec_tokens.shape[1], config.d_model)\n",
        "dec_embed"
      ],
      "execution_count": null,
      "outputs": [
        {
          "output_type": "execute_result",
          "data": {
            "text/plain": [
              "<tf.Tensor: shape=(1, 5, 8), dtype=float32, numpy=\n",
              "array([[[-0.2977025 ,  1.4501038 ,  0.0490152 , -0.11737859,\n",
              "          0.56771135, -0.3517472 , -0.5569662 ,  0.9572232 ],\n",
              "        [-0.21304592,  1.2907797 , -0.1086603 ,  0.23993012,\n",
              "          0.46643016, -0.5267802 , -0.4279529 ,  0.1897406 ],\n",
              "        [ 0.5463764 ,  0.5039837 , -0.46484855, -0.31914976,\n",
              "          0.92087096, -1.1852058 , -0.5426515 ,  0.40838614],\n",
              "        [-0.8611091 ,  0.8573174 , -0.2782143 , -1.6263471 ,\n",
              "          0.9024426 , -0.36147758,  0.36424857, -0.2639534 ],\n",
              "        [ 0.9588322 , -0.33258024, -0.06361825,  0.02438497,\n",
              "          0.07176014,  1.2468479 , -1.458237  ,  1.9586515 ]]],\n",
              "      dtype=float32)>"
            ]
          },
          "metadata": {
            "tags": []
          },
          "execution_count": 63
        }
      ]
    },
    {
      "cell_type": "code",
      "metadata": {
        "id": "ncgRJ-AJklJK",
        "colab_type": "code",
        "colab": {
          "base_uri": "https://localhost:8080/",
          "height": 289
        },
        "outputId": "51efc077-f399-4df5-ca32-a270e6692951"
      },
      "source": [
        "# SharedEmbedding linear test: shape에 (bs, n_seq, n_vocab)이면 성공\n",
        "linear_outputs = embedding(dec_embed, mode=\"linear\")\n",
        "assert linear_outputs.shape == (dec_tokens.shape[0], dec_tokens.shape[1], config.n_vocab)\n",
        "linear_outputs"
      ],
      "execution_count": null,
      "outputs": [
        {
          "output_type": "execute_result",
          "data": {
            "text/plain": [
              "<tf.Tensor: shape=(1, 5, 10), dtype=float32, numpy=\n",
              "array([[[ 0.53581583,  0.657876  ,  0.36790517,  0.27928883,\n",
              "         -1.0442667 ,  0.09009495,  1.0542645 ,  0.97996885,\n",
              "          1.3718288 ,  0.78336287],\n",
              "        [-0.08784064,  0.4721588 ,  0.76501   ,  0.09606539,\n",
              "         -0.93794245,  0.48569632,  0.63399726,  0.8821419 ,\n",
              "          0.9799689 ,  0.66172725],\n",
              "        [ 0.19713071,  0.55294466,  0.20807095, -0.39588252,\n",
              "         -0.7385538 , -0.01645795,  0.31675556,  0.66172725,\n",
              "          0.78336287,  1.2672886 ],\n",
              "        [-0.90751725,  1.890212  , -0.03887942,  0.55330175,\n",
              "         -1.0967351 , -0.8718058 ,  0.5741931 ,  0.47215873,\n",
              "          0.65787596,  0.55294466],\n",
              "        [ 3.0254133 , -0.90751725, -1.7632675 ,  0.10086558,\n",
              "          0.35236588, -0.85196793, -0.57400197, -0.08784064,\n",
              "          0.5358159 ,  0.1971307 ]]], dtype=float32)>"
            ]
          },
          "metadata": {
            "tags": []
          },
          "execution_count": 64
        }
      ]
    },
    {
      "cell_type": "markdown",
      "metadata": {
        "id": "SGHIBE4SUYtC",
        "colab_type": "text"
      },
      "source": [
        "## Postiona Encoding\n",
        "\n",
        "![](https://paul-hyun.github.io/assets/transformer/position_encoding.png)"
      ]
    },
    {
      "cell_type": "markdown",
      "metadata": {
        "id": "aw2CjyEzJdCu",
        "colab_type": "text"
      },
      "source": [
        "### Tutorial Encoding"
      ]
    },
    {
      "cell_type": "code",
      "metadata": {
        "id": "HBBT_PR99-yA",
        "colab_type": "code",
        "colab": {
          "base_uri": "https://localhost:8080/",
          "height": 34
        },
        "outputId": "971c4e71-e7d3-4e45-adb0-78af090daa53"
      },
      "source": [
        "# 지수 계산\n",
        "exs = [2 * (i_ang // 2) / config.d_model for i_ang in range(config.d_model)]\n",
        "exs"
      ],
      "execution_count": null,
      "outputs": [
        {
          "output_type": "execute_result",
          "data": {
            "text/plain": [
              "[0.0, 0.0, 0.25, 0.25, 0.5, 0.5, 0.75, 0.75]"
            ]
          },
          "metadata": {
            "tags": []
          },
          "execution_count": 25
        }
      ]
    },
    {
      "cell_type": "code",
      "metadata": {
        "id": "TcumTdu5Ulsh",
        "colab_type": "code",
        "colab": {
          "base_uri": "https://localhost:8080/",
          "height": 34
        },
        "outputId": "bc119381-a85c-4e33-f018-65f7d1432454"
      },
      "source": [
        "# angle 계산\n",
        "angles = [np.power(10000, ex) for ex in exs]\n",
        "angles"
      ],
      "execution_count": null,
      "outputs": [
        {
          "output_type": "execute_result",
          "data": {
            "text/plain": [
              "[1.0, 1.0, 10.0, 10.0, 100.0, 100.0, 1000.0, 1000.0]"
            ]
          },
          "metadata": {
            "tags": []
          },
          "execution_count": 26
        }
      ]
    },
    {
      "cell_type": "code",
      "metadata": {
        "id": "lal4dGPqVDGW",
        "colab_type": "code",
        "colab": {
          "base_uri": "https://localhost:8080/",
          "height": 187
        },
        "outputId": "5aca9c13-3082-40e1-c1f7-622766caa06e"
      },
      "source": [
        "# position angle 계산\n",
        "pos_angles = np.array([[pos / angle for angle in angles] for pos in range(config.n_seq)])\n",
        "pos_angles"
      ],
      "execution_count": null,
      "outputs": [
        {
          "output_type": "execute_result",
          "data": {
            "text/plain": [
              "array([[0.e+00, 0.e+00, 0.e+00, 0.e+00, 0.e+00, 0.e+00, 0.e+00, 0.e+00],\n",
              "       [1.e+00, 1.e+00, 1.e-01, 1.e-01, 1.e-02, 1.e-02, 1.e-03, 1.e-03],\n",
              "       [2.e+00, 2.e+00, 2.e-01, 2.e-01, 2.e-02, 2.e-02, 2.e-03, 2.e-03],\n",
              "       [3.e+00, 3.e+00, 3.e-01, 3.e-01, 3.e-02, 3.e-02, 3.e-03, 3.e-03],\n",
              "       [4.e+00, 4.e+00, 4.e-01, 4.e-01, 4.e-02, 4.e-02, 4.e-03, 4.e-03],\n",
              "       [5.e+00, 5.e+00, 5.e-01, 5.e-01, 5.e-02, 5.e-02, 5.e-03, 5.e-03],\n",
              "       [6.e+00, 6.e+00, 6.e-01, 6.e-01, 6.e-02, 6.e-02, 6.e-03, 6.e-03],\n",
              "       [7.e+00, 7.e+00, 7.e-01, 7.e-01, 7.e-02, 7.e-02, 7.e-03, 7.e-03],\n",
              "       [8.e+00, 8.e+00, 8.e-01, 8.e-01, 8.e-02, 8.e-02, 8.e-03, 8.e-03],\n",
              "       [9.e+00, 9.e+00, 9.e-01, 9.e-01, 9.e-02, 9.e-02, 9.e-03, 9.e-03]])"
            ]
          },
          "metadata": {
            "tags": []
          },
          "execution_count": 27
        }
      ]
    },
    {
      "cell_type": "code",
      "metadata": {
        "id": "tJIhlEoyVU4o",
        "colab_type": "code",
        "colab": {
          "base_uri": "https://localhost:8080/",
          "height": 527
        },
        "outputId": "dd5cee98-b054-439b-f842-3435dc3a611a"
      },
      "source": [
        "# 짝수는 sin, 홀수는 cos\n",
        "pos_encoding = pos_angles\n",
        "pos_encoding[:, 0::2] = np.sin(pos_encoding[:, 0::2])\n",
        "pos_encoding[:, 1::2] = np.cos(pos_encoding[:, 1::2])\n",
        "pos_encoding"
      ],
      "execution_count": null,
      "outputs": [
        {
          "output_type": "execute_result",
          "data": {
            "text/plain": [
              "array([[ 0.00000000e+00,  1.00000000e+00,  0.00000000e+00,\n",
              "         1.00000000e+00,  0.00000000e+00,  1.00000000e+00,\n",
              "         0.00000000e+00,  1.00000000e+00],\n",
              "       [ 8.41470985e-01,  5.40302306e-01,  9.98334166e-02,\n",
              "         9.95004165e-01,  9.99983333e-03,  9.99950000e-01,\n",
              "         9.99999833e-04,  9.99999500e-01],\n",
              "       [ 9.09297427e-01, -4.16146837e-01,  1.98669331e-01,\n",
              "         9.80066578e-01,  1.99986667e-02,  9.99800007e-01,\n",
              "         1.99999867e-03,  9.99998000e-01],\n",
              "       [ 1.41120008e-01, -9.89992497e-01,  2.95520207e-01,\n",
              "         9.55336489e-01,  2.99955002e-02,  9.99550034e-01,\n",
              "         2.99999550e-03,  9.99995500e-01],\n",
              "       [-7.56802495e-01, -6.53643621e-01,  3.89418342e-01,\n",
              "         9.21060994e-01,  3.99893342e-02,  9.99200107e-01,\n",
              "         3.99998933e-03,  9.99992000e-01],\n",
              "       [-9.58924275e-01,  2.83662185e-01,  4.79425539e-01,\n",
              "         8.77582562e-01,  4.99791693e-02,  9.98750260e-01,\n",
              "         4.99997917e-03,  9.99987500e-01],\n",
              "       [-2.79415498e-01,  9.60170287e-01,  5.64642473e-01,\n",
              "         8.25335615e-01,  5.99640065e-02,  9.98200540e-01,\n",
              "         5.99996400e-03,  9.99982000e-01],\n",
              "       [ 6.56986599e-01,  7.53902254e-01,  6.44217687e-01,\n",
              "         7.64842187e-01,  6.99428473e-02,  9.97551000e-01,\n",
              "         6.99994283e-03,  9.99975500e-01],\n",
              "       [ 9.89358247e-01, -1.45500034e-01,  7.17356091e-01,\n",
              "         6.96706709e-01,  7.99146940e-02,  9.96801706e-01,\n",
              "         7.99991467e-03,  9.99968000e-01],\n",
              "       [ 4.12118485e-01, -9.11130262e-01,  7.83326910e-01,\n",
              "         6.21609968e-01,  8.98785492e-02,  9.95952733e-01,\n",
              "         8.99987850e-03,  9.99959500e-01]])"
            ]
          },
          "metadata": {
            "tags": []
          },
          "execution_count": 28
        }
      ]
    },
    {
      "cell_type": "code",
      "metadata": {
        "id": "29xP8DjxVkAq",
        "colab_type": "code",
        "colab": {
          "base_uri": "https://localhost:8080/",
          "height": 283
        },
        "outputId": "7e2fd488-5dfb-433f-ecca-ae30790a4326"
      },
      "source": [
        "# display\n",
        "plt.pcolormesh(pos_encoding, cmap='RdBu')\n",
        "plt.xlabel('Depth')\n",
        "plt.xlim((0, config.d_model))\n",
        "plt.ylabel('Position')\n",
        "plt.colorbar()\n",
        "plt.show()"
      ],
      "execution_count": null,
      "outputs": [
        {
          "output_type": "display_data",
          "data": {
            "image/png": "[encoded data removed]",
            "text/plain": [
              "<Figure size 432x288 with 2 Axes>"
            ]
          },
          "metadata": {
            "tags": [],
            "needs_background": "light"
          }
        }
      ]
    },
    {
      "cell_type": "markdown",
      "metadata": {
        "id": "KlbxVAZapnGy",
        "colab_type": "text"
      },
      "source": [
        "### Tutorial Position lookup"
      ]
    },
    {
      "cell_type": "code",
      "metadata": {
        "id": "b5l6DZp9Zpuq",
        "colab_type": "code",
        "colab": {}
      },
      "source": [
        "# position embedding 초기 화, trainable=False인 경우는 학습 되지 않음\n",
        "pos_embedding = tf.keras.layers.Embedding(config.n_seq, config.d_model, trainable=False, weights=[pos_encoding])"
      ],
      "execution_count": null,
      "outputs": []
    },
    {
      "cell_type": "code",
      "metadata": {
        "id": "P4r3rU4caAdB",
        "colab_type": "code",
        "colab": {
          "base_uri": "https://localhost:8080/",
          "height": 34
        },
        "outputId": "5d1ad5b9-0fb1-4674-99b1-291cf5c97dfa"
      },
      "source": [
        "# 모두 1인 값\n",
        "pos_val_1 = tf.ones_like(enc_tokens)\n",
        "pos_val_1"
      ],
      "execution_count": null,
      "outputs": [
        {
          "output_type": "execute_result",
          "data": {
            "text/plain": [
              "<tf.Tensor: shape=(1, 6), dtype=int64, numpy=array([[1, 1, 1, 1, 1, 1]])>"
            ]
          },
          "metadata": {
            "tags": []
          },
          "execution_count": 32
        }
      ]
    },
    {
      "cell_type": "code",
      "metadata": {
        "id": "-z6mff4QaH5I",
        "colab_type": "code",
        "colab": {
          "base_uri": "https://localhost:8080/",
          "height": 34
        },
        "outputId": "d605cae2-62e0-4279-fd0c-1b11ba97d33f"
      },
      "source": [
        "# 0부터 시작하는 누적 합, exclusive=False인 경우는 1부터 시작\n",
        "pos_val_2 = tf.math.cumsum(pos_val_1, axis=-1, exclusive=True)\n",
        "pos_val_2 = tf.cast(pos_val_2, tf.int32)\n",
        "pos_val_2"
      ],
      "execution_count": null,
      "outputs": [
        {
          "output_type": "execute_result",
          "data": {
            "text/plain": [
              "<tf.Tensor: shape=(1, 6), dtype=int32, numpy=array([[0, 1, 2, 3, 4, 5]], dtype=int32)>"
            ]
          },
          "metadata": {
            "tags": []
          },
          "execution_count": 33
        }
      ]
    },
    {
      "cell_type": "code",
      "metadata": {
        "id": "5myVXp9uaVVo",
        "colab_type": "code",
        "colab": {
          "base_uri": "https://localhost:8080/",
          "height": 255
        },
        "outputId": "e307f134-db55-4bca-96c2-da557bcdd59a"
      },
      "source": [
        "# embedding lookup\n",
        "pos_val = pos_embedding(pos_val_2)\n",
        "pos_val"
      ],
      "execution_count": null,
      "outputs": [
        {
          "output_type": "execute_result",
          "data": {
            "text/plain": [
              "<tf.Tensor: shape=(1, 6, 8), dtype=float32, numpy=\n",
              "array([[[ 0.0000000e+00,  1.0000000e+00,  0.0000000e+00,  1.0000000e+00,\n",
              "          0.0000000e+00,  1.0000000e+00,  0.0000000e+00,  1.0000000e+00],\n",
              "        [ 8.4147096e-01,  5.4030228e-01,  9.9833414e-02,  9.9500418e-01,\n",
              "          9.9998331e-03,  9.9994999e-01,  9.9999981e-04,  9.9999952e-01],\n",
              "        [ 9.0929741e-01, -4.1614684e-01,  1.9866933e-01,  9.8006660e-01,\n",
              "          1.9998666e-02,  9.9980003e-01,  1.9999987e-03,  9.9999797e-01],\n",
              "        [ 1.4112000e-01, -9.8999250e-01,  2.9552022e-01,  9.5533651e-01,\n",
              "          2.9995501e-02,  9.9955004e-01,  2.9999956e-03,  9.9999553e-01],\n",
              "        [-7.5680250e-01, -6.5364361e-01,  3.8941833e-01,  9.2106098e-01,\n",
              "          3.9989334e-02,  9.9920011e-01,  3.9999895e-03,  9.9999201e-01],\n",
              "        [-9.5892429e-01,  2.8366220e-01,  4.7942555e-01,  8.7758255e-01,\n",
              "          4.9979169e-02,  9.9875027e-01,  4.9999794e-03,  9.9998748e-01]]],\n",
              "      dtype=float32)>"
            ]
          },
          "metadata": {
            "tags": []
          },
          "execution_count": 34
        }
      ]
    },
    {
      "cell_type": "code",
      "metadata": {
        "id": "6sp4Wjgwai_L",
        "colab_type": "code",
        "colab": {
          "base_uri": "https://localhost:8080/",
          "height": 340
        },
        "outputId": "00f75c42-692d-4a4c-8d41-1f47d2e1ea2a"
      },
      "source": [
        "# embedding lookup 대신 pos_encoding table에서 gather를 통해 직접 조회\n",
        "pos_val_g = tf.gather(pos_encoding, pos_val_2)\n",
        "assert np.array_equal(pos_val, tf.cast(pos_val_g, pos_val.dtype))\n",
        "pos_val_g"
      ],
      "execution_count": null,
      "outputs": [
        {
          "output_type": "execute_result",
          "data": {
            "text/plain": [
              "<tf.Tensor: shape=(1, 6, 8), dtype=float64, numpy=\n",
              "array([[[ 0.00000000e+00,  1.00000000e+00,  0.00000000e+00,\n",
              "          1.00000000e+00,  0.00000000e+00,  1.00000000e+00,\n",
              "          0.00000000e+00,  1.00000000e+00],\n",
              "        [ 8.41470985e-01,  5.40302306e-01,  9.98334166e-02,\n",
              "          9.95004165e-01,  9.99983333e-03,  9.99950000e-01,\n",
              "          9.99999833e-04,  9.99999500e-01],\n",
              "        [ 9.09297427e-01, -4.16146837e-01,  1.98669331e-01,\n",
              "          9.80066578e-01,  1.99986667e-02,  9.99800007e-01,\n",
              "          1.99999867e-03,  9.99998000e-01],\n",
              "        [ 1.41120008e-01, -9.89992497e-01,  2.95520207e-01,\n",
              "          9.55336489e-01,  2.99955002e-02,  9.99550034e-01,\n",
              "          2.99999550e-03,  9.99995500e-01],\n",
              "        [-7.56802495e-01, -6.53643621e-01,  3.89418342e-01,\n",
              "          9.21060994e-01,  3.99893342e-02,  9.99200107e-01,\n",
              "          3.99998933e-03,  9.99992000e-01],\n",
              "        [-9.58924275e-01,  2.83662185e-01,  4.79425539e-01,\n",
              "          8.77582562e-01,  4.99791693e-02,  9.98750260e-01,\n",
              "          4.99997917e-03,  9.99987500e-01]]])>"
            ]
          },
          "metadata": {
            "tags": []
          },
          "execution_count": 35
        }
      ]
    },
    {
      "cell_type": "markdown",
      "metadata": {
        "id": "rRIB0gjRJjAU",
        "colab_type": "text"
      },
      "source": [
        "### Class"
      ]
    },
    {
      "cell_type": "code",
      "metadata": {
        "id": "RxvXF6OrbvaU",
        "colab_type": "code",
        "colab": {}
      },
      "source": [
        "class PositionalEmbedding(tf.keras.layers.Layer):\n",
        "    \"\"\"\n",
        "    Positional Embedding Class\n",
        "    \"\"\"\n",
        "    def __init__(self, config, name=\"position_embedding\"):\n",
        "        \"\"\"\n",
        "        생성자\n",
        "        :param config: Config 객체\n",
        "        :param name: layer name\n",
        "        \"\"\"\n",
        "        super().__init__(name=name)\n",
        "        \n",
        "        pos_encoding = PositionalEmbedding.get_sinusoid_encoding(config.n_seq, config.d_model)\n",
        "        self.embedding = tf.keras.layers.Embedding(config.n_seq, config.d_model, trainable=False, weights=[pos_encoding])\n",
        "\n",
        "    def call(self, inputs):\n",
        "        \"\"\"\n",
        "        layer 실행\n",
        "        :param inputs: 입력\n",
        "        :return embed: positional embedding lookup 결과\n",
        "        \"\"\"\n",
        "        position = tf.cast(tf.math.cumsum(tf.ones_like(inputs), axis=1, exclusive=True), tf.int32)\n",
        "        embed = self.embedding(position)\n",
        "        return embed\n",
        "\n",
        "    @staticmethod\n",
        "    def get_sinusoid_encoding(n_seq, d_model):\n",
        "        \"\"\"\n",
        "        sinusoid encoding 생성\n",
        "        :param n_seq: sequence number\n",
        "        :param n_seq: model hidden dimension\n",
        "        :return: positional encoding table\n",
        "        \"\"\"\n",
        "        angles = [np.power(10000, 2 * (i_ang // 2) / d_model) for i_ang in range(d_model)]\n",
        "        pos_encoding = np.array([[pos / angle for angle in angles] for pos in range(n_seq)])\n",
        "        pos_encoding[:, 0::2] = np.sin(pos_encoding[:, 0::2])\n",
        "        pos_encoding[:, 1::2] = np.cos(pos_encoding[:, 1::2])\n",
        "        return tf.cast(pos_encoding, tf.float32)"
      ],
      "execution_count": null,
      "outputs": []
    },
    {
      "cell_type": "markdown",
      "metadata": {
        "id": "69ZQF9_QJtgD",
        "colab_type": "text"
      },
      "source": [
        "### Test"
      ]
    },
    {
      "cell_type": "code",
      "metadata": {
        "id": "1b-r4NFWb_1-",
        "colab_type": "code",
        "colab": {
          "base_uri": "https://localhost:8080/",
          "height": 255
        },
        "outputId": "5d3aa072-8e3d-42a6-b02c-10e881f8784f"
      },
      "source": [
        "# PositionalEmbedding 클래스 시험\n",
        "pos_embedding = PositionalEmbedding(config)\n",
        "\n",
        "enc_pos = pos_embedding(enc_tokens)\n",
        "assert enc_pos.shape == (enc_tokens.shape[0], enc_tokens.shape[1], config.d_model)\n",
        "enc_pos"
      ],
      "execution_count": null,
      "outputs": [
        {
          "output_type": "execute_result",
          "data": {
            "text/plain": [
              "<tf.Tensor: shape=(1, 6, 8), dtype=float32, numpy=\n",
              "array([[[ 0.0000000e+00,  1.0000000e+00,  0.0000000e+00,  1.0000000e+00,\n",
              "          0.0000000e+00,  1.0000000e+00,  0.0000000e+00,  1.0000000e+00],\n",
              "        [ 8.4147096e-01,  5.4030228e-01,  9.9833414e-02,  9.9500418e-01,\n",
              "          9.9998331e-03,  9.9994999e-01,  9.9999981e-04,  9.9999952e-01],\n",
              "        [ 9.0929741e-01, -4.1614684e-01,  1.9866933e-01,  9.8006660e-01,\n",
              "          1.9998666e-02,  9.9980003e-01,  1.9999987e-03,  9.9999797e-01],\n",
              "        [ 1.4112000e-01, -9.8999250e-01,  2.9552022e-01,  9.5533651e-01,\n",
              "          2.9995501e-02,  9.9955004e-01,  2.9999956e-03,  9.9999553e-01],\n",
              "        [-7.5680250e-01, -6.5364361e-01,  3.8941833e-01,  9.2106098e-01,\n",
              "          3.9989334e-02,  9.9920011e-01,  3.9999895e-03,  9.9999201e-01],\n",
              "        [-9.5892429e-01,  2.8366220e-01,  4.7942555e-01,  8.7758255e-01,\n",
              "          4.9979169e-02,  9.9875027e-01,  4.9999794e-03,  9.9998748e-01]]],\n",
              "      dtype=float32)>"
            ]
          },
          "metadata": {
            "tags": []
          },
          "execution_count": 37
        }
      ]
    },
    {
      "cell_type": "code",
      "metadata": {
        "id": "_730DE5u4C-o",
        "colab_type": "code",
        "colab": {
          "base_uri": "https://localhost:8080/",
          "height": 221
        },
        "outputId": "94372b41-d0b6-4307-e5a9-f12b9111e95b"
      },
      "source": [
        "dec_pos = pos_embedding(dec_tokens)\n",
        "assert dec_pos.shape == (dec_tokens.shape[0], dec_tokens.shape[1], config.d_model)\n",
        "dec_pos"
      ],
      "execution_count": null,
      "outputs": [
        {
          "output_type": "execute_result",
          "data": {
            "text/plain": [
              "<tf.Tensor: shape=(1, 5, 8), dtype=float32, numpy=\n",
              "array([[[ 0.0000000e+00,  1.0000000e+00,  0.0000000e+00,  1.0000000e+00,\n",
              "          0.0000000e+00,  1.0000000e+00,  0.0000000e+00,  1.0000000e+00],\n",
              "        [ 8.4147096e-01,  5.4030228e-01,  9.9833414e-02,  9.9500418e-01,\n",
              "          9.9998331e-03,  9.9994999e-01,  9.9999981e-04,  9.9999952e-01],\n",
              "        [ 9.0929741e-01, -4.1614684e-01,  1.9866933e-01,  9.8006660e-01,\n",
              "          1.9998666e-02,  9.9980003e-01,  1.9999987e-03,  9.9999797e-01],\n",
              "        [ 1.4112000e-01, -9.8999250e-01,  2.9552022e-01,  9.5533651e-01,\n",
              "          2.9995501e-02,  9.9955004e-01,  2.9999956e-03,  9.9999553e-01],\n",
              "        [-7.5680250e-01, -6.5364361e-01,  3.8941833e-01,  9.2106098e-01,\n",
              "          3.9989334e-02,  9.9920011e-01,  3.9999895e-03,  9.9999201e-01]]],\n",
              "      dtype=float32)>"
            ]
          },
          "metadata": {
            "tags": []
          },
          "execution_count": 38
        }
      ]
    },
    {
      "cell_type": "code",
      "metadata": {
        "id": "F5vdTy5bcz1t",
        "colab_type": "code",
        "colab": {
          "base_uri": "https://localhost:8080/",
          "height": 283
        },
        "outputId": "f1e2ece9-9e11-4932-edf5-ca644a219127"
      },
      "source": [
        "# 128x128 position encoding table 생성\n",
        "pos_encoding = PositionalEmbedding.get_sinusoid_encoding(128, 128)\n",
        "# display\n",
        "plt.pcolormesh(pos_encoding, cmap='RdBu')\n",
        "plt.xlabel('Depth')\n",
        "plt.xlim((0, 128))\n",
        "plt.ylabel('Position')\n",
        "plt.colorbar()\n",
        "plt.show()"
      ],
      "execution_count": null,
      "outputs": [
        {
          "output_type": "display_data",
          "data": {
            "image/png": "[encoded data removed]",
            "text/plain": [
              "<Figure size 432x288 with 2 Axes>"
            ]
          },
          "metadata": {
            "tags": [],
            "needs_background": "light"
          }
        }
      ]
    },
    {
      "cell_type": "markdown",
      "metadata": {
        "id": "kRJOG3puSMbl",
        "colab_type": "text"
      },
      "source": [
        "## Pad Mask\n",
        "\n",
        "![](https://paul-hyun.github.io/assets/transformer/pad_mask.png)"
      ]
    },
    {
      "cell_type": "markdown",
      "metadata": {
        "id": "sC6NSo3cJ2HE",
        "colab_type": "text"
      },
      "source": [
        "### Tutorial"
      ]
    },
    {
      "cell_type": "code",
      "metadata": {
        "id": "D9lJOPCBnSj4",
        "colab_type": "code",
        "colab": {
          "base_uri": "https://localhost:8080/",
          "height": 34
        },
        "outputId": "b96ba699-4678-4da9-e5aa-ce88f7a61c2d"
      },
      "source": [
        "# 0인 부분 확인\n",
        "mask1 = tf.math.equal(enc_tokens, config.i_pad)\n",
        "mask1"
      ],
      "execution_count": null,
      "outputs": [
        {
          "output_type": "execute_result",
          "data": {
            "text/plain": [
              "<tf.Tensor: shape=(1, 6), dtype=bool, numpy=array([[False, False, False, False, False,  True]])>"
            ]
          },
          "metadata": {
            "tags": []
          },
          "execution_count": 9
        }
      ]
    },
    {
      "cell_type": "code",
      "metadata": {
        "id": "_6A0dP-wnfW_",
        "colab_type": "code",
        "colab": {
          "base_uri": "https://localhost:8080/",
          "height": 34
        },
        "outputId": "5e3b2e4b-0307-4e95-fd2e-94714b942e87"
      },
      "source": [
        "# boolean에서 flot32로 변경\n",
        "mask2 = tf.cast(mask1, tf.float32)\n",
        "mask2"
      ],
      "execution_count": null,
      "outputs": [
        {
          "output_type": "execute_result",
          "data": {
            "text/plain": [
              "<tf.Tensor: shape=(1, 6), dtype=float32, numpy=array([[0., 0., 0., 0., 0., 1.]], dtype=float32)>"
            ]
          },
          "metadata": {
            "tags": []
          },
          "execution_count": 10
        }
      ]
    },
    {
      "cell_type": "code",
      "metadata": {
        "id": "Vks9dn_eno6M",
        "colab_type": "code",
        "colab": {
          "base_uri": "https://localhost:8080/",
          "height": 34
        },
        "outputId": "71c733e4-3bcb-44dd-c0bc-bce44287d7b8"
      },
      "source": [
        "# 차원 확대 (차원이 1인 경우에는 차원에 상관없이 연산이 가능)\n",
        "mask = tf.expand_dims(mask2, axis=1)\n",
        "mask"
      ],
      "execution_count": null,
      "outputs": [
        {
          "output_type": "execute_result",
          "data": {
            "text/plain": [
              "<tf.Tensor: shape=(1, 1, 6), dtype=float32, numpy=array([[[0., 0., 0., 0., 0., 1.]]], dtype=float32)>"
            ]
          },
          "metadata": {
            "tags": []
          },
          "execution_count": 11
        }
      ]
    },
    {
      "cell_type": "markdown",
      "metadata": {
        "id": "TnFBTppYJ4QE",
        "colab_type": "text"
      },
      "source": [
        "### Function"
      ]
    },
    {
      "cell_type": "code",
      "metadata": {
        "id": "UW5K7beRnBI2",
        "colab_type": "code",
        "colab": {}
      },
      "source": [
        "def get_pad_mask(tokens, i_pad=0):\n",
        "    \"\"\"\n",
        "    pad mask 계산하는 함수\n",
        "    :param tokens: tokens (bs, n_seq)\n",
        "    :param i_pad: id of pad\n",
        "    :return mask: pad mask (pad: 1, other: 0)\n",
        "    \"\"\"\n",
        "    mask = tf.cast(tf.math.equal(tokens, i_pad), tf.float32)\n",
        "    mask = tf.expand_dims(mask, axis=1)\n",
        "    return mask"
      ],
      "execution_count": 13,
      "outputs": []
    },
    {
      "cell_type": "markdown",
      "metadata": {
        "id": "253aegyMJ5s9",
        "colab_type": "text"
      },
      "source": [
        "### Test"
      ]
    },
    {
      "cell_type": "code",
      "metadata": {
        "id": "KA1M4BtSTf6n",
        "colab_type": "code",
        "colab": {
          "base_uri": "https://localhost:8080/",
          "height": 51
        },
        "outputId": "6472bad5-6cc4-4d2a-b2bb-30a6801be5ac"
      },
      "source": [
        "enc_pad_mask = get_pad_mask(enc_tokens)\n",
        "# 함수로 구한 mask와 계산한 mask가 같으면 정상\n",
        "assert np.array_equal(mask, enc_pad_mask)\n",
        "enc_tokens, enc_pad_mask"
      ],
      "execution_count": null,
      "outputs": [
        {
          "output_type": "execute_result",
          "data": {
            "text/plain": [
              "(array([[4, 7, 6, 5, 9, 0]]),\n",
              " <tf.Tensor: shape=(1, 1, 6), dtype=float32, numpy=array([[[0., 0., 0., 0., 0., 1.]]], dtype=float32)>)"
            ]
          },
          "metadata": {
            "tags": []
          },
          "execution_count": 13
        }
      ]
    },
    {
      "cell_type": "markdown",
      "metadata": {
        "id": "1FbtXvu_S6Hm",
        "colab_type": "text"
      },
      "source": [
        "## Ahead mask (Decoder)\n",
        "\n",
        "![](https://paul-hyun.github.io/assets/transformer/ahead_mask.png)"
      ]
    },
    {
      "cell_type": "markdown",
      "metadata": {
        "id": "H1bAp9rqKAMW",
        "colab_type": "text"
      },
      "source": [
        "### Tutorial"
      ]
    },
    {
      "cell_type": "code",
      "metadata": {
        "id": "g88v778TzRZV",
        "colab_type": "code",
        "colab": {
          "base_uri": "https://localhost:8080/",
          "height": 34
        },
        "outputId": "212fb5a9-0171-4887-fffa-ae155ebb8a62"
      },
      "source": [
        "# sequence 개수 추출 (bs, n_seq)\n",
        "n_seq = tf.shape(dec_tokens)[1]\n",
        "n_seq"
      ],
      "execution_count": null,
      "outputs": [
        {
          "output_type": "execute_result",
          "data": {
            "text/plain": [
              "<tf.Tensor: shape=(), dtype=int32, numpy=5>"
            ]
          },
          "metadata": {
            "tags": []
          },
          "execution_count": 14
        }
      ]
    },
    {
      "cell_type": "code",
      "metadata": {
        "id": "zztMXOygzjgF",
        "colab_type": "code",
        "colab": {
          "base_uri": "https://localhost:8080/",
          "height": 119
        },
        "outputId": "eea6e168-0725-45eb-9987-92c79678c5d6"
      },
      "source": [
        "# 전체가 1일 matrix 생성\n",
        "ahead_mask1 = tf.ones((n_seq, n_seq))\n",
        "ahead_mask1"
      ],
      "execution_count": null,
      "outputs": [
        {
          "output_type": "execute_result",
          "data": {
            "text/plain": [
              "<tf.Tensor: shape=(5, 5), dtype=float32, numpy=\n",
              "array([[1., 1., 1., 1., 1.],\n",
              "       [1., 1., 1., 1., 1.],\n",
              "       [1., 1., 1., 1., 1.],\n",
              "       [1., 1., 1., 1., 1.],\n",
              "       [1., 1., 1., 1., 1.]], dtype=float32)>"
            ]
          },
          "metadata": {
            "tags": []
          },
          "execution_count": 15
        }
      ]
    },
    {
      "cell_type": "code",
      "metadata": {
        "id": "iGMP_M8RUQdb",
        "colab_type": "code",
        "colab": {
          "base_uri": "https://localhost:8080/",
          "height": 119
        },
        "outputId": "1e11e4fc-55ef-46d1-90f3-b322aed154cd"
      },
      "source": [
        "# 중간을 기준으로 위쪽을 모두 0으로 변경\n",
        "# https://www.tensorflow.org/api_docs/python/tf/linalg/band_part#useful_special_cases_2\n",
        "ahead_mask2 = tf.linalg.band_part(ahead_mask1, -1, 0)\n",
        "ahead_mask2"
      ],
      "execution_count": null,
      "outputs": [
        {
          "output_type": "execute_result",
          "data": {
            "text/plain": [
              "<tf.Tensor: shape=(5, 5), dtype=float32, numpy=\n",
              "array([[1., 0., 0., 0., 0.],\n",
              "       [1., 1., 0., 0., 0.],\n",
              "       [1., 1., 1., 0., 0.],\n",
              "       [1., 1., 1., 1., 0.],\n",
              "       [1., 1., 1., 1., 1.]], dtype=float32)>"
            ]
          },
          "metadata": {
            "tags": []
          },
          "execution_count": 16
        }
      ]
    },
    {
      "cell_type": "code",
      "metadata": {
        "id": "1mjydNumzpb_",
        "colab_type": "code",
        "colab": {
          "base_uri": "https://localhost:8080/",
          "height": 119
        },
        "outputId": "a05f746b-8f13-4626-cd86-c718625fa418"
      },
      "source": [
        "# 1에서 값을 빼서 0->1, 1->0으로 변경\n",
        "ahead_mask3 = 1 - ahead_mask2\n",
        "ahead_mask3"
      ],
      "execution_count": null,
      "outputs": [
        {
          "output_type": "execute_result",
          "data": {
            "text/plain": [
              "<tf.Tensor: shape=(5, 5), dtype=float32, numpy=\n",
              "array([[0., 1., 1., 1., 1.],\n",
              "       [0., 0., 1., 1., 1.],\n",
              "       [0., 0., 0., 1., 1.],\n",
              "       [0., 0., 0., 0., 1.],\n",
              "       [0., 0., 0., 0., 0.]], dtype=float32)>"
            ]
          },
          "metadata": {
            "tags": []
          },
          "execution_count": 17
        }
      ]
    },
    {
      "cell_type": "code",
      "metadata": {
        "id": "nesuHASz0GqL",
        "colab_type": "code",
        "colab": {
          "base_uri": "https://localhost:8080/",
          "height": 119
        },
        "outputId": "f16a82f4-0e3c-4346-ce98-d9ce7a75503d"
      },
      "source": [
        "# batch 차원 추가 (0)\n",
        "ahead_mask4 = tf.expand_dims(ahead_mask3, axis=0)\n",
        "ahead_mask4"
      ],
      "execution_count": null,
      "outputs": [
        {
          "output_type": "execute_result",
          "data": {
            "text/plain": [
              "<tf.Tensor: shape=(1, 5, 5), dtype=float32, numpy=\n",
              "array([[[0., 1., 1., 1., 1.],\n",
              "        [0., 0., 1., 1., 1.],\n",
              "        [0., 0., 0., 1., 1.],\n",
              "        [0., 0., 0., 0., 1.],\n",
              "        [0., 0., 0., 0., 0.]]], dtype=float32)>"
            ]
          },
          "metadata": {
            "tags": []
          },
          "execution_count": 18
        }
      ]
    },
    {
      "cell_type": "code",
      "metadata": {
        "id": "J0YmBI89U286",
        "colab_type": "code",
        "colab": {
          "base_uri": "https://localhost:8080/",
          "height": 34
        },
        "outputId": "b9f63d99-518f-468f-8573-0e948d638eb2"
      },
      "source": [
        "# pad_mask 조회\n",
        "pad_mask = get_pad_mask(dec_tokens)\n",
        "pad_mask"
      ],
      "execution_count": null,
      "outputs": [
        {
          "output_type": "execute_result",
          "data": {
            "text/plain": [
              "<tf.Tensor: shape=(1, 1, 5), dtype=float32, numpy=array([[[0., 0., 0., 0., 1.]]], dtype=float32)>"
            ]
          },
          "metadata": {
            "tags": []
          },
          "execution_count": 19
        }
      ]
    },
    {
      "cell_type": "code",
      "metadata": {
        "id": "8nUEj4W-0O8X",
        "colab_type": "code",
        "colab": {
          "base_uri": "https://localhost:8080/",
          "height": 119
        },
        "outputId": "cf1675f1-222a-49ee-ae4c-72e12d5fdac2"
      },
      "source": [
        "# pad mask 또는 ahead mask인 부분은 모두 mask\n",
        "mask = tf.maximum(ahead_mask4, pad_mask)\n",
        "mask"
      ],
      "execution_count": null,
      "outputs": [
        {
          "output_type": "execute_result",
          "data": {
            "text/plain": [
              "<tf.Tensor: shape=(1, 5, 5), dtype=float32, numpy=\n",
              "array([[[0., 1., 1., 1., 1.],\n",
              "        [0., 0., 1., 1., 1.],\n",
              "        [0., 0., 0., 1., 1.],\n",
              "        [0., 0., 0., 0., 1.],\n",
              "        [0., 0., 0., 0., 1.]]], dtype=float32)>"
            ]
          },
          "metadata": {
            "tags": []
          },
          "execution_count": 20
        }
      ]
    },
    {
      "cell_type": "markdown",
      "metadata": {
        "id": "oZcLQR0NKINv",
        "colab_type": "text"
      },
      "source": [
        "### Function"
      ]
    },
    {
      "cell_type": "code",
      "metadata": {
        "id": "xQ0bR5TuzJRJ",
        "colab_type": "code",
        "colab": {}
      },
      "source": [
        "def get_ahead_mask(tokens, i_pad=0):\n",
        "    \"\"\"\n",
        "    ahead mask 계산하는 함수\n",
        "    :param tokens: tokens (bs, n_seq)\n",
        "    :param i_pad: id of pad\n",
        "    :return mask: ahead and pad mask (ahead or pad: 1, other: 0)\n",
        "    \"\"\"\n",
        "    n_seq = tf.shape(tokens)[1]\n",
        "    ahead_mask = 1 - tf.linalg.band_part(tf.ones((n_seq, n_seq)), -1, 0)\n",
        "    ahead_mask = tf.expand_dims(ahead_mask, axis=0)\n",
        "    pad_mask = get_pad_mask(tokens, i_pad)\n",
        "    mask = tf.maximum(ahead_mask, pad_mask)\n",
        "    return mask"
      ],
      "execution_count": 14,
      "outputs": []
    },
    {
      "cell_type": "markdown",
      "metadata": {
        "id": "PTpTinUoKLc1",
        "colab_type": "text"
      },
      "source": [
        "### Test"
      ]
    },
    {
      "cell_type": "code",
      "metadata": {
        "id": "hAXZlBpqVJzT",
        "colab_type": "code",
        "colab": {
          "base_uri": "https://localhost:8080/",
          "height": 119
        },
        "outputId": "60591e7d-360f-4ba5-cf89-3fb7b90ea33f"
      },
      "source": [
        "# 기능 확인\n",
        "dec_ahead_mask = get_ahead_mask(dec_tokens)\n",
        "# 함수로 구한 mask와 계산한 mask가 같으면 정상\n",
        "assert np.array_equal(mask, dec_ahead_mask)\n",
        "dec_tokens, dec_ahead_mask"
      ],
      "execution_count": null,
      "outputs": [
        {
          "output_type": "execute_result",
          "data": {
            "text/plain": [
              "(array([[8, 7, 9, 1, 0]]), <tf.Tensor: shape=(1, 5, 5), dtype=float32, numpy=\n",
              " array([[[0., 1., 1., 1., 1.],\n",
              "         [0., 0., 1., 1., 1.],\n",
              "         [0., 0., 0., 1., 1.],\n",
              "         [0., 0., 0., 0., 1.],\n",
              "         [0., 0., 0., 0., 1.]]], dtype=float32)>)"
            ]
          },
          "metadata": {
            "tags": []
          },
          "execution_count": 22
        }
      ]
    },
    {
      "cell_type": "markdown",
      "metadata": {
        "colab_type": "text",
        "id": "wWAtDOgtLHZr"
      },
      "source": [
        "## Scaled dot product attention (Encoder Self Attention)\n",
        "\n",
        "![](https://paul-hyun.github.io/assets/transformer/scaled_dot_attention_encoder.png)"
      ]
    },
    {
      "cell_type": "markdown",
      "metadata": {
        "colab_type": "text",
        "id": "owr3DtdjLHZs"
      },
      "source": [
        "### Tutorial"
      ]
    },
    {
      "cell_type": "code",
      "metadata": {
        "id": "amQb_h2Kw_Fn",
        "colab_type": "code",
        "colab": {
          "base_uri": "https://localhost:8080/",
          "height": 187
        },
        "outputId": "ecc60d12-a942-4119-838c-2e457dd48fd3"
      },
      "source": [
        "weights = np.random.randint(1, 10, (config.n_vocab, 4)) / 10\n",
        "weights"
      ],
      "execution_count": 15,
      "outputs": [
        {
          "output_type": "execute_result",
          "data": {
            "text/plain": [
              "array([[0.8, 0.2, 0.5, 0.1],\n",
              "       [0.6, 0.5, 0.3, 0.2],\n",
              "       [0.4, 0.6, 0.4, 0.1],\n",
              "       [0.5, 0.5, 0.1, 0.7],\n",
              "       [0.9, 0.5, 0.9, 0.2],\n",
              "       [0.9, 0.9, 0.3, 0.1],\n",
              "       [0.3, 0.3, 0.4, 0.3],\n",
              "       [0.8, 0.5, 0.9, 0.2],\n",
              "       [0.3, 0.8, 0.5, 0.4],\n",
              "       [0.3, 0.6, 0.6, 0.2]])"
            ]
          },
          "metadata": {
            "tags": []
          },
          "execution_count": 15
        }
      ]
    },
    {
      "cell_type": "code",
      "metadata": {
        "colab_type": "code",
        "id": "tbWZpQAFLHZs",
        "colab": {}
      },
      "source": [
        "# embedding layer / 기능 확인을 위해 weights를 정수로 초기화 함\n",
        "int_embedding = tf.keras.layers.Embedding(input_dim=config.n_vocab, output_dim=4, weights=[weights])"
      ],
      "execution_count": 16,
      "outputs": []
    },
    {
      "cell_type": "code",
      "metadata": {
        "colab_type": "code",
        "id": "AVzEuM5XLHZ0",
        "colab": {
          "base_uri": "https://localhost:8080/",
          "height": 34
        },
        "outputId": "f7f1231c-cb79-4efb-de9e-39c714295807"
      },
      "source": [
        "# enc_input pad mask\n",
        "enc_self_mask = get_pad_mask(enc_tokens)\n",
        "enc_self_mask"
      ],
      "execution_count": 20,
      "outputs": [
        {
          "output_type": "execute_result",
          "data": {
            "text/plain": [
              "<tf.Tensor: shape=(1, 1, 6), dtype=float32, numpy=array([[[0., 0., 0., 0., 0., 1.]]], dtype=float32)>"
            ]
          },
          "metadata": {
            "tags": []
          },
          "execution_count": 20
        }
      ]
    },
    {
      "cell_type": "code",
      "metadata": {
        "colab_type": "code",
        "id": "VMLQN5_oLHZy",
        "colab": {
          "base_uri": "https://localhost:8080/",
          "height": 136
        },
        "outputId": "25746e92-e8c7-47fb-ebbd-f28df59fd417"
      },
      "source": [
        "# Q value\n",
        "Q = int_embedding(enc_tokens)\n",
        "Q"
      ],
      "execution_count": 21,
      "outputs": [
        {
          "output_type": "execute_result",
          "data": {
            "text/plain": [
              "<tf.Tensor: shape=(1, 6, 4), dtype=float32, numpy=\n",
              "array([[[0.6, 0.5, 0.3, 0.2],\n",
              "        [0.3, 0.6, 0.6, 0.2],\n",
              "        [0.9, 0.9, 0.3, 0.1],\n",
              "        [0.6, 0.5, 0.3, 0.2],\n",
              "        [0.6, 0.5, 0.3, 0.2],\n",
              "        [0.8, 0.2, 0.5, 0.1]]], dtype=float32)>"
            ]
          },
          "metadata": {
            "tags": []
          },
          "execution_count": 21
        }
      ]
    },
    {
      "cell_type": "code",
      "metadata": {
        "colab_type": "code",
        "id": "RwFCUjukLHZv",
        "colab": {}
      },
      "source": [
        "# Q, K, V 모두 동일한 값\n",
        "K = Q\n",
        "V = K"
      ],
      "execution_count": 22,
      "outputs": []
    },
    {
      "cell_type": "code",
      "metadata": {
        "colab_type": "code",
        "id": "usRoSZ1ZLHZ2",
        "colab": {
          "base_uri": "https://localhost:8080/",
          "height": 238
        },
        "outputId": "3c9cbe75-6c11-4a97-a77d-c84c2a502302"
      },
      "source": [
        "# attention score\n",
        "attention_score = tf.matmul(Q, K, transpose_b=True)\n",
        "attention_score"
      ],
      "execution_count": 23,
      "outputs": [
        {
          "output_type": "execute_result",
          "data": {
            "text/plain": [
              "<tf.Tensor: shape=(1, 6, 6), dtype=float32, numpy=\n",
              "array([[[0.74000007, 0.70000005, 1.1       , 0.74000007, 0.74000007,\n",
              "         0.75      ],\n",
              "        [0.70000005, 0.8500001 , 1.0100001 , 0.70000005, 0.70000005,\n",
              "         0.68      ],\n",
              "        [1.1       , 1.0100001 , 1.7199999 , 1.1       , 1.1       ,\n",
              "         1.06      ],\n",
              "        [0.74000007, 0.70000005, 1.1       , 0.74000007, 0.74000007,\n",
              "         0.75      ],\n",
              "        [0.74000007, 0.70000005, 1.1       , 0.74000007, 0.74000007,\n",
              "         0.75      ],\n",
              "        [0.75      , 0.68      , 1.06      , 0.75      , 0.75      ,\n",
              "         0.94000006]]], dtype=float32)>"
            ]
          },
          "metadata": {
            "tags": []
          },
          "execution_count": 23
        }
      ]
    },
    {
      "cell_type": "code",
      "metadata": {
        "colab_type": "code",
        "id": "zi_Kr39mLHZ3",
        "colab": {
          "base_uri": "https://localhost:8080/",
          "height": 34
        },
        "outputId": "79298c5c-60c8-41fa-a5a2-bb158c069874"
      },
      "source": [
        "# scale 계산\n",
        "scale = tf.math.sqrt(tf.cast(tf.shape(K)[-1], tf.float32))\n",
        "scale"
      ],
      "execution_count": 24,
      "outputs": [
        {
          "output_type": "execute_result",
          "data": {
            "text/plain": [
              "<tf.Tensor: shape=(), dtype=float32, numpy=2.0>"
            ]
          },
          "metadata": {
            "tags": []
          },
          "execution_count": 24
        }
      ]
    },
    {
      "cell_type": "code",
      "metadata": {
        "colab_type": "code",
        "id": "tNfrVcGzLHZ5",
        "colab": {
          "base_uri": "https://localhost:8080/",
          "height": 238
        },
        "outputId": "f3c8800a-9af1-412a-bc2e-9310b95c7e93"
      },
      "source": [
        "# attention_score를 scale로 나눔\n",
        "attention_scaled = tf.math.divide(attention_score, scale)\n",
        "attention_scaled"
      ],
      "execution_count": 25,
      "outputs": [
        {
          "output_type": "execute_result",
          "data": {
            "text/plain": [
              "<tf.Tensor: shape=(1, 6, 6), dtype=float32, numpy=\n",
              "array([[[0.37000003, 0.35000002, 0.55      , 0.37000003, 0.37000003,\n",
              "         0.375     ],\n",
              "        [0.35000002, 0.42500004, 0.50500005, 0.35000002, 0.35000002,\n",
              "         0.34      ],\n",
              "        [0.55      , 0.50500005, 0.85999995, 0.55      , 0.55      ,\n",
              "         0.53      ],\n",
              "        [0.37000003, 0.35000002, 0.55      , 0.37000003, 0.37000003,\n",
              "         0.375     ],\n",
              "        [0.37000003, 0.35000002, 0.55      , 0.37000003, 0.37000003,\n",
              "         0.375     ],\n",
              "        [0.375     , 0.34      , 0.53      , 0.375     , 0.375     ,\n",
              "         0.47000003]]], dtype=float32)>"
            ]
          },
          "metadata": {
            "tags": []
          },
          "execution_count": 25
        }
      ]
    },
    {
      "cell_type": "code",
      "metadata": {
        "colab_type": "code",
        "id": "x8eR3vsDLHZ-",
        "colab": {
          "base_uri": "https://localhost:8080/",
          "height": 238
        },
        "outputId": "ef419f40-0803-417b-aec2-707f1d600def"
      },
      "source": [
        "# mask 해야할 부분이 매우 큰 음수를 뺌\n",
        "attention_masked = attention_scaled - 1.e9 * enc_self_mask\n",
        "attention_masked"
      ],
      "execution_count": 26,
      "outputs": [
        {
          "output_type": "execute_result",
          "data": {
            "text/plain": [
              "<tf.Tensor: shape=(1, 6, 6), dtype=float32, numpy=\n",
              "array([[[ 3.7000003e-01,  3.5000002e-01,  5.5000001e-01,  3.7000003e-01,\n",
              "          3.7000003e-01, -1.0000000e+09],\n",
              "        [ 3.5000002e-01,  4.2500004e-01,  5.0500005e-01,  3.5000002e-01,\n",
              "          3.5000002e-01, -1.0000000e+09],\n",
              "        [ 5.5000001e-01,  5.0500005e-01,  8.5999995e-01,  5.5000001e-01,\n",
              "          5.5000001e-01, -1.0000000e+09],\n",
              "        [ 3.7000003e-01,  3.5000002e-01,  5.5000001e-01,  3.7000003e-01,\n",
              "          3.7000003e-01, -1.0000000e+09],\n",
              "        [ 3.7000003e-01,  3.5000002e-01,  5.5000001e-01,  3.7000003e-01,\n",
              "          3.7000003e-01, -1.0000000e+09],\n",
              "        [ 3.7500000e-01,  3.4000000e-01,  5.2999997e-01,  3.7500000e-01,\n",
              "          3.7500000e-01, -1.0000000e+09]]], dtype=float32)>"
            ]
          },
          "metadata": {
            "tags": []
          },
          "execution_count": 26
        }
      ]
    },
    {
      "cell_type": "code",
      "metadata": {
        "colab_type": "code",
        "id": "K8XQ3oVsLHZ_",
        "colab": {
          "base_uri": "https://localhost:8080/",
          "height": 238
        },
        "outputId": "b6070176-7eaf-49bc-fcbd-2a2db9143e8b"
      },
      "source": [
        "# attention 확률분포 계산\n",
        "attention_prob = tf.nn.softmax(attention_masked, axis=-1)\n",
        "attention_prob"
      ],
      "execution_count": 27,
      "outputs": [
        {
          "output_type": "execute_result",
          "data": {
            "text/plain": [
              "<tf.Tensor: shape=(1, 6, 6), dtype=float32, numpy=\n",
              "array([[[0.19314654, 0.18932198, 0.23123838, 0.19314654, 0.19314654,\n",
              "         0.        ],\n",
              "        [0.19063805, 0.20548573, 0.22260004, 0.19063805, 0.19063805,\n",
              "         0.        ],\n",
              "        [0.18799034, 0.17971829, 0.25631073, 0.18799034, 0.18799034,\n",
              "         0.        ],\n",
              "        [0.19314654, 0.18932198, 0.23123838, 0.19314654, 0.19314654,\n",
              "         0.        ],\n",
              "        [0.19314654, 0.18932198, 0.23123838, 0.19314654, 0.19314654,\n",
              "         0.        ],\n",
              "        [0.19480786, 0.18810752, 0.22746895, 0.19480786, 0.19480786,\n",
              "         0.        ]]], dtype=float32)>"
            ]
          },
          "metadata": {
            "tags": []
          },
          "execution_count": 27
        }
      ]
    },
    {
      "cell_type": "code",
      "metadata": {
        "colab_type": "code",
        "id": "G5ooI4b0LHaB",
        "colab": {
          "base_uri": "https://localhost:8080/",
          "height": 136
        },
        "outputId": "55719eaf-c252-4b79-cb5b-5afb81f5d327"
      },
      "source": [
        "# attention output 계산\n",
        "attention_output = tf.matmul(attention_prob, V)\n",
        "attention_output"
      ],
      "execution_count": 28,
      "outputs": [
        {
          "output_type": "execute_result",
          "data": {
            "text/plain": [
              "<tf.Tensor: shape=(1, 6, 4), dtype=float32, numpy=\n",
              "array([[[0.61257493, 0.61142755, 0.35679662, 0.17687616],\n",
              "        [0.60513425, 0.60958856, 0.3616457 , 0.17773998],\n",
              "        [0.62297773, 0.62049615, 0.3539155 , 0.17436895],\n",
              "        [0.61257493, 0.61142755, 0.35679662, 0.17687616],\n",
              "        [0.61257493, 0.61142755, 0.35679662, 0.17687616],\n",
              "        [0.6118085 , 0.6097984 , 0.3564323 , 0.17725311]]], dtype=float32)>"
            ]
          },
          "metadata": {
            "tags": []
          },
          "execution_count": 28
        }
      ]
    },
    {
      "cell_type": "markdown",
      "metadata": {
        "colab_type": "text",
        "id": "UP9HqezULHaC"
      },
      "source": [
        "### Class"
      ]
    },
    {
      "cell_type": "code",
      "metadata": {
        "colab_type": "code",
        "id": "gh5Ya0LwLHaC",
        "colab": {}
      },
      "source": [
        "class ScaleDotProductAttention(tf.keras.layers.Layer):\n",
        "    \"\"\"\n",
        "    Scale Dot Product Attention Class\n",
        "    \"\"\"\n",
        "    def __init__(self, name=\"scale_dot_product_attention\"):\n",
        "        \"\"\"\n",
        "        생성자\n",
        "        :param name: layer name\n",
        "        \"\"\"\n",
        "        super().__init__(name=name)\n",
        "\n",
        "    def call(self, Q, K, V, attn_mask):\n",
        "        \"\"\"\n",
        "        layer 실행\n",
        "        :param Q: Q value\n",
        "        :param K: K value\n",
        "        :param V: V value\n",
        "        :param attn_mask: 실행 모드\n",
        "        :return attn_out: attention 실행 결과\n",
        "        \"\"\"\n",
        "        attn_score = tf.matmul(Q, K, transpose_b=True)\n",
        "        scale = tf.math.sqrt(tf.cast(tf.shape(K)[-1], tf.float32))\n",
        "        attn_scale = tf.math.divide(attn_score, scale)\n",
        "        attn_scale -= 1.e9 * attn_mask\n",
        "        attn_prob = tf.nn.softmax(attn_scale, axis=-1)\n",
        "        attn_out = tf.matmul(attn_prob, V)\n",
        "        return attn_out"
      ],
      "execution_count": 29,
      "outputs": []
    },
    {
      "cell_type": "markdown",
      "metadata": {
        "colab_type": "text",
        "id": "QJ4wDtrPLHaE"
      },
      "source": [
        "### Test"
      ]
    },
    {
      "cell_type": "code",
      "metadata": {
        "colab_type": "code",
        "id": "uzMyTIFrLHaE",
        "colab": {
          "base_uri": "https://localhost:8080/",
          "height": 136
        },
        "outputId": "69c10529-f806-431d-83c1-307327c25444"
      },
      "source": [
        "# ScaleDotProductAttention 클래스 기능 확인\n",
        "attention = ScaleDotProductAttention()\n",
        "\n",
        "attn_out = attention(Q, K, V, enc_self_mask)\n",
        "# class 값과 직접 계산한 attention_output과 동일하면 정상\n",
        "assert np.array_equal(attention_output, attn_out)\n",
        "attn_out"
      ],
      "execution_count": 30,
      "outputs": [
        {
          "output_type": "execute_result",
          "data": {
            "text/plain": [
              "<tf.Tensor: shape=(1, 6, 4), dtype=float32, numpy=\n",
              "array([[[0.61257493, 0.61142755, 0.35679662, 0.17687616],\n",
              "        [0.60513425, 0.60958856, 0.3616457 , 0.17773998],\n",
              "        [0.62297773, 0.62049615, 0.3539155 , 0.17436895],\n",
              "        [0.61257493, 0.61142755, 0.35679662, 0.17687616],\n",
              "        [0.61257493, 0.61142755, 0.35679662, 0.17687616],\n",
              "        [0.6118085 , 0.6097984 , 0.3564323 , 0.17725311]]], dtype=float32)>"
            ]
          },
          "metadata": {
            "tags": []
          },
          "execution_count": 30
        }
      ]
    },
    {
      "cell_type": "markdown",
      "metadata": {
        "id": "ZZYToSV7yRVF",
        "colab_type": "text"
      },
      "source": [
        "## Scaled dot product attention (Decoder Masked Self Attentio)\n",
        "\n",
        "![](https://paul-hyun.github.io/assets/transformer/scaled_dot_attention_decoder.png)"
      ]
    },
    {
      "cell_type": "markdown",
      "metadata": {
        "id": "VlhvQ5TcKlp_",
        "colab_type": "text"
      },
      "source": [
        "### Tutorial"
      ]
    },
    {
      "cell_type": "code",
      "metadata": {
        "id": "t2vVkvAQ099L",
        "colab_type": "code",
        "colab": {
          "base_uri": "https://localhost:8080/",
          "height": 119
        },
        "outputId": "98aa171c-3d8a-48bf-a324-f49637d35090"
      },
      "source": [
        "# ahead mask 계산\n",
        "dec_self_mask = get_ahead_mask(dec_tokens)\n",
        "dec_self_mask"
      ],
      "execution_count": 31,
      "outputs": [
        {
          "output_type": "execute_result",
          "data": {
            "text/plain": [
              "<tf.Tensor: shape=(1, 5, 5), dtype=float32, numpy=\n",
              "array([[[0., 1., 1., 1., 1.],\n",
              "        [0., 0., 1., 1., 1.],\n",
              "        [0., 0., 0., 1., 1.],\n",
              "        [0., 0., 0., 0., 1.],\n",
              "        [0., 0., 0., 0., 1.]]], dtype=float32)>"
            ]
          },
          "metadata": {
            "tags": []
          },
          "execution_count": 31
        }
      ]
    },
    {
      "cell_type": "code",
      "metadata": {
        "id": "BHDRgT9sY9XN",
        "colab_type": "code",
        "colab": {
          "base_uri": "https://localhost:8080/",
          "height": 119
        },
        "outputId": "62a44440-7e05-4bf4-be60-18aca8d67d7f"
      },
      "source": [
        "# Q\n",
        "Q = int_embedding(dec_tokens)\n",
        "Q"
      ],
      "execution_count": 32,
      "outputs": [
        {
          "output_type": "execute_result",
          "data": {
            "text/plain": [
              "<tf.Tensor: shape=(1, 5, 4), dtype=float32, numpy=\n",
              "array([[[0.6, 0.5, 0.3, 0.2],\n",
              "        [0.9, 0.5, 0.9, 0.2],\n",
              "        [0.4, 0.6, 0.4, 0.1],\n",
              "        [0.9, 0.5, 0.9, 0.2],\n",
              "        [0.8, 0.2, 0.5, 0.1]]], dtype=float32)>"
            ]
          },
          "metadata": {
            "tags": []
          },
          "execution_count": 32
        }
      ]
    },
    {
      "cell_type": "code",
      "metadata": {
        "id": "68Vh6DMK2rUH",
        "colab_type": "code",
        "colab": {}
      },
      "source": [
        "# Q, K, V는 모두 같음\n",
        "K = Q\n",
        "V = K"
      ],
      "execution_count": 33,
      "outputs": []
    },
    {
      "cell_type": "code",
      "metadata": {
        "id": "6VdnLr0k2Q0t",
        "colab_type": "code",
        "colab": {
          "base_uri": "https://localhost:8080/",
          "height": 136
        },
        "outputId": "a46d5a21-be66-480a-e5ef-d94965051966"
      },
      "source": [
        "# attention score 계산\n",
        "attention_score = tf.matmul(Q, K, transpose_b=True)\n",
        "attention_score"
      ],
      "execution_count": 34,
      "outputs": [
        {
          "output_type": "execute_result",
          "data": {
            "text/plain": [
              "<tf.Tensor: shape=(1, 5, 5), dtype=float32, numpy=\n",
              "array([[[0.74000007, 1.1       , 0.68      , 1.1       , 0.75      ],\n",
              "        [1.1       , 1.9099998 , 1.04      , 1.9099998 , 1.29      ],\n",
              "        [0.68      , 1.04      , 0.69000006, 1.04      , 0.65000004],\n",
              "        [1.1       , 1.9099998 , 1.04      , 1.9099998 , 1.29      ],\n",
              "        [0.75      , 1.29      , 0.65000004, 1.29      , 0.94000006]]],\n",
              "      dtype=float32)>"
            ]
          },
          "metadata": {
            "tags": []
          },
          "execution_count": 34
        }
      ]
    },
    {
      "cell_type": "code",
      "metadata": {
        "id": "84tkL_dr2V21",
        "colab_type": "code",
        "colab": {
          "base_uri": "https://localhost:8080/",
          "height": 136
        },
        "outputId": "5b8d266e-ea3a-4d46-99de-dcca0f238a63"
      },
      "source": [
        "# attention score를 scal로 나눔\n",
        "attention_scaled = tf.math.divide(attention_score, scale)\n",
        "attention_scaled"
      ],
      "execution_count": 35,
      "outputs": [
        {
          "output_type": "execute_result",
          "data": {
            "text/plain": [
              "<tf.Tensor: shape=(1, 5, 5), dtype=float32, numpy=\n",
              "array([[[0.37000003, 0.55      , 0.34      , 0.55      , 0.375     ],\n",
              "        [0.55      , 0.9549999 , 0.52      , 0.9549999 , 0.645     ],\n",
              "        [0.34      , 0.52      , 0.34500003, 0.52      , 0.32500002],\n",
              "        [0.55      , 0.9549999 , 0.52      , 0.9549999 , 0.645     ],\n",
              "        [0.375     , 0.645     , 0.32500002, 0.645     , 0.47000003]]],\n",
              "      dtype=float32)>"
            ]
          },
          "metadata": {
            "tags": []
          },
          "execution_count": 35
        }
      ]
    },
    {
      "cell_type": "code",
      "metadata": {
        "id": "dBK4CDoZ2ZR2",
        "colab_type": "code",
        "colab": {
          "base_uri": "https://localhost:8080/",
          "height": 204
        },
        "outputId": "99b6a914-f49b-4d6d-f0a7-553dd184baae"
      },
      "source": [
        "# mask 해야할 부분이 매우 큰 음수를 뺌\n",
        "attention_masked = attention_scaled - 1.e9 * dec_self_mask\n",
        "attention_masked"
      ],
      "execution_count": 36,
      "outputs": [
        {
          "output_type": "execute_result",
          "data": {
            "text/plain": [
              "<tf.Tensor: shape=(1, 5, 5), dtype=float32, numpy=\n",
              "array([[[ 3.7000003e-01, -1.0000000e+09, -1.0000000e+09, -1.0000000e+09,\n",
              "         -1.0000000e+09],\n",
              "        [ 5.5000001e-01,  9.5499992e-01, -1.0000000e+09, -1.0000000e+09,\n",
              "         -1.0000000e+09],\n",
              "        [ 3.4000000e-01,  5.1999998e-01,  3.4500003e-01, -1.0000000e+09,\n",
              "         -1.0000000e+09],\n",
              "        [ 5.5000001e-01,  9.5499992e-01,  5.1999998e-01,  9.5499992e-01,\n",
              "         -1.0000000e+09],\n",
              "        [ 3.7500000e-01,  6.4499998e-01,  3.2500002e-01,  6.4499998e-01,\n",
              "         -1.0000000e+09]]], dtype=float32)>"
            ]
          },
          "metadata": {
            "tags": []
          },
          "execution_count": 36
        }
      ]
    },
    {
      "cell_type": "code",
      "metadata": {
        "id": "TmBbfOfq2dnU",
        "colab_type": "code",
        "colab": {
          "base_uri": "https://localhost:8080/",
          "height": 136
        },
        "outputId": "5a1ec2da-577a-4bbc-eae2-3a3704c54668"
      },
      "source": [
        "# attention 확률분포 계산\n",
        "attention_prob = tf.nn.softmax(attention_masked, axis=-1)\n",
        "attention_prob"
      ],
      "execution_count": 37,
      "outputs": [
        {
          "output_type": "execute_result",
          "data": {
            "text/plain": [
              "<tf.Tensor: shape=(1, 5, 5), dtype=float32, numpy=\n",
              "array([[[1.        , 0.        , 0.        , 0.        , 0.        ],\n",
              "        [0.40011165, 0.5998883 , 0.        , 0.        , 0.        ],\n",
              "        [0.3122824 , 0.3738699 , 0.31384772, 0.        , 0.        ],\n",
              "        [0.2012457 , 0.30172816, 0.19529799, 0.30172816, 0.        ],\n",
              "        [0.21876293, 0.28657165, 0.20809375, 0.28657165, 0.        ]]],\n",
              "      dtype=float32)>"
            ]
          },
          "metadata": {
            "tags": []
          },
          "execution_count": 37
        }
      ]
    },
    {
      "cell_type": "code",
      "metadata": {
        "id": "5n9pOBvR3NkG",
        "colab_type": "code",
        "colab": {
          "base_uri": "https://localhost:8080/",
          "height": 119
        },
        "outputId": "d650d568-60bb-479f-abfe-6731bb114785"
      },
      "source": [
        "# attention output 계산\n",
        "attention_output = tf.matmul(attention_prob, V)\n",
        "attention_output"
      ],
      "execution_count": 38,
      "outputs": [
        {
          "output_type": "execute_result",
          "data": {
            "text/plain": [
              "<tf.Tensor: shape=(1, 5, 4), dtype=float32, numpy=\n",
              "array([[[0.6       , 0.5       , 0.3       , 0.2       ],\n",
              "        [0.7799665 , 0.5       , 0.659933  , 0.19999999],\n",
              "        [0.6493914 , 0.5313848 , 0.5557067 , 0.16861524],\n",
              "        [0.7419773 , 0.5195298 , 0.68160355, 0.1804702 ],\n",
              "        [0.73032427, 0.5208094 , 0.6646954 , 0.17919062]]], dtype=float32)>"
            ]
          },
          "metadata": {
            "tags": []
          },
          "execution_count": 38
        }
      ]
    },
    {
      "cell_type": "markdown",
      "metadata": {
        "id": "O33u8_SWKrH4",
        "colab_type": "text"
      },
      "source": [
        "### Test"
      ]
    },
    {
      "cell_type": "code",
      "metadata": {
        "id": "FeBoulyk2Ij3",
        "colab_type": "code",
        "colab": {
          "base_uri": "https://localhost:8080/",
          "height": 119
        },
        "outputId": "600854b6-807d-4e2f-fbd8-89ca79106952"
      },
      "source": [
        "# ScaleDotProductAttention 클래스 기능 확인\n",
        "attention = ScaleDotProductAttention()\n",
        "\n",
        "attn_out = attention(Q, K, V, dec_self_mask)\n",
        "# class 값과 직접 계산한 attention_output과 동일하면 정상\n",
        "assert np.array_equal(attention_output, attn_out)\n",
        "attn_out"
      ],
      "execution_count": 39,
      "outputs": [
        {
          "output_type": "execute_result",
          "data": {
            "text/plain": [
              "<tf.Tensor: shape=(1, 5, 4), dtype=float32, numpy=\n",
              "array([[[0.6       , 0.5       , 0.3       , 0.2       ],\n",
              "        [0.7799665 , 0.5       , 0.659933  , 0.19999999],\n",
              "        [0.6493914 , 0.5313848 , 0.5557067 , 0.16861524],\n",
              "        [0.7419773 , 0.5195298 , 0.68160355, 0.1804702 ],\n",
              "        [0.73032427, 0.5208094 , 0.6646954 , 0.17919062]]], dtype=float32)>"
            ]
          },
          "metadata": {
            "tags": []
          },
          "execution_count": 39
        }
      ]
    },
    {
      "cell_type": "markdown",
      "metadata": {
        "id": "oPBEA8FAl39-",
        "colab_type": "text"
      },
      "source": [
        "## Scaled dot product attention (Encoder Decoder Attention)\n",
        "\n",
        "![](https://paul-hyun.github.io/assets/transformer/scaled_dot_attention_ende.png)"
      ]
    },
    {
      "cell_type": "markdown",
      "metadata": {
        "id": "64BhMxZ4KUI1",
        "colab_type": "text"
      },
      "source": [
        "### Tutorial"
      ]
    },
    {
      "cell_type": "code",
      "metadata": {
        "id": "UZMU3cCBplu5",
        "colab_type": "code",
        "colab": {
          "base_uri": "https://localhost:8080/",
          "height": 34
        },
        "outputId": "17bacb60-bebd-4d8c-ceb4-5ca71259d969"
      },
      "source": [
        "# K pad mask\n",
        "ende_attn_mask = get_pad_mask(enc_tokens)\n",
        "ende_attn_mask"
      ],
      "execution_count": 40,
      "outputs": [
        {
          "output_type": "execute_result",
          "data": {
            "text/plain": [
              "<tf.Tensor: shape=(1, 1, 6), dtype=float32, numpy=array([[[0., 0., 0., 0., 0., 1.]]], dtype=float32)>"
            ]
          },
          "metadata": {
            "tags": []
          },
          "execution_count": 40
        }
      ]
    },
    {
      "cell_type": "code",
      "metadata": {
        "id": "P6Y713Sw59_3",
        "colab_type": "code",
        "colab": {
          "base_uri": "https://localhost:8080/",
          "height": 119
        },
        "outputId": "5a02b168-554a-4d67-fe1d-238a6303b819"
      },
      "source": [
        "Q = int_embedding(dec_tokens)\n",
        "Q"
      ],
      "execution_count": 41,
      "outputs": [
        {
          "output_type": "execute_result",
          "data": {
            "text/plain": [
              "<tf.Tensor: shape=(1, 5, 4), dtype=float32, numpy=\n",
              "array([[[0.6, 0.5, 0.3, 0.2],\n",
              "        [0.9, 0.5, 0.9, 0.2],\n",
              "        [0.4, 0.6, 0.4, 0.1],\n",
              "        [0.9, 0.5, 0.9, 0.2],\n",
              "        [0.8, 0.2, 0.5, 0.1]]], dtype=float32)>"
            ]
          },
          "metadata": {
            "tags": []
          },
          "execution_count": 41
        }
      ]
    },
    {
      "cell_type": "code",
      "metadata": {
        "id": "l4Zm-xaC5l13",
        "colab_type": "code",
        "colab": {
          "base_uri": "https://localhost:8080/",
          "height": 136
        },
        "outputId": "cb1a6da1-7322-4031-8d4c-6514ccb4626c"
      },
      "source": [
        "K = int_embedding(enc_tokens)\n",
        "V = K\n",
        "K"
      ],
      "execution_count": 42,
      "outputs": [
        {
          "output_type": "execute_result",
          "data": {
            "text/plain": [
              "<tf.Tensor: shape=(1, 6, 4), dtype=float32, numpy=\n",
              "array([[[0.6, 0.5, 0.3, 0.2],\n",
              "        [0.3, 0.6, 0.6, 0.2],\n",
              "        [0.9, 0.9, 0.3, 0.1],\n",
              "        [0.6, 0.5, 0.3, 0.2],\n",
              "        [0.6, 0.5, 0.3, 0.2],\n",
              "        [0.8, 0.2, 0.5, 0.1]]], dtype=float32)>"
            ]
          },
          "metadata": {
            "tags": []
          },
          "execution_count": 42
        }
      ]
    },
    {
      "cell_type": "code",
      "metadata": {
        "id": "5Xfr2fWUpu2M",
        "colab_type": "code",
        "colab": {
          "base_uri": "https://localhost:8080/",
          "height": 204
        },
        "outputId": "4e944cb7-da7f-42bd-f6d2-25834ee2ee86"
      },
      "source": [
        "# attention score\n",
        "attention_score = tf.matmul(Q, K, transpose_b=True)\n",
        "attention_score"
      ],
      "execution_count": 43,
      "outputs": [
        {
          "output_type": "execute_result",
          "data": {
            "text/plain": [
              "<tf.Tensor: shape=(1, 5, 6), dtype=float32, numpy=\n",
              "array([[[0.74000007, 0.70000005, 1.1       , 0.74000007, 0.74000007,\n",
              "         0.75      ],\n",
              "        [1.1       , 1.1500001 , 1.55      , 1.1       , 1.1       ,\n",
              "         1.29      ],\n",
              "        [0.68      , 0.74      , 1.03      , 0.68      , 0.68      ,\n",
              "         0.65000004],\n",
              "        [1.1       , 1.1500001 , 1.55      , 1.1       , 1.1       ,\n",
              "         1.29      ],\n",
              "        [0.75      , 0.68      , 1.06      , 0.75      , 0.75      ,\n",
              "         0.94000006]]], dtype=float32)>"
            ]
          },
          "metadata": {
            "tags": []
          },
          "execution_count": 43
        }
      ]
    },
    {
      "cell_type": "code",
      "metadata": {
        "id": "-wCXHWVgp2KI",
        "colab_type": "code",
        "colab": {
          "base_uri": "https://localhost:8080/",
          "height": 34
        },
        "outputId": "ca134543-3080-4736-bdca-0becb8206eaa"
      },
      "source": [
        "# scale 계산\n",
        "scale = tf.math.sqrt(tf.cast(tf.shape(K)[-1], tf.float32))\n",
        "scale"
      ],
      "execution_count": 44,
      "outputs": [
        {
          "output_type": "execute_result",
          "data": {
            "text/plain": [
              "<tf.Tensor: shape=(), dtype=float32, numpy=2.0>"
            ]
          },
          "metadata": {
            "tags": []
          },
          "execution_count": 44
        }
      ]
    },
    {
      "cell_type": "code",
      "metadata": {
        "id": "yz1ULURnqCQg",
        "colab_type": "code",
        "colab": {
          "base_uri": "https://localhost:8080/",
          "height": 204
        },
        "outputId": "9cf9d0e4-1e73-413b-e2d3-a79c8bc8dd80"
      },
      "source": [
        "# attention_score를 scale로 나눔\n",
        "attention_scaled = tf.math.divide(attention_score, scale)\n",
        "attention_scaled"
      ],
      "execution_count": 45,
      "outputs": [
        {
          "output_type": "execute_result",
          "data": {
            "text/plain": [
              "<tf.Tensor: shape=(1, 5, 6), dtype=float32, numpy=\n",
              "array([[[0.37000003, 0.35000002, 0.55      , 0.37000003, 0.37000003,\n",
              "         0.375     ],\n",
              "        [0.55      , 0.57500005, 0.775     , 0.55      , 0.55      ,\n",
              "         0.645     ],\n",
              "        [0.34      , 0.37      , 0.515     , 0.34      , 0.34      ,\n",
              "         0.32500002],\n",
              "        [0.55      , 0.57500005, 0.775     , 0.55      , 0.55      ,\n",
              "         0.645     ],\n",
              "        [0.375     , 0.34      , 0.53      , 0.375     , 0.375     ,\n",
              "         0.47000003]]], dtype=float32)>"
            ]
          },
          "metadata": {
            "tags": []
          },
          "execution_count": 45
        }
      ]
    },
    {
      "cell_type": "code",
      "metadata": {
        "id": "8sn-fgrBsKdv",
        "colab_type": "code",
        "colab": {
          "base_uri": "https://localhost:8080/",
          "height": 204
        },
        "outputId": "6cf49814-4f74-468c-b8db-2d6acc219a7d"
      },
      "source": [
        "# mask 해야할 부분이 매우 큰 음수를 뺌\n",
        "attention_masked = attention_scaled - 1.e9 * ende_attn_mask\n",
        "attention_masked"
      ],
      "execution_count": 46,
      "outputs": [
        {
          "output_type": "execute_result",
          "data": {
            "text/plain": [
              "<tf.Tensor: shape=(1, 5, 6), dtype=float32, numpy=\n",
              "array([[[ 3.7000003e-01,  3.5000002e-01,  5.5000001e-01,  3.7000003e-01,\n",
              "          3.7000003e-01, -1.0000000e+09],\n",
              "        [ 5.5000001e-01,  5.7500005e-01,  7.7499998e-01,  5.5000001e-01,\n",
              "          5.5000001e-01, -1.0000000e+09],\n",
              "        [ 3.4000000e-01,  3.7000000e-01,  5.1499999e-01,  3.4000000e-01,\n",
              "          3.4000000e-01, -1.0000000e+09],\n",
              "        [ 5.5000001e-01,  5.7500005e-01,  7.7499998e-01,  5.5000001e-01,\n",
              "          5.5000001e-01, -1.0000000e+09],\n",
              "        [ 3.7500000e-01,  3.4000000e-01,  5.2999997e-01,  3.7500000e-01,\n",
              "          3.7500000e-01, -1.0000000e+09]]], dtype=float32)>"
            ]
          },
          "metadata": {
            "tags": []
          },
          "execution_count": 46
        }
      ]
    },
    {
      "cell_type": "code",
      "metadata": {
        "id": "ZjKnrJIYsabT",
        "colab_type": "code",
        "colab": {
          "base_uri": "https://localhost:8080/",
          "height": 204
        },
        "outputId": "37201ad9-8c3b-47f1-afc9-c2d7f84bf188"
      },
      "source": [
        "# attention 확률분포 계산\n",
        "attention_prob = tf.nn.softmax(attention_masked, axis=-1)\n",
        "attention_prob"
      ],
      "execution_count": 47,
      "outputs": [
        {
          "output_type": "execute_result",
          "data": {
            "text/plain": [
              "<tf.Tensor: shape=(1, 5, 6), dtype=float32, numpy=\n",
              "array([[[0.19314654, 0.18932198, 0.23123838, 0.19314654, 0.19314654,\n",
              "         0.        ],\n",
              "        [0.1894787 , 0.1942754 , 0.23728848, 0.1894787 , 0.1894787 ,\n",
              "         0.        ],\n",
              "        [0.19150849, 0.19734079, 0.22813377, 0.19150849, 0.19150849,\n",
              "         0.        ],\n",
              "        [0.1894787 , 0.1942754 , 0.23728848, 0.1894787 , 0.1894787 ,\n",
              "         0.        ],\n",
              "        [0.19480786, 0.18810752, 0.22746895, 0.19480786, 0.19480786,\n",
              "         0.        ]]], dtype=float32)>"
            ]
          },
          "metadata": {
            "tags": []
          },
          "execution_count": 47
        }
      ]
    },
    {
      "cell_type": "code",
      "metadata": {
        "id": "dkYVG5hxsjel",
        "colab_type": "code",
        "colab": {
          "base_uri": "https://localhost:8080/",
          "height": 119
        },
        "outputId": "ec58432e-1d72-4d5c-a29e-d40818e49119"
      },
      "source": [
        "# attention output 계산\n",
        "attention_output = tf.matmul(attention_prob, V)\n",
        "attention_output"
      ],
      "execution_count": 48,
      "outputs": [
        {
          "output_type": "execute_result",
          "data": {
            "text/plain": [
              "<tf.Tensor: shape=(1, 5, 4), dtype=float32, numpy=\n",
              "array([[[0.61257493, 0.61142755, 0.35679662, 0.17687616],\n",
              "        [0.6129039 , 0.6143429 , 0.35828263, 0.17627114],\n",
              "        [0.6092379 , 0.6109876 , 0.35920227, 0.17718664],\n",
              "        [0.6129039 , 0.6143429 , 0.35828263, 0.17627114],\n",
              "        [0.6118085 , 0.6097984 , 0.3564323 , 0.17725311]]], dtype=float32)>"
            ]
          },
          "metadata": {
            "tags": []
          },
          "execution_count": 48
        }
      ]
    },
    {
      "cell_type": "markdown",
      "metadata": {
        "id": "SbQ-4OZ2KdbH",
        "colab_type": "text"
      },
      "source": [
        "### Test"
      ]
    },
    {
      "cell_type": "code",
      "metadata": {
        "id": "41x0arlEwnFJ",
        "colab_type": "code",
        "colab": {
          "base_uri": "https://localhost:8080/",
          "height": 119
        },
        "outputId": "788241a9-f2ea-4d18-cc76-75348d711c1a"
      },
      "source": [
        "# ScaleDotProductAttention 클래스 기능 확인\n",
        "attention = ScaleDotProductAttention()\n",
        "\n",
        "attn_out = attention(Q, K, V, ende_attn_mask)\n",
        "# class 값과 직접 계산한 attention_output과 동일하면 정상\n",
        "assert np.array_equal(attention_output, attn_out)\n",
        "attn_out"
      ],
      "execution_count": 49,
      "outputs": [
        {
          "output_type": "execute_result",
          "data": {
            "text/plain": [
              "<tf.Tensor: shape=(1, 5, 4), dtype=float32, numpy=\n",
              "array([[[0.61257493, 0.61142755, 0.35679662, 0.17687616],\n",
              "        [0.6129039 , 0.6143429 , 0.35828263, 0.17627114],\n",
              "        [0.6092379 , 0.6109876 , 0.35920227, 0.17718664],\n",
              "        [0.6129039 , 0.6143429 , 0.35828263, 0.17627114],\n",
              "        [0.6118085 , 0.6097984 , 0.3564323 , 0.17725311]]], dtype=float32)>"
            ]
          },
          "metadata": {
            "tags": []
          },
          "execution_count": 49
        }
      ]
    },
    {
      "cell_type": "markdown",
      "metadata": {
        "id": "sc0xdcL-6ZZl",
        "colab_type": "text"
      },
      "source": [
        "## Multi Head Attention\n",
        "\n",
        "![](https://paul-hyun.github.io/assets/transformer/multihead_attention.png)"
      ]
    },
    {
      "cell_type": "markdown",
      "metadata": {
        "id": "W_ks6mcOKzow",
        "colab_type": "text"
      },
      "source": [
        "### Tutorial"
      ]
    },
    {
      "cell_type": "code",
      "metadata": {
        "id": "VGCkd7u65dBq",
        "colab_type": "code",
        "colab": {}
      },
      "source": [
        "# SharedEmbedding\n",
        "embedding = SharedEmbedding(config)"
      ],
      "execution_count": null,
      "outputs": []
    },
    {
      "cell_type": "code",
      "metadata": {
        "id": "tgRVy_TacLgU",
        "colab_type": "code",
        "colab": {
          "base_uri": "https://localhost:8080/",
          "height": 221
        },
        "outputId": "f6efed15-c7ee-455c-be5a-b5160f8049a8"
      },
      "source": [
        "# Q\n",
        "Q = embedding(dec_tokens)\n",
        "Q"
      ],
      "execution_count": null,
      "outputs": [
        {
          "output_type": "execute_result",
          "data": {
            "text/plain": [
              "<tf.Tensor: shape=(1, 5, 8), dtype=float32, numpy=\n",
              "array([[[ 1.5068310e+00, -7.0649493e-01,  7.9606831e-01, -1.3852971e+00,\n",
              "          1.8133995e-01,  1.1412517e+00,  1.9918360e-01,  3.6027145e-02],\n",
              "        [-1.3575766e+00,  5.1265877e-01, -1.0103453e+00,  1.2342075e+00,\n",
              "          8.6643136e-01, -1.3218085e+00,  5.5454183e-01, -8.3345425e-01],\n",
              "        [-4.3682763e-01,  1.5757172e+00,  2.1730809e-01,  6.4371949e-01,\n",
              "          7.5229513e-04,  5.7789415e-01,  8.2634795e-01, -1.3206406e+00],\n",
              "        [ 7.7397418e-01,  1.0500317e-01,  7.7262825e-01, -9.0774161e-01,\n",
              "          1.8581040e-02, -3.3729723e-01,  5.6032521e-01,  1.3802093e+00],\n",
              "        [ 8.0348301e-01, -3.6864722e-01, -7.6201981e-01, -3.4643289e-01,\n",
              "         -8.3774120e-01, -1.0935953e+00,  1.0395516e+00, -5.2333754e-01]]],\n",
              "      dtype=float32)>"
            ]
          },
          "metadata": {
            "tags": []
          },
          "execution_count": 75
        }
      ]
    },
    {
      "cell_type": "code",
      "metadata": {
        "id": "5UlS_GDGCchP",
        "colab_type": "code",
        "colab": {
          "base_uri": "https://localhost:8080/",
          "height": 255
        },
        "outputId": "3fdaca4e-b465-4a95-d150-d0e200333259"
      },
      "source": [
        "# K, V\n",
        "K = embedding(enc_tokens)\n",
        "V = K\n",
        "K"
      ],
      "execution_count": null,
      "outputs": [
        {
          "output_type": "execute_result",
          "data": {
            "text/plain": [
              "<tf.Tensor: shape=(1, 6, 8), dtype=float32, numpy=\n",
              "array([[[ 7.7375400e-01, -2.0097934e-01, -1.6235918e+00,  5.0823212e-01,\n",
              "          3.8227955e-01, -5.8444905e-01,  1.3429333e+00,  8.8669658e-02],\n",
              "        [-1.3575766e+00,  5.1265877e-01, -1.0103453e+00,  1.2342075e+00,\n",
              "          8.6643136e-01, -1.3218085e+00,  5.5454183e-01, -8.3345425e-01],\n",
              "        [ 1.9207126e-01, -9.9038106e-01,  1.4633861e-03,  2.6767093e-01,\n",
              "         -4.8722029e-01, -7.3045623e-01,  5.5754453e-01, -1.2049774e+00],\n",
              "        [ 2.1921408e-01, -1.1216551e+00, -9.5455211e-01,  4.8161629e-01,\n",
              "         -3.5596541e-01, -1.1122342e-01, -9.0986514e-01,  1.1487821e+00],\n",
              "        [-4.3682763e-01,  1.5757172e+00,  2.1730809e-01,  6.4371949e-01,\n",
              "          7.5229513e-04,  5.7789415e-01,  8.2634795e-01, -1.3206406e+00],\n",
              "        [ 8.0348301e-01, -3.6864722e-01, -7.6201981e-01, -3.4643289e-01,\n",
              "         -8.3774120e-01, -1.0935953e+00,  1.0395516e+00, -5.2333754e-01]]],\n",
              "      dtype=float32)>"
            ]
          },
          "metadata": {
            "tags": []
          },
          "execution_count": 76
        }
      ]
    },
    {
      "cell_type": "code",
      "metadata": {
        "id": "XcgGGASr-XKZ",
        "colab_type": "code",
        "colab": {
          "base_uri": "https://localhost:8080/",
          "height": 221
        },
        "outputId": "cf5b5af3-1510-46e6-e357-8a20f38834d4"
      },
      "source": [
        "# Q에 Weight W_Q 곱함\n",
        "W_Q = tf.keras.layers.Dense(config.n_head * config.d_head)\n",
        "Q_multi_1 = W_Q(Q)\n",
        "Q_multi_1"
      ],
      "execution_count": null,
      "outputs": [
        {
          "output_type": "execute_result",
          "data": {
            "text/plain": [
              "<tf.Tensor: shape=(1, 5, 8), dtype=float32, numpy=\n",
              "array([[[-0.43428928, -0.24329577, -0.609699  , -0.3852471 ,\n",
              "         -0.88853055,  0.83216035, -0.36636555,  0.71861064],\n",
              "        [ 0.74390125,  0.67126936,  1.0401888 , -0.43175608,\n",
              "          1.0354596 , -0.40707505,  0.6482288 , -0.59463525],\n",
              "        [-0.14271162, -0.01598985,  0.33161858,  0.4530786 ,\n",
              "          2.2850602 ,  0.4243055 ,  0.9316208 , -1.3643773 ],\n",
              "        [ 0.20483774,  0.52235204, -0.14708617,  0.14616251,\n",
              "         -1.4231305 ,  0.07941494, -0.7978245 ,  0.28094375],\n",
              "        [-0.44337273,  0.64462215, -0.32515267, -1.32682   ,\n",
              "          0.64115006, -0.81112885, -0.44739258, -0.13577148]]],\n",
              "      dtype=float32)>"
            ]
          },
          "metadata": {
            "tags": []
          },
          "execution_count": 77
        }
      ]
    },
    {
      "cell_type": "code",
      "metadata": {
        "id": "bzHKYhM7-rzx",
        "colab_type": "code",
        "colab": {
          "base_uri": "https://localhost:8080/",
          "height": 289
        },
        "outputId": "2605164d-d27c-4412-e3a9-c152eb5310f2"
      },
      "source": [
        "# 여러 개의 head로 분할\n",
        "Q_multi_2 = tf.reshape(Q_multi_1, [tf.shape(Q)[0], -1, config.n_head, config.d_head])  # (bs, n_seq, n_head, d_head)\n",
        "Q_multi_2"
      ],
      "execution_count": null,
      "outputs": [
        {
          "output_type": "execute_result",
          "data": {
            "text/plain": [
              "<tf.Tensor: shape=(1, 5, 2, 4), dtype=float32, numpy=\n",
              "array([[[[-0.43428928, -0.24329577, -0.609699  , -0.3852471 ],\n",
              "         [-0.88853055,  0.83216035, -0.36636555,  0.71861064]],\n",
              "\n",
              "        [[ 0.74390125,  0.67126936,  1.0401888 , -0.43175608],\n",
              "         [ 1.0354596 , -0.40707505,  0.6482288 , -0.59463525]],\n",
              "\n",
              "        [[-0.14271162, -0.01598985,  0.33161858,  0.4530786 ],\n",
              "         [ 2.2850602 ,  0.4243055 ,  0.9316208 , -1.3643773 ]],\n",
              "\n",
              "        [[ 0.20483774,  0.52235204, -0.14708617,  0.14616251],\n",
              "         [-1.4231305 ,  0.07941494, -0.7978245 ,  0.28094375]],\n",
              "\n",
              "        [[-0.44337273,  0.64462215, -0.32515267, -1.32682   ],\n",
              "         [ 0.64115006, -0.81112885, -0.44739258, -0.13577148]]]],\n",
              "      dtype=float32)>"
            ]
          },
          "metadata": {
            "tags": []
          },
          "execution_count": 78
        }
      ]
    },
    {
      "cell_type": "code",
      "metadata": {
        "id": "vdCKZWoV-7Ad",
        "colab_type": "code",
        "colab": {
          "base_uri": "https://localhost:8080/",
          "height": 238
        },
        "outputId": "bffbe2a2-fb41-49a2-f394-293043526c46"
      },
      "source": [
        "# bs, number of head, seq length, dim of head 가 되도록 정렬\n",
        "Q_multi = tf.transpose(Q_multi_2, [0, 2, 1, 3])  # (bs, h_head, n_seq, d_head)\n",
        "Q_multi"
      ],
      "execution_count": null,
      "outputs": [
        {
          "output_type": "execute_result",
          "data": {
            "text/plain": [
              "<tf.Tensor: shape=(1, 2, 5, 4), dtype=float32, numpy=\n",
              "array([[[[-0.43428928, -0.24329577, -0.609699  , -0.3852471 ],\n",
              "         [ 0.74390125,  0.67126936,  1.0401888 , -0.43175608],\n",
              "         [-0.14271162, -0.01598985,  0.33161858,  0.4530786 ],\n",
              "         [ 0.20483774,  0.52235204, -0.14708617,  0.14616251],\n",
              "         [-0.44337273,  0.64462215, -0.32515267, -1.32682   ]],\n",
              "\n",
              "        [[-0.88853055,  0.83216035, -0.36636555,  0.71861064],\n",
              "         [ 1.0354596 , -0.40707505,  0.6482288 , -0.59463525],\n",
              "         [ 2.2850602 ,  0.4243055 ,  0.9316208 , -1.3643773 ],\n",
              "         [-1.4231305 ,  0.07941494, -0.7978245 ,  0.28094375],\n",
              "         [ 0.64115006, -0.81112885, -0.44739258, -0.13577148]]]],\n",
              "      dtype=float32)>"
            ]
          },
          "metadata": {
            "tags": []
          },
          "execution_count": 79
        }
      ]
    },
    {
      "cell_type": "code",
      "metadata": {
        "id": "0g9OJ_Bk_OmD",
        "colab_type": "code",
        "colab": {
          "base_uri": "https://localhost:8080/",
          "height": 459
        },
        "outputId": "e38ee298-558f-4d7b-dc10-ec18b8e3f96e"
      },
      "source": [
        "# K multi head로 분할\n",
        "W_K = tf.keras.layers.Dense(config.n_head * config.d_head)\n",
        "K_multi = tf.transpose(tf.reshape(W_K(K), [tf.shape(K)[0], -1, config.n_head, config.d_head]), [0, 2, 1, 3])  # (bs, h_head, n_seq, d_head)\n",
        "K_multi"
      ],
      "execution_count": null,
      "outputs": [
        {
          "output_type": "execute_result",
          "data": {
            "text/plain": [
              "<tf.Tensor: shape=(1, 2, 6, 4), dtype=float32, numpy=\n",
              "array([[[[-2.6635173e-01,  3.8754761e-01,  6.4636990e-02,\n",
              "          -5.8080387e-01],\n",
              "         [-1.3081943e+00,  2.5467363e-01, -1.0819181e+00,\n",
              "          -1.0480986e+00],\n",
              "         [-1.5183390e+00, -2.3683792e-01, -8.1935614e-01,\n",
              "          -5.1291871e-01],\n",
              "         [ 3.4358230e-01, -4.0151685e-01, -3.2255220e-01,\n",
              "           3.1569235e-02],\n",
              "         [-1.8183793e-01,  1.8109578e-01,  5.1560348e-01,\n",
              "          -7.1700954e-01],\n",
              "         [-6.0694039e-01,  4.0329438e-01,  1.4896268e-01,\n",
              "          -5.6372172e-01]],\n",
              "\n",
              "        [[-3.9618716e-01, -2.1373595e-01, -4.5286861e-01,\n",
              "           4.2269039e-01],\n",
              "         [-1.3288213e+00,  4.8823455e-01,  4.2270941e-01,\n",
              "          -3.2496974e-01],\n",
              "         [-1.0578105e+00,  1.8257369e-01,  2.2651045e-01,\n",
              "           3.5387066e-01],\n",
              "         [ 7.8354067e-01,  1.9137324e-01, -1.2664845e-02,\n",
              "           6.9079751e-01],\n",
              "         [-1.3406628e+00,  2.1829522e-01, -8.7188137e-01,\n",
              "          -1.1031910e+00],\n",
              "         [-9.4866377e-01, -6.9586211e-01,  9.5837226e-04,\n",
              "           1.2108794e+00]]]], dtype=float32)>"
            ]
          },
          "metadata": {
            "tags": []
          },
          "execution_count": 80
        }
      ]
    },
    {
      "cell_type": "code",
      "metadata": {
        "id": "JdUJuxmm_ZHp",
        "colab_type": "code",
        "colab": {
          "base_uri": "https://localhost:8080/",
          "height": 272
        },
        "outputId": "4dec7255-4623-44c3-ef50-43734428665e"
      },
      "source": [
        "# V multi head로 분할\n",
        "W_V = tf.keras.layers.Dense(config.n_head * config.d_head)\n",
        "V_multi = tf.transpose(tf.reshape(W_V(V), [tf.shape(V)[0], -1, config.n_head, config.d_head]), [0, 2, 1, 3])  # (bs, h_head, n_seq, d_head)\n",
        "V_multi"
      ],
      "execution_count": null,
      "outputs": [
        {
          "output_type": "execute_result",
          "data": {
            "text/plain": [
              "<tf.Tensor: shape=(1, 2, 6, 4), dtype=float32, numpy=\n",
              "array([[[[-0.22609353, -0.87318635,  1.6991094 , -0.12506455],\n",
              "         [-0.2661253 , -0.81392545, -0.02876213,  0.35901684],\n",
              "         [-0.02891604, -0.88987976,  0.1369701 ,  0.06121534],\n",
              "         [ 0.62888265, -0.09513374,  0.31742018,  1.0003444 ],\n",
              "         [-0.21370152, -0.4175644 , -0.5791202 , -0.4979281 ],\n",
              "         [-0.20006984, -0.6408125 ,  1.4944667 , -0.9112214 ]],\n",
              "\n",
              "        [[ 0.795105  ,  0.1321399 ,  0.15997756, -0.5798064 ],\n",
              "         [ 0.36572716,  0.10250078,  0.22691803, -0.04008479],\n",
              "         [ 0.2757219 , -0.8750939 ,  0.21563476,  0.03483448],\n",
              "         [-0.5359448 ,  0.11608285, -0.19282134,  1.0470742 ],\n",
              "         [ 1.2439365 ,  0.58445233, -0.2795954 , -0.2912725 ],\n",
              "         [ 0.24740143, -0.81064546,  1.0373936 , -1.1319046 ]]]],\n",
              "      dtype=float32)>"
            ]
          },
          "metadata": {
            "tags": []
          },
          "execution_count": 81
        }
      ]
    },
    {
      "cell_type": "code",
      "metadata": {
        "id": "qwMiDvqkB4eI",
        "colab_type": "code",
        "colab": {
          "base_uri": "https://localhost:8080/",
          "height": 34
        },
        "outputId": "03dc50c8-6f3a-43d5-c2ed-cd24dbbea1dc"
      },
      "source": [
        "# pad mask 구함 / decoder 일 경우는 ahead mask 구하면 됨\n",
        "ende_mask = get_pad_mask(enc_tokens)\n",
        "ende_mask"
      ],
      "execution_count": null,
      "outputs": [
        {
          "output_type": "execute_result",
          "data": {
            "text/plain": [
              "<tf.Tensor: shape=(1, 1, 6), dtype=float32, numpy=array([[[0., 0., 0., 0., 0., 1.]]], dtype=float32)>"
            ]
          },
          "metadata": {
            "tags": []
          },
          "execution_count": 82
        }
      ]
    },
    {
      "cell_type": "code",
      "metadata": {
        "id": "WUYOdq1QCA0x",
        "colab_type": "code",
        "colab": {
          "base_uri": "https://localhost:8080/",
          "height": 34
        },
        "outputId": "4d0cd4c6-86d3-41ae-90b5-d42ab236d604"
      },
      "source": [
        "# Q_multi, K_mulit, V_multi와 동일한 차원이 되도록 차원을 늘려 줌\n",
        "ende_mask_multi = tf.expand_dims(ende_mask, axis=1)\n",
        "ende_mask_multi"
      ],
      "execution_count": null,
      "outputs": [
        {
          "output_type": "execute_result",
          "data": {
            "text/plain": [
              "<tf.Tensor: shape=(1, 1, 1, 6), dtype=float32, numpy=array([[[[0., 0., 0., 0., 0., 1.]]]], dtype=float32)>"
            ]
          },
          "metadata": {
            "tags": []
          },
          "execution_count": 83
        }
      ]
    },
    {
      "cell_type": "code",
      "metadata": {
        "id": "yuQjJWfcCH44",
        "colab_type": "code",
        "colab": {
          "base_uri": "https://localhost:8080/",
          "height": 238
        },
        "outputId": "02030161-466a-471c-8d9b-a178f2e6c93f"
      },
      "source": [
        "# ScaleDotProductAttention을 여러 head 동시 실행 함\n",
        "attention = ScaleDotProductAttention()\n",
        "attn_val_multi = attention(Q_multi, K_multi, V_multi, ende_mask_multi)  # (bs, n_head, Q_len, d_head)\n",
        "attn_val_multi"
      ],
      "execution_count": null,
      "outputs": [
        {
          "output_type": "execute_result",
          "data": {
            "text/plain": [
              "<tf.Tensor: shape=(1, 2, 5, 4), dtype=float32, numpy=\n",
              "array([[[[-0.05865866, -0.6862529 ,  0.25136685,  0.18179592],\n",
              "         [-0.04779107, -0.56517935,  0.3348251 ,  0.02789726],\n",
              "         [-0.00762585, -0.60212666,  0.31688586,  0.15322503],\n",
              "         [-0.02228849, -0.6138606 ,  0.33942297,  0.15964521],\n",
              "         [-0.12268273, -0.7126697 ,  0.2535215 ,  0.12084441]],\n",
              "\n",
              "        [[ 0.48556668, -0.03227416,  0.05394118, -0.03088932],\n",
              "         [ 0.25314233,  0.02920719, -0.00436375,  0.20386982],\n",
              "         [ 0.01836875,  0.07564443, -0.06639525,  0.4616316 ],\n",
              "         [ 0.6500134 ,  0.0591805 ,  0.01860365, -0.12821348],\n",
              "         [ 0.37727368,  0.05865324, -0.00661694,  0.09037241]]]],\n",
              "      dtype=float32)>"
            ]
          },
          "metadata": {
            "tags": []
          },
          "execution_count": 84
        }
      ]
    },
    {
      "cell_type": "code",
      "metadata": {
        "id": "QMK74028ERaN",
        "colab_type": "code",
        "colab": {
          "base_uri": "https://localhost:8080/",
          "height": 289
        },
        "outputId": "74a0c00d-6931-4863-c391-a9c8f05f3cd8"
      },
      "source": [
        "attention_transpose = tf.transpose(attn_val_multi, perm=[0, 2, 1, 3])  # (bs, Q_len, n_head, d_head)\n",
        "attention_transpose"
      ],
      "execution_count": null,
      "outputs": [
        {
          "output_type": "execute_result",
          "data": {
            "text/plain": [
              "<tf.Tensor: shape=(1, 5, 2, 4), dtype=float32, numpy=\n",
              "array([[[[-0.05865866, -0.6862529 ,  0.25136685,  0.18179592],\n",
              "         [ 0.48556668, -0.03227416,  0.05394118, -0.03088932]],\n",
              "\n",
              "        [[-0.04779107, -0.56517935,  0.3348251 ,  0.02789726],\n",
              "         [ 0.25314233,  0.02920719, -0.00436375,  0.20386982]],\n",
              "\n",
              "        [[-0.00762585, -0.60212666,  0.31688586,  0.15322503],\n",
              "         [ 0.01836875,  0.07564443, -0.06639525,  0.4616316 ]],\n",
              "\n",
              "        [[-0.02228849, -0.6138606 ,  0.33942297,  0.15964521],\n",
              "         [ 0.6500134 ,  0.0591805 ,  0.01860365, -0.12821348]],\n",
              "\n",
              "        [[-0.12268273, -0.7126697 ,  0.2535215 ,  0.12084441],\n",
              "         [ 0.37727368,  0.05865324, -0.00661694,  0.09037241]]]],\n",
              "      dtype=float32)>"
            ]
          },
          "metadata": {
            "tags": []
          },
          "execution_count": 85
        }
      ]
    },
    {
      "cell_type": "code",
      "metadata": {
        "id": "nVO0kq3_EgG2",
        "colab_type": "code",
        "colab": {
          "base_uri": "https://localhost:8080/",
          "height": 221
        },
        "outputId": "18ef78ab-aa97-45a4-b00c-1ba4cb305680"
      },
      "source": [
        "attention_concat = tf.reshape(attention_transpose, [tf.shape(Q)[0], -1, config.n_head * config.d_head])  # (bs, Q_len, n_head * d_head)\n",
        "attention_concat"
      ],
      "execution_count": null,
      "outputs": [
        {
          "output_type": "execute_result",
          "data": {
            "text/plain": [
              "<tf.Tensor: shape=(1, 5, 8), dtype=float32, numpy=\n",
              "array([[[-0.05865866, -0.6862529 ,  0.25136685,  0.18179592,\n",
              "          0.48556668, -0.03227416,  0.05394118, -0.03088932],\n",
              "        [-0.04779107, -0.56517935,  0.3348251 ,  0.02789726,\n",
              "          0.25314233,  0.02920719, -0.00436375,  0.20386982],\n",
              "        [-0.00762585, -0.60212666,  0.31688586,  0.15322503,\n",
              "          0.01836875,  0.07564443, -0.06639525,  0.4616316 ],\n",
              "        [-0.02228849, -0.6138606 ,  0.33942297,  0.15964521,\n",
              "          0.6500134 ,  0.0591805 ,  0.01860365, -0.12821348],\n",
              "        [-0.12268273, -0.7126697 ,  0.2535215 ,  0.12084441,\n",
              "          0.37727368,  0.05865324, -0.00661694,  0.09037241]]],\n",
              "      dtype=float32)>"
            ]
          },
          "metadata": {
            "tags": []
          },
          "execution_count": 86
        }
      ]
    },
    {
      "cell_type": "code",
      "metadata": {
        "id": "0lbienE8EwMF",
        "colab_type": "code",
        "colab": {
          "base_uri": "https://localhost:8080/",
          "height": 221
        },
        "outputId": "d93bb4df-4fc3-4989-b8a7-35236d14e6fb"
      },
      "source": [
        "WO = tf.keras.layers.Dense(config.d_model)\n",
        "attention_output = WO(attention_concat)\n",
        "attention_output"
      ],
      "execution_count": null,
      "outputs": [
        {
          "output_type": "execute_result",
          "data": {
            "text/plain": [
              "<tf.Tensor: shape=(1, 5, 8), dtype=float32, numpy=\n",
              "array([[[-0.52249753, -0.10556794, -0.02872676, -0.25642365,\n",
              "          0.6031327 , -0.5370698 , -0.0509649 ,  0.5268964 ],\n",
              "        [-0.21201727,  0.08000333,  0.12395984, -0.367667  ,\n",
              "          0.44503552, -0.4207918 ,  0.01840271,  0.39644596],\n",
              "        [-0.00599729,  0.16830231,  0.29317686, -0.47001153,\n",
              "          0.17112984, -0.2547031 , -0.04140631,  0.3072996 ],\n",
              "        [-0.576167  , -0.13248096, -0.08886158, -0.32323503,\n",
              "          0.79646516, -0.70372355,  0.03084325,  0.51684   ],\n",
              "        [-0.42305955, -0.10355318,  0.02402215, -0.3746697 ,\n",
              "          0.5461264 , -0.5056183 , -0.00301166,  0.5017278 ]]],\n",
              "      dtype=float32)>"
            ]
          },
          "metadata": {
            "tags": []
          },
          "execution_count": 87
        }
      ]
    },
    {
      "cell_type": "markdown",
      "metadata": {
        "id": "hXWYTm6JK9OR",
        "colab_type": "text"
      },
      "source": [
        "### Class"
      ]
    },
    {
      "cell_type": "code",
      "metadata": {
        "id": "jjC2xmX4F5ay",
        "colab_type": "code",
        "colab": {}
      },
      "source": [
        "class MultiHeadAttention(tf.keras.layers.Layer):\n",
        "    \"\"\"\n",
        "    Multi Head Attention Class\n",
        "    \"\"\"\n",
        "    def __init__(self, config, name=\"multi_head_attention\"):\n",
        "        \"\"\"\n",
        "        생성자\n",
        "        :param config: Config 객체\n",
        "        :param name: layer name\n",
        "        \"\"\"\n",
        "        super().__init__(name=name)\n",
        "\n",
        "        self.d_model = config.d_model\n",
        "        self.n_head = config.n_head\n",
        "        self.d_head = config.d_head\n",
        "\n",
        "        # Q, K, V input dense layer\n",
        "        self.W_Q = tf.keras.layers.Dense(config.n_head * config.d_head)\n",
        "        self.W_K = tf.keras.layers.Dense(config.n_head * config.d_head)\n",
        "        self.W_V = tf.keras.layers.Dense(config.n_head * config.d_head)\n",
        "        # Scale Dot Product Attention class\n",
        "        self.attention = ScaleDotProductAttention(name=\"self_attention\")\n",
        "        # output dense layer\n",
        "        self.W_O = tf.keras.layers.Dense(config.d_model)\n",
        "\n",
        "    def call(self, Q, K, V, attn_mask):\n",
        "        \"\"\"\n",
        "        layer 실행\n",
        "        :param Q: Q value\n",
        "        :param K: K value\n",
        "        :param V: V value\n",
        "        :param attn_mask: 실행 모드\n",
        "        :return attn_out: attention 실행 결과\n",
        "        \"\"\"\n",
        "        # reshape Q, K, V, attn_mask\n",
        "        batch_size = tf.shape(Q)[0]\n",
        "        Q_m = tf.transpose(tf.reshape(self.W_Q(Q), [batch_size, -1, self.n_head, self.d_head]), [0, 2, 1, 3])  # (bs, n_head, Q_len, d_head)\n",
        "        K_m = tf.transpose(tf.reshape(self.W_K(K), [batch_size, -1, self.n_head, self.d_head]), [0, 2, 1, 3])  # (bs, n_head, K_len, d_head)\n",
        "        V_m = tf.transpose(tf.reshape(self.W_V(V), [batch_size, -1, self.n_head, self.d_head]), [0, 2, 1, 3])  # (bs, n_head, K_len, d_head)\n",
        "        attn_mask_m = tf.expand_dims(attn_mask, axis=1)\n",
        "        # Scale Dot Product Attention with multi head Q, K, V, attn_mask\n",
        "        attn_out = self.attention(Q_m, K_m, V_m, attn_mask_m)  # (bs, n_head, Q_len, d_head)\n",
        "        # transpose and liner\n",
        "        attn_out_m = tf.transpose(attn_out, perm=[0, 2, 1, 3])  # (bs, Q_len, n_head, d_head)\n",
        "        attn_out = tf.reshape(attn_out_m, [batch_size, -1, config.n_head * config.d_head])  # (bs, Q_len, d_model)\n",
        "        attn_out = self.W_O(attn_out) # (bs, Q_len, d_model)\n",
        "\n",
        "        return attn_out"
      ],
      "execution_count": null,
      "outputs": []
    },
    {
      "cell_type": "markdown",
      "metadata": {
        "id": "f9HRMhWKK-6I",
        "colab_type": "text"
      },
      "source": [
        "### Test"
      ]
    },
    {
      "cell_type": "code",
      "metadata": {
        "id": "T8ONc_AXG7Db",
        "colab_type": "code",
        "colab": {
          "base_uri": "https://localhost:8080/",
          "height": 221
        },
        "outputId": "0eb1009a-8bc8-4c30-9939-d24bf6cdcc5e"
      },
      "source": [
        "attention = MultiHeadAttention(config)\n",
        "\n",
        "attn_out = attention(Q, K, V, ende_mask)\n",
        "# Q와 output의 shape 같으면 정상 (W_Q, W_K, W_V, W_O 값이 랜덤하게 초기화 되므로 값은 달라 짐)\n",
        "assert Q.shape == attn_out.shape\n",
        "attn_out"
      ],
      "execution_count": null,
      "outputs": [
        {
          "output_type": "execute_result",
          "data": {
            "text/plain": [
              "<tf.Tensor: shape=(1, 5, 8), dtype=float32, numpy=\n",
              "array([[[-0.0997543 ,  0.46862426,  0.7291868 ,  0.32864827,\n",
              "         -0.1108606 ,  0.7933805 ,  0.09398942, -0.42004228],\n",
              "        [ 0.12487091, -1.028587  , -0.35139164, -0.24648376,\n",
              "          0.04542533, -0.7058376 ,  0.05377486,  0.13137686],\n",
              "        [-0.01424888, -0.75946546, -0.05581002, -0.04649794,\n",
              "          0.08251773, -0.44924957,  0.02759511,  0.04720584],\n",
              "        [ 0.12499163, -0.28622657,  0.33488712,  0.2208195 ,\n",
              "         -0.05755461,  0.4600351 , -0.01222578, -0.3741916 ],\n",
              "        [ 0.11665409, -0.5340447 ,  0.1175077 ,  0.14197914,\n",
              "          0.01174538,  0.1933453 ,  0.11310808, -0.26093483]]],\n",
              "      dtype=float32)>"
            ]
          },
          "metadata": {
            "tags": []
          },
          "execution_count": 92
        }
      ]
    },
    {
      "cell_type": "markdown",
      "metadata": {
        "id": "Z3Jc-KlSQDMG",
        "colab_type": "text"
      },
      "source": [
        "## Feed Forward\n",
        "\n",
        "![](https://paul-hyun.github.io/assets/transformer/feedforward.png)"
      ]
    },
    {
      "cell_type": "markdown",
      "metadata": {
        "id": "OnCeiVe2NrNz",
        "colab_type": "text"
      },
      "source": [
        "### Tutorial"
      ]
    },
    {
      "cell_type": "code",
      "metadata": {
        "id": "Eq9g080D19oi",
        "colab_type": "code",
        "colab": {
          "base_uri": "https://localhost:8080/",
          "height": 255
        },
        "outputId": "1c301069-a042-438f-8fe5-267cfb6c4044"
      },
      "source": [
        "# sublayer output\n",
        "sublayer_output = embedding(enc_tokens)\n",
        "sublayer_output"
      ],
      "execution_count": null,
      "outputs": [
        {
          "output_type": "execute_result",
          "data": {
            "text/plain": [
              "<tf.Tensor: shape=(1, 6, 8), dtype=float32, numpy=\n",
              "array([[[ 7.7375400e-01, -2.0097934e-01, -1.6235918e+00,  5.0823212e-01,\n",
              "          3.8227955e-01, -5.8444905e-01,  1.3429333e+00,  8.8669658e-02],\n",
              "        [-1.3575766e+00,  5.1265877e-01, -1.0103453e+00,  1.2342075e+00,\n",
              "          8.6643136e-01, -1.3218085e+00,  5.5454183e-01, -8.3345425e-01],\n",
              "        [ 1.9207126e-01, -9.9038106e-01,  1.4633861e-03,  2.6767093e-01,\n",
              "         -4.8722029e-01, -7.3045623e-01,  5.5754453e-01, -1.2049774e+00],\n",
              "        [ 2.1921408e-01, -1.1216551e+00, -9.5455211e-01,  4.8161629e-01,\n",
              "         -3.5596541e-01, -1.1122342e-01, -9.0986514e-01,  1.1487821e+00],\n",
              "        [-4.3682763e-01,  1.5757172e+00,  2.1730809e-01,  6.4371949e-01,\n",
              "          7.5229513e-04,  5.7789415e-01,  8.2634795e-01, -1.3206406e+00],\n",
              "        [ 8.0348301e-01, -3.6864722e-01, -7.6201981e-01, -3.4643289e-01,\n",
              "         -8.3774120e-01, -1.0935953e+00,  1.0395516e+00, -5.2333754e-01]]],\n",
              "      dtype=float32)>"
            ]
          },
          "metadata": {
            "tags": []
          },
          "execution_count": 93
        }
      ]
    },
    {
      "cell_type": "code",
      "metadata": {
        "id": "8p432ETKQGMf",
        "colab_type": "code",
        "colab": {
          "base_uri": "https://localhost:8080/",
          "height": 867
        },
        "outputId": "5564273e-6248-45bf-b328-fd315f8d119d"
      },
      "source": [
        "# dense 1: d_mdoel -> d_ff\n",
        "ff_val_1 = tf.keras.layers.Dense(config.d_ff)(sublayer_output)\n",
        "ff_val_1"
      ],
      "execution_count": null,
      "outputs": [
        {
          "output_type": "execute_result",
          "data": {
            "text/plain": [
              "<tf.Tensor: shape=(1, 6, 32), dtype=float32, numpy=\n",
              "array([[[-0.6274815 , -0.35587695, -1.0220408 , -0.24831478,\n",
              "         -1.0000412 ,  0.40587962, -0.6736676 , -0.39478874,\n",
              "         -0.3882848 ,  0.31005955, -0.87317586,  0.47483703,\n",
              "         -0.10361654,  0.35303357,  0.9616491 ,  0.01905058,\n",
              "         -0.40112826, -0.13124754, -0.5459983 , -0.37634093,\n",
              "          0.01995231, -0.60646963, -0.04181685,  0.55626005,\n",
              "          0.6350285 , -0.7198029 , -0.5591788 ,  0.5181798 ,\n",
              "          0.10389867, -0.39039403, -0.37291658, -0.53031063],\n",
              "        [-0.78380585, -0.47625935, -0.43085873, -1.2133701 ,\n",
              "         -0.59371364,  0.52327424, -0.93675935,  0.7495573 ,\n",
              "          0.3893372 ,  1.1753184 , -0.45160103,  0.03844266,\n",
              "         -0.26107752,  0.08295498, -0.14237794, -0.47551966,\n",
              "          0.67465323, -0.4182059 , -0.4490713 , -0.45074835,\n",
              "         -0.01117175, -0.12962125, -0.5236003 , -0.445652  ,\n",
              "          1.2431786 , -0.45679635, -0.34946683, -0.33108893,\n",
              "         -0.4479363 ,  0.31633693, -0.79231024,  0.09271722],\n",
              "        [-0.14704339, -0.77729493,  0.5590222 , -0.02981924,\n",
              "         -0.43009275,  0.51685995,  0.16066624,  0.6302254 ,\n",
              "          0.18852   ,  0.21992989,  0.06050281,  0.33347484,\n",
              "         -0.53132385, -0.0111745 , -0.6726536 ,  0.03136934,\n",
              "         -0.15672316,  0.19019224, -0.47403055,  0.25852057,\n",
              "          0.33112076,  0.04154686,  0.8015218 ,  0.5101487 ,\n",
              "         -0.60912853, -0.54950947,  0.7410297 , -0.27604127,\n",
              "          0.27578703,  0.1192115 , -0.8352412 ,  0.75229186],\n",
              "        [ 0.09983448,  0.21540801,  0.03497342, -0.56392187,\n",
              "          0.01717453, -0.79980415,  0.4969833 , -0.5632613 ,\n",
              "         -0.9923463 , -0.37694758, -0.43895963,  0.33569118,\n",
              "         -0.1976782 ,  1.1440178 , -0.0845454 ,  0.33927116,\n",
              "         -0.09533775,  0.73597443,  0.40301117, -0.16653101,\n",
              "         -1.0403397 , -0.6996509 , -0.09621351,  0.4487818 ,\n",
              "         -0.31395045, -0.23376855, -0.3364506 , -0.07005374,\n",
              "         -0.64039683,  0.12730005, -0.7168374 , -0.559916  ],\n",
              "        [-0.07229828, -0.4206946 , -0.42233092,  0.26960328,\n",
              "         -0.00324121,  0.61612606, -0.3530527 ,  0.33938316,\n",
              "          0.7906235 ,  0.68275803,  0.50354576, -0.608375  ,\n",
              "          0.58735824, -0.9159695 ,  0.16060534, -0.5950299 ,\n",
              "          0.40477717, -0.5105916 , -0.12893799, -0.27610204,\n",
              "          1.0073327 ,  0.5016047 , -0.27553546, -1.0458577 ,\n",
              "          1.0395145 , -0.35918978,  0.01706927, -0.48592493,\n",
              "         -0.4655077 , -0.0290079 ,  0.18886183,  0.27950585],\n",
              "        [-0.76081073, -0.70359814,  0.11303135,  0.45209432,\n",
              "         -0.54520017,  0.71557236, -0.49854842, -0.10692631,\n",
              "          0.04340887, -0.04554732, -0.42280093,  0.7681499 ,\n",
              "         -0.36896625,  0.24334672, -0.06122836,  0.03996043,\n",
              "         -0.27419963,  0.13710177, -0.87224585, -0.07852414,\n",
              "          0.15259123, -0.10004894,  0.44538927,  0.9046988 ,\n",
              "         -0.57939255, -0.79346097,  0.25729325,  0.23319389,\n",
              "          0.41044104, -0.5812524 , -0.4936551 ,  0.07297926]]],\n",
              "      dtype=float32)>"
            ]
          },
          "metadata": {
            "tags": []
          },
          "execution_count": 94
        }
      ]
    },
    {
      "cell_type": "code",
      "metadata": {
        "id": "hawd2-NhQQlL",
        "colab_type": "code",
        "colab": {
          "base_uri": "https://localhost:8080/",
          "height": 748
        },
        "outputId": "72883a6a-5a4d-4327-ce6c-d79b1a4106da"
      },
      "source": [
        "# relu: 0보다 작은 값은 모두 0\n",
        "ff_val_2 = tf.nn.relu(ff_val_1)\n",
        "ff_val_2"
      ],
      "execution_count": null,
      "outputs": [
        {
          "output_type": "execute_result",
          "data": {
            "text/plain": [
              "<tf.Tensor: shape=(1, 6, 32), dtype=float32, numpy=\n",
              "array([[[0.        , 0.        , 0.        , 0.        , 0.        ,\n",
              "         0.40587962, 0.        , 0.        , 0.        , 0.31005955,\n",
              "         0.        , 0.47483703, 0.        , 0.35303357, 0.9616491 ,\n",
              "         0.01905058, 0.        , 0.        , 0.        , 0.        ,\n",
              "         0.01995231, 0.        , 0.        , 0.55626005, 0.6350285 ,\n",
              "         0.        , 0.        , 0.5181798 , 0.10389867, 0.        ,\n",
              "         0.        , 0.        ],\n",
              "        [0.        , 0.        , 0.        , 0.        , 0.        ,\n",
              "         0.52327424, 0.        , 0.7495573 , 0.3893372 , 1.1753184 ,\n",
              "         0.        , 0.03844266, 0.        , 0.08295498, 0.        ,\n",
              "         0.        , 0.67465323, 0.        , 0.        , 0.        ,\n",
              "         0.        , 0.        , 0.        , 0.        , 1.2431786 ,\n",
              "         0.        , 0.        , 0.        , 0.        , 0.31633693,\n",
              "         0.        , 0.09271722],\n",
              "        [0.        , 0.        , 0.5590222 , 0.        , 0.        ,\n",
              "         0.51685995, 0.16066624, 0.6302254 , 0.18852   , 0.21992989,\n",
              "         0.06050281, 0.33347484, 0.        , 0.        , 0.        ,\n",
              "         0.03136934, 0.        , 0.19019224, 0.        , 0.25852057,\n",
              "         0.33112076, 0.04154686, 0.8015218 , 0.5101487 , 0.        ,\n",
              "         0.        , 0.7410297 , 0.        , 0.27578703, 0.1192115 ,\n",
              "         0.        , 0.75229186],\n",
              "        [0.09983448, 0.21540801, 0.03497342, 0.        , 0.01717453,\n",
              "         0.        , 0.4969833 , 0.        , 0.        , 0.        ,\n",
              "         0.        , 0.33569118, 0.        , 1.1440178 , 0.        ,\n",
              "         0.33927116, 0.        , 0.73597443, 0.40301117, 0.        ,\n",
              "         0.        , 0.        , 0.        , 0.4487818 , 0.        ,\n",
              "         0.        , 0.        , 0.        , 0.        , 0.12730005,\n",
              "         0.        , 0.        ],\n",
              "        [0.        , 0.        , 0.        , 0.26960328, 0.        ,\n",
              "         0.61612606, 0.        , 0.33938316, 0.7906235 , 0.68275803,\n",
              "         0.50354576, 0.        , 0.58735824, 0.        , 0.16060534,\n",
              "         0.        , 0.40477717, 0.        , 0.        , 0.        ,\n",
              "         1.0073327 , 0.5016047 , 0.        , 0.        , 1.0395145 ,\n",
              "         0.        , 0.01706927, 0.        , 0.        , 0.        ,\n",
              "         0.18886183, 0.27950585],\n",
              "        [0.        , 0.        , 0.11303135, 0.45209432, 0.        ,\n",
              "         0.71557236, 0.        , 0.        , 0.04340887, 0.        ,\n",
              "         0.        , 0.7681499 , 0.        , 0.24334672, 0.        ,\n",
              "         0.03996043, 0.        , 0.13710177, 0.        , 0.        ,\n",
              "         0.15259123, 0.        , 0.44538927, 0.9046988 , 0.        ,\n",
              "         0.        , 0.25729325, 0.23319389, 0.41044104, 0.        ,\n",
              "         0.        , 0.07297926]]], dtype=float32)>"
            ]
          },
          "metadata": {
            "tags": []
          },
          "execution_count": 95
        }
      ]
    },
    {
      "cell_type": "code",
      "metadata": {
        "id": "W20iKxKGQYly",
        "colab_type": "code",
        "colab": {
          "base_uri": "https://localhost:8080/",
          "height": 255
        },
        "outputId": "cbd24738-918a-4382-db86-096efd45990c"
      },
      "source": [
        "# dense 2: d_ff -> d_model\n",
        "ff_val = tf.keras.layers.Dense(config.d_model)(ff_val_2)\n",
        "ff_val"
      ],
      "execution_count": null,
      "outputs": [
        {
          "output_type": "execute_result",
          "data": {
            "text/plain": [
              "<tf.Tensor: shape=(1, 6, 8), dtype=float32, numpy=\n",
              "array([[[-0.38150957, -0.29140407,  0.2519682 , -0.27361214,\n",
              "          0.3851462 , -0.01607497, -0.07576718,  0.12541111],\n",
              "        [ 0.4633008 , -0.25741196,  0.39644682,  0.1142389 ,\n",
              "         -0.1770624 ,  0.15646677, -0.0450987 , -0.91758597],\n",
              "        [ 0.667941  , -0.5256831 ,  0.20044924,  0.20441084,\n",
              "         -0.07137788, -0.09260108, -0.01304834, -0.06170521],\n",
              "        [-0.4948347 ,  0.09676831, -0.06366067, -0.06442384,\n",
              "         -0.18721156,  0.5900229 ,  0.3581017 , -0.64500815],\n",
              "        [ 0.24888703, -0.04807898,  0.76819444, -0.39782885,\n",
              "          0.68732643,  0.11226896,  0.17777772, -0.3619676 ],\n",
              "        [-0.490925  , -0.02547723,  0.30458102, -0.03207939,\n",
              "          0.3950753 ,  0.18304513,  0.23481028,  0.04248856]]],\n",
              "      dtype=float32)>"
            ]
          },
          "metadata": {
            "tags": []
          },
          "execution_count": 96
        }
      ]
    },
    {
      "cell_type": "markdown",
      "metadata": {
        "id": "xDuEmCeoN2lq",
        "colab_type": "text"
      },
      "source": [
        "### Class"
      ]
    },
    {
      "cell_type": "code",
      "metadata": {
        "id": "9nUJHhLfQhdE",
        "colab_type": "code",
        "colab": {}
      },
      "source": [
        "class PositionWiseFeedForward(tf.keras.layers.Layer):\n",
        "    \"\"\"\n",
        "    Position Wise Feed Forward Class\n",
        "    \"\"\"\n",
        "    def __init__(self, config, name=\"feed_forward\"):\n",
        "        \"\"\"\n",
        "        생성자\n",
        "        :param config: Config 객체\n",
        "        :param name: layer name\n",
        "        \"\"\"\n",
        "        super().__init__(name=name)\n",
        "\n",
        "        self.W_1 = tf.keras.layers.Dense(config.d_ff, activation=tf.nn.relu)\n",
        "        self.W_2 = tf.keras.layers.Dense(config.d_model)\n",
        "\n",
        "    def call(self, inputs):\n",
        "        \"\"\"\n",
        "        layer 실행\n",
        "        :param inputs: inputs\n",
        "        :return ff_val: feed forward 실행 결과\n",
        "        \"\"\"\n",
        "        ff_val = self.W_2(self.W_1(inputs))\n",
        "        return ff_val"
      ],
      "execution_count": null,
      "outputs": []
    },
    {
      "cell_type": "markdown",
      "metadata": {
        "id": "5rTITKdIN5nU",
        "colab_type": "text"
      },
      "source": [
        "### Test"
      ]
    },
    {
      "cell_type": "code",
      "metadata": {
        "id": "2zBze7AoQp-_",
        "colab_type": "code",
        "colab": {
          "base_uri": "https://localhost:8080/",
          "height": 255
        },
        "outputId": "4647c361-0a95-4996-ca63-2754f8286904"
      },
      "source": [
        "# feed-forward class 동작 확인\n",
        "feed_forward = PositionWiseFeedForward(config)\n",
        "\n",
        "ff_val = feed_forward(sublayer_output)\n",
        "# 입력과 출력의 shape가 같의면 정상 (W_1, W_2 값이 랜덤초기화 되므로 값은 변경 됨)\n",
        "assert ff_val.shape == sublayer_output.shape\n",
        "ff_val"
      ],
      "execution_count": null,
      "outputs": [
        {
          "output_type": "execute_result",
          "data": {
            "text/plain": [
              "<tf.Tensor: shape=(1, 6, 8), dtype=float32, numpy=\n",
              "array([[[ 1.4213747 , -0.27665102, -1.077968  , -0.10919826,\n",
              "          0.7139046 ,  0.5601141 , -0.22408225, -0.23561293],\n",
              "        [ 0.46413472, -0.38444316, -0.4724423 , -0.6217758 ,\n",
              "          0.39970565, -0.2317786 ,  0.12217102, -0.24255937],\n",
              "        [ 1.1175116 , -0.38164133, -0.76516956, -0.6602539 ,\n",
              "          0.6700473 , -0.2167052 , -0.05284574, -0.39900884],\n",
              "        [ 1.3463874 ,  0.27515432,  0.13080175, -0.10561099,\n",
              "          0.60181075,  1.1640973 ,  0.29697764, -0.0399669 ],\n",
              "        [ 0.84715474,  0.25415492,  0.11631031, -0.33339155,\n",
              "          0.15762067,  0.40276015,  0.5811353 , -0.01643636],\n",
              "        [ 1.2654864 , -0.3681087 , -0.92658246, -0.5023071 ,\n",
              "          0.7723746 ,  0.07945266, -0.56393933,  0.03786694]]],\n",
              "      dtype=float32)>"
            ]
          },
          "metadata": {
            "tags": []
          },
          "execution_count": 99
        }
      ]
    },
    {
      "cell_type": "markdown",
      "metadata": {
        "id": "oCkXJQIUlETb",
        "colab_type": "text"
      },
      "source": [
        "## Encoder Layer\n",
        "\n",
        "![](https://paul-hyun.github.io/assets/transformer/encoder_layer.png)"
      ]
    },
    {
      "cell_type": "markdown",
      "metadata": {
        "id": "eZXtO5pKONH1",
        "colab_type": "text"
      },
      "source": [
        "### Tutorial"
      ]
    },
    {
      "cell_type": "code",
      "metadata": {
        "id": "wQ0BTLQmOXEE",
        "colab_type": "code",
        "colab": {
          "base_uri": "https://localhost:8080/",
          "height": 34
        },
        "outputId": "6aeb0c6f-3089-461e-a7bb-542fb926117c"
      },
      "source": [
        "# encoder self attetnion mask\n",
        "self_mask = get_pad_mask(enc_tokens)\n",
        "self_mask"
      ],
      "execution_count": null,
      "outputs": [
        {
          "output_type": "execute_result",
          "data": {
            "text/plain": [
              "<tf.Tensor: shape=(1, 1, 6), dtype=float32, numpy=array([[[0., 0., 0., 0., 0., 1.]]], dtype=float32)>"
            ]
          },
          "metadata": {
            "tags": []
          },
          "execution_count": 100
        }
      ]
    },
    {
      "cell_type": "code",
      "metadata": {
        "id": "M3V8lHcKOSYN",
        "colab_type": "code",
        "colab": {
          "base_uri": "https://localhost:8080/",
          "height": 255
        },
        "outputId": "37c67ee7-9ca9-4d9d-f244-e6730c86fe13"
      },
      "source": [
        "# encoder embedding\n",
        "enc_embed = embedding(enc_tokens)\n",
        "enc_embed"
      ],
      "execution_count": null,
      "outputs": [
        {
          "output_type": "execute_result",
          "data": {
            "text/plain": [
              "<tf.Tensor: shape=(1, 6, 8), dtype=float32, numpy=\n",
              "array([[[ 7.7375400e-01, -2.0097934e-01, -1.6235918e+00,  5.0823212e-01,\n",
              "          3.8227955e-01, -5.8444905e-01,  1.3429333e+00,  8.8669658e-02],\n",
              "        [-1.3575766e+00,  5.1265877e-01, -1.0103453e+00,  1.2342075e+00,\n",
              "          8.6643136e-01, -1.3218085e+00,  5.5454183e-01, -8.3345425e-01],\n",
              "        [ 1.9207126e-01, -9.9038106e-01,  1.4633861e-03,  2.6767093e-01,\n",
              "         -4.8722029e-01, -7.3045623e-01,  5.5754453e-01, -1.2049774e+00],\n",
              "        [ 2.1921408e-01, -1.1216551e+00, -9.5455211e-01,  4.8161629e-01,\n",
              "         -3.5596541e-01, -1.1122342e-01, -9.0986514e-01,  1.1487821e+00],\n",
              "        [-4.3682763e-01,  1.5757172e+00,  2.1730809e-01,  6.4371949e-01,\n",
              "          7.5229513e-04,  5.7789415e-01,  8.2634795e-01, -1.3206406e+00],\n",
              "        [ 8.0348301e-01, -3.6864722e-01, -7.6201981e-01, -3.4643289e-01,\n",
              "         -8.3774120e-01, -1.0935953e+00,  1.0395516e+00, -5.2333754e-01]]],\n",
              "      dtype=float32)>"
            ]
          },
          "metadata": {
            "tags": []
          },
          "execution_count": 101
        }
      ]
    },
    {
      "cell_type": "code",
      "metadata": {
        "id": "9siOPgyXOlmN",
        "colab_type": "code",
        "colab": {
          "base_uri": "https://localhost:8080/",
          "height": 255
        },
        "outputId": "b58c83d7-37ec-4d9c-f660-37cd340456aa"
      },
      "source": [
        "# MultiHeadAttention\n",
        "self_attention = MultiHeadAttention(config)\n",
        "self_attn_val = self_attention(enc_embed, enc_embed, enc_embed, self_mask)\n",
        "self_attn_val"
      ],
      "execution_count": null,
      "outputs": [
        {
          "output_type": "execute_result",
          "data": {
            "text/plain": [
              "<tf.Tensor: shape=(1, 6, 8), dtype=float32, numpy=\n",
              "array([[[-0.5570571 ,  0.6509536 ,  0.49151427,  0.284307  ,\n",
              "         -0.02986557, -0.6027816 ,  0.027942  ,  0.6098551 ],\n",
              "        [-0.77000964,  0.20970683,  0.16367415,  1.0013674 ,\n",
              "         -0.5596001 , -0.32080182, -0.1065383 , -0.23604108],\n",
              "        [-0.66211486,  0.28240782,  0.30582494,  0.7837196 ,\n",
              "         -0.27429634, -0.50378096, -0.00698215,  0.03619177],\n",
              "        [-0.54856926,  0.39681342,  0.35646772,  0.5063945 ,\n",
              "          0.06259667, -0.81212866,  0.35345075,  0.3784661 ],\n",
              "        [-0.90989995,  0.14318925,  0.3575568 ,  0.8892297 ,\n",
              "         -0.69810486,  0.06638701, -0.5441616 , -0.31429788],\n",
              "        [-0.6082097 ,  0.46214738,  0.27514938,  0.702595  ,\n",
              "         -0.36101955, -0.37378263, -0.19208287,  0.16286877]]],\n",
              "      dtype=float32)>"
            ]
          },
          "metadata": {
            "tags": []
          },
          "execution_count": 102
        }
      ]
    },
    {
      "cell_type": "code",
      "metadata": {
        "id": "hGI5NdiaO7FS",
        "colab_type": "code",
        "colab": {
          "base_uri": "https://localhost:8080/",
          "height": 255
        },
        "outputId": "431f0346-f6fd-4eac-9d79-b31c14966b1b"
      },
      "source": [
        "norm1 = tf.keras.layers.LayerNormalization(epsilon=config.layernorm_epsilon)\n",
        "dropout = tf.keras.layers.Dropout(config.dropout)\n",
        "norm1_val = norm1(enc_embed + dropout(self_attn_val))\n",
        "norm1_val"
      ],
      "execution_count": null,
      "outputs": [
        {
          "output_type": "execute_result",
          "data": {
            "text/plain": [
              "<tf.Tensor: shape=(1, 6, 8), dtype=float32, numpy=\n",
              "array([[[ 0.02531017,  0.30015305, -1.5637901 ,  0.70375645,\n",
              "          0.18520942, -1.6287705 ,  1.385141  ,  0.5929906 ],\n",
              "        [-1.4009078 ,  0.7217705 , -0.44686687,  1.8488269 ,\n",
              "          0.41227555, -1.0396918 ,  0.5174224 , -0.6128289 ],\n",
              "        [-0.21061765, -0.51271814,  0.7763646 ,  1.7211549 ,\n",
              "         -0.5807024 , -1.1809181 ,  1.085251  , -1.0978138 ],\n",
              "        [-0.2611259 , -0.7401553 , -0.58662164,  1.3345213 ,\n",
              "         -0.21753764, -0.98059905, -0.5361492 ,  1.9876677 ],\n",
              "        [-1.2649252 ,  1.3534415 ,  0.37631235,  1.1946149 ,\n",
              "         -0.7102922 ,  0.435601  ,  0.12633477, -1.511087  ],\n",
              "        [ 0.607661  ,  0.46958882, -0.31778044,  0.8259334 ,\n",
              "         -1.283578  , -1.6480019 ,  1.4924726 , -0.14629555]]],\n",
              "      dtype=float32)>"
            ]
          },
          "metadata": {
            "tags": []
          },
          "execution_count": 103
        }
      ]
    },
    {
      "cell_type": "code",
      "metadata": {
        "id": "eFpRZ-R3PV2C",
        "colab_type": "code",
        "colab": {
          "base_uri": "https://localhost:8080/",
          "height": 255
        },
        "outputId": "d13b266a-2434-4adc-aff8-fc732e49a92c"
      },
      "source": [
        "ffn = PositionWiseFeedForward(config)\n",
        "ffn_val = ffn(norm1_val)\n",
        "ffn_val"
      ],
      "execution_count": null,
      "outputs": [
        {
          "output_type": "execute_result",
          "data": {
            "text/plain": [
              "<tf.Tensor: shape=(1, 6, 8), dtype=float32, numpy=\n",
              "array([[[-0.26896694, -0.7181292 ,  0.6974588 ,  0.31820333,\n",
              "         -1.6293627 , -0.31819996,  0.02898375, -0.01586635],\n",
              "        [-0.59096044, -1.1964146 ,  0.14714147,  0.6380529 ,\n",
              "         -0.5982909 , -0.10860506, -0.38027802, -0.17615272],\n",
              "        [-0.41650933, -0.39285636,  0.37983048,  0.20555988,\n",
              "         -1.2485267 , -0.44448367, -0.85015166, -0.06771487],\n",
              "        [-0.51412666, -1.3935592 ,  0.19010346,  0.9709984 ,\n",
              "         -0.875399  ,  0.70244914, -0.11855213, -0.33280888],\n",
              "        [-0.33296663, -0.5400775 ,  0.3709908 ,  0.55486256,\n",
              "          0.01996236,  0.03720354, -0.7127844 ,  0.835152  ],\n",
              "        [-0.515898  , -0.12598306,  0.69284236, -0.05956013,\n",
              "         -0.95901334, -0.08588893, -0.02670364, -0.23212397]]],\n",
              "      dtype=float32)>"
            ]
          },
          "metadata": {
            "tags": []
          },
          "execution_count": 104
        }
      ]
    },
    {
      "cell_type": "code",
      "metadata": {
        "id": "M-nhPgYpPft4",
        "colab_type": "code",
        "colab": {
          "base_uri": "https://localhost:8080/",
          "height": 255
        },
        "outputId": "344ac330-555c-45ae-b109-87fcc519fe45"
      },
      "source": [
        "norm2 = tf.keras.layers.LayerNormalization(epsilon=config.layernorm_epsilon)\n",
        "enc_out = norm2(norm1_val + dropout(ffn_val))\n",
        "enc_out"
      ],
      "execution_count": null,
      "outputs": [
        {
          "output_type": "execute_result",
          "data": {
            "text/plain": [
              "<tf.Tensor: shape=(1, 6, 8), dtype=float32, numpy=\n",
              "array([[[-0.0049007 , -0.16246356, -0.5677203 ,  1.1390579 ,\n",
              "         -1.089999  , -1.5444826 ,  1.4935257 ,  0.73698235],\n",
              "        [-1.4052292 , -0.15745437, -0.01360015,  2.278122  ,\n",
              "          0.07991572, -0.7114707 ,  0.34568435, -0.41596758],\n",
              "        [-0.21676835, -0.43804818,  1.2004223 ,  1.8127476 ,\n",
              "         -1.1720685 , -1.0100887 ,  0.4684354 , -0.64463156],\n",
              "        [-0.44341215, -1.4408748 , -0.16532305,  1.8186722 ,\n",
              "         -0.6766745 , -0.0784101 , -0.35489634,  1.3409188 ],\n",
              "        [-1.5937978 ,  0.7683463 ,  0.703631  ,  1.6853932 ,\n",
              "         -0.7047208 ,  0.4347233 , -0.60295635, -0.69061905],\n",
              "        [ 0.21840392,  0.43342564,  0.4602827 ,  0.79438186,\n",
              "         -1.774653  , -1.3403277 ,  1.3915215 , -0.18303494]]],\n",
              "      dtype=float32)>"
            ]
          },
          "metadata": {
            "tags": []
          },
          "execution_count": 105
        }
      ]
    },
    {
      "cell_type": "markdown",
      "metadata": {
        "id": "F8_N3eEDOA2z",
        "colab_type": "text"
      },
      "source": [
        "### Class"
      ]
    },
    {
      "cell_type": "code",
      "metadata": {
        "id": "Z3PGFf56lnVa",
        "colab_type": "code",
        "colab": {}
      },
      "source": [
        "class EncoderLayer(tf.keras.layers.Layer):\n",
        "    \"\"\"\n",
        "    Encoder Layer Class\n",
        "    \"\"\"\n",
        "    def __init__(self, config, name=\"encoder_layer\"):\n",
        "        \"\"\"\n",
        "        생성자\n",
        "        :param config: Config 객체\n",
        "        :param name: layer name\n",
        "        \"\"\"\n",
        "        super().__init__(name=name)\n",
        "\n",
        "        self.self_attention = MultiHeadAttention(config)\n",
        "        self.norm1 = tf.keras.layers.LayerNormalization(epsilon=config.layernorm_epsilon)\n",
        "\n",
        "        self.ffn = PositionWiseFeedForward(config)\n",
        "        self.norm2 = tf.keras.layers.LayerNormalization(epsilon=config.layernorm_epsilon)\n",
        "\n",
        "        self.dropout = tf.keras.layers.Dropout(config.dropout)\n",
        " \n",
        "    def call(self, enc_embed, self_mask):\n",
        "        \"\"\"\n",
        "        layer 실행\n",
        "        :param enc_embed: enc_embed 또는 이전 EncoderLayer의 출력\n",
        "        :param self_mask: enc_tokens의 pad mask\n",
        "        :return enc_out: EncoderLayer 실행 결과\n",
        "        \"\"\"\n",
        "        self_attn_val = self.self_attention(enc_embed, enc_embed, enc_embed, self_mask)\n",
        "        norm1_val = self.norm1(enc_embed + self.dropout(self_attn_val))\n",
        "\n",
        "        ffn_val = self.ffn(norm1_val)\n",
        "        enc_out = self.norm2(norm1_val + self.dropout(ffn_val))\n",
        "\n",
        "        return enc_out"
      ],
      "execution_count": null,
      "outputs": []
    },
    {
      "cell_type": "markdown",
      "metadata": {
        "id": "I9zNYIgzPwW3",
        "colab_type": "text"
      },
      "source": [
        "### Test"
      ]
    },
    {
      "cell_type": "code",
      "metadata": {
        "id": "K3rfiHQ6nJt6",
        "colab_type": "code",
        "colab": {
          "base_uri": "https://localhost:8080/",
          "height": 255
        },
        "outputId": "76d12ef3-6992-4bc0-9b7f-1da3cb905ce5"
      },
      "source": [
        "# EncoderLayer 기능 확인: 결과의 shape이 enc_embed과 같으면 성공\n",
        "encoder_layer = EncoderLayer(config)\n",
        "enc_out = encoder_layer(enc_embed, self_mask)\n",
        "assert enc_embed.shape == enc_out.shape\n",
        "enc_out"
      ],
      "execution_count": null,
      "outputs": [
        {
          "output_type": "execute_result",
          "data": {
            "text/plain": [
              "<tf.Tensor: shape=(1, 6, 8), dtype=float32, numpy=\n",
              "array([[[-0.05356155, -1.5728056 , -0.6399725 ,  0.60214746,\n",
              "          1.4982033 , -0.67497075,  1.3376582 , -0.49669835],\n",
              "        [-0.71956336, -0.82418734,  0.18617234,  1.2809728 ,\n",
              "          1.5643972 , -1.317924  ,  0.5939563 , -0.76382405],\n",
              "        [ 0.90226585, -1.6173068 ,  0.5519612 ,  0.39309928,\n",
              "          1.1586385 , -0.06683303,  0.30959925, -1.6314241 ],\n",
              "        [ 0.1403603 , -2.163073  ,  0.45653695,  0.19368769,\n",
              "          1.2360181 ,  0.29075807, -0.92113286,  0.7668449 ],\n",
              "        [ 0.02544815,  0.65531206,  0.52472293, -0.00429042,\n",
              "          1.1989044 ,  0.14491569, -0.1343328 , -2.41068   ],\n",
              "        [ 1.4557981 , -1.3604012 ,  0.1848533 ,  0.12028178,\n",
              "          0.9369814 , -0.87645847,  0.82152015, -1.2825751 ]]],\n",
              "      dtype=float32)>"
            ]
          },
          "metadata": {
            "tags": []
          },
          "execution_count": 107
        }
      ]
    },
    {
      "cell_type": "markdown",
      "metadata": {
        "id": "teJEuUHAlI5f",
        "colab_type": "text"
      },
      "source": [
        "## Decoder Layer\n",
        "\n",
        "![](https://paul-hyun.github.io/assets/transformer/decoder_layer.png)"
      ]
    },
    {
      "cell_type": "markdown",
      "metadata": {
        "id": "L9be5hBhR0k9",
        "colab_type": "text"
      },
      "source": [
        "### Tutorial"
      ]
    },
    {
      "cell_type": "code",
      "metadata": {
        "id": "MUVYeyNwQuTV",
        "colab_type": "code",
        "colab": {
          "base_uri": "https://localhost:8080/",
          "height": 119
        },
        "outputId": "d0da8bcb-8c84-4906-c714-2cc3f3ca1281"
      },
      "source": [
        "# decoder self attention ahead mask\n",
        "self_mask = get_ahead_mask(dec_tokens)\n",
        "self_mask"
      ],
      "execution_count": null,
      "outputs": [
        {
          "output_type": "execute_result",
          "data": {
            "text/plain": [
              "<tf.Tensor: shape=(1, 5, 5), dtype=float32, numpy=\n",
              "array([[[0., 1., 1., 1., 1.],\n",
              "        [0., 0., 1., 1., 1.],\n",
              "        [0., 0., 0., 1., 1.],\n",
              "        [0., 0., 0., 0., 1.],\n",
              "        [0., 0., 0., 0., 1.]]], dtype=float32)>"
            ]
          },
          "metadata": {
            "tags": []
          },
          "execution_count": 108
        }
      ]
    },
    {
      "cell_type": "code",
      "metadata": {
        "id": "5qjjwRI2Q3j-",
        "colab_type": "code",
        "colab": {
          "base_uri": "https://localhost:8080/",
          "height": 34
        },
        "outputId": "7a1b0026-6c7c-4e01-8075-ac8c877b5c58"
      },
      "source": [
        "# encoder & decoder attention mask\n",
        "ende_mask = get_pad_mask(enc_tokens)\n",
        "ende_mask"
      ],
      "execution_count": null,
      "outputs": [
        {
          "output_type": "execute_result",
          "data": {
            "text/plain": [
              "<tf.Tensor: shape=(1, 1, 6), dtype=float32, numpy=array([[[0., 0., 0., 0., 0., 1.]]], dtype=float32)>"
            ]
          },
          "metadata": {
            "tags": []
          },
          "execution_count": 109
        }
      ]
    },
    {
      "cell_type": "code",
      "metadata": {
        "id": "M3XHbm2lQWFc",
        "colab_type": "code",
        "colab": {
          "base_uri": "https://localhost:8080/",
          "height": 255
        },
        "outputId": "d001f80e-8f75-4445-a296-088b52e6d7a8"
      },
      "source": [
        "enc_out = embedding(enc_tokens)\n",
        "enc_out"
      ],
      "execution_count": null,
      "outputs": [
        {
          "output_type": "execute_result",
          "data": {
            "text/plain": [
              "<tf.Tensor: shape=(1, 6, 8), dtype=float32, numpy=\n",
              "array([[[ 7.7375400e-01, -2.0097934e-01, -1.6235918e+00,  5.0823212e-01,\n",
              "          3.8227955e-01, -5.8444905e-01,  1.3429333e+00,  8.8669658e-02],\n",
              "        [-1.3575766e+00,  5.1265877e-01, -1.0103453e+00,  1.2342075e+00,\n",
              "          8.6643136e-01, -1.3218085e+00,  5.5454183e-01, -8.3345425e-01],\n",
              "        [ 1.9207126e-01, -9.9038106e-01,  1.4633861e-03,  2.6767093e-01,\n",
              "         -4.8722029e-01, -7.3045623e-01,  5.5754453e-01, -1.2049774e+00],\n",
              "        [ 2.1921408e-01, -1.1216551e+00, -9.5455211e-01,  4.8161629e-01,\n",
              "         -3.5596541e-01, -1.1122342e-01, -9.0986514e-01,  1.1487821e+00],\n",
              "        [-4.3682763e-01,  1.5757172e+00,  2.1730809e-01,  6.4371949e-01,\n",
              "          7.5229513e-04,  5.7789415e-01,  8.2634795e-01, -1.3206406e+00],\n",
              "        [ 8.0348301e-01, -3.6864722e-01, -7.6201981e-01, -3.4643289e-01,\n",
              "         -8.3774120e-01, -1.0935953e+00,  1.0395516e+00, -5.2333754e-01]]],\n",
              "      dtype=float32)>"
            ]
          },
          "metadata": {
            "tags": []
          },
          "execution_count": 110
        }
      ]
    },
    {
      "cell_type": "code",
      "metadata": {
        "id": "uYHuqpojQckk",
        "colab_type": "code",
        "colab": {
          "base_uri": "https://localhost:8080/",
          "height": 221
        },
        "outputId": "5c68e298-1df9-44e1-ee4e-24d2edec2ce4"
      },
      "source": [
        "dec_embed = embedding(dec_tokens)\n",
        "dec_embed"
      ],
      "execution_count": null,
      "outputs": [
        {
          "output_type": "execute_result",
          "data": {
            "text/plain": [
              "<tf.Tensor: shape=(1, 5, 8), dtype=float32, numpy=\n",
              "array([[[ 1.5068310e+00, -7.0649493e-01,  7.9606831e-01, -1.3852971e+00,\n",
              "          1.8133995e-01,  1.1412517e+00,  1.9918360e-01,  3.6027145e-02],\n",
              "        [-1.3575766e+00,  5.1265877e-01, -1.0103453e+00,  1.2342075e+00,\n",
              "          8.6643136e-01, -1.3218085e+00,  5.5454183e-01, -8.3345425e-01],\n",
              "        [-4.3682763e-01,  1.5757172e+00,  2.1730809e-01,  6.4371949e-01,\n",
              "          7.5229513e-04,  5.7789415e-01,  8.2634795e-01, -1.3206406e+00],\n",
              "        [ 7.7397418e-01,  1.0500317e-01,  7.7262825e-01, -9.0774161e-01,\n",
              "          1.8581040e-02, -3.3729723e-01,  5.6032521e-01,  1.3802093e+00],\n",
              "        [ 8.0348301e-01, -3.6864722e-01, -7.6201981e-01, -3.4643289e-01,\n",
              "         -8.3774120e-01, -1.0935953e+00,  1.0395516e+00, -5.2333754e-01]]],\n",
              "      dtype=float32)>"
            ]
          },
          "metadata": {
            "tags": []
          },
          "execution_count": 111
        }
      ]
    },
    {
      "cell_type": "code",
      "metadata": {
        "id": "R6YNM4zPQpn9",
        "colab_type": "code",
        "colab": {
          "base_uri": "https://localhost:8080/",
          "height": 221
        },
        "outputId": "c1b12e0e-8db8-486a-be70-245c5bf4d5e9"
      },
      "source": [
        "# MultiHeadAttention\n",
        "self_attention = MultiHeadAttention(config)\n",
        "self_attn_val = self_attention(dec_embed, dec_embed, dec_embed, self_mask)\n",
        "self_attn_val"
      ],
      "execution_count": null,
      "outputs": [
        {
          "output_type": "execute_result",
          "data": {
            "text/plain": [
              "<tf.Tensor: shape=(1, 5, 8), dtype=float32, numpy=\n",
              "array([[[-0.1315929 , -1.1038241 ,  0.7481401 , -1.6163342 ,\n",
              "          0.85552216,  0.94934857, -0.24945785, -1.0557338 ],\n",
              "        [ 0.42991194, -0.40309104,  0.28637466, -0.10885059,\n",
              "          0.09267041,  0.0691165 , -0.16000468, -0.15759294],\n",
              "        [ 0.25818753, -0.0853041 ,  0.53118795, -0.02553088,\n",
              "          0.35578042,  0.4556824 , -0.28396064,  0.26394877],\n",
              "        [-0.02551348,  0.2392073 ,  0.0306098 ,  0.4598805 ,\n",
              "          0.38381955,  0.11520515, -0.01462118,  0.27291098],\n",
              "        [-0.36797044,  0.31945282,  0.5004336 , -0.16788606,\n",
              "          0.67983013,  0.75169945,  0.15720935, -0.05539102]]],\n",
              "      dtype=float32)>"
            ]
          },
          "metadata": {
            "tags": []
          },
          "execution_count": 112
        }
      ]
    },
    {
      "cell_type": "code",
      "metadata": {
        "id": "b9mNNIyURIVz",
        "colab_type": "code",
        "colab": {
          "base_uri": "https://localhost:8080/",
          "height": 221
        },
        "outputId": "dd3a582f-169a-4db1-9a8a-247cf6a61005"
      },
      "source": [
        "norm1 = tf.keras.layers.LayerNormalization(epsilon=config.layernorm_epsilon)\n",
        "dropout = tf.keras.layers.Dropout(config.dropout)\n",
        "norm1_val = norm1(dec_embed + dropout(self_attn_val))\n",
        "norm1_val"
      ],
      "execution_count": null,
      "outputs": [
        {
          "output_type": "execute_result",
          "data": {
            "text/plain": [
              "<tf.Tensor: shape=(1, 5, 8), dtype=float32, numpy=\n",
              "array([[[ 0.79794633, -1.0785291 ,  0.8974794 , -1.7802802 ,\n",
              "          0.59862345,  1.2193354 , -0.04176206, -0.6128132 ],\n",
              "        [-0.8763955 ,  0.31294113, -0.64283097,  1.4776901 ,\n",
              "          1.2870545 , -1.2490863 ,  0.6396997 , -0.9490728 ],\n",
              "        [-0.85658765,  1.4385445 ,  0.41832677,  0.23913969,\n",
              "         -0.12066603,  0.8103438 ,  0.13490452, -2.0640056 ],\n",
              "        [ 0.44523263, -0.22122414,  0.53553987, -1.5270526 ,\n",
              "         -0.12529051, -1.1548443 ,  0.11096299,  1.9366764 ],\n",
              "        [ 0.8512605 , -0.02769797, -0.41284522, -0.871146  ,\n",
              "         -0.22484271, -0.55847716,  2.231694  , -0.9879452 ]]],\n",
              "      dtype=float32)>"
            ]
          },
          "metadata": {
            "tags": []
          },
          "execution_count": 113
        }
      ]
    },
    {
      "cell_type": "code",
      "metadata": {
        "id": "cRZ-kXIeREfI",
        "colab_type": "code",
        "colab": {
          "base_uri": "https://localhost:8080/",
          "height": 221
        },
        "outputId": "e7c4be4b-a0db-48f8-c1e1-870d1157b607"
      },
      "source": [
        "# MultiHeadAttention\n",
        "ende_attn = MultiHeadAttention(config)\n",
        "ende_attn_val = ende_attn(norm1_val, enc_out, enc_out, ende_mask)\n",
        "ende_attn_val"
      ],
      "execution_count": null,
      "outputs": [
        {
          "output_type": "execute_result",
          "data": {
            "text/plain": [
              "<tf.Tensor: shape=(1, 5, 8), dtype=float32, numpy=\n",
              "array([[[-1.1084349 , -0.74067736,  0.75783557, -0.58986133,\n",
              "         -0.36003038,  0.7537854 ,  0.5263864 , -0.8728204 ],\n",
              "        [-0.89952445, -0.6569583 ,  0.6711732 , -0.5038778 ,\n",
              "          0.10181128,  0.78698915, -0.27610365,  0.11432674],\n",
              "        [-0.99921376, -1.0573202 ,  0.8072745 , -0.5696711 ,\n",
              "         -0.13623376,  0.88872   , -0.0282915 ,  0.08982445],\n",
              "        [-0.93114007, -0.7922647 ,  0.6809796 , -0.5629371 ,\n",
              "         -0.23183541,  0.64852834,  0.23477949, -0.63448   ],\n",
              "        [-1.0049897 , -0.9078175 ,  0.783432  , -0.5999736 ,\n",
              "         -0.27321753,  0.78522664,  0.30878836, -0.5766801 ]]],\n",
              "      dtype=float32)>"
            ]
          },
          "metadata": {
            "tags": []
          },
          "execution_count": 114
        }
      ]
    },
    {
      "cell_type": "code",
      "metadata": {
        "id": "eSXb8l89Ratj",
        "colab_type": "code",
        "colab": {
          "base_uri": "https://localhost:8080/",
          "height": 221
        },
        "outputId": "a99304d5-1786-4542-b1e5-68f3d65a52f2"
      },
      "source": [
        "norm2 = tf.keras.layers.LayerNormalization(epsilon=config.layernorm_epsilon)\n",
        "norm2_val = norm2(norm1_val + dropout(ende_attn_val))\n",
        "norm2_val"
      ],
      "execution_count": null,
      "outputs": [
        {
          "output_type": "execute_result",
          "data": {
            "text/plain": [
              "<tf.Tensor: shape=(1, 5, 8), dtype=float32, numpy=\n",
              "array([[[-0.0711779 , -1.0817739 ,  1.2455912 , -1.4508109 ,\n",
              "          0.29661763,  1.4584695 ,  0.46141863, -0.85833424],\n",
              "        [-1.791463  , -0.2764161 ,  0.11756454,  1.1179338 ,\n",
              "          1.5570877 , -0.40135244,  0.47228503, -0.79563946],\n",
              "        [-1.4159986 ,  0.41480026,  1.1058449 , -0.16770604,\n",
              "         -0.10744534,  1.4933302 ,  0.19005631, -1.5128816 ],\n",
              "        [-0.27088124, -0.7682062 ,  1.3339125 , -1.7829702 ,\n",
              "         -0.14948528, -0.29011932,  0.51307404,  1.4146758 ],\n",
              "        [ 0.02592182, -0.60886455,  0.4516503 , -1.0437586 ,\n",
              "         -0.25366434,  0.33485883,  2.2135386 , -1.1196823 ]]],\n",
              "      dtype=float32)>"
            ]
          },
          "metadata": {
            "tags": []
          },
          "execution_count": 115
        }
      ]
    },
    {
      "cell_type": "code",
      "metadata": {
        "id": "8oG4_TLaRnbh",
        "colab_type": "code",
        "colab": {
          "base_uri": "https://localhost:8080/",
          "height": 221
        },
        "outputId": "d81ebc03-9669-4419-cde4-1252655b2423"
      },
      "source": [
        "ffn = PositionWiseFeedForward(config)\n",
        "ffn_val = ffn(norm2_val)\n",
        "ffn_val"
      ],
      "execution_count": null,
      "outputs": [
        {
          "output_type": "execute_result",
          "data": {
            "text/plain": [
              "<tf.Tensor: shape=(1, 5, 8), dtype=float32, numpy=\n",
              "array([[[ 1.2152297 ,  0.7849836 ,  1.0412881 , -0.8165942 ,\n",
              "          0.22790387,  0.8725392 , -0.26546368,  0.09143765],\n",
              "        [-0.19204478,  0.76458037, -0.31869423, -1.4096128 ,\n",
              "          0.12582791,  0.77615386,  0.43458822,  0.8167867 ],\n",
              "        [ 0.8704433 ,  1.1927605 ,  0.62441856, -0.80210024,\n",
              "          0.02775013,  0.7089468 ,  0.01354874, -0.47358745],\n",
              "        [ 1.175616  ,  0.12325912,  1.4093059 , -0.38959235,\n",
              "          0.14582855,  0.5153909 ,  0.05849784,  1.1414691 ],\n",
              "        [ 1.6084647 ,  0.652768  ,  0.39162758, -0.08784307,\n",
              "         -0.18373425,  1.0492609 , -0.09248763,  0.47338387]]],\n",
              "      dtype=float32)>"
            ]
          },
          "metadata": {
            "tags": []
          },
          "execution_count": 116
        }
      ]
    },
    {
      "cell_type": "code",
      "metadata": {
        "id": "7ixzZBNURq_1",
        "colab_type": "code",
        "colab": {
          "base_uri": "https://localhost:8080/",
          "height": 221
        },
        "outputId": "4e6f4b8a-b61e-4cf0-dc35-3d317cda1648"
      },
      "source": [
        "norm3 = tf.keras.layers.LayerNormalization(epsilon=config.layernorm_epsilon)\n",
        "dec_out = norm2(norm2_val + dropout(ffn_val))\n",
        "dec_out"
      ],
      "execution_count": null,
      "outputs": [
        {
          "output_type": "execute_result",
          "data": {
            "text/plain": [
              "<tf.Tensor: shape=(1, 5, 8), dtype=float32, numpy=\n",
              "array([[[ 0.5165715 , -0.4756455 ,  1.3035647 , -1.8326836 ,\n",
              "          0.08994008,  1.3339539 , -0.13632296, -0.79937804],\n",
              "        [-2.111205  ,  0.3639832 , -0.32629138, -0.41696954,\n",
              "          1.5604342 ,  0.25045907,  0.7832878 , -0.10369822],\n",
              "        [-0.59414047,  0.9739028 ,  1.0632632 , -0.9031085 ,\n",
              "         -0.25486997,  1.4070151 , -0.04855174, -1.6435103 ],\n",
              "        [ 0.25333142, -0.7736662 ,  1.4717224 , -1.7860402 ,\n",
              "         -0.3486734 , -0.19695915,  0.03253932,  1.3477459 ],\n",
              "        [ 1.0419487 , -0.38919464,  0.33009586, -1.4469339 ,\n",
              "         -0.8222783 ,  0.81675446,  1.4798576 , -1.0102499 ]]],\n",
              "      dtype=float32)>"
            ]
          },
          "metadata": {
            "tags": []
          },
          "execution_count": 117
        }
      ]
    },
    {
      "cell_type": "markdown",
      "metadata": {
        "id": "XpS8LxinR4HZ",
        "colab_type": "text"
      },
      "source": [
        "### Class"
      ]
    },
    {
      "cell_type": "code",
      "metadata": {
        "id": "iuaIfX6wolCJ",
        "colab_type": "code",
        "colab": {}
      },
      "source": [
        "class DecoderLayer(tf.keras.layers.Layer):\n",
        "    \"\"\"\n",
        "    Decoder Layer Class\n",
        "    \"\"\"\n",
        "    def __init__(self, config, name=\"decoder_layer\"):\n",
        "        \"\"\"\n",
        "        생성자\n",
        "        :param config: Config 객체\n",
        "        :param name: layer name\n",
        "        \"\"\"\n",
        "        super().__init__(name=name)\n",
        "\n",
        "        self.self_attention = MultiHeadAttention(config)\n",
        "        self.norm1 = tf.keras.layers.LayerNormalization(epsilon=config.layernorm_epsilon)\n",
        "\n",
        "        self.ende_attn = MultiHeadAttention(config)\n",
        "        self.norm2 = tf.keras.layers.LayerNormalization(epsilon=config.layernorm_epsilon)\n",
        "\n",
        "        self.ffn = PositionWiseFeedForward(config)\n",
        "        self.norm3 = tf.keras.layers.LayerNormalization(epsilon=config.layernorm_epsilon)\n",
        "\n",
        "        self.dropout = tf.keras.layers.Dropout(config.dropout)\n",
        "\n",
        "    def call(self, dec_embed, enc_out, self_mask, ende_mask):\n",
        "        \"\"\"\n",
        "        layer 실행\n",
        "        :param dec_embed: dec_embed 또는 이전 DecoderLayer의 출력\n",
        "        :param enc_out: 마지막 EncoderLayer의 출력\n",
        "        :param self_mask: dec_tokens의 ahead mask\n",
        "        :param ende_mask: enc_tokens의 pad mask\n",
        "        :return dec_out: DecoderLayer 실행 결과\n",
        "        \"\"\"\n",
        "        self_attn_val = self.self_attention(dec_embed, dec_embed, dec_embed, self_mask)\n",
        "        norm1_val = self.norm1(dec_embed + self.dropout(self_attn_val))\n",
        "\n",
        "        ende_attn_val = self.ende_attn(norm1_val, enc_out, enc_out, ende_mask)\n",
        "        norm2_val = self.norm2(norm1_val + self.dropout(ende_attn_val))\n",
        "\n",
        "        ffn_val = self.ffn(norm2_val)\n",
        "        dec_out = self.norm3(norm2_val + self.dropout(ffn_val))\n",
        "\n",
        "        return dec_out"
      ],
      "execution_count": null,
      "outputs": []
    },
    {
      "cell_type": "markdown",
      "metadata": {
        "id": "hsohSU2sR7QF",
        "colab_type": "text"
      },
      "source": [
        "### Test"
      ]
    },
    {
      "cell_type": "code",
      "metadata": {
        "colab_type": "code",
        "id": "rXgIQENZp1Je",
        "colab": {
          "base_uri": "https://localhost:8080/",
          "height": 221
        },
        "outputId": "27b08147-3e79-4961-b2e5-5104fc259c50"
      },
      "source": [
        "# Decoder 실행: 결과의 shape이 dec_embed 같으면 성공(?)\n",
        "decoder_layer = DecoderLayer(config)\n",
        "dec_out = decoder_layer(dec_embed, enc_out, self_mask, ende_mask)\n",
        "assert dec_embed.shape == dec_out.shape\n",
        "dec_out"
      ],
      "execution_count": null,
      "outputs": [
        {
          "output_type": "execute_result",
          "data": {
            "text/plain": [
              "<tf.Tensor: shape=(1, 5, 8), dtype=float32, numpy=\n",
              "array([[[-0.51018643, -1.2877314 , -1.6237525 , -0.19629204,\n",
              "          0.71179813,  0.75207067,  1.0115062 ,  1.1425873 ],\n",
              "        [-0.23368782, -1.4080721 , -0.4293032 ,  2.0042918 ,\n",
              "         -0.27351463, -0.9190466 ,  0.48494565,  0.7743868 ],\n",
              "        [-0.18245743, -1.31448   ,  0.07265101,  1.7779645 ,\n",
              "         -0.83141   , -0.37623304,  1.3929725 , -0.5390075 ],\n",
              "        [-0.87014925,  0.3152617 , -0.17173733, -2.037522  ,\n",
              "          0.39968058,  0.23109156,  0.58558315,  1.5477916 ],\n",
              "        [ 1.9927052 , -1.0986445 ,  0.18797581, -1.0511483 ,\n",
              "         -0.5753015 , -0.31532735,  1.0919209 , -0.23218028]]],\n",
              "      dtype=float32)>"
            ]
          },
          "metadata": {
            "tags": []
          },
          "execution_count": 120
        }
      ]
    },
    {
      "cell_type": "markdown",
      "metadata": {
        "id": "fC79J4CYuWF7",
        "colab_type": "text"
      },
      "source": [
        "## Transformer\n",
        "\n",
        "![](https://paul-hyun.github.io/assets/transformer/transformer.png)"
      ]
    },
    {
      "cell_type": "markdown",
      "metadata": {
        "id": "MRwW6_IRTtWv",
        "colab_type": "text"
      },
      "source": [
        "### Tutorial"
      ]
    },
    {
      "cell_type": "code",
      "metadata": {
        "id": "E5-0K2HaT4S8",
        "colab_type": "code",
        "colab": {
          "base_uri": "https://localhost:8080/",
          "height": 34
        },
        "outputId": "29b78095-b90c-4ef4-b1ef-bfc3fcc8bfa5"
      },
      "source": [
        "# encoder self attention mask\n",
        "enc_self_mask = get_pad_mask(enc_tokens)\n",
        "enc_self_mask"
      ],
      "execution_count": null,
      "outputs": [
        {
          "output_type": "execute_result",
          "data": {
            "text/plain": [
              "<tf.Tensor: shape=(1, 1, 6), dtype=float32, numpy=array([[[0., 0., 0., 0., 0., 1.]]], dtype=float32)>"
            ]
          },
          "metadata": {
            "tags": []
          },
          "execution_count": 121
        }
      ]
    },
    {
      "cell_type": "code",
      "metadata": {
        "id": "sYbavBWVULDW",
        "colab_type": "code",
        "colab": {
          "base_uri": "https://localhost:8080/",
          "height": 119
        },
        "outputId": "76656ed0-4d56-4938-efd3-4f2a75e0d7a5"
      },
      "source": [
        "# decoder self attention mask\n",
        "dec_self_mask = get_ahead_mask(dec_tokens)\n",
        "dec_self_mask"
      ],
      "execution_count": null,
      "outputs": [
        {
          "output_type": "execute_result",
          "data": {
            "text/plain": [
              "<tf.Tensor: shape=(1, 5, 5), dtype=float32, numpy=\n",
              "array([[[0., 1., 1., 1., 1.],\n",
              "        [0., 0., 1., 1., 1.],\n",
              "        [0., 0., 0., 1., 1.],\n",
              "        [0., 0., 0., 0., 1.],\n",
              "        [0., 0., 0., 0., 1.]]], dtype=float32)>"
            ]
          },
          "metadata": {
            "tags": []
          },
          "execution_count": 122
        }
      ]
    },
    {
      "cell_type": "code",
      "metadata": {
        "id": "jsCPrXSHUXyW",
        "colab_type": "code",
        "colab": {
          "base_uri": "https://localhost:8080/",
          "height": 34
        },
        "outputId": "00c7d412-65a5-4a89-ef1f-89af73248da6"
      },
      "source": [
        "# encoder decoder attention mask\n",
        "ende_attn_mask = get_pad_mask(enc_tokens)\n",
        "ende_attn_mask"
      ],
      "execution_count": null,
      "outputs": [
        {
          "output_type": "execute_result",
          "data": {
            "text/plain": [
              "<tf.Tensor: shape=(1, 1, 6), dtype=float32, numpy=array([[[0., 0., 0., 0., 0., 1.]]], dtype=float32)>"
            ]
          },
          "metadata": {
            "tags": []
          },
          "execution_count": 123
        }
      ]
    },
    {
      "cell_type": "code",
      "metadata": {
        "id": "o4TFj2QvTv9x",
        "colab_type": "code",
        "colab": {}
      },
      "source": [
        "# embedding 선언\n",
        "embedding = SharedEmbedding(config)\n",
        "position = PositionalEmbedding(config)"
      ],
      "execution_count": null,
      "outputs": []
    },
    {
      "cell_type": "code",
      "metadata": {
        "id": "CDejHFtYUgJS",
        "colab_type": "code",
        "colab": {
          "base_uri": "https://localhost:8080/",
          "height": 255
        },
        "outputId": "c78a85f8-e256-4fc4-cebe-67595e6f427b"
      },
      "source": [
        "# encoder embedding\n",
        "enc_embed = embedding(enc_tokens) + position(enc_tokens)\n",
        "enc_embed"
      ],
      "execution_count": null,
      "outputs": [
        {
          "output_type": "execute_result",
          "data": {
            "text/plain": [
              "<tf.Tensor: shape=(1, 6, 8), dtype=float32, numpy=\n",
              "array([[[ 0.8400176 ,  1.1049742 ,  0.36986157,  0.07377011,\n",
              "          0.06034097,  1.6389236 ,  0.6423205 ,  0.8946637 ],\n",
              "        [-0.10439789,  1.4162321 , -0.97700316, -0.44942105,\n",
              "         -0.48790267,  1.1366843 , -0.00356547, -0.07612038],\n",
              "        [ 1.9764237 , -1.0048583 ,  0.53617704,  1.5710174 ,\n",
              "         -0.46799317, -0.36948544,  0.6823119 ,  0.7652792 ],\n",
              "        [-1.2615168 , -0.27817   , -0.08547699,  1.5826612 ,\n",
              "          1.0269434 ,  2.8091614 ,  0.11546519,  1.2256863 ],\n",
              "        [-0.5745424 , -0.06242895,  0.4044538 ,  2.3122113 ,\n",
              "          0.94749445, -0.3253796 ,  1.6524385 ,  1.4809203 ],\n",
              "        [-2.4316084 , -0.9214393 , -0.17292267,  0.1026423 ,\n",
              "         -0.5049231 ,  0.34636295,  0.61975527,  0.44866157]]],\n",
              "      dtype=float32)>"
            ]
          },
          "metadata": {
            "tags": []
          },
          "execution_count": 127
        }
      ]
    },
    {
      "cell_type": "code",
      "metadata": {
        "id": "PU-JPl-lUp0b",
        "colab_type": "code",
        "colab": {
          "base_uri": "https://localhost:8080/",
          "height": 221
        },
        "outputId": "f216dfaa-a570-418f-b7ce-7d7ee8c54f86"
      },
      "source": [
        "# encoder embedding\n",
        "dec_embed = embedding(dec_tokens) + position(dec_tokens)\n",
        "dec_embed"
      ],
      "execution_count": null,
      "outputs": [
        {
          "output_type": "execute_result",
          "data": {
            "text/plain": [
              "<tf.Tensor: shape=(1, 5, 8), dtype=float32, numpy=\n",
              "array([[[ 0.44712225,  2.1945915 ,  1.3373259 ,  0.38125336,\n",
              "         -1.0660703 ,  0.7474582 , -0.3858844 ,  1.6489086 ],\n",
              "        [-0.10439789,  1.4162321 , -0.97700316, -0.44942105,\n",
              "         -0.48790267,  1.1366843 , -0.00356547, -0.07612038],\n",
              "        [ 1.0915575 ,  0.17506781,  0.21370481,  2.3712168 ,\n",
              "          0.92750376, -0.3247797 ,  1.6504385 ,  1.4809263 ],\n",
              "        [ 0.5023302 , -1.466699  , -0.88793206,  2.513634  ,\n",
              "         -0.70363384,  2.636251  , -1.6408774 , -0.32208806],\n",
              "        [-2.2294867 , -1.8587451 , -0.2629299 ,  0.14612073,\n",
              "         -0.5149129 ,  0.34681278,  0.6187553 ,  0.4486661 ]]],\n",
              "      dtype=float32)>"
            ]
          },
          "metadata": {
            "tags": []
          },
          "execution_count": 128
        }
      ]
    },
    {
      "cell_type": "code",
      "metadata": {
        "id": "NDwvDtJeUwnA",
        "colab_type": "code",
        "colab": {}
      },
      "source": [
        "dropout = tf.keras.layers.Dropout(config.dropout)"
      ],
      "execution_count": null,
      "outputs": []
    },
    {
      "cell_type": "code",
      "metadata": {
        "id": "GTSc3HkxUzHl",
        "colab_type": "code",
        "colab": {}
      },
      "source": [
        "enc_out = dropout(enc_embed)"
      ],
      "execution_count": null,
      "outputs": []
    },
    {
      "cell_type": "code",
      "metadata": {
        "id": "07h9QYTRU33t",
        "colab_type": "code",
        "colab": {
          "base_uri": "https://localhost:8080/",
          "height": 68
        },
        "outputId": "e9663540-1e4d-437c-8523-da3f1b073526"
      },
      "source": [
        "# encoder layer 생성 config.n_layer 개수\n",
        "encoder_layers = [EncoderLayer(config, name=f\"encoder_layer_{i}\") for i in range(config.n_layer)]\n",
        "assert len(encoder_layers) == config.n_layer\n",
        "encoder_layers"
      ],
      "execution_count": null,
      "outputs": [
        {
          "output_type": "execute_result",
          "data": {
            "text/plain": [
              "[<__main__.EncoderLayer at 0x7f1b3212c358>,\n",
              " <__main__.EncoderLayer at 0x7f1b2f67c9b0>,\n",
              " <__main__.EncoderLayer at 0x7f1b3210eda0>]"
            ]
          },
          "metadata": {
            "tags": []
          },
          "execution_count": 132
        }
      ]
    },
    {
      "cell_type": "code",
      "metadata": {
        "id": "I9KWtAdeVBcf",
        "colab_type": "code",
        "colab": {
          "base_uri": "https://localhost:8080/",
          "height": 255
        },
        "outputId": "d31e9528-db95-4c9e-ebac-9721b3e9ed96"
      },
      "source": [
        "# layer를 순환하며 실행. 이전 layer 결과가 다음 layer 입력이 됨\n",
        "for encoder_layer in encoder_layers:\n",
        "    enc_out = encoder_layer(enc_out, enc_self_mask)\n",
        "enc_out"
      ],
      "execution_count": null,
      "outputs": [
        {
          "output_type": "execute_result",
          "data": {
            "text/plain": [
              "<tf.Tensor: shape=(1, 6, 8), dtype=float32, numpy=\n",
              "array([[[ 0.5994156 ,  1.0342803 ,  0.03325367, -1.651287  ,\n",
              "         -0.3330749 ,  1.6198381 , -1.0084144 , -0.29401127],\n",
              "        [ 0.43525937,  1.1693256 , -0.22677135, -1.7549851 ,\n",
              "         -0.20216551,  1.6065757 , -0.79456425, -0.2326746 ],\n",
              "        [ 1.9400216 , -0.6276841 , -0.04254436, -1.03481   ,\n",
              "          1.1449506 , -0.23161173, -1.1827968 ,  0.03447466],\n",
              "        [-0.36455306,  0.43604097, -0.24227193, -1.8018761 ,\n",
              "          1.1804831 ,  1.4601457 , -0.88922155,  0.22125289],\n",
              "        [-0.26334292,  0.97287154, -0.10692102, -1.6840748 ,\n",
              "          0.5687322 , -0.5337478 , -0.6962587 ,  1.7427415 ],\n",
              "        [-0.01115964,  1.0608088 ,  0.01811268, -2.0579455 ,\n",
              "         -0.28202578,  0.6297089 , -0.6660404 ,  1.308541  ]]],\n",
              "      dtype=float32)>"
            ]
          },
          "metadata": {
            "tags": []
          },
          "execution_count": 133
        }
      ]
    },
    {
      "cell_type": "code",
      "metadata": {
        "id": "qmgQm2xYVYnu",
        "colab_type": "code",
        "colab": {}
      },
      "source": [
        "dec_out = dropout(dec_embed)"
      ],
      "execution_count": null,
      "outputs": []
    },
    {
      "cell_type": "code",
      "metadata": {
        "id": "KhwNJjYuVbE-",
        "colab_type": "code",
        "colab": {
          "base_uri": "https://localhost:8080/",
          "height": 68
        },
        "outputId": "54d855e5-f532-4a14-ece9-faa6c3699a22"
      },
      "source": [
        "# decoder layer 생성 config.n_layer 개수\n",
        "decoder_layers = [DecoderLayer(config, name=f\"decoder_layer_{i}\") for i in range(config.n_layer)]\n",
        "assert len(decoder_layers) == config.n_layer\n",
        "decoder_layers"
      ],
      "execution_count": null,
      "outputs": [
        {
          "output_type": "execute_result",
          "data": {
            "text/plain": [
              "[<__main__.DecoderLayer at 0x7f1b200ef2e8>,\n",
              " <__main__.DecoderLayer at 0x7f1b2f245be0>,\n",
              " <__main__.DecoderLayer at 0x7f1b20037278>]"
            ]
          },
          "metadata": {
            "tags": []
          },
          "execution_count": 135
        }
      ]
    },
    {
      "cell_type": "code",
      "metadata": {
        "id": "bmQ8m5JMVrjw",
        "colab_type": "code",
        "colab": {
          "base_uri": "https://localhost:8080/",
          "height": 221
        },
        "outputId": "9c89cda8-8f2b-4c40-ca3d-46acaa88d879"
      },
      "source": [
        "for decoder_layer in decoder_layers:\n",
        "    dec_out = decoder_layer(dec_out, enc_out, dec_self_mask, ende_attn_mask)\n",
        "dec_out"
      ],
      "execution_count": null,
      "outputs": [
        {
          "output_type": "execute_result",
          "data": {
            "text/plain": [
              "<tf.Tensor: shape=(1, 5, 8), dtype=float32, numpy=\n",
              "array([[[ 0.33047554,  0.358277  ,  0.31314495, -0.25336066,\n",
              "         -0.22893795,  0.79184294, -2.3955574 ,  1.0841155 ],\n",
              "        [ 0.2838619 ,  0.29093304,  0.446307  , -0.22697236,\n",
              "         -0.35849926,  0.76636606, -2.3530512 ,  1.151055  ],\n",
              "        [ 0.662271  , -0.06985166,  0.39060602,  0.33903202,\n",
              "          1.0909529 ,  0.2016495 , -2.4545991 , -0.16006055],\n",
              "        [-0.07686268,  0.37797058,  0.32080364, -0.14448595,\n",
              "          0.6825263 ,  0.80412096, -2.5115118 ,  0.54743916],\n",
              "        [-0.51602125, -0.08018377,  0.60262513, -0.34879145,\n",
              "          0.5915725 ,  0.92876977, -2.2211576 ,  1.0431863 ]]],\n",
              "      dtype=float32)>"
            ]
          },
          "metadata": {
            "tags": []
          },
          "execution_count": 136
        }
      ]
    },
    {
      "cell_type": "code",
      "metadata": {
        "id": "fin1ZkzlV0f5",
        "colab_type": "code",
        "colab": {
          "base_uri": "https://localhost:8080/",
          "height": 289
        },
        "outputId": "87f0344c-daf8-4fff-89cc-6e221a698670"
      },
      "source": [
        "# 최종 softmax 이전 linear 실행\n",
        "logits = embedding(dec_out, mode=\"linear\")\n",
        "logits"
      ],
      "execution_count": null,
      "outputs": [
        {
          "output_type": "execute_result",
          "data": {
            "text/plain": [
              "<tf.Tensor: shape=(1, 5, 10), dtype=float32, numpy=\n",
              "array([[[-1.1972445 ,  1.114348  ,  0.30569237, -1.1850325 ,\n",
              "         -0.17504212,  0.24508058, -0.9754627 , -0.31941673,\n",
              "          0.99818414, -1.682869  ],\n",
              "        [-1.1547382 ,  1.0414358 ,  0.32817817, -1.2314284 ,\n",
              "         -0.18397287,  0.18422827, -0.91827315, -0.39281848,\n",
              "          1.0802274 , -1.6797463 ],\n",
              "        [-1.2608904 ,  1.4548459 ,  0.29368117, -0.8786381 ,\n",
              "         -0.34848914,  0.0797492 , -0.48110926, -0.6823923 ,\n",
              "          0.05467138, -1.0052809 ],\n",
              "        [-1.1273836 ,  1.2047294 , -0.21857724, -1.1973644 ,\n",
              "         -0.31406614,  0.75684375, -1.2561371 , -0.19109587,\n",
              "          0.46996742, -1.5235485 ],\n",
              "        [-0.75697535,  0.690627  , -0.06594028, -1.4629949 ,\n",
              "         -0.28404713,  0.874841  , -1.3514761 , -0.35612592,\n",
              "          0.48226094, -1.5806435 ]]], dtype=float32)>"
            ]
          },
          "metadata": {
            "tags": []
          },
          "execution_count": 137
        }
      ]
    },
    {
      "cell_type": "markdown",
      "metadata": {
        "id": "fQDSL7Q1TrvJ",
        "colab_type": "text"
      },
      "source": [
        "### Class"
      ]
    },
    {
      "cell_type": "code",
      "metadata": {
        "id": "SD4jefa2SIpS",
        "colab_type": "code",
        "colab": {}
      },
      "source": [
        "class Transformer(tf.keras.layers.Layer):\n",
        "    \"\"\"\n",
        "    Transformer Class\n",
        "    \"\"\"\n",
        "    def __init__(self, config, name=\"transformer\"):\n",
        "        \"\"\"\n",
        "        생성자\n",
        "        :param config: Config 객체\n",
        "        :param name: layer name\n",
        "        \"\"\"\n",
        "        super().__init__(name=name)\n",
        "\n",
        "        self.i_pad = config.i_pad\n",
        "        self.embedding = SharedEmbedding(config)\n",
        "        self.position = PositionalEmbedding(config)\n",
        "        \n",
        "        self.encoder_layers = [EncoderLayer(config, name=f\"encoder_layer_{i}\") for i in range(config.n_layer)]\n",
        "        self.decoder_layers = [DecoderLayer(config, name=f\"decoder_layer_{i}\") for i in range(config.n_layer)]\n",
        "\n",
        "        self.dropout = tf.keras.layers.Dropout(config.dropout)\n",
        "\n",
        "    def call(self, inputs):\n",
        "        \"\"\"\n",
        "        layer 실행\n",
        "        :param inputs: (enc_tokens, dec_tokens) tuple\n",
        "        :return logits: dec_tokens에 대한 다음 토큰 예측 결과 logits\n",
        "        \"\"\"\n",
        "        enc_tokens, dec_tokens = inputs\n",
        "\n",
        "        enc_self_mask = tf.keras.layers.Lambda(get_pad_mask, output_shape=(1, None), name='enc_self_mask')(enc_tokens, self.i_pad)\n",
        "        dec_self_mask = tf.keras.layers.Lambda(get_ahead_mask, output_shape=(None, None), name='dec_self_mask')(dec_tokens, self.i_pad)\n",
        "        ende_attn_mask = tf.keras.layers.Lambda(get_pad_mask, output_shape=(1, None), name='ende_attn_mask')(enc_tokens, self.i_pad)\n",
        "\n",
        "        enc_embed = self.get_embedding(enc_tokens)\n",
        "        dec_embed = self.get_embedding(dec_tokens)\n",
        "\n",
        "        enc_out = self.dropout(enc_embed)\n",
        "        for encoder_layer in self.encoder_layers:\n",
        "            enc_out = encoder_layer(enc_out, enc_self_mask)\n",
        "        \n",
        "        dec_out = self.dropout(dec_embed)\n",
        "        for decoder_layer in self.decoder_layers:\n",
        "            dec_out = decoder_layer(dec_out, enc_out, dec_self_mask, ende_attn_mask)\n",
        "\n",
        "        logits = self.embedding(dec_out, mode=\"linear\")\n",
        "        return logits\n",
        "    \n",
        "    def get_embedding(self, tokens):\n",
        "        \"\"\"\n",
        "        token embedding, position embedding lookup\n",
        "        :param tokens: 입력 tokens\n",
        "        :return embed: embedding 결과\n",
        "        \"\"\"\n",
        "        embed = self.embedding(tokens) + self.position(tokens)\n",
        "        return embed"
      ],
      "execution_count": null,
      "outputs": []
    },
    {
      "cell_type": "markdown",
      "metadata": {
        "id": "_N5l-XL5WAuP",
        "colab_type": "text"
      },
      "source": [
        "### Test"
      ]
    },
    {
      "cell_type": "code",
      "metadata": {
        "id": "ho09l7wwWC0Y",
        "colab_type": "code",
        "colab": {
          "base_uri": "https://localhost:8080/",
          "height": 289
        },
        "outputId": "9367f269-8144-4d6c-b3e2-0c768cb67cbc"
      },
      "source": [
        "# Transformer 기능 확인. 최종 결과가 (bs, n_seq(dec), n_vocab)\n",
        "transformer = Transformer(config)\n",
        "\n",
        "logits = transformer((enc_tokens, dec_tokens))\n",
        "assert logits.shape == (dec_tokens.shape[0], dec_tokens.shape[1], config.n_vocab)\n",
        "logits"
      ],
      "execution_count": null,
      "outputs": [
        {
          "output_type": "execute_result",
          "data": {
            "text/plain": [
              "<tf.Tensor: shape=(1, 5, 10), dtype=float32, numpy=\n",
              "array([[[-0.676413  , -0.7894665 ,  1.0712559 , -0.5531561 ,\n",
              "          0.57489055,  0.27034837,  0.66130424,  0.39338666,\n",
              "          1.066453  ,  0.294745  ],\n",
              "        [-0.5735504 , -0.8369227 ,  1.0390463 , -0.6334115 ,\n",
              "          0.6538961 ,  0.26583493,  0.72187847,  0.26945513,\n",
              "          0.9734942 ,  0.33746034],\n",
              "        [-0.5243204 , -0.81880194,  0.98940855, -0.7018371 ,\n",
              "          0.516857  ,  0.1508651 ,  0.6857422 ,  0.19703664,\n",
              "          1.0174761 ,  0.41650113],\n",
              "        [-0.4633969 , -0.8543454 ,  0.9549727 , -0.70473784,\n",
              "          0.49479607,  0.1339318 ,  0.656805  ,  0.11586331,\n",
              "          0.96906394,  0.31227762],\n",
              "        [-0.28668624, -0.8791127 ,  0.9251644 , -0.8245158 ,\n",
              "          0.6152165 ,  0.15664285,  0.7773272 , -0.05043352,\n",
              "          0.81117755,  0.47358942]]], dtype=float32)>"
            ]
          },
          "metadata": {
            "tags": []
          },
          "execution_count": 139
        }
      ]
    },
    {
      "cell_type": "markdown",
      "metadata": {
        "id": "tOZoGy998QRV",
        "colab_type": "text"
      },
      "source": [
        "# Transformer Train (Songys)"
      ]
    },
    {
      "cell_type": "code",
      "metadata": {
        "id": "Itc2MqpAEmex",
        "colab_type": "code",
        "colab": {}
      },
      "source": [
        "def print_file(filename, count=5):\n",
        "    \"\"\"\n",
        "    파일 내용 출력\n",
        "    :param filename: 파일 이름\n",
        "    :param count: 출력 라인 수\n",
        "    \"\"\"\n",
        "    with open(filename) as f:\n",
        "        for i, line in enumerate(f):\n",
        "            if count <= i:\n",
        "                break\n",
        "            print(line.strip())"
      ],
      "execution_count": null,
      "outputs": []
    },
    {
      "cell_type": "markdown",
      "metadata": {
        "id": "34abQnr98r7B",
        "colab_type": "text"
      },
      "source": [
        "## Download Data"
      ]
    },
    {
      "cell_type": "code",
      "metadata": {
        "id": "GFwVgQYX8uG3",
        "colab_type": "code",
        "colab": {
          "base_uri": "https://localhost:8080/",
          "height": 204
        },
        "outputId": "fd5ed9e4-094b-4e90-88df-9dba5b3bc9e8"
      },
      "source": [
        "# 다운로드\n",
        "!wget https://raw.githubusercontent.com/songys/Chatbot_data/master/ChatbotData%20.csv"
      ],
      "execution_count": null,
      "outputs": [
        {
          "output_type": "stream",
          "text": [
            "--2020-08-08 12:31:52--  https://raw.githubusercontent.com/songys/Chatbot_data/master/ChatbotData%20.csv\n",
            "Resolving raw.githubusercontent.com (raw.githubusercontent.com)... 151.101.0.133, 151.101.64.133, 151.101.128.133, ...\n",
            "Connecting to raw.githubusercontent.com (raw.githubusercontent.com)|151.101.0.133|:443... connected.\n",
            "HTTP request sent, awaiting response... 200 OK\n",
            "Length: 889842 (869K) [text/plain]\n",
            "Saving to: ‘ChatbotData .csv’\n",
            "\n",
            "\rChatbotData .csv      0%[                    ]       0  --.-KB/s               \rChatbotData .csv    100%[===================>] 868.99K  --.-KB/s    in 0.1s    \n",
            "\n",
            "2020-08-08 12:31:52 (8.43 MB/s) - ‘ChatbotData .csv’ saved [889842/889842]\n",
            "\n"
          ],
          "name": "stdout"
        }
      ]
    },
    {
      "cell_type": "code",
      "metadata": {
        "id": "OtLSGXP-8quQ",
        "colab_type": "code",
        "colab": {}
      },
      "source": [
        "# 이름변경 (원본 파일 이름에 공백 제거)\n",
        "!mv ChatbotData\\ .csv ChatbotData.csv"
      ],
      "execution_count": null,
      "outputs": []
    },
    {
      "cell_type": "code",
      "metadata": {
        "id": "U2hN4yQGDoHB",
        "colab_type": "code",
        "colab": {
          "base_uri": "https://localhost:8080/",
          "height": 102
        },
        "outputId": "d7e13a2e-3f3c-425c-8f59-949c246f6cd9"
      },
      "source": [
        "print_file(\"ChatbotData.csv\")"
      ],
      "execution_count": null,
      "outputs": [
        {
          "output_type": "stream",
          "text": [
            "Q,A,label\n",
            "12시 땡!,하루가 또 가네요.,0\n",
            "1지망 학교 떨어졌어,위로해 드립니다.,0\n",
            "3박4일 놀러가고 싶다,여행은 언제나 좋죠.,0\n",
            "3박4일 정도 놀러가고 싶다,여행은 언제나 좋죠.,0\n"
          ],
          "name": "stdout"
        }
      ]
    },
    {
      "cell_type": "markdown",
      "metadata": {
        "id": "S3266YeXD2Yw",
        "colab_type": "text"
      },
      "source": [
        "## Create Vocab"
      ]
    },
    {
      "cell_type": "code",
      "metadata": {
        "id": "Kt-vE5irD-aI",
        "colab_type": "code",
        "colab": {
          "base_uri": "https://localhost:8080/",
          "height": 359
        },
        "outputId": "534a7277-5007-41c2-ba9d-32bcdfe2a4ee"
      },
      "source": [
        "# head=0 첫벗째 줄이 head\n",
        "chatbot_data = pd.read_csv(\"ChatbotData.csv\", header=0)\n",
        "chatbot_data.head(10)"
      ],
      "execution_count": null,
      "outputs": [
        {
          "output_type": "execute_result",
          "data": {
            "text/html": [
              "<div>\n",
              "<style scoped>\n",
              "    .dataframe tbody tr th:only-of-type {\n",
              "        vertical-align: middle;\n",
              "    }\n",
              "\n",
              "    .dataframe tbody tr th {\n",
              "        vertical-align: top;\n",
              "    }\n",
              "\n",
              "    .dataframe thead th {\n",
              "        text-align: right;\n",
              "    }\n",
              "</style>\n",
              "<table border=\"1\" class=\"dataframe\">\n",
              "  <thead>\n",
              "    <tr style=\"text-align: right;\">\n",
              "      <th></th>\n",
              "      <th>Q</th>\n",
              "      <th>A</th>\n",
              "      <th>label</th>\n",
              "    </tr>\n",
              "  </thead>\n",
              "  <tbody>\n",
              "    <tr>\n",
              "      <th>0</th>\n",
              "      <td>12시 땡!</td>\n",
              "      <td>하루가 또 가네요.</td>\n",
              "      <td>0</td>\n",
              "    </tr>\n",
              "    <tr>\n",
              "      <th>1</th>\n",
              "      <td>1지망 학교 떨어졌어</td>\n",
              "      <td>위로해 드립니다.</td>\n",
              "      <td>0</td>\n",
              "    </tr>\n",
              "    <tr>\n",
              "      <th>2</th>\n",
              "      <td>3박4일 놀러가고 싶다</td>\n",
              "      <td>여행은 언제나 좋죠.</td>\n",
              "      <td>0</td>\n",
              "    </tr>\n",
              "    <tr>\n",
              "      <th>3</th>\n",
              "      <td>3박4일 정도 놀러가고 싶다</td>\n",
              "      <td>여행은 언제나 좋죠.</td>\n",
              "      <td>0</td>\n",
              "    </tr>\n",
              "    <tr>\n",
              "      <th>4</th>\n",
              "      <td>PPL 심하네</td>\n",
              "      <td>눈살이 찌푸려지죠.</td>\n",
              "      <td>0</td>\n",
              "    </tr>\n",
              "    <tr>\n",
              "      <th>5</th>\n",
              "      <td>SD카드 망가졌어</td>\n",
              "      <td>다시 새로 사는 게 마음 편해요.</td>\n",
              "      <td>0</td>\n",
              "    </tr>\n",
              "    <tr>\n",
              "      <th>6</th>\n",
              "      <td>SD카드 안돼</td>\n",
              "      <td>다시 새로 사는 게 마음 편해요.</td>\n",
              "      <td>0</td>\n",
              "    </tr>\n",
              "    <tr>\n",
              "      <th>7</th>\n",
              "      <td>SNS 맞팔 왜 안하지ㅠㅠ</td>\n",
              "      <td>잘 모르고 있을 수도 있어요.</td>\n",
              "      <td>0</td>\n",
              "    </tr>\n",
              "    <tr>\n",
              "      <th>8</th>\n",
              "      <td>SNS 시간낭비인 거 아는데 매일 하는 중</td>\n",
              "      <td>시간을 정하고 해보세요.</td>\n",
              "      <td>0</td>\n",
              "    </tr>\n",
              "    <tr>\n",
              "      <th>9</th>\n",
              "      <td>SNS 시간낭비인데 자꾸 보게됨</td>\n",
              "      <td>시간을 정하고 해보세요.</td>\n",
              "      <td>0</td>\n",
              "    </tr>\n",
              "  </tbody>\n",
              "</table>\n",
              "</div>"
            ],
            "text/plain": [
              "                         Q                   A  label\n",
              "0                   12시 땡!          하루가 또 가네요.      0\n",
              "1              1지망 학교 떨어졌어           위로해 드립니다.      0\n",
              "2             3박4일 놀러가고 싶다         여행은 언제나 좋죠.      0\n",
              "3          3박4일 정도 놀러가고 싶다         여행은 언제나 좋죠.      0\n",
              "4                  PPL 심하네          눈살이 찌푸려지죠.      0\n",
              "5                SD카드 망가졌어  다시 새로 사는 게 마음 편해요.      0\n",
              "6                  SD카드 안돼  다시 새로 사는 게 마음 편해요.      0\n",
              "7           SNS 맞팔 왜 안하지ㅠㅠ    잘 모르고 있을 수도 있어요.      0\n",
              "8  SNS 시간낭비인 거 아는데 매일 하는 중       시간을 정하고 해보세요.      0\n",
              "9        SNS 시간낭비인데 자꾸 보게됨       시간을 정하고 해보세요.      0"
            ]
          },
          "metadata": {
            "tags": []
          },
          "execution_count": 149
        }
      ]
    },
    {
      "cell_type": "code",
      "metadata": {
        "id": "r5QPVFHbEE5P",
        "colab_type": "code",
        "colab": {
          "base_uri": "https://localhost:8080/",
          "height": 204
        },
        "outputId": "db125af0-8dd6-4723-b4ba-7808031dacd8"
      },
      "source": [
        "# data 합치기\n",
        "corpus_set = pd.Series(chatbot_data['Q'].tolist() + chatbot_data['A'].tolist()).astype(str)\n",
        "corpus_set.head(10)"
      ],
      "execution_count": null,
      "outputs": [
        {
          "output_type": "execute_result",
          "data": {
            "text/plain": [
              "0                     12시 땡!\n",
              "1                1지망 학교 떨어졌어\n",
              "2               3박4일 놀러가고 싶다\n",
              "3            3박4일 정도 놀러가고 싶다\n",
              "4                    PPL 심하네\n",
              "5                  SD카드 망가졌어\n",
              "6                    SD카드 안돼\n",
              "7             SNS 맞팔 왜 안하지ㅠㅠ\n",
              "8    SNS 시간낭비인 거 아는데 매일 하는 중\n",
              "9          SNS 시간낭비인데 자꾸 보게됨\n",
              "dtype: object"
            ]
          },
          "metadata": {
            "tags": []
          },
          "execution_count": 150
        }
      ]
    },
    {
      "cell_type": "code",
      "metadata": {
        "id": "uWXTBj3hETZI",
        "colab_type": "code",
        "colab": {}
      },
      "source": [
        "with open(\"ChatbotData.txt\", \"w\") as f:\n",
        "    for line in corpus_set:\n",
        "        f.write(line.strip())\n",
        "        f.write(\"\\n\")"
      ],
      "execution_count": null,
      "outputs": []
    },
    {
      "cell_type": "code",
      "metadata": {
        "id": "IAvrv3rsEwhz",
        "colab_type": "code",
        "colab": {
          "base_uri": "https://localhost:8080/",
          "height": 102
        },
        "outputId": "683aad73-0574-41e5-d1ea-b5af0a1e9a9d"
      },
      "source": [
        "print_file(\"ChatbotData.txt\")"
      ],
      "execution_count": null,
      "outputs": [
        {
          "output_type": "stream",
          "text": [
            "12시 땡!\n",
            "1지망 학교 떨어졌어\n",
            "3박4일 놀러가고 싶다\n",
            "3박4일 정도 놀러가고 싶다\n",
            "PPL 심하네\n"
          ],
          "name": "stdout"
        }
      ]
    },
    {
      "cell_type": "code",
      "metadata": {
        "id": "KlBr3ZMSE-Lz",
        "colab_type": "code",
        "colab": {}
      },
      "source": [
        "def train_sentencepiece(corpus, prefix, vocab_size=8000):\n",
        "    \"\"\"\n",
        "    sentencepiece를 이용해 vocab 학습\n",
        "    :param corpus: 학습할 말뭉치\n",
        "    :param prefix: 저장할 vocab 이름\n",
        "    :param vocab_size: vocab 개수\n",
        "    \"\"\"\n",
        "    spm.SentencePieceTrainer.train(\n",
        "        f\"--input={corpus} --model_prefix={prefix} --vocab_size={vocab_size + 7}\" +  # 7은 특수문자 개수\n",
        "        \" --model_type=bpe\" +\n",
        "        \" --max_sentence_length=999999\" +  # 문장 최대 길이\n",
        "        \" --pad_id=0 --pad_piece=[PAD]\" +  # pad token 및 id 지정\n",
        "        \" --unk_id=1 --unk_piece=[UNK]\" +  # unknown token 및 id 지정\n",
        "        \" --bos_id=2 --bos_piece=[BOS]\" +  # begin of sequence token 및 id 지정\n",
        "        \" --eos_id=3 --eos_piece=[EOS]\" +  # end of sequence token 및 id 지정\n",
        "        \" --user_defined_symbols=[SEP],[CLS],[MASK]\")  # 기타 추가 토큰 SEP: 4, CLS: 5, MASK: 6"
      ],
      "execution_count": null,
      "outputs": []
    },
    {
      "cell_type": "code",
      "metadata": {
        "id": "Eg6YJLDtFK_N",
        "colab_type": "code",
        "colab": {}
      },
      "source": [
        "# vocab 생성\n",
        "train_sentencepiece(f\"ChatbotData.txt\", f\"syngys\", vocab_size=8000)"
      ],
      "execution_count": null,
      "outputs": []
    },
    {
      "cell_type": "code",
      "metadata": {
        "id": "WzrEXtlfFTDs",
        "colab_type": "code",
        "colab": {
          "base_uri": "https://localhost:8080/",
          "height": 119
        },
        "outputId": "edbe6db6-8c5c-429a-fc9a-d147095b33a6"
      },
      "source": [
        "os.listdir(\".\")"
      ],
      "execution_count": null,
      "outputs": [
        {
          "output_type": "execute_result",
          "data": {
            "text/plain": [
              "['.config',\n",
              " 'ChatbotData.txt',\n",
              " 'ChatbotData.csv',\n",
              " 'syngys.model',\n",
              " 'syngys.vocab',\n",
              " 'sample_data']"
            ]
          },
          "metadata": {
            "tags": []
          },
          "execution_count": 162
        }
      ]
    },
    {
      "cell_type": "code",
      "metadata": {
        "id": "yREQozPuFV_U",
        "colab_type": "code",
        "colab": {
          "base_uri": "https://localhost:8080/",
          "height": 34
        },
        "outputId": "d7d84325-13b8-48cf-e8eb-9b2a82ea62f3"
      },
      "source": [
        "# load vocab\n",
        "vocab = spm.SentencePieceProcessor()\n",
        "vocab.load(f\"syngys.model\")"
      ],
      "execution_count": null,
      "outputs": [
        {
          "output_type": "execute_result",
          "data": {
            "text/plain": [
              "True"
            ]
          },
          "metadata": {
            "tags": []
          },
          "execution_count": 164
        }
      ]
    },
    {
      "cell_type": "code",
      "metadata": {
        "id": "fAHHyXSKFb60",
        "colab_type": "code",
        "colab": {
          "base_uri": "https://localhost:8080/",
          "height": 374
        },
        "outputId": "19290aa8-a648-4c4f-f593-07b13546522b"
      },
      "source": [
        "# vocab 출력\n",
        "print(f\"len: {len(vocab)}\")\n",
        "for id in range(20):\n",
        "    print(f\"{id:2d}: {vocab.id_to_piece(id)}\")"
      ],
      "execution_count": null,
      "outputs": [
        {
          "output_type": "stream",
          "text": [
            "len: 8007\n",
            " 0: [PAD]\n",
            " 1: [UNK]\n",
            " 2: [BOS]\n",
            " 3: [EOS]\n",
            " 4: [SEP]\n",
            " 5: [CLS]\n",
            " 6: [MASK]\n",
            " 7: 세요\n",
            " 8: ▁사\n",
            " 9: ▁좋\n",
            "10: ▁있\n",
            "11: ▁이\n",
            "12: ▁거\n",
            "13: 하는\n",
            "14: 보세요\n",
            "15: ▁그\n",
            "16: ▁나\n",
            "17: ▁아\n",
            "18: 예요\n",
            "19: ▁마\n"
          ],
          "name": "stdout"
        }
      ]
    },
    {
      "cell_type": "code",
      "metadata": {
        "id": "NsFBGdvPFmRm",
        "colab_type": "code",
        "colab": {
          "base_uri": "https://localhost:8080/",
          "height": 34
        },
        "outputId": "651651cb-82bc-4be7-81f6-5e8cdfc2cf2d"
      },
      "source": [
        "pieces = vocab.encode_as_pieces(corpus_set[10])\n",
        "pieces"
      ],
      "execution_count": null,
      "outputs": [
        {
          "output_type": "execute_result",
          "data": {
            "text/plain": [
              "['▁SNS', '보면', '▁나만', '▁빼고', '▁다', '▁행복해보여']"
            ]
          },
          "metadata": {
            "tags": []
          },
          "execution_count": 168
        }
      ]
    },
    {
      "cell_type": "markdown",
      "metadata": {
        "id": "1-xIfzOMF8nO",
        "colab_type": "text"
      },
      "source": [
        "## Data Load"
      ]
    },
    {
      "cell_type": "code",
      "metadata": {
        "id": "88FUzaPqGbT3",
        "colab_type": "code",
        "colab": {
          "base_uri": "https://localhost:8080/",
          "height": 359
        },
        "outputId": "6ed7497b-1e0f-452e-a055-dcb783dde794"
      },
      "source": [
        "# head=0 첫벗째 줄이 head\n",
        "chatbot_data = pd.read_csv(\"ChatbotData.csv\", header=0)\n",
        "chatbot_data.head(10)"
      ],
      "execution_count": null,
      "outputs": [
        {
          "output_type": "execute_result",
          "data": {
            "text/html": [
              "<div>\n",
              "<style scoped>\n",
              "    .dataframe tbody tr th:only-of-type {\n",
              "        vertical-align: middle;\n",
              "    }\n",
              "\n",
              "    .dataframe tbody tr th {\n",
              "        vertical-align: top;\n",
              "    }\n",
              "\n",
              "    .dataframe thead th {\n",
              "        text-align: right;\n",
              "    }\n",
              "</style>\n",
              "<table border=\"1\" class=\"dataframe\">\n",
              "  <thead>\n",
              "    <tr style=\"text-align: right;\">\n",
              "      <th></th>\n",
              "      <th>Q</th>\n",
              "      <th>A</th>\n",
              "      <th>label</th>\n",
              "    </tr>\n",
              "  </thead>\n",
              "  <tbody>\n",
              "    <tr>\n",
              "      <th>0</th>\n",
              "      <td>12시 땡!</td>\n",
              "      <td>하루가 또 가네요.</td>\n",
              "      <td>0</td>\n",
              "    </tr>\n",
              "    <tr>\n",
              "      <th>1</th>\n",
              "      <td>1지망 학교 떨어졌어</td>\n",
              "      <td>위로해 드립니다.</td>\n",
              "      <td>0</td>\n",
              "    </tr>\n",
              "    <tr>\n",
              "      <th>2</th>\n",
              "      <td>3박4일 놀러가고 싶다</td>\n",
              "      <td>여행은 언제나 좋죠.</td>\n",
              "      <td>0</td>\n",
              "    </tr>\n",
              "    <tr>\n",
              "      <th>3</th>\n",
              "      <td>3박4일 정도 놀러가고 싶다</td>\n",
              "      <td>여행은 언제나 좋죠.</td>\n",
              "      <td>0</td>\n",
              "    </tr>\n",
              "    <tr>\n",
              "      <th>4</th>\n",
              "      <td>PPL 심하네</td>\n",
              "      <td>눈살이 찌푸려지죠.</td>\n",
              "      <td>0</td>\n",
              "    </tr>\n",
              "    <tr>\n",
              "      <th>5</th>\n",
              "      <td>SD카드 망가졌어</td>\n",
              "      <td>다시 새로 사는 게 마음 편해요.</td>\n",
              "      <td>0</td>\n",
              "    </tr>\n",
              "    <tr>\n",
              "      <th>6</th>\n",
              "      <td>SD카드 안돼</td>\n",
              "      <td>다시 새로 사는 게 마음 편해요.</td>\n",
              "      <td>0</td>\n",
              "    </tr>\n",
              "    <tr>\n",
              "      <th>7</th>\n",
              "      <td>SNS 맞팔 왜 안하지ㅠㅠ</td>\n",
              "      <td>잘 모르고 있을 수도 있어요.</td>\n",
              "      <td>0</td>\n",
              "    </tr>\n",
              "    <tr>\n",
              "      <th>8</th>\n",
              "      <td>SNS 시간낭비인 거 아는데 매일 하는 중</td>\n",
              "      <td>시간을 정하고 해보세요.</td>\n",
              "      <td>0</td>\n",
              "    </tr>\n",
              "    <tr>\n",
              "      <th>9</th>\n",
              "      <td>SNS 시간낭비인데 자꾸 보게됨</td>\n",
              "      <td>시간을 정하고 해보세요.</td>\n",
              "      <td>0</td>\n",
              "    </tr>\n",
              "  </tbody>\n",
              "</table>\n",
              "</div>"
            ],
            "text/plain": [
              "                         Q                   A  label\n",
              "0                   12시 땡!          하루가 또 가네요.      0\n",
              "1              1지망 학교 떨어졌어           위로해 드립니다.      0\n",
              "2             3박4일 놀러가고 싶다         여행은 언제나 좋죠.      0\n",
              "3          3박4일 정도 놀러가고 싶다         여행은 언제나 좋죠.      0\n",
              "4                  PPL 심하네          눈살이 찌푸려지죠.      0\n",
              "5                SD카드 망가졌어  다시 새로 사는 게 마음 편해요.      0\n",
              "6                  SD카드 안돼  다시 새로 사는 게 마음 편해요.      0\n",
              "7           SNS 맞팔 왜 안하지ㅠㅠ    잘 모르고 있을 수도 있어요.      0\n",
              "8  SNS 시간낭비인 거 아는데 매일 하는 중       시간을 정하고 해보세요.      0\n",
              "9        SNS 시간낭비인데 자꾸 보게됨       시간을 정하고 해보세요.      0"
            ]
          },
          "metadata": {
            "tags": []
          },
          "execution_count": 169
        }
      ]
    },
    {
      "cell_type": "code",
      "metadata": {
        "id": "q5nDXAxSF77s",
        "colab_type": "code",
        "colab": {}
      },
      "source": [
        "def load_data(vocab, dataframe):\n",
        "    \"\"\"\n",
        "    학습에 필요한 데이터를 로드\n",
        "    :param vocab: vocab\n",
        "    :param dataframe: pandas dataframe\n",
        "    :return enc_inputs: encoder inputs\n",
        "    :return dec_inputs: decoder inputs\n",
        "    :return labels: labels\n",
        "    \"\"\"\n",
        "    total = len(dataframe)\n",
        "\n",
        "    # 데이터 미리 생성\n",
        "    enc_tokens = []\n",
        "    dec_tokens = []\n",
        "    labels = []\n",
        "\n",
        "    # 라인단위로 데이터 생성\n",
        "    for i, row in tqdm(dataframe.iterrows(), total=len(dataframe)):\n",
        "        # Q, A 모두 string 인 경우만 처리\n",
        "        if type(row[\"Q\"]) == str and type(row[\"A\"]) == str:\n",
        "            # qestion을 id 형태로 변경\n",
        "            q_id = vocab.encode_as_ids(row[\"Q\"])\n",
        "            # answer를 id 형태로 변경\n",
        "            a_id = vocab.encode_as_ids(row[\"A\"])\n",
        "\n",
        "            # enc_token: <question tokens>, [PAD] tokens\n",
        "            enc_tokens.append(q_id)\n",
        "            # dec_token: [BOS], <answer tokens>, [PAD] tokens\n",
        "            dec_tokens.append([vocab.bos_id()] + a_id)\n",
        "            # label: <answer tokens>, [EOS], [PAD] tokens\n",
        "            labels.append(a_id + [vocab.eos_id()])\n",
        "    \n",
        "    enc_len = max([len(tokens) for tokens in enc_tokens])\n",
        "    dec_len = max([len(tokens) for tokens in dec_tokens])\n",
        "    label_len = max([len(tokens) for tokens in labels])\n",
        "\n",
        "    # 데이터 미리 생성\n",
        "    np_enc_tokens = np.zeros((total, enc_len), np.int)\n",
        "    np_dec_tokens = np.zeros((total, dec_len), np.int)\n",
        "    np_labels = np.zeros((total, label_len), np.int)\n",
        "\n",
        "    for i, (enc_token, dec_token, label) in enumerate(zip(enc_tokens, dec_tokens, labels)):\n",
        "        np_enc_tokens[i,:len(enc_token)] = enc_token\n",
        "        np_dec_tokens[i,:len(dec_token)] = dec_token\n",
        "        np_labels[i,:len(label)] = label\n",
        "\n",
        "    return (np_enc_tokens, np_dec_tokens), np_labels"
      ],
      "execution_count": null,
      "outputs": []
    },
    {
      "cell_type": "code",
      "metadata": {
        "id": "SUvENcJBGffw",
        "colab_type": "code",
        "colab": {
          "base_uri": "https://localhost:8080/",
          "referenced_widgets": [
            "047a73f052fe4b81acedfc4ae3089d5a",
            "c76a4f4c686b448daba9874b0272a62b",
            "cd3f647e132c42afbe4ab7a478fa39ec",
            "9b050ccbc4634c85b5c41b36f43157bc",
            "37237552f7da49dfa862abac119e3f44",
            "abafd9c839ee493495b6045a72298df3",
            "b46ba5694356433997206349bf61776c",
            "45d7ff61f95e458cada41064e5260d1d"
          ]
        },
        "outputId": "edf5d2b7-5ada-496f-a95c-32f03b261f2a"
      },
      "source": [
        "train_inputs, train_labels = load_data(vocab, chatbot_data)\n",
        "# 마지막 출력. 마지막이 0이 아니면 끝까지 잘 처리 된 것임\n",
        "train_inputs[0][-1], train_inputs[1][-1], train_labels[-1]"
      ],
      "execution_count": null,
      "outputs": [
        {
          "output_type": "display_data",
          "data": {
            "application/vnd.jupyter.widget-view+json": {
              "model_id": "047a73f052fe4b81acedfc4ae3089d5a",
              "version_minor": 0,
              "version_major": 2
            },
            "text/plain": [
              "HBox(children=(FloatProgress(value=0.0, max=11823.0), HTML(value='')))"
            ]
          },
          "metadata": {
            "tags": []
          }
        },
        {
          "output_type": "stream",
          "text": [
            "\n"
          ],
          "name": "stdout"
        },
        {
          "output_type": "execute_result",
          "data": {
            "text/plain": [
              "(array([2475,  215, 4315,    0,    0,    0,    0,    0,    0,    0,    0,\n",
              "           0,    0,    0,    0,    0,    0,    0,    0,    0,    0]),\n",
              " array([   2,  195, 7117, 7115, 3068,  392, 1475,  632, 6923,    0,    0,\n",
              "           0,    0,    0,    0,    0,    0,    0,    0,    0,    0,    0,\n",
              "           0,    0,    0,    0,    0,    0,    0,    0]),\n",
              " array([ 195, 7117, 7115, 3068,  392, 1475,  632, 6923,    3,    0,    0,\n",
              "           0,    0,    0,    0,    0,    0,    0,    0,    0,    0,    0,\n",
              "           0,    0,    0,    0,    0,    0,    0,    0]))"
            ]
          },
          "metadata": {
            "tags": []
          },
          "execution_count": 208
        }
      ]
    },
    {
      "cell_type": "markdown",
      "metadata": {
        "id": "xclGDmnmDCUY",
        "colab_type": "text"
      },
      "source": [
        "## Model"
      ]
    },
    {
      "cell_type": "code",
      "metadata": {
        "id": "R_9KQmbJDDyV",
        "colab_type": "code",
        "colab": {}
      },
      "source": [
        "def get_pad_mask(tokens, i_pad=0):\n",
        "    \"\"\"\n",
        "    pad mask 계산하는 함수\n",
        "    :param tokens: tokens (bs, n_seq)\n",
        "    :param i_pad: id of pad\n",
        "    :return mask: pad mask (pad: 1, other: 0)\n",
        "    \"\"\"\n",
        "    mask = tf.cast(tf.math.equal(tokens, i_pad), tf.float32)\n",
        "    mask = tf.expand_dims(mask, axis=1)\n",
        "    return mask\n",
        "\n",
        "\n",
        "def get_ahead_mask(tokens, i_pad=0):\n",
        "    \"\"\"\n",
        "    ahead mask 계산하는 함수\n",
        "    :param tokens: tokens (bs, n_seq)\n",
        "    :param i_pad: id of pad\n",
        "    :return mask: ahead and pad mask (ahead or pad: 1, other: 0)\n",
        "    \"\"\"\n",
        "    n_seq = tf.shape(tokens)[1]\n",
        "    ahead_mask = 1 - tf.linalg.band_part(tf.ones((n_seq, n_seq)), -1, 0)\n",
        "    ahead_mask = tf.expand_dims(ahead_mask, axis=0)\n",
        "    pad_mask = get_pad_mask(tokens, i_pad)\n",
        "    mask = tf.maximum(ahead_mask, pad_mask)\n",
        "    return mask\n",
        "\n",
        "\n",
        "def kernel_initializer(stddev=0.02):\n",
        "    \"\"\"\n",
        "    parameter initializer 생성\n",
        "    :param stddev: 생성할 랜덤 변수의 표준편차\n",
        "    \"\"\"\n",
        "    return tf.keras.initializers.TruncatedNormal(stddev=stddev)\n",
        "\n",
        "\n",
        "class Config(dict):\n",
        "    \"\"\"\n",
        "    json을 config 형태로 사용하기 위한 Class\n",
        "    :param dict: config dictionary\n",
        "    \"\"\"\n",
        "    __getattr__ = dict.__getitem__\n",
        "    __setattr__ = dict.__setitem__\n",
        "\n",
        "    @classmethod\n",
        "    def load(cls, file):\n",
        "        \"\"\"\n",
        "        file에서 Config를 생성 함\n",
        "        :param file: filename\n",
        "        \"\"\"\n",
        "        with open(file, 'r') as f:\n",
        "            config = json.loads(f.read())\n",
        "            return Config(config)\n",
        "\n",
        "\n",
        "class SharedEmbedding(tf.keras.layers.Layer):\n",
        "    \"\"\"\n",
        "    Weighed Shaed Embedding Class\n",
        "    \"\"\"\n",
        "    def __init__(self, config, name=\"weight_shared_embedding\"):\n",
        "        \"\"\"\n",
        "        생성자\n",
        "        :param config: Config 객체\n",
        "        :param name: layer name\n",
        "        \"\"\"\n",
        "        super().__init__(name=name)\n",
        "\n",
        "        self.n_vocab = config.n_vocab\n",
        "        self.d_model = config.d_model\n",
        "    \n",
        "    def build(self, input_shape):\n",
        "        \"\"\"\n",
        "        shared weight 생성\n",
        "        :param input_shape: Tensor Shape (not used)\n",
        "        \"\"\"\n",
        "        with tf.name_scope(\"shared_embedding_weight\"):\n",
        "            self.shared_weights = self.add_weight(\n",
        "                \"weights\",\n",
        "                shape=[self.n_vocab, self.d_model],\n",
        "                initializer=kernel_initializer(stddev=self.d_model ** -0.5)\n",
        "            )\n",
        "\n",
        "    def call(self, inputs, mode=\"embedding\"):\n",
        "        \"\"\"\n",
        "        layer 실행\n",
        "        :param inputs: 입력\n",
        "        :param mode: 실행 모드\n",
        "        :return: embedding or linear 실행 결과\n",
        "        \"\"\"\n",
        "        # mode가 embedding일 경우 embedding lookup 실행\n",
        "        if mode == \"embedding\":\n",
        "            return self._embedding(inputs)\n",
        "        # mode가 linear일 경우 linear 실행\n",
        "        elif mode == \"linear\":\n",
        "            return self._linear(inputs)\n",
        "        # mode가 기타일 경우 오류 발생\n",
        "        else:\n",
        "            raise ValueError(f\"mode {mode} is not valid.\")\n",
        "    \n",
        "    def _embedding(self, inputs):\n",
        "        \"\"\"\n",
        "        embedding lookup\n",
        "        :param inputs: 입력\n",
        "        \"\"\"\n",
        "        embed = tf.gather(self.shared_weights, tf.cast(inputs, tf.int32))\n",
        "        embed *= self.d_model ** 0.5\n",
        "        return embed\n",
        "\n",
        "    def _linear(self, inputs):  # (bs, n_seq, d_model)\n",
        "        \"\"\"\n",
        "        linear 실행\n",
        "        :param inputs: 입력\n",
        "        \"\"\"\n",
        "        n_batch = tf.shape(inputs)[0]\n",
        "        n_seq = tf.shape(inputs)[1]\n",
        "        inputs = tf.reshape(inputs, [-1, self.d_model])  # (bs * n_seq, d_model)\n",
        "        outputs = tf.matmul(inputs, self.shared_weights, transpose_b=True)\n",
        "        outputs = tf.reshape(outputs, [n_batch, n_seq, self.n_vocab])  # (bs, n_seq, n_vocab)\n",
        "        return outputs\n",
        "\n",
        "\n",
        "class PositionalEmbedding(tf.keras.layers.Layer):\n",
        "    \"\"\"\n",
        "    Positional Embedding Class\n",
        "    \"\"\"\n",
        "    def __init__(self, config, name=\"position_embedding\"):\n",
        "        \"\"\"\n",
        "        생성자\n",
        "        :param config: Config 객체\n",
        "        :param name: layer name\n",
        "        \"\"\"\n",
        "        super().__init__(name=name)\n",
        "        \n",
        "        pos_encoding = PositionalEmbedding.get_sinusoid_encoding(config.n_seq, config.d_model)\n",
        "        self.embedding = tf.keras.layers.Embedding(config.n_seq, config.d_model, trainable=False, weights=[pos_encoding])\n",
        "\n",
        "    def call(self, inputs):\n",
        "        \"\"\"\n",
        "        layer 실행\n",
        "        :param inputs: 입력\n",
        "        :return embed: positional embedding lookup 결과\n",
        "        \"\"\"\n",
        "        position = tf.cast(tf.math.cumsum(tf.ones_like(inputs), axis=1, exclusive=True), tf.int32)\n",
        "        embed = self.embedding(position)\n",
        "        return embed\n",
        "\n",
        "    @staticmethod\n",
        "    def get_sinusoid_encoding(n_seq, d_model):\n",
        "        \"\"\"\n",
        "        sinusoid encoding 생성\n",
        "        :param n_seq: sequence number\n",
        "        :param n_seq: model hidden dimension\n",
        "        :return: positional encoding table\n",
        "        \"\"\"\n",
        "        angles = [np.power(10000, 2 * (i_ang // 2) / d_model) for i_ang in range(d_model)]\n",
        "        pos_encoding = np.array([[pos / angle for angle in angles] for pos in range(n_seq)])\n",
        "        pos_encoding[:, 0::2] = np.sin(pos_encoding[:, 0::2])\n",
        "        pos_encoding[:, 1::2] = np.cos(pos_encoding[:, 1::2])\n",
        "        return tf.cast(pos_encoding, tf.float32)\n",
        "\n",
        "\n",
        "class ScaleDotProductAttention(tf.keras.layers.Layer):\n",
        "    \"\"\"\n",
        "    Scale Dot Product Attention Class\n",
        "    \"\"\"\n",
        "    def __init__(self, name=\"scale_dot_product_attention\"):\n",
        "        \"\"\"\n",
        "        생성자\n",
        "        :param name: layer name\n",
        "        \"\"\"\n",
        "        super().__init__(name=name)\n",
        "\n",
        "    def call(self, Q, K, V, attn_mask):\n",
        "        \"\"\"\n",
        "        layer 실행\n",
        "        :param Q: Q value\n",
        "        :param K: K value\n",
        "        :param V: V value\n",
        "        :param attn_mask: 실행 모드\n",
        "        :return attn_out: attention 실행 결과\n",
        "        \"\"\"\n",
        "        attn_score = tf.matmul(Q, K, transpose_b=True)\n",
        "        scale = tf.math.sqrt(tf.cast(tf.shape(K)[-1], tf.float32))\n",
        "        attn_scale = tf.math.divide(attn_score, scale)\n",
        "        attn_scale -= 1.e9 * attn_mask\n",
        "        attn_prob = tf.nn.softmax(attn_scale, axis=-1)\n",
        "        attn_out = tf.matmul(attn_prob, V)\n",
        "        return attn_out\n",
        "\n",
        "\n",
        "class MultiHeadAttention(tf.keras.layers.Layer):\n",
        "    \"\"\"\n",
        "    Multi Head Attention Class\n",
        "    \"\"\"\n",
        "    def __init__(self, config, name=\"multi_head_attention\"):\n",
        "        \"\"\"\n",
        "        생성자\n",
        "        :param config: Config 객체\n",
        "        :param name: layer name\n",
        "        \"\"\"\n",
        "        super().__init__(name=name)\n",
        "\n",
        "        self.d_model = config.d_model\n",
        "        self.n_head = config.n_head\n",
        "        self.d_head = config.d_head\n",
        "\n",
        "        # Q, K, V input dense layer\n",
        "        self.W_Q = tf.keras.layers.Dense(config.n_head * config.d_head)\n",
        "        self.W_K = tf.keras.layers.Dense(config.n_head * config.d_head)\n",
        "        self.W_V = tf.keras.layers.Dense(config.n_head * config.d_head)\n",
        "        # Scale Dot Product Attention class\n",
        "        self.attention = ScaleDotProductAttention(name=\"self_attention\")\n",
        "        # output dense layer\n",
        "        self.W_O = tf.keras.layers.Dense(config.d_model)\n",
        "\n",
        "    def call(self, Q, K, V, attn_mask):\n",
        "        \"\"\"\n",
        "        layer 실행\n",
        "        :param Q: Q value\n",
        "        :param K: K value\n",
        "        :param V: V value\n",
        "        :param attn_mask: 실행 모드\n",
        "        :return attn_out: attention 실행 결과\n",
        "        \"\"\"\n",
        "        # reshape Q, K, V, attn_mask\n",
        "        batch_size = tf.shape(Q)[0]\n",
        "        Q_m = tf.transpose(tf.reshape(self.W_Q(Q), [batch_size, -1, self.n_head, self.d_head]), [0, 2, 1, 3])  # (bs, n_head, Q_len, d_head)\n",
        "        K_m = tf.transpose(tf.reshape(self.W_K(K), [batch_size, -1, self.n_head, self.d_head]), [0, 2, 1, 3])  # (bs, n_head, K_len, d_head)\n",
        "        V_m = tf.transpose(tf.reshape(self.W_V(V), [batch_size, -1, self.n_head, self.d_head]), [0, 2, 1, 3])  # (bs, n_head, K_len, d_head)\n",
        "        attn_mask_m = tf.expand_dims(attn_mask, axis=1)\n",
        "        # Scale Dot Product Attention with multi head Q, K, V, attn_mask\n",
        "        attn_out = self.attention(Q_m, K_m, V_m, attn_mask_m)  # (bs, n_head, Q_len, d_head)\n",
        "        # transpose and liner\n",
        "        attn_out_m = tf.transpose(attn_out, perm=[0, 2, 1, 3])  # (bs, Q_len, n_head, d_head)\n",
        "        attn_out = tf.reshape(attn_out_m, [batch_size, -1, config.n_head * config.d_head])  # (bs, Q_len, d_model)\n",
        "        attn_out = self.W_O(attn_out) # (bs, Q_len, d_model)\n",
        "\n",
        "        return attn_out\n",
        "\n",
        "\n",
        "class PositionWiseFeedForward(tf.keras.layers.Layer):\n",
        "    \"\"\"\n",
        "    Position Wise Feed Forward Class\n",
        "    \"\"\"\n",
        "    def __init__(self, config, name=\"feed_forward\"):\n",
        "        \"\"\"\n",
        "        생성자\n",
        "        :param config: Config 객체\n",
        "        :param name: layer name\n",
        "        \"\"\"\n",
        "        super().__init__(name=name)\n",
        "\n",
        "        self.W_1 = tf.keras.layers.Dense(config.d_ff, activation=tf.nn.relu)\n",
        "        self.W_2 = tf.keras.layers.Dense(config.d_model)\n",
        "\n",
        "    def call(self, inputs):\n",
        "        \"\"\"\n",
        "        layer 실행\n",
        "        :param inputs: inputs\n",
        "        :return ff_val: feed forward 실행 결과\n",
        "        \"\"\"\n",
        "        ff_val = self.W_2(self.W_1(inputs))\n",
        "        return ff_val\n",
        "\n",
        "\n",
        "class EncoderLayer(tf.keras.layers.Layer):\n",
        "    \"\"\"\n",
        "    Encoder Layer Class\n",
        "    \"\"\"\n",
        "    def __init__(self, config, name=\"encoder_layer\"):\n",
        "        \"\"\"\n",
        "        생성자\n",
        "        :param config: Config 객체\n",
        "        :param name: layer name\n",
        "        \"\"\"\n",
        "        super().__init__(name=name)\n",
        "\n",
        "        self.self_attention = MultiHeadAttention(config)\n",
        "        self.norm1 = tf.keras.layers.LayerNormalization(epsilon=config.layernorm_epsilon)\n",
        "\n",
        "        self.ffn = PositionWiseFeedForward(config)\n",
        "        self.norm2 = tf.keras.layers.LayerNormalization(epsilon=config.layernorm_epsilon)\n",
        "\n",
        "        self.dropout = tf.keras.layers.Dropout(config.dropout)\n",
        " \n",
        "    def call(self, enc_embed, self_mask):\n",
        "        \"\"\"\n",
        "        layer 실행\n",
        "        :param enc_embed: enc_embed 또는 이전 EncoderLayer의 출력\n",
        "        :param self_mask: enc_tokens의 pad mask\n",
        "        :return enc_out: EncoderLayer 실행 결과\n",
        "        \"\"\"\n",
        "        self_attn_val = self.self_attention(enc_embed, enc_embed, enc_embed, self_mask)\n",
        "        norm1_val = self.norm1(enc_embed + self.dropout(self_attn_val))\n",
        "\n",
        "        ffn_val = self.ffn(norm1_val)\n",
        "        enc_out = self.norm2(norm1_val + self.dropout(ffn_val))\n",
        "\n",
        "        return enc_out\n",
        "\n",
        "\n",
        "class DecoderLayer(tf.keras.layers.Layer):\n",
        "    \"\"\"\n",
        "    Decoder Layer Class\n",
        "    \"\"\"\n",
        "    def __init__(self, config, name=\"decoder_layer\"):\n",
        "        \"\"\"\n",
        "        생성자\n",
        "        :param config: Config 객체\n",
        "        :param name: layer name\n",
        "        \"\"\"\n",
        "        super().__init__(name=name)\n",
        "\n",
        "        self.self_attention = MultiHeadAttention(config)\n",
        "        self.norm1 = tf.keras.layers.LayerNormalization(epsilon=config.layernorm_epsilon)\n",
        "\n",
        "        self.ende_attn = MultiHeadAttention(config)\n",
        "        self.norm2 = tf.keras.layers.LayerNormalization(epsilon=config.layernorm_epsilon)\n",
        "\n",
        "        self.ffn = PositionWiseFeedForward(config)\n",
        "        self.norm3 = tf.keras.layers.LayerNormalization(epsilon=config.layernorm_epsilon)\n",
        "\n",
        "        self.dropout = tf.keras.layers.Dropout(config.dropout)\n",
        "\n",
        "    def call(self, dec_embed, enc_out, self_mask, ende_mask):\n",
        "        \"\"\"\n",
        "        layer 실행\n",
        "        :param dec_embed: dec_embed 또는 이전 DecoderLayer의 출력\n",
        "        :param enc_out: 마지막 EncoderLayer의 출력\n",
        "        :param self_mask: dec_tokens의 ahead mask\n",
        "        :param ende_mask: enc_tokens의 pad mask\n",
        "        :return dec_out: DecoderLayer 실행 결과\n",
        "        \"\"\"\n",
        "        self_attn_val = self.self_attention(dec_embed, dec_embed, dec_embed, self_mask)\n",
        "        norm1_val = self.norm1(dec_embed + self.dropout(self_attn_val))\n",
        "\n",
        "        ende_attn_val = self.ende_attn(norm1_val, enc_out, enc_out, ende_mask)\n",
        "        norm2_val = self.norm2(norm1_val + self.dropout(ende_attn_val))\n",
        "\n",
        "        ffn_val = self.ffn(norm2_val)\n",
        "        dec_out = self.norm3(norm2_val + self.dropout(ffn_val))\n",
        "\n",
        "        return dec_out\n",
        "\n",
        "\n",
        "class Transformer(tf.keras.layers.Layer):\n",
        "    \"\"\"\n",
        "    Transformer Class\n",
        "    \"\"\"\n",
        "    def __init__(self, config, name=\"transformer\"):\n",
        "        \"\"\"\n",
        "        생성자\n",
        "        :param config: Config 객체\n",
        "        :param name: layer name\n",
        "        \"\"\"\n",
        "        super().__init__(name=name)\n",
        "\n",
        "        self.i_pad = config.i_pad\n",
        "        self.embedding = SharedEmbedding(config)\n",
        "        self.position = PositionalEmbedding(config)\n",
        "        \n",
        "        self.encoder_layers = [EncoderLayer(config, name=f\"encoder_layer_{i}\") for i in range(config.n_layer)]\n",
        "        self.decoder_layers = [DecoderLayer(config, name=f\"decoder_layer_{i}\") for i in range(config.n_layer)]\n",
        "\n",
        "        self.dropout = tf.keras.layers.Dropout(config.dropout)\n",
        "\n",
        "    def call(self, inputs):\n",
        "        \"\"\"\n",
        "        layer 실행\n",
        "        :param inputs: (enc_tokens, dec_tokens) tuple\n",
        "        :return logits: dec_tokens에 대한 다음 토큰 예측 결과 logits\n",
        "        \"\"\"\n",
        "        enc_tokens, dec_tokens = inputs\n",
        "\n",
        "        enc_self_mask = tf.keras.layers.Lambda(get_pad_mask, output_shape=(1, None), name='enc_self_mask')(enc_tokens, self.i_pad)\n",
        "        dec_self_mask = tf.keras.layers.Lambda(get_ahead_mask, output_shape=(None, None), name='dec_self_mask')(dec_tokens, self.i_pad)\n",
        "        ende_attn_mask = tf.keras.layers.Lambda(get_pad_mask, output_shape=(1, None), name='ende_attn_mask')(enc_tokens, self.i_pad)\n",
        "\n",
        "        enc_embed = self.get_embedding(enc_tokens)\n",
        "        dec_embed = self.get_embedding(dec_tokens)\n",
        "\n",
        "        enc_out = self.dropout(enc_embed)\n",
        "        for encoder_layer in self.encoder_layers:\n",
        "            enc_out = encoder_layer(enc_out, enc_self_mask)\n",
        "        \n",
        "        dec_out = self.dropout(dec_embed)\n",
        "        for decoder_layer in self.decoder_layers:\n",
        "            dec_out = decoder_layer(dec_out, enc_out, dec_self_mask, ende_attn_mask)\n",
        "\n",
        "        logits = self.embedding(dec_out, mode=\"linear\")\n",
        "        return logits\n",
        "    \n",
        "    def get_embedding(self, tokens):\n",
        "        \"\"\"\n",
        "        token embedding, position embedding lookup\n",
        "        :param tokens: 입력 tokens\n",
        "        :return embed: embedding 결과\n",
        "        \"\"\"\n",
        "        embed = self.embedding(tokens) + self.position(tokens)\n",
        "        return embed"
      ],
      "execution_count": null,
      "outputs": []
    },
    {
      "cell_type": "code",
      "metadata": {
        "id": "A2Ys1-pYDMFo",
        "colab_type": "code",
        "colab": {}
      },
      "source": [
        "# model build\n",
        "def build_model(config):\n",
        "    \"\"\"\n",
        "    model build\n",
        "    :param config: Configuration\n",
        "    :return model\n",
        "    \"\"\"\n",
        "    enc_tokens = tf.keras.layers.Input((None,), name=\"enc_tokens\")\n",
        "    dec_tokens = tf.keras.layers.Input((None,), name=\"dec_tokens\")\n",
        "\n",
        "    logits = Transformer(config)((enc_tokens, dec_tokens))\n",
        "    outputs = tf.keras.layers.Softmax(name=\"lm\")(logits)\n",
        "\n",
        "    model = tf.keras.Model(inputs=(enc_tokens, dec_tokens), outputs=outputs)\n",
        "    return model"
      ],
      "execution_count": null,
      "outputs": []
    },
    {
      "cell_type": "code",
      "metadata": {
        "id": "pd9SRdI7DNWt",
        "colab_type": "code",
        "colab": {
          "base_uri": "https://localhost:8080/"
        },
        "outputId": "024cac37-94ab-4e94-8f27-2379c931a65f"
      },
      "source": [
        "config = Config({\"d_model\": 256, \"n_head\": 4, \"d_head\": 64, \"dropout\": 0.1, \"d_ff\": 1024, \"layernorm_epsilon\": 0.001, \"n_layer\": 3, \"n_seq\": 256, \"n_vocab\": 0, \"i_pad\": 0})\n",
        "config.n_vocab = len(vocab)\n",
        "config.i_pad = vocab.pad_id()\n",
        "config"
      ],
      "execution_count": null,
      "outputs": [
        {
          "output_type": "execute_result",
          "data": {
            "text/plain": [
              "{'d_ff': 1024,\n",
              " 'd_head': 64,\n",
              " 'd_model': 256,\n",
              " 'dropout': 0.1,\n",
              " 'i_pad': 0,\n",
              " 'layernorm_epsilon': 0.001,\n",
              " 'n_head': 4,\n",
              " 'n_layer': 3,\n",
              " 'n_seq': 256,\n",
              " 'n_vocab': 8007}"
            ]
          },
          "metadata": {
            "tags": []
          },
          "execution_count": 212
        }
      ]
    },
    {
      "cell_type": "code",
      "metadata": {
        "id": "tB-BlxJBKs4A",
        "colab_type": "code",
        "colab": {
          "base_uri": "https://localhost:8080/"
        },
        "outputId": "374c942c-37f7-496d-ef88-1ff1e89d59e9"
      },
      "source": [
        "model = build_model(config)\n",
        "tf.keras.utils.plot_model(model, 'model.png', show_shapes=True)"
      ],
      "execution_count": null,
      "outputs": [
        {
          "output_type": "execute_result",
          "data": {
            "image/png": "[encoded data removed]",
            "text/plain": [
              "<IPython.core.display.Image object>"
            ]
          },
          "metadata": {
            "tags": []
          },
          "execution_count": 269
        }
      ]
    },
    {
      "cell_type": "markdown",
      "metadata": {
        "id": "hjqOTrjvxji7",
        "colab_type": "text"
      },
      "source": [
        "## Loss"
      ]
    },
    {
      "cell_type": "markdown",
      "metadata": {
        "id": "6x6W5AYLaqMw",
        "colab_type": "text"
      },
      "source": [
        "### Tutorial"
      ]
    },
    {
      "cell_type": "code",
      "metadata": {
        "id": "nuExhj88Y78P",
        "colab_type": "code",
        "colab": {
          "base_uri": "https://localhost:8080/",
          "height": 34
        },
        "outputId": "38a04a00-0cba-4661-8c36-392cb2dbea06"
      },
      "source": [
        "# vocab 개수\n",
        "n_test_vocab = 4\n",
        "# 문자열 개수\n",
        "n_test_seq = 8\n",
        "\n",
        "# 정답\n",
        "y_true = np.random.randint(0, n_test_vocab, (1, n_test_seq))\n",
        "y_true[:,n_test_seq - 2:] = 0\n",
        "y_true"
      ],
      "execution_count": null,
      "outputs": [
        {
          "output_type": "execute_result",
          "data": {
            "text/plain": [
              "array([[0, 1, 3, 3, 0, 0, 0, 0]])"
            ]
          },
          "metadata": {
            "tags": []
          },
          "execution_count": 234
        }
      ]
    },
    {
      "cell_type": "code",
      "metadata": {
        "id": "aBnHCjOLZlrJ",
        "colab_type": "code",
        "colab": {
          "base_uri": "https://localhost:8080/",
          "height": 170
        },
        "outputId": "56683416-5085-4dd2-d43f-1908e634a019"
      },
      "source": [
        "# 예측 값\n",
        "y_pred = np.random.random((1, n_test_seq, n_test_vocab))\n",
        "y_pred = tf.nn.softmax(y_pred, axis=-1)  # 확률 값으로 변경\n",
        "y_pred"
      ],
      "execution_count": null,
      "outputs": [
        {
          "output_type": "execute_result",
          "data": {
            "text/plain": [
              "<tf.Tensor: shape=(1, 8, 4), dtype=float64, numpy=\n",
              "array([[[0.14685324, 0.17940343, 0.3519637 , 0.32177963],\n",
              "        [0.163349  , 0.2785898 , 0.20152449, 0.35653671],\n",
              "        [0.24462246, 0.26658711, 0.21904945, 0.26974097],\n",
              "        [0.16074126, 0.32193255, 0.29537803, 0.22194816],\n",
              "        [0.16403123, 0.22008197, 0.38551875, 0.23036806],\n",
              "        [0.199802  , 0.28022704, 0.28012227, 0.23984869],\n",
              "        [0.28368298, 0.18911145, 0.28260026, 0.2446053 ],\n",
              "        [0.37365784, 0.30551018, 0.14491349, 0.17591849]]])>"
            ]
          },
          "metadata": {
            "tags": []
          },
          "execution_count": 235
        }
      ]
    },
    {
      "cell_type": "code",
      "metadata": {
        "id": "qSxBrmylauiQ",
        "colab_type": "code",
        "colab": {
          "base_uri": "https://localhost:8080/",
          "height": 68
        },
        "outputId": "ac90fcae-9200-4ffe-a261-50b1cc09521b"
      },
      "source": [
        "# loss 계산\n",
        "loss = tf.keras.losses.SparseCategoricalCrossentropy(reduction=tf.keras.losses.Reduction.NONE)(y_true, y_pred)\n",
        "loss"
      ],
      "execution_count": null,
      "outputs": [
        {
          "output_type": "execute_result",
          "data": {
            "text/plain": [
              "<tf.Tensor: shape=(1, 8), dtype=float64, numpy=\n",
              "array([[1.91832161, 1.2780149 , 1.31029308, 1.50531137, 1.80769849,\n",
              "        1.61042845, 1.25989795, 0.98441476]])>"
            ]
          },
          "metadata": {
            "tags": []
          },
          "execution_count": 236
        }
      ]
    },
    {
      "cell_type": "code",
      "metadata": {
        "id": "ne8JKo0Za6Oj",
        "colab_type": "code",
        "colab": {
          "base_uri": "https://localhost:8080/",
          "height": 34
        },
        "outputId": "60ee7ecf-df23-48fc-8200-8fe869c16808"
      },
      "source": [
        "# true token이 0인 부분은 0, 아닌 부분은 1인 mask 생성\n",
        "mask = tf.cast(tf.math.not_equal(y_true, 0), dtype=loss.dtype)\n",
        "mask"
      ],
      "execution_count": null,
      "outputs": [
        {
          "output_type": "execute_result",
          "data": {
            "text/plain": [
              "<tf.Tensor: shape=(1, 8), dtype=float64, numpy=array([[0., 1., 1., 1., 0., 0., 0., 0.]])>"
            ]
          },
          "metadata": {
            "tags": []
          },
          "execution_count": 237
        }
      ]
    },
    {
      "cell_type": "code",
      "metadata": {
        "id": "GWZUCZhObNF8",
        "colab_type": "code",
        "colab": {
          "base_uri": "https://localhost:8080/",
          "height": 68
        },
        "outputId": "02ca5b60-98e9-4776-ff4d-b3787fd6a245"
      },
      "source": [
        "# loss에 mask를 취함. mask가 0인 부분은 모두 0\n",
        "loss *= mask\n",
        "loss"
      ],
      "execution_count": null,
      "outputs": [
        {
          "output_type": "execute_result",
          "data": {
            "text/plain": [
              "<tf.Tensor: shape=(1, 8), dtype=float64, numpy=\n",
              "array([[0.        , 1.2780149 , 1.31029308, 1.50531137, 0.        ,\n",
              "        0.        , 0.        , 0.        ]])>"
            ]
          },
          "metadata": {
            "tags": []
          },
          "execution_count": 238
        }
      ]
    },
    {
      "cell_type": "markdown",
      "metadata": {
        "id": "TOWlO39Vaoit",
        "colab_type": "text"
      },
      "source": [
        "### 함수"
      ]
    },
    {
      "cell_type": "code",
      "metadata": {
        "id": "fZwfXjFux190",
        "colab_type": "code",
        "colab": {}
      },
      "source": [
        "def lm_loss(y_true, y_pred):\n",
        "    \"\"\"\n",
        "    loss 계산 함수\n",
        "    :param y_true: 정답 (bs, n_seq)\n",
        "    :param y_pred: 예측 값 (bs, n_seq, n_vocab)\n",
        "    \"\"\"\n",
        "    # loss 계산\n",
        "    loss = tf.keras.losses.SparseCategoricalCrossentropy(reduction=tf.keras.losses.Reduction.NONE)(y_true, y_pred)\n",
        "    # pad(0) 인 부분 mask\n",
        "    mask = tf.cast(tf.math.not_equal(y_true, 0), dtype=loss.dtype)\n",
        "    loss *= mask\n",
        "    return loss"
      ],
      "execution_count": null,
      "outputs": []
    },
    {
      "cell_type": "markdown",
      "metadata": {
        "id": "ZV5zGuQQL_mK",
        "colab_type": "text"
      },
      "source": [
        "### Test"
      ]
    },
    {
      "cell_type": "code",
      "metadata": {
        "id": "larwLi_RbefS",
        "colab_type": "code",
        "colab": {
          "base_uri": "https://localhost:8080/",
          "height": 68
        },
        "outputId": "42edd5fd-fec1-4feb-b343-384a8cbebda5"
      },
      "source": [
        "# loss 함수 기능 확인\n",
        "loss2 = lm_loss(y_true, y_pred)\n",
        "assert np.array_equal(loss, loss2)\n",
        "loss2"
      ],
      "execution_count": null,
      "outputs": [
        {
          "output_type": "execute_result",
          "data": {
            "text/plain": [
              "<tf.Tensor: shape=(1, 8), dtype=float64, numpy=\n",
              "array([[0.        , 1.2780149 , 1.31029308, 1.50531137, 0.        ,\n",
              "        0.        , 0.        , 0.        ]])>"
            ]
          },
          "metadata": {
            "tags": []
          },
          "execution_count": 240
        }
      ]
    },
    {
      "cell_type": "markdown",
      "metadata": {
        "id": "fAR-ddNrMGby",
        "colab_type": "text"
      },
      "source": [
        "## Accuracy"
      ]
    },
    {
      "cell_type": "markdown",
      "metadata": {
        "id": "jWIUoq0cbYT8",
        "colab_type": "text"
      },
      "source": [
        "### Tutorial"
      ]
    },
    {
      "cell_type": "code",
      "metadata": {
        "id": "h1WlqKVDbbJi",
        "colab_type": "code",
        "colab": {
          "base_uri": "https://localhost:8080/",
          "height": 34
        },
        "outputId": "763061d3-66db-41ea-9c16-2213883a063e"
      },
      "source": [
        "# vocab 개수\n",
        "n_test_vocab = 3\n",
        "# 문자열 개수\n",
        "n_test_seq = 16\n",
        "\n",
        "# 정답\n",
        "y_true = np.random.randint(0, n_test_vocab, (1, n_test_seq))\n",
        "y_true[:,n_test_seq - 2:] = 0\n",
        "y_true"
      ],
      "execution_count": null,
      "outputs": [
        {
          "output_type": "execute_result",
          "data": {
            "text/plain": [
              "array([[2, 0, 2, 1, 2, 0, 1, 1, 2, 0, 0, 2, 1, 1, 0, 0]])"
            ]
          },
          "metadata": {
            "tags": []
          },
          "execution_count": 241
        }
      ]
    },
    {
      "cell_type": "code",
      "metadata": {
        "id": "Xb_oYi3wbbCz",
        "colab_type": "code",
        "colab": {
          "base_uri": "https://localhost:8080/",
          "height": 306
        },
        "outputId": "c2f0e143-82eb-4802-9261-4ec1f1c17898"
      },
      "source": [
        "# 예측 값\n",
        "y_pred = np.random.random((1, n_test_seq, n_test_vocab))\n",
        "y_pred = tf.nn.softmax(y_pred, axis=-1)  # 확률 값으로 변경\n",
        "y_pred"
      ],
      "execution_count": null,
      "outputs": [
        {
          "output_type": "execute_result",
          "data": {
            "text/plain": [
              "<tf.Tensor: shape=(1, 16, 3), dtype=float64, numpy=\n",
              "array([[[0.44767876, 0.29646889, 0.25585235],\n",
              "        [0.3342418 , 0.33635325, 0.32940496],\n",
              "        [0.40293345, 0.31199623, 0.28507032],\n",
              "        [0.21004173, 0.34510437, 0.4448539 ],\n",
              "        [0.32890613, 0.36480992, 0.30628395],\n",
              "        [0.30093225, 0.27396957, 0.42509819],\n",
              "        [0.44866362, 0.3068687 , 0.24446768],\n",
              "        [0.27559823, 0.47688372, 0.24751805],\n",
              "        [0.36230188, 0.25042305, 0.38727507],\n",
              "        [0.36048743, 0.33231286, 0.30719972],\n",
              "        [0.27332007, 0.38664176, 0.34003817],\n",
              "        [0.38696031, 0.25606927, 0.35697042],\n",
              "        [0.40743826, 0.31568163, 0.27688011],\n",
              "        [0.44982988, 0.26886096, 0.28130916],\n",
              "        [0.44726178, 0.2430062 , 0.30973201],\n",
              "        [0.35400777, 0.21445272, 0.4315395 ]]])>"
            ]
          },
          "metadata": {
            "tags": []
          },
          "execution_count": 242
        }
      ]
    },
    {
      "cell_type": "code",
      "metadata": {
        "id": "7fU1IEMAcTHF",
        "colab_type": "code",
        "colab": {
          "base_uri": "https://localhost:8080/",
          "height": 68
        },
        "outputId": "4660fa7a-5246-4807-b0f2-4e7e5426ffc3"
      },
      "source": [
        "# 예측 값 중 최대인 index번호를 vocab으로 예측\n",
        "y_pred_class = tf.cast(K.argmax(y_pred, axis=-1), tf.float32)\n",
        "y_pred_class"
      ],
      "execution_count": null,
      "outputs": [
        {
          "output_type": "execute_result",
          "data": {
            "text/plain": [
              "<tf.Tensor: shape=(1, 16), dtype=float32, numpy=\n",
              "array([[0., 1., 0., 2., 1., 2., 0., 1., 2., 0., 1., 0., 0., 0., 0., 2.]],\n",
              "      dtype=float32)>"
            ]
          },
          "metadata": {
            "tags": []
          },
          "execution_count": 243
        }
      ]
    },
    {
      "cell_type": "code",
      "metadata": {
        "id": "tDOlTxMmcmWQ",
        "colab_type": "code",
        "colab": {
          "base_uri": "https://localhost:8080/",
          "height": 68
        },
        "outputId": "d4cf1c86-6471-4073-db72-c7478fffd0da"
      },
      "source": [
        "# 두 값이 같으면 정답(1), 다르면 오류(0)\n",
        "matches = tf.cast(K.equal(y_true, y_pred_class), tf.float32)\n",
        "matches"
      ],
      "execution_count": null,
      "outputs": [
        {
          "output_type": "execute_result",
          "data": {
            "text/plain": [
              "<tf.Tensor: shape=(1, 16), dtype=float32, numpy=\n",
              "array([[0., 0., 0., 0., 0., 0., 0., 1., 1., 1., 0., 0., 0., 0., 1., 0.]],\n",
              "      dtype=float32)>"
            ]
          },
          "metadata": {
            "tags": []
          },
          "execution_count": 244
        }
      ]
    },
    {
      "cell_type": "code",
      "metadata": {
        "id": "tGdUhsjbc2nG",
        "colab_type": "code",
        "colab": {
          "base_uri": "https://localhost:8080/",
          "height": 68
        },
        "outputId": "05d1d585-8aa5-4b61-cb4c-bf0f24d0d842"
      },
      "source": [
        "# true token이 0인 부분은 0, 아닌 부분은 1인 mask 생성\n",
        "mask = tf.cast(tf.math.not_equal(y_true, 0), dtype=matches.dtype)\n",
        "mask"
      ],
      "execution_count": null,
      "outputs": [
        {
          "output_type": "execute_result",
          "data": {
            "text/plain": [
              "<tf.Tensor: shape=(1, 16), dtype=float32, numpy=\n",
              "array([[1., 0., 1., 1., 1., 0., 1., 1., 1., 0., 0., 1., 1., 1., 0., 0.]],\n",
              "      dtype=float32)>"
            ]
          },
          "metadata": {
            "tags": []
          },
          "execution_count": 245
        }
      ]
    },
    {
      "cell_type": "code",
      "metadata": {
        "id": "K6FbhVs1dH5Z",
        "colab_type": "code",
        "colab": {
          "base_uri": "https://localhost:8080/",
          "height": 68
        },
        "outputId": "ec972edd-c795-4511-c9c0-6ec4e8c2963f"
      },
      "source": [
        "# matches에 mask를 취함. mask가 0인 부분은 모두 0\n",
        "matches *= mask\n",
        "matches"
      ],
      "execution_count": null,
      "outputs": [
        {
          "output_type": "execute_result",
          "data": {
            "text/plain": [
              "<tf.Tensor: shape=(1, 16), dtype=float32, numpy=\n",
              "array([[0., 0., 0., 0., 0., 0., 0., 1., 1., 0., 0., 0., 0., 0., 0., 0.]],\n",
              "      dtype=float32)>"
            ]
          },
          "metadata": {
            "tags": []
          },
          "execution_count": 246
        }
      ]
    },
    {
      "cell_type": "code",
      "metadata": {
        "id": "4f4Q2iRedUy3",
        "colab_type": "code",
        "colab": {
          "base_uri": "https://localhost:8080/",
          "height": 34
        },
        "outputId": "f017bb92-05d4-43a9-9ac7-36e0c309668c"
      },
      "source": [
        "# matches합을 mask합으로 나누면 정확도 / mask가 모두 0일 경우를 대비해서 분모에 K.maximum(K.sum(mask), 1) 사용\n",
        "accuracy = K.sum(matches) / K.maximum(K.sum(mask), 1)\n",
        "accuracy"
      ],
      "execution_count": null,
      "outputs": [
        {
          "output_type": "execute_result",
          "data": {
            "text/plain": [
              "<tf.Tensor: shape=(), dtype=float32, numpy=0.2>"
            ]
          },
          "metadata": {
            "tags": []
          },
          "execution_count": 247
        }
      ]
    },
    {
      "cell_type": "markdown",
      "metadata": {
        "id": "qQqF2KJVcLBF",
        "colab_type": "text"
      },
      "source": [
        "### 함수"
      ]
    },
    {
      "cell_type": "code",
      "metadata": {
        "id": "233nfwn6ba17",
        "colab_type": "code",
        "colab": {}
      },
      "source": [
        "def lm_acc(y_true, y_pred):\n",
        "    \"\"\"\n",
        "    acc 계산 함수\n",
        "    :param y_true: 정답 (bs, n_seq)\n",
        "    :param y_pred: 예측 값 (bs, n_seq, n_vocab)\n",
        "    \"\"\"\n",
        "    # 정답 여부 확인\n",
        "    y_pred_class = tf.cast(K.argmax(y_pred, axis=-1), tf.float32)\n",
        "    matches = tf.cast(K.equal(y_true, y_pred_class), tf.float32)\n",
        "    # pad(0) 인 부분 mask\n",
        "    mask = tf.cast(tf.math.not_equal(y_true, 0), dtype=matches.dtype)\n",
        "    matches *= mask\n",
        "    # 정확도 계산\n",
        "    accuracy = K.sum(matches) / K.maximum(K.sum(mask), 1)\n",
        "    return accuracy"
      ],
      "execution_count": null,
      "outputs": []
    },
    {
      "cell_type": "markdown",
      "metadata": {
        "id": "DYYcdK-_MRni",
        "colab_type": "text"
      },
      "source": [
        "### Test"
      ]
    },
    {
      "cell_type": "code",
      "metadata": {
        "id": "JeWKJfTPdjuA",
        "colab_type": "code",
        "colab": {
          "base_uri": "https://localhost:8080/",
          "height": 34
        },
        "outputId": "e6e16271-a1ff-439b-d431-a064f922bfec"
      },
      "source": [
        "accuracy2 = lm_acc(y_true, y_pred)\n",
        "assert accuracy == accuracy2\n",
        "accuracy2"
      ],
      "execution_count": null,
      "outputs": [
        {
          "output_type": "execute_result",
          "data": {
            "text/plain": [
              "<tf.Tensor: shape=(), dtype=float32, numpy=0.2>"
            ]
          },
          "metadata": {
            "tags": []
          },
          "execution_count": 249
        }
      ]
    },
    {
      "cell_type": "markdown",
      "metadata": {
        "id": "Ey3sghogI4rz",
        "colab_type": "text"
      },
      "source": [
        "## Scheduler\n",
        "\n",
        "![](https://paul-hyun.github.io/assets/transformer/learning_rate.png)"
      ]
    },
    {
      "cell_type": "markdown",
      "metadata": {
        "id": "VKkOrvxoJM1h",
        "colab_type": "text"
      },
      "source": [
        "### Tutorial"
      ]
    },
    {
      "cell_type": "code",
      "metadata": {
        "id": "0uUiLdINLVw_",
        "colab_type": "code",
        "colab": {
          "base_uri": "https://localhost:8080/",
          "height": 68
        },
        "outputId": "93126d9c-506e-4e04-b666-196f4d72ffee"
      },
      "source": [
        "warmup_steps = tf.dtypes.cast(1000, tf.float32)\n",
        "step_num = tf.dtypes.cast(1100, tf.float32)\n",
        "d_model = tf.dtypes.cast(config.d_model, tf.float32)\n",
        "\n",
        "warmup_steps, step_num, d_model"
      ],
      "execution_count": null,
      "outputs": [
        {
          "output_type": "execute_result",
          "data": {
            "text/plain": [
              "(<tf.Tensor: shape=(), dtype=float32, numpy=1000.0>,\n",
              " <tf.Tensor: shape=(), dtype=float32, numpy=1100.0>,\n",
              " <tf.Tensor: shape=(), dtype=float32, numpy=256.0>)"
            ]
          },
          "metadata": {
            "tags": []
          },
          "execution_count": 250
        }
      ]
    },
    {
      "cell_type": "code",
      "metadata": {
        "id": "7yjfmrczLf2a",
        "colab_type": "code",
        "colab": {
          "base_uri": "https://localhost:8080/",
          "height": 34
        },
        "outputId": "6768bd84-ea55-4d81-9585-881623a9c2eb"
      },
      "source": [
        "# step_num ** -0.5 (https://www.tensorflow.org/api_docs/python/tf/math/rsqrt)\n",
        "arg1 = tf.math.rsqrt(step_num)\n",
        "arg1"
      ],
      "execution_count": null,
      "outputs": [
        {
          "output_type": "execute_result",
          "data": {
            "text/plain": [
              "<tf.Tensor: shape=(), dtype=float32, numpy=0.030151134>"
            ]
          },
          "metadata": {
            "tags": []
          },
          "execution_count": 251
        }
      ]
    },
    {
      "cell_type": "code",
      "metadata": {
        "id": "Qq1kSzDPNXue",
        "colab_type": "code",
        "colab": {
          "base_uri": "https://localhost:8080/",
          "height": 34
        },
        "outputId": "18e34cef-93c3-4c19-fe3e-079f5fea0564"
      },
      "source": [
        "# step_num * (warmup_steps ** -1.5)\n",
        "arg2 = step_num * (warmup_steps ** -1.5)\n",
        "arg2"
      ],
      "execution_count": null,
      "outputs": [
        {
          "output_type": "execute_result",
          "data": {
            "text/plain": [
              "<tf.Tensor: shape=(), dtype=float32, numpy=0.03478505>"
            ]
          },
          "metadata": {
            "tags": []
          },
          "execution_count": 252
        }
      ]
    },
    {
      "cell_type": "code",
      "metadata": {
        "id": "o6B3pN97Nubx",
        "colab_type": "code",
        "colab": {
          "base_uri": "https://localhost:8080/",
          "height": 34
        },
        "outputId": "874e6546-551d-4d2b-8ff4-48399d0a6d3f"
      },
      "source": [
        "# 두 값중 작은 값 선택\n",
        "arg = tf.math.minimum(arg1, arg2)\n",
        "arg"
      ],
      "execution_count": null,
      "outputs": [
        {
          "output_type": "execute_result",
          "data": {
            "text/plain": [
              "<tf.Tensor: shape=(), dtype=float32, numpy=0.030151134>"
            ]
          },
          "metadata": {
            "tags": []
          },
          "execution_count": 253
        }
      ]
    },
    {
      "cell_type": "code",
      "metadata": {
        "id": "N1A4vH27OPFN",
        "colab_type": "code",
        "colab": {
          "base_uri": "https://localhost:8080/",
          "height": 34
        },
        "outputId": "4af3ea84-4e9b-476c-e470-7eae546826bb"
      },
      "source": [
        "# (d_model ** -0.5) * arg\n",
        "lr = tf.math.rsqrt(d_model) * arg\n",
        "lr"
      ],
      "execution_count": null,
      "outputs": [
        {
          "output_type": "execute_result",
          "data": {
            "text/plain": [
              "<tf.Tensor: shape=(), dtype=float32, numpy=0.0018844459>"
            ]
          },
          "metadata": {
            "tags": []
          },
          "execution_count": 254
        }
      ]
    },
    {
      "cell_type": "markdown",
      "metadata": {
        "id": "A7k-JyedJK6J",
        "colab_type": "text"
      },
      "source": [
        "### Class"
      ]
    },
    {
      "cell_type": "code",
      "metadata": {
        "id": "VPWnDRRMaP4o",
        "colab_type": "code",
        "colab": {}
      },
      "source": [
        "class InverseSquareRootSchedule(tf.keras.optimizers.schedules.LearningRateSchedule):\n",
        "    \"\"\"\n",
        "    TransformerSchedule class\n",
        "    \"\"\"\n",
        "    def __init__(self, d_model, warmup_steps=4000):\n",
        "        \"\"\"\n",
        "        생성자\n",
        "        :param d_model: 모델 hidden\n",
        "        :param warmup_steps: warmup steps\n",
        "        \"\"\"\n",
        "        super().__init__()\n",
        "\n",
        "        self.d_model = tf.cast(d_model, tf.float32)\n",
        "        self.warmup_steps = tf.cast(warmup_steps, tf.float32)\n",
        "\n",
        "    def __call__(self, step_num):\n",
        "        \"\"\"\n",
        "        learning rate 계산\n",
        "        :param step_num: 현재 step number\n",
        "        :retrun: 계산된 learning rate\n",
        "        \"\"\"\n",
        "        arg1 = tf.math.rsqrt(step_num)\n",
        "        arg2 = step_num * (self.warmup_steps**-1.5)\n",
        "        arg = tf.math.minimum(arg1, arg2)\n",
        "        lr = tf.math.rsqrt(self.d_model) * arg\n",
        "        return lr"
      ],
      "execution_count": null,
      "outputs": []
    },
    {
      "cell_type": "markdown",
      "metadata": {
        "id": "HNHVGEgyacKg",
        "colab_type": "text"
      },
      "source": [
        "### Test"
      ]
    },
    {
      "cell_type": "code",
      "metadata": {
        "id": "WG8ZT6nPadip",
        "colab_type": "code",
        "colab": {
          "base_uri": "https://localhost:8080/",
          "height": 279
        },
        "outputId": "d5f30f6b-4c36-4fcf-d97e-34e15d9d56e6"
      },
      "source": [
        "# compute lr\n",
        "test_schedule = InverseSquareRootSchedule(config.d_model, warmup_steps=100)\n",
        "lrs = []\n",
        "for step in range(1000):\n",
        "    lrs.append(test_schedule(float(step)).numpy())\n",
        "\n",
        "# draw\n",
        "plt.plot(lrs, 'r-', label='learning_rate')\n",
        "plt.xlabel('Step')\n",
        "plt.show()"
      ],
      "execution_count": null,
      "outputs": [
        {
          "output_type": "display_data",
          "data": {
            "image/png": "[encoded data removed]",
            "text/plain": [
              "<Figure size 432x288 with 1 Axes>"
            ]
          },
          "metadata": {
            "tags": [],
            "needs_background": "light"
          }
        }
      ]
    },
    {
      "cell_type": "markdown",
      "metadata": {
        "id": "KMtlbz8YMd_j",
        "colab_type": "text"
      },
      "source": [
        "## Train"
      ]
    },
    {
      "cell_type": "code",
      "metadata": {
        "id": "4DadTw6RMhni",
        "colab_type": "code",
        "colab": {}
      },
      "source": [
        "# optimizer의 learning_rate를 InverseSquareRootSchedule로 지정\n",
        "learning_rate = InverseSquareRootSchedule(config.d_model, warmup_steps=500)\n",
        "optimizer = tf.keras.optimizers.Adam(learning_rate, beta_1=0.9, beta_2=0.98, epsilon=1e-9)\n",
        "\n",
        "model.compile(loss=lm_loss, optimizer=optimizer, metrics=[lm_acc])"
      ],
      "execution_count": null,
      "outputs": []
    },
    {
      "cell_type": "code",
      "metadata": {
        "id": "r1YwBGFwMjQ7",
        "colab_type": "code",
        "colab": {
          "base_uri": "https://localhost:8080/",
          "height": 1000
        },
        "outputId": "dbf41ac2-f2e4-44ff-ccad-cb44ac7c1a94"
      },
      "source": [
        "# save weights callback\n",
        "save_weights = tf.keras.callbacks.ModelCheckpoint(\"songys_chat_transformer.hdf5\", monitor=\"lm_acc\", verbose=1, save_best_only=True, mode=\"max\", save_freq=\"epoch\", save_weights_only=True)\n",
        "# train\n",
        "history = model.fit(train_inputs, train_labels, epochs=50, batch_size=256, callbacks=[save_weights])"
      ],
      "execution_count": null,
      "outputs": [
        {
          "output_type": "stream",
          "text": [
            "Epoch 1/50\n"
          ],
          "name": "stdout"
        },
        {
          "output_type": "stream",
          "text": [
            "/usr/local/lib/python3.6/dist-packages/tensorflow/python/framework/indexed_slices.py:432: UserWarning: Converting sparse IndexedSlices to a dense Tensor of unknown shape. This may consume a large amount of memory.\n",
            "  \"Converting sparse IndexedSlices to a dense Tensor of unknown shape. \"\n"
          ],
          "name": "stderr"
        },
        {
          "output_type": "stream",
          "text": [
            "47/47 [==============================] - ETA: 0s - loss: 1.6976 - lm_acc: 0.1411\n",
            "Epoch 00001: lm_acc improved from -inf to 0.14107, saving model to songys_chat_transformer.hdf5\n",
            "47/47 [==============================] - 16s 331ms/step - loss: 1.6976 - lm_acc: 0.1411\n",
            "Epoch 2/50\n",
            "47/47 [==============================] - ETA: 0s - loss: 1.3716 - lm_acc: 0.2881\n",
            "Epoch 00002: lm_acc improved from 0.14107 to 0.28814, saving model to songys_chat_transformer.hdf5\n",
            "47/47 [==============================] - 16s 331ms/step - loss: 1.3716 - lm_acc: 0.2881\n",
            "Epoch 3/50\n",
            "47/47 [==============================] - ETA: 0s - loss: 1.2792 - lm_acc: 0.2943\n",
            "Epoch 00003: lm_acc improved from 0.28814 to 0.29430, saving model to songys_chat_transformer.hdf5\n",
            "47/47 [==============================] - 16s 335ms/step - loss: 1.2792 - lm_acc: 0.2943\n",
            "Epoch 4/50\n",
            "47/47 [==============================] - ETA: 0s - loss: 1.2137 - lm_acc: 0.3078\n",
            "Epoch 00004: lm_acc improved from 0.29430 to 0.30783, saving model to songys_chat_transformer.hdf5\n",
            "47/47 [==============================] - 16s 336ms/step - loss: 1.2137 - lm_acc: 0.3078\n",
            "Epoch 5/50\n",
            "47/47 [==============================] - ETA: 0s - loss: 1.1560 - lm_acc: 0.3241\n",
            "Epoch 00005: lm_acc improved from 0.30783 to 0.32405, saving model to songys_chat_transformer.hdf5\n",
            "47/47 [==============================] - 16s 330ms/step - loss: 1.1560 - lm_acc: 0.3241\n",
            "Epoch 6/50\n",
            "47/47 [==============================] - ETA: 0s - loss: 1.0578 - lm_acc: 0.3502\n",
            "Epoch 00006: lm_acc improved from 0.32405 to 0.35016, saving model to songys_chat_transformer.hdf5\n",
            "47/47 [==============================] - 16s 335ms/step - loss: 1.0578 - lm_acc: 0.3502\n",
            "Epoch 7/50\n",
            "47/47 [==============================] - ETA: 0s - loss: 0.9292 - lm_acc: 0.3920\n",
            "Epoch 00007: lm_acc improved from 0.35016 to 0.39199, saving model to songys_chat_transformer.hdf5\n",
            "47/47 [==============================] - 16s 332ms/step - loss: 0.9292 - lm_acc: 0.3920\n",
            "Epoch 8/50\n",
            "47/47 [==============================] - ETA: 0s - loss: 0.7949 - lm_acc: 0.4451\n",
            "Epoch 00008: lm_acc improved from 0.39199 to 0.44512, saving model to songys_chat_transformer.hdf5\n",
            "47/47 [==============================] - 15s 330ms/step - loss: 0.7949 - lm_acc: 0.4451\n",
            "Epoch 9/50\n",
            "47/47 [==============================] - ETA: 0s - loss: 0.6763 - lm_acc: 0.4954\n",
            "Epoch 00009: lm_acc improved from 0.44512 to 0.49544, saving model to songys_chat_transformer.hdf5\n",
            "47/47 [==============================] - 16s 331ms/step - loss: 0.6763 - lm_acc: 0.4954\n",
            "Epoch 10/50\n",
            "47/47 [==============================] - ETA: 0s - loss: 0.5784 - lm_acc: 0.5429\n",
            "Epoch 00010: lm_acc improved from 0.49544 to 0.54285, saving model to songys_chat_transformer.hdf5\n",
            "47/47 [==============================] - 16s 333ms/step - loss: 0.5784 - lm_acc: 0.5429\n",
            "Epoch 11/50\n",
            "47/47 [==============================] - ETA: 0s - loss: 0.5059 - lm_acc: 0.5799\n",
            "Epoch 00011: lm_acc improved from 0.54285 to 0.57992, saving model to songys_chat_transformer.hdf5\n",
            "47/47 [==============================] - 16s 334ms/step - loss: 0.5059 - lm_acc: 0.5799\n",
            "Epoch 12/50\n",
            "47/47 [==============================] - ETA: 0s - loss: 0.4313 - lm_acc: 0.6221\n",
            "Epoch 00012: lm_acc improved from 0.57992 to 0.62205, saving model to songys_chat_transformer.hdf5\n",
            "47/47 [==============================] - 16s 331ms/step - loss: 0.4313 - lm_acc: 0.6221\n",
            "Epoch 13/50\n",
            "47/47 [==============================] - ETA: 0s - loss: 0.3625 - lm_acc: 0.6648\n",
            "Epoch 00013: lm_acc improved from 0.62205 to 0.66481, saving model to songys_chat_transformer.hdf5\n",
            "47/47 [==============================] - 16s 335ms/step - loss: 0.3625 - lm_acc: 0.6648\n",
            "Epoch 14/50\n",
            "47/47 [==============================] - ETA: 0s - loss: 0.3057 - lm_acc: 0.7039\n",
            "Epoch 00014: lm_acc improved from 0.66481 to 0.70394, saving model to songys_chat_transformer.hdf5\n",
            "47/47 [==============================] - 15s 329ms/step - loss: 0.3057 - lm_acc: 0.7039\n",
            "Epoch 15/50\n",
            "47/47 [==============================] - ETA: 0s - loss: 0.2624 - lm_acc: 0.7363\n",
            "Epoch 00015: lm_acc improved from 0.70394 to 0.73634, saving model to songys_chat_transformer.hdf5\n",
            "47/47 [==============================] - 16s 332ms/step - loss: 0.2624 - lm_acc: 0.7363\n",
            "Epoch 16/50\n",
            "47/47 [==============================] - ETA: 0s - loss: 0.2298 - lm_acc: 0.7624\n",
            "Epoch 00016: lm_acc improved from 0.73634 to 0.76244, saving model to songys_chat_transformer.hdf5\n",
            "47/47 [==============================] - 16s 330ms/step - loss: 0.2298 - lm_acc: 0.7624\n",
            "Epoch 17/50\n",
            "47/47 [==============================] - ETA: 0s - loss: 0.2006 - lm_acc: 0.7853\n",
            "Epoch 00017: lm_acc improved from 0.76244 to 0.78526, saving model to songys_chat_transformer.hdf5\n",
            "47/47 [==============================] - 16s 331ms/step - loss: 0.2006 - lm_acc: 0.7853\n",
            "Epoch 18/50\n",
            "47/47 [==============================] - ETA: 0s - loss: 0.1738 - lm_acc: 0.8074\n",
            "Epoch 00018: lm_acc improved from 0.78526 to 0.80736, saving model to songys_chat_transformer.hdf5\n",
            "47/47 [==============================] - 16s 330ms/step - loss: 0.1738 - lm_acc: 0.8074\n",
            "Epoch 19/50\n",
            "47/47 [==============================] - ETA: 0s - loss: 0.1563 - lm_acc: 0.8241\n",
            "Epoch 00019: lm_acc improved from 0.80736 to 0.82411, saving model to songys_chat_transformer.hdf5\n",
            "47/47 [==============================] - 16s 333ms/step - loss: 0.1563 - lm_acc: 0.8241\n",
            "Epoch 20/50\n",
            "47/47 [==============================] - ETA: 0s - loss: 0.1429 - lm_acc: 0.8357\n",
            "Epoch 00020: lm_acc improved from 0.82411 to 0.83569, saving model to songys_chat_transformer.hdf5\n",
            "47/47 [==============================] - 16s 334ms/step - loss: 0.1429 - lm_acc: 0.8357\n",
            "Epoch 21/50\n",
            "47/47 [==============================] - ETA: 0s - loss: 0.1238 - lm_acc: 0.8544\n",
            "Epoch 00021: lm_acc improved from 0.83569 to 0.85440, saving model to songys_chat_transformer.hdf5\n",
            "47/47 [==============================] - 15s 329ms/step - loss: 0.1238 - lm_acc: 0.8544\n",
            "Epoch 22/50\n",
            "47/47 [==============================] - ETA: 0s - loss: 0.1150 - lm_acc: 0.8640\n",
            "Epoch 00022: lm_acc improved from 0.85440 to 0.86402, saving model to songys_chat_transformer.hdf5\n",
            "47/47 [==============================] - 16s 330ms/step - loss: 0.1150 - lm_acc: 0.8640\n",
            "Epoch 23/50\n",
            "47/47 [==============================] - ETA: 0s - loss: 0.1065 - lm_acc: 0.8747\n",
            "Epoch 00023: lm_acc improved from 0.86402 to 0.87470, saving model to songys_chat_transformer.hdf5\n",
            "47/47 [==============================] - 15s 329ms/step - loss: 0.1065 - lm_acc: 0.8747\n",
            "Epoch 24/50\n",
            "47/47 [==============================] - ETA: 0s - loss: 0.0959 - lm_acc: 0.8834\n",
            "Epoch 00024: lm_acc improved from 0.87470 to 0.88336, saving model to songys_chat_transformer.hdf5\n",
            "47/47 [==============================] - 16s 333ms/step - loss: 0.0959 - lm_acc: 0.8834\n",
            "Epoch 25/50\n",
            "47/47 [==============================] - ETA: 0s - loss: 0.0889 - lm_acc: 0.8926\n",
            "Epoch 00025: lm_acc improved from 0.88336 to 0.89264, saving model to songys_chat_transformer.hdf5\n",
            "47/47 [==============================] - 16s 331ms/step - loss: 0.0889 - lm_acc: 0.8926\n",
            "Epoch 26/50\n",
            "47/47 [==============================] - ETA: 0s - loss: 0.0812 - lm_acc: 0.9005\n",
            "Epoch 00026: lm_acc improved from 0.89264 to 0.90054, saving model to songys_chat_transformer.hdf5\n",
            "47/47 [==============================] - 16s 334ms/step - loss: 0.0812 - lm_acc: 0.9005\n",
            "Epoch 27/50\n",
            "47/47 [==============================] - ETA: 0s - loss: 0.0762 - lm_acc: 0.9058\n",
            "Epoch 00027: lm_acc improved from 0.90054 to 0.90580, saving model to songys_chat_transformer.hdf5\n",
            "47/47 [==============================] - 16s 333ms/step - loss: 0.0762 - lm_acc: 0.9058\n",
            "Epoch 28/50\n",
            "47/47 [==============================] - ETA: 0s - loss: 0.0736 - lm_acc: 0.9085\n",
            "Epoch 00028: lm_acc improved from 0.90580 to 0.90851, saving model to songys_chat_transformer.hdf5\n",
            "47/47 [==============================] - 16s 332ms/step - loss: 0.0736 - lm_acc: 0.9085\n",
            "Epoch 29/50\n",
            "47/47 [==============================] - ETA: 0s - loss: 0.0702 - lm_acc: 0.9130\n",
            "Epoch 00029: lm_acc improved from 0.90851 to 0.91300, saving model to songys_chat_transformer.hdf5\n",
            "47/47 [==============================] - 16s 332ms/step - loss: 0.0702 - lm_acc: 0.9130\n",
            "Epoch 30/50\n",
            "47/47 [==============================] - ETA: 0s - loss: 0.0635 - lm_acc: 0.9209\n",
            "Epoch 00030: lm_acc improved from 0.91300 to 0.92088, saving model to songys_chat_transformer.hdf5\n",
            "47/47 [==============================] - 16s 332ms/step - loss: 0.0635 - lm_acc: 0.9209\n",
            "Epoch 31/50\n",
            "47/47 [==============================] - ETA: 0s - loss: 0.0587 - lm_acc: 0.9262\n",
            "Epoch 00031: lm_acc improved from 0.92088 to 0.92620, saving model to songys_chat_transformer.hdf5\n",
            "47/47 [==============================] - 16s 334ms/step - loss: 0.0587 - lm_acc: 0.9262\n",
            "Epoch 32/50\n",
            "47/47 [==============================] - ETA: 0s - loss: 0.0584 - lm_acc: 0.9260\n",
            "Epoch 00032: lm_acc did not improve from 0.92620\n",
            "47/47 [==============================] - 16s 334ms/step - loss: 0.0584 - lm_acc: 0.9260\n",
            "Epoch 33/50\n",
            "47/47 [==============================] - ETA: 0s - loss: 0.0570 - lm_acc: 0.9280\n",
            "Epoch 00033: lm_acc improved from 0.92620 to 0.92795, saving model to songys_chat_transformer.hdf5\n",
            "47/47 [==============================] - 16s 333ms/step - loss: 0.0570 - lm_acc: 0.9280\n",
            "Epoch 34/50\n",
            "47/47 [==============================] - ETA: 0s - loss: 0.0534 - lm_acc: 0.9331\n",
            "Epoch 00034: lm_acc improved from 0.92795 to 0.93307, saving model to songys_chat_transformer.hdf5\n",
            "47/47 [==============================] - 15s 329ms/step - loss: 0.0534 - lm_acc: 0.9331\n",
            "Epoch 35/50\n",
            "47/47 [==============================] - ETA: 0s - loss: 0.0502 - lm_acc: 0.9360\n",
            "Epoch 00035: lm_acc improved from 0.93307 to 0.93599, saving model to songys_chat_transformer.hdf5\n",
            "47/47 [==============================] - 15s 330ms/step - loss: 0.0502 - lm_acc: 0.9360\n",
            "Epoch 36/50\n",
            "47/47 [==============================] - ETA: 0s - loss: 0.0486 - lm_acc: 0.9383\n",
            "Epoch 00036: lm_acc improved from 0.93599 to 0.93831, saving model to songys_chat_transformer.hdf5\n",
            "47/47 [==============================] - 16s 331ms/step - loss: 0.0486 - lm_acc: 0.9383\n",
            "Epoch 37/50\n",
            "47/47 [==============================] - ETA: 0s - loss: 0.0464 - lm_acc: 0.9411\n",
            "Epoch 00037: lm_acc improved from 0.93831 to 0.94114, saving model to songys_chat_transformer.hdf5\n",
            "47/47 [==============================] - 16s 332ms/step - loss: 0.0464 - lm_acc: 0.9411\n",
            "Epoch 38/50\n",
            "47/47 [==============================] - ETA: 0s - loss: 0.0455 - lm_acc: 0.9428\n",
            "Epoch 00038: lm_acc improved from 0.94114 to 0.94278, saving model to songys_chat_transformer.hdf5\n",
            "47/47 [==============================] - 16s 335ms/step - loss: 0.0455 - lm_acc: 0.9428\n",
            "Epoch 39/50\n",
            "47/47 [==============================] - ETA: 0s - loss: 0.0431 - lm_acc: 0.9453\n",
            "Epoch 00039: lm_acc improved from 0.94278 to 0.94529, saving model to songys_chat_transformer.hdf5\n",
            "47/47 [==============================] - 16s 332ms/step - loss: 0.0431 - lm_acc: 0.9453\n",
            "Epoch 40/50\n",
            "47/47 [==============================] - ETA: 0s - loss: 0.0416 - lm_acc: 0.9474\n",
            "Epoch 00040: lm_acc improved from 0.94529 to 0.94736, saving model to songys_chat_transformer.hdf5\n",
            "47/47 [==============================] - 16s 332ms/step - loss: 0.0416 - lm_acc: 0.9474\n",
            "Epoch 41/50\n",
            "47/47 [==============================] - ETA: 0s - loss: 0.0394 - lm_acc: 0.9494\n",
            "Epoch 00041: lm_acc improved from 0.94736 to 0.94944, saving model to songys_chat_transformer.hdf5\n",
            "47/47 [==============================] - 16s 331ms/step - loss: 0.0394 - lm_acc: 0.9494\n",
            "Epoch 42/50\n",
            "47/47 [==============================] - ETA: 0s - loss: 0.0386 - lm_acc: 0.9517\n",
            "Epoch 00042: lm_acc improved from 0.94944 to 0.95169, saving model to songys_chat_transformer.hdf5\n",
            "47/47 [==============================] - 15s 329ms/step - loss: 0.0386 - lm_acc: 0.9517\n",
            "Epoch 43/50\n",
            "47/47 [==============================] - ETA: 0s - loss: 0.0368 - lm_acc: 0.9534\n",
            "Epoch 00043: lm_acc improved from 0.95169 to 0.95337, saving model to songys_chat_transformer.hdf5\n",
            "47/47 [==============================] - 16s 332ms/step - loss: 0.0368 - lm_acc: 0.9534\n",
            "Epoch 44/50\n",
            "47/47 [==============================] - ETA: 0s - loss: 0.0351 - lm_acc: 0.9562\n",
            "Epoch 00044: lm_acc improved from 0.95337 to 0.95616, saving model to songys_chat_transformer.hdf5\n",
            "47/47 [==============================] - 15s 329ms/step - loss: 0.0351 - lm_acc: 0.9562\n",
            "Epoch 45/50\n",
            "47/47 [==============================] - ETA: 0s - loss: 0.0345 - lm_acc: 0.9572\n",
            "Epoch 00045: lm_acc improved from 0.95616 to 0.95717, saving model to songys_chat_transformer.hdf5\n",
            "47/47 [==============================] - 16s 332ms/step - loss: 0.0345 - lm_acc: 0.9572\n",
            "Epoch 46/50\n",
            "47/47 [==============================] - ETA: 0s - loss: 0.0345 - lm_acc: 0.9561\n",
            "Epoch 00046: lm_acc did not improve from 0.95717\n",
            "47/47 [==============================] - 15s 329ms/step - loss: 0.0345 - lm_acc: 0.9561\n",
            "Epoch 47/50\n",
            "47/47 [==============================] - ETA: 0s - loss: 0.0321 - lm_acc: 0.9593\n",
            "Epoch 00047: lm_acc improved from 0.95717 to 0.95926, saving model to songys_chat_transformer.hdf5\n",
            "47/47 [==============================] - 16s 333ms/step - loss: 0.0321 - lm_acc: 0.9593\n",
            "Epoch 48/50\n",
            "47/47 [==============================] - ETA: 0s - loss: 0.0313 - lm_acc: 0.9606\n",
            "Epoch 00048: lm_acc improved from 0.95926 to 0.96056, saving model to songys_chat_transformer.hdf5\n",
            "47/47 [==============================] - 16s 330ms/step - loss: 0.0313 - lm_acc: 0.9606\n",
            "Epoch 49/50\n",
            "47/47 [==============================] - ETA: 0s - loss: 0.0315 - lm_acc: 0.9594\n",
            "Epoch 00049: lm_acc did not improve from 0.96056\n",
            "47/47 [==============================] - 16s 331ms/step - loss: 0.0315 - lm_acc: 0.9594\n",
            "Epoch 50/50\n",
            "47/47 [==============================] - ETA: 0s - loss: 0.0303 - lm_acc: 0.9616\n",
            "Epoch 00050: lm_acc improved from 0.96056 to 0.96157, saving model to songys_chat_transformer.hdf5\n",
            "47/47 [==============================] - 16s 332ms/step - loss: 0.0303 - lm_acc: 0.9616\n"
          ],
          "name": "stdout"
        }
      ]
    },
    {
      "cell_type": "code",
      "metadata": {
        "id": "zqJUd1RoMsic",
        "colab_type": "code",
        "colab": {
          "base_uri": "https://localhost:8080/",
          "height": 283
        },
        "outputId": "2e2cedd2-ccc3-4f0a-987b-f38f20dbeb61"
      },
      "source": [
        "# training result\n",
        "plt.figure(figsize=(12, 4))\n",
        "\n",
        "plt.subplot(1, 2, 1)\n",
        "plt.plot(history.history['loss'], 'b-', label='loss')\n",
        "plt.xlabel('Epoch')\n",
        "plt.legend()\n",
        "\n",
        "plt.subplot(1, 2, 2)\n",
        "plt.plot(history.history['lm_acc'], 'g-', label='accuracy')\n",
        "plt.xlabel('Epoch')\n",
        "plt.legend()\n",
        "\n",
        "plt.show()"
      ],
      "execution_count": null,
      "outputs": [
        {
          "output_type": "display_data",
          "data": {
            "image/png": "[encoded data removed]",
            "text/plain": [
              "<Figure size 864x288 with 2 Axes>"
            ]
          },
          "metadata": {
            "tags": [],
            "needs_background": "light"
          }
        }
      ]
    },
    {
      "cell_type": "markdown",
      "metadata": {
        "id": "dtqNHlkRdjz5",
        "colab_type": "text"
      },
      "source": [
        "## Inference"
      ]
    },
    {
      "cell_type": "code",
      "metadata": {
        "id": "0wV723x3dsOy",
        "colab_type": "code",
        "colab": {
          "base_uri": "https://localhost:8080/",
          "height": 312
        },
        "outputId": "695efcbf-470b-49b5-c941-feff9f929289"
      },
      "source": [
        "model = build_model(config)\n",
        "tf.keras.utils.plot_model(model, 'model.png', show_shapes=True)"
      ],
      "execution_count": null,
      "outputs": [
        {
          "output_type": "execute_result",
          "data": {
            "image/png": "[encoded data removed]",
            "text/plain": [
              "<IPython.core.display.Image object>"
            ]
          },
          "metadata": {
            "tags": []
          },
          "execution_count": 273
        }
      ]
    },
    {
      "cell_type": "code",
      "metadata": {
        "id": "0WfW_jOjdxO7",
        "colab_type": "code",
        "colab": {}
      },
      "source": [
        "# 기존 학습 weight 로드\n",
        "model.load_weights(\"songys_chat_transformer.hdf5\")"
      ],
      "execution_count": null,
      "outputs": []
    },
    {
      "cell_type": "code",
      "metadata": {
        "id": "6ztQryROd6sq",
        "colab_type": "code",
        "colab": {}
      },
      "source": [
        "def do_predict(model, n_seq, string):\n",
        "    \"\"\"\n",
        "    입력에 대한 답변 생성하는 함수\n",
        "    :param model: model\n",
        "    :param n_seq: 디코더 입력 개수\n",
        "    :param string: 입력 문자열\n",
        "    \"\"\"\n",
        "    # enc_token 생성: <string tokens>, [PAD] tokens\n",
        "    enc_token = vocab.encode_as_ids(string)\n",
        "    # dec_token 생성: [BOS], [PAD] tokens\n",
        "    dec_token = [vocab.bos_id()]\n",
        "    dec_token += [0] * (n_seq - len(dec_token))\n",
        "    dec_token = dec_token[:n_seq]\n",
        "\n",
        "    response = []\n",
        "    for i in range(n_seq - 1):\n",
        "        # model 실행\n",
        "        output = model.predict((np.array([enc_token]), np.array([dec_token])))\n",
        "        # decoder의 마지막 위치의 token 예측 값\n",
        "        word_id = int(np.argmax(output, axis=2)[0][i])\n",
        "        # [EOS] 토큰이 생성되면 종료\n",
        "        if word_id == vocab.eos_id():\n",
        "            break\n",
        "        # 예측된 token을 응답에 저장\n",
        "        response.append(word_id)\n",
        "        # 예측된 token을 decoder의 다음 입력으로 저장\n",
        "        dec_token[i + 1] = word_id\n",
        "    \n",
        "    # 생성된 token을 문자열로 변경\n",
        "    return vocab.decode_ids(response)"
      ],
      "execution_count": null,
      "outputs": []
    },
    {
      "cell_type": "code",
      "metadata": {
        "id": "CAGU6rovd2eB",
        "colab_type": "code",
        "colab": {
          "base_uri": "https://localhost:8080/",
          "height": 238
        },
        "outputId": "e13eab1d-d558-49c5-9973-e92958aec76e"
      },
      "source": [
        "while True:\n",
        "    print(\"input > \", end=\"\")\n",
        "    string = str(input())\n",
        "    if len(string) == 0:\n",
        "        break\n",
        "    print(f\"output > {do_predict(model, 20, string)}\")"
      ],
      "execution_count": null,
      "outputs": [
        {
          "output_type": "stream",
          "text": [
            "input > 안녕\n",
            "output > 안녕하세요.\n",
            "input > 만나서 반가워\n",
            "output > 반갑습니다.\n",
            "input > 너는 누구니?\n",
            "output > 저는 마음을 이어주는 위로봇입니다.\n",
            "input > 오늘 날씨 어때?\n",
            "output > 사랑에 나이는 중요하지 않아요.\n",
            "input > 비가온다\n",
            "output > 비 맞으면 안돼요!\n",
            "input > 날씨가 많이 덥네\n",
            "output > 시원한 물이라도 한 잔 드세요~\n",
            "input > \n"
          ],
          "name": "stdout"
        }
      ]
    }
  ]
}